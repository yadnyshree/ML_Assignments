{
  "nbformat": 4,
  "nbformat_minor": 0,
  "metadata": {
    "kernelspec": {
      "display_name": "Python 3",
      "language": "python",
      "name": "python3"
    },
    "language_info": {
      "codemirror_mode": {
        "name": "ipython",
        "version": 3
      },
      "file_extension": ".py",
      "mimetype": "text/x-python",
      "name": "python",
      "nbconvert_exporter": "python",
      "pygments_lexer": "ipython3",
      "version": "3.8.5"
    },
    "colab": {
      "name": "NLP_Summarization_POS.ipynb",
      "provenance": [],
      "collapsed_sections": [],
      "toc_visible": true
    },
    "widgets": {
      "application/vnd.jupyter.widget-state+json": {
        "b488b0fb5c56461799b175e7bef190b2": {
          "model_module": "@jupyter-widgets/controls",
          "model_name": "HBoxModel",
          "model_module_version": "1.5.0",
          "state": {
            "_view_name": "HBoxView",
            "_dom_classes": [],
            "_model_name": "HBoxModel",
            "_view_module": "@jupyter-widgets/controls",
            "_model_module_version": "1.5.0",
            "_view_count": null,
            "_view_module_version": "1.5.0",
            "box_style": "",
            "layout": "IPY_MODEL_3c8e34297b594788974a79d7bfd0dca5",
            "_model_module": "@jupyter-widgets/controls",
            "children": [
              "IPY_MODEL_35c7b23ab9564a49926272ccc6ab0159",
              "IPY_MODEL_2d481a3507ea422e8eb38bbc955fab47",
              "IPY_MODEL_154fd5b6ce66417490c8188355d8e561"
            ]
          }
        },
        "3c8e34297b594788974a79d7bfd0dca5": {
          "model_module": "@jupyter-widgets/base",
          "model_name": "LayoutModel",
          "model_module_version": "1.2.0",
          "state": {
            "_view_name": "LayoutView",
            "grid_template_rows": null,
            "right": null,
            "justify_content": null,
            "_view_module": "@jupyter-widgets/base",
            "overflow": null,
            "_model_module_version": "1.2.0",
            "_view_count": null,
            "flex_flow": null,
            "width": null,
            "min_width": null,
            "border": null,
            "align_items": null,
            "bottom": null,
            "_model_module": "@jupyter-widgets/base",
            "top": null,
            "grid_column": null,
            "overflow_y": null,
            "overflow_x": null,
            "grid_auto_flow": null,
            "grid_area": null,
            "grid_template_columns": null,
            "flex": null,
            "_model_name": "LayoutModel",
            "justify_items": null,
            "grid_row": null,
            "max_height": null,
            "align_content": null,
            "visibility": null,
            "align_self": null,
            "height": null,
            "min_height": null,
            "padding": null,
            "grid_auto_rows": null,
            "grid_gap": null,
            "max_width": null,
            "order": null,
            "_view_module_version": "1.2.0",
            "grid_template_areas": null,
            "object_position": null,
            "object_fit": null,
            "grid_auto_columns": null,
            "margin": null,
            "display": null,
            "left": null
          }
        },
        "35c7b23ab9564a49926272ccc6ab0159": {
          "model_module": "@jupyter-widgets/controls",
          "model_name": "HTMLModel",
          "model_module_version": "1.5.0",
          "state": {
            "_view_name": "HTMLView",
            "style": "IPY_MODEL_64f06691728b4d5d8386c15ebcbea5c6",
            "_dom_classes": [],
            "description": "",
            "_model_name": "HTMLModel",
            "placeholder": "​",
            "_view_module": "@jupyter-widgets/controls",
            "_model_module_version": "1.5.0",
            "value": "Downloading: 100%",
            "_view_count": null,
            "_view_module_version": "1.5.0",
            "description_tooltip": null,
            "_model_module": "@jupyter-widgets/controls",
            "layout": "IPY_MODEL_bf6a074bb0514ea0ae7aa9e7af4d6a24"
          }
        },
        "2d481a3507ea422e8eb38bbc955fab47": {
          "model_module": "@jupyter-widgets/controls",
          "model_name": "FloatProgressModel",
          "model_module_version": "1.5.0",
          "state": {
            "_view_name": "ProgressView",
            "style": "IPY_MODEL_b12f9219c9a246a9bbea29537f5b81f4",
            "_dom_classes": [],
            "description": "",
            "_model_name": "FloatProgressModel",
            "bar_style": "success",
            "max": 1802,
            "_view_module": "@jupyter-widgets/controls",
            "_model_module_version": "1.5.0",
            "value": 1802,
            "_view_count": null,
            "_view_module_version": "1.5.0",
            "orientation": "horizontal",
            "min": 0,
            "description_tooltip": null,
            "_model_module": "@jupyter-widgets/controls",
            "layout": "IPY_MODEL_1281fb7d12ce45f8b904b57537916d06"
          }
        },
        "154fd5b6ce66417490c8188355d8e561": {
          "model_module": "@jupyter-widgets/controls",
          "model_name": "HTMLModel",
          "model_module_version": "1.5.0",
          "state": {
            "_view_name": "HTMLView",
            "style": "IPY_MODEL_ec3c633611bc46f7913d4bc6f50631c5",
            "_dom_classes": [],
            "description": "",
            "_model_name": "HTMLModel",
            "placeholder": "​",
            "_view_module": "@jupyter-widgets/controls",
            "_model_module_version": "1.5.0",
            "value": " 1.76k/1.76k [00:00&lt;00:00, 43.5kB/s]",
            "_view_count": null,
            "_view_module_version": "1.5.0",
            "description_tooltip": null,
            "_model_module": "@jupyter-widgets/controls",
            "layout": "IPY_MODEL_17ef3bf4dae045c5bf726149e96f287c"
          }
        },
        "64f06691728b4d5d8386c15ebcbea5c6": {
          "model_module": "@jupyter-widgets/controls",
          "model_name": "DescriptionStyleModel",
          "model_module_version": "1.5.0",
          "state": {
            "_view_name": "StyleView",
            "_model_name": "DescriptionStyleModel",
            "description_width": "",
            "_view_module": "@jupyter-widgets/base",
            "_model_module_version": "1.5.0",
            "_view_count": null,
            "_view_module_version": "1.2.0",
            "_model_module": "@jupyter-widgets/controls"
          }
        },
        "bf6a074bb0514ea0ae7aa9e7af4d6a24": {
          "model_module": "@jupyter-widgets/base",
          "model_name": "LayoutModel",
          "model_module_version": "1.2.0",
          "state": {
            "_view_name": "LayoutView",
            "grid_template_rows": null,
            "right": null,
            "justify_content": null,
            "_view_module": "@jupyter-widgets/base",
            "overflow": null,
            "_model_module_version": "1.2.0",
            "_view_count": null,
            "flex_flow": null,
            "width": null,
            "min_width": null,
            "border": null,
            "align_items": null,
            "bottom": null,
            "_model_module": "@jupyter-widgets/base",
            "top": null,
            "grid_column": null,
            "overflow_y": null,
            "overflow_x": null,
            "grid_auto_flow": null,
            "grid_area": null,
            "grid_template_columns": null,
            "flex": null,
            "_model_name": "LayoutModel",
            "justify_items": null,
            "grid_row": null,
            "max_height": null,
            "align_content": null,
            "visibility": null,
            "align_self": null,
            "height": null,
            "min_height": null,
            "padding": null,
            "grid_auto_rows": null,
            "grid_gap": null,
            "max_width": null,
            "order": null,
            "_view_module_version": "1.2.0",
            "grid_template_areas": null,
            "object_position": null,
            "object_fit": null,
            "grid_auto_columns": null,
            "margin": null,
            "display": null,
            "left": null
          }
        },
        "b12f9219c9a246a9bbea29537f5b81f4": {
          "model_module": "@jupyter-widgets/controls",
          "model_name": "ProgressStyleModel",
          "model_module_version": "1.5.0",
          "state": {
            "_view_name": "StyleView",
            "_model_name": "ProgressStyleModel",
            "description_width": "",
            "_view_module": "@jupyter-widgets/base",
            "_model_module_version": "1.5.0",
            "_view_count": null,
            "_view_module_version": "1.2.0",
            "bar_color": null,
            "_model_module": "@jupyter-widgets/controls"
          }
        },
        "1281fb7d12ce45f8b904b57537916d06": {
          "model_module": "@jupyter-widgets/base",
          "model_name": "LayoutModel",
          "model_module_version": "1.2.0",
          "state": {
            "_view_name": "LayoutView",
            "grid_template_rows": null,
            "right": null,
            "justify_content": null,
            "_view_module": "@jupyter-widgets/base",
            "overflow": null,
            "_model_module_version": "1.2.0",
            "_view_count": null,
            "flex_flow": null,
            "width": null,
            "min_width": null,
            "border": null,
            "align_items": null,
            "bottom": null,
            "_model_module": "@jupyter-widgets/base",
            "top": null,
            "grid_column": null,
            "overflow_y": null,
            "overflow_x": null,
            "grid_auto_flow": null,
            "grid_area": null,
            "grid_template_columns": null,
            "flex": null,
            "_model_name": "LayoutModel",
            "justify_items": null,
            "grid_row": null,
            "max_height": null,
            "align_content": null,
            "visibility": null,
            "align_self": null,
            "height": null,
            "min_height": null,
            "padding": null,
            "grid_auto_rows": null,
            "grid_gap": null,
            "max_width": null,
            "order": null,
            "_view_module_version": "1.2.0",
            "grid_template_areas": null,
            "object_position": null,
            "object_fit": null,
            "grid_auto_columns": null,
            "margin": null,
            "display": null,
            "left": null
          }
        },
        "ec3c633611bc46f7913d4bc6f50631c5": {
          "model_module": "@jupyter-widgets/controls",
          "model_name": "DescriptionStyleModel",
          "model_module_version": "1.5.0",
          "state": {
            "_view_name": "StyleView",
            "_model_name": "DescriptionStyleModel",
            "description_width": "",
            "_view_module": "@jupyter-widgets/base",
            "_model_module_version": "1.5.0",
            "_view_count": null,
            "_view_module_version": "1.2.0",
            "_model_module": "@jupyter-widgets/controls"
          }
        },
        "17ef3bf4dae045c5bf726149e96f287c": {
          "model_module": "@jupyter-widgets/base",
          "model_name": "LayoutModel",
          "model_module_version": "1.2.0",
          "state": {
            "_view_name": "LayoutView",
            "grid_template_rows": null,
            "right": null,
            "justify_content": null,
            "_view_module": "@jupyter-widgets/base",
            "overflow": null,
            "_model_module_version": "1.2.0",
            "_view_count": null,
            "flex_flow": null,
            "width": null,
            "min_width": null,
            "border": null,
            "align_items": null,
            "bottom": null,
            "_model_module": "@jupyter-widgets/base",
            "top": null,
            "grid_column": null,
            "overflow_y": null,
            "overflow_x": null,
            "grid_auto_flow": null,
            "grid_area": null,
            "grid_template_columns": null,
            "flex": null,
            "_model_name": "LayoutModel",
            "justify_items": null,
            "grid_row": null,
            "max_height": null,
            "align_content": null,
            "visibility": null,
            "align_self": null,
            "height": null,
            "min_height": null,
            "padding": null,
            "grid_auto_rows": null,
            "grid_gap": null,
            "max_width": null,
            "order": null,
            "_view_module_version": "1.2.0",
            "grid_template_areas": null,
            "object_position": null,
            "object_fit": null,
            "grid_auto_columns": null,
            "margin": null,
            "display": null,
            "left": null
          }
        },
        "af31ab88861340c2a22dc7a7be6a7398": {
          "model_module": "@jupyter-widgets/controls",
          "model_name": "HBoxModel",
          "model_module_version": "1.5.0",
          "state": {
            "_view_name": "HBoxView",
            "_dom_classes": [],
            "_model_name": "HBoxModel",
            "_view_module": "@jupyter-widgets/controls",
            "_model_module_version": "1.5.0",
            "_view_count": null,
            "_view_module_version": "1.5.0",
            "box_style": "",
            "layout": "IPY_MODEL_23861329015c47c49bdd0df8f7f2c18f",
            "_model_module": "@jupyter-widgets/controls",
            "children": [
              "IPY_MODEL_360b323cd2794c80b1c913e756bbcd4e",
              "IPY_MODEL_0900c46420674112bfbfcda6f7aa18d8",
              "IPY_MODEL_ce5938bb31e04b26ad00af0f12376e60"
            ]
          }
        },
        "23861329015c47c49bdd0df8f7f2c18f": {
          "model_module": "@jupyter-widgets/base",
          "model_name": "LayoutModel",
          "model_module_version": "1.2.0",
          "state": {
            "_view_name": "LayoutView",
            "grid_template_rows": null,
            "right": null,
            "justify_content": null,
            "_view_module": "@jupyter-widgets/base",
            "overflow": null,
            "_model_module_version": "1.2.0",
            "_view_count": null,
            "flex_flow": null,
            "width": null,
            "min_width": null,
            "border": null,
            "align_items": null,
            "bottom": null,
            "_model_module": "@jupyter-widgets/base",
            "top": null,
            "grid_column": null,
            "overflow_y": null,
            "overflow_x": null,
            "grid_auto_flow": null,
            "grid_area": null,
            "grid_template_columns": null,
            "flex": null,
            "_model_name": "LayoutModel",
            "justify_items": null,
            "grid_row": null,
            "max_height": null,
            "align_content": null,
            "visibility": null,
            "align_self": null,
            "height": null,
            "min_height": null,
            "padding": null,
            "grid_auto_rows": null,
            "grid_gap": null,
            "max_width": null,
            "order": null,
            "_view_module_version": "1.2.0",
            "grid_template_areas": null,
            "object_position": null,
            "object_fit": null,
            "grid_auto_columns": null,
            "margin": null,
            "display": null,
            "left": null
          }
        },
        "360b323cd2794c80b1c913e756bbcd4e": {
          "model_module": "@jupyter-widgets/controls",
          "model_name": "HTMLModel",
          "model_module_version": "1.5.0",
          "state": {
            "_view_name": "HTMLView",
            "style": "IPY_MODEL_fc7a4789e74740a6b5061ac58360f4f5",
            "_dom_classes": [],
            "description": "",
            "_model_name": "HTMLModel",
            "placeholder": "​",
            "_view_module": "@jupyter-widgets/controls",
            "_model_module_version": "1.5.0",
            "value": "Downloading: 100%",
            "_view_count": null,
            "_view_module_version": "1.5.0",
            "description_tooltip": null,
            "_model_module": "@jupyter-widgets/controls",
            "layout": "IPY_MODEL_52332389c35d49b2b184ef39b6e8c5ea"
          }
        },
        "0900c46420674112bfbfcda6f7aa18d8": {
          "model_module": "@jupyter-widgets/controls",
          "model_name": "FloatProgressModel",
          "model_module_version": "1.5.0",
          "state": {
            "_view_name": "ProgressView",
            "style": "IPY_MODEL_325f01c4f4d14c35a7b88bbd56253cb6",
            "_dom_classes": [],
            "description": "",
            "_model_name": "FloatProgressModel",
            "bar_style": "success",
            "max": 1222317369,
            "_view_module": "@jupyter-widgets/controls",
            "_model_module_version": "1.5.0",
            "value": 1222317369,
            "_view_count": null,
            "_view_module_version": "1.5.0",
            "orientation": "horizontal",
            "min": 0,
            "description_tooltip": null,
            "_model_module": "@jupyter-widgets/controls",
            "layout": "IPY_MODEL_545b42c2000943e0be0adad291388354"
          }
        },
        "ce5938bb31e04b26ad00af0f12376e60": {
          "model_module": "@jupyter-widgets/controls",
          "model_name": "HTMLModel",
          "model_module_version": "1.5.0",
          "state": {
            "_view_name": "HTMLView",
            "style": "IPY_MODEL_594f1356744945b4843366c01cd6fc13",
            "_dom_classes": [],
            "description": "",
            "_model_name": "HTMLModel",
            "placeholder": "​",
            "_view_module": "@jupyter-widgets/controls",
            "_model_module_version": "1.5.0",
            "value": " 1.14G/1.14G [00:39&lt;00:00, 33.0MB/s]",
            "_view_count": null,
            "_view_module_version": "1.5.0",
            "description_tooltip": null,
            "_model_module": "@jupyter-widgets/controls",
            "layout": "IPY_MODEL_41f1ae0c8f174b0880c96f4535feff25"
          }
        },
        "fc7a4789e74740a6b5061ac58360f4f5": {
          "model_module": "@jupyter-widgets/controls",
          "model_name": "DescriptionStyleModel",
          "model_module_version": "1.5.0",
          "state": {
            "_view_name": "StyleView",
            "_model_name": "DescriptionStyleModel",
            "description_width": "",
            "_view_module": "@jupyter-widgets/base",
            "_model_module_version": "1.5.0",
            "_view_count": null,
            "_view_module_version": "1.2.0",
            "_model_module": "@jupyter-widgets/controls"
          }
        },
        "52332389c35d49b2b184ef39b6e8c5ea": {
          "model_module": "@jupyter-widgets/base",
          "model_name": "LayoutModel",
          "model_module_version": "1.2.0",
          "state": {
            "_view_name": "LayoutView",
            "grid_template_rows": null,
            "right": null,
            "justify_content": null,
            "_view_module": "@jupyter-widgets/base",
            "overflow": null,
            "_model_module_version": "1.2.0",
            "_view_count": null,
            "flex_flow": null,
            "width": null,
            "min_width": null,
            "border": null,
            "align_items": null,
            "bottom": null,
            "_model_module": "@jupyter-widgets/base",
            "top": null,
            "grid_column": null,
            "overflow_y": null,
            "overflow_x": null,
            "grid_auto_flow": null,
            "grid_area": null,
            "grid_template_columns": null,
            "flex": null,
            "_model_name": "LayoutModel",
            "justify_items": null,
            "grid_row": null,
            "max_height": null,
            "align_content": null,
            "visibility": null,
            "align_self": null,
            "height": null,
            "min_height": null,
            "padding": null,
            "grid_auto_rows": null,
            "grid_gap": null,
            "max_width": null,
            "order": null,
            "_view_module_version": "1.2.0",
            "grid_template_areas": null,
            "object_position": null,
            "object_fit": null,
            "grid_auto_columns": null,
            "margin": null,
            "display": null,
            "left": null
          }
        },
        "325f01c4f4d14c35a7b88bbd56253cb6": {
          "model_module": "@jupyter-widgets/controls",
          "model_name": "ProgressStyleModel",
          "model_module_version": "1.5.0",
          "state": {
            "_view_name": "StyleView",
            "_model_name": "ProgressStyleModel",
            "description_width": "",
            "_view_module": "@jupyter-widgets/base",
            "_model_module_version": "1.5.0",
            "_view_count": null,
            "_view_module_version": "1.2.0",
            "bar_color": null,
            "_model_module": "@jupyter-widgets/controls"
          }
        },
        "545b42c2000943e0be0adad291388354": {
          "model_module": "@jupyter-widgets/base",
          "model_name": "LayoutModel",
          "model_module_version": "1.2.0",
          "state": {
            "_view_name": "LayoutView",
            "grid_template_rows": null,
            "right": null,
            "justify_content": null,
            "_view_module": "@jupyter-widgets/base",
            "overflow": null,
            "_model_module_version": "1.2.0",
            "_view_count": null,
            "flex_flow": null,
            "width": null,
            "min_width": null,
            "border": null,
            "align_items": null,
            "bottom": null,
            "_model_module": "@jupyter-widgets/base",
            "top": null,
            "grid_column": null,
            "overflow_y": null,
            "overflow_x": null,
            "grid_auto_flow": null,
            "grid_area": null,
            "grid_template_columns": null,
            "flex": null,
            "_model_name": "LayoutModel",
            "justify_items": null,
            "grid_row": null,
            "max_height": null,
            "align_content": null,
            "visibility": null,
            "align_self": null,
            "height": null,
            "min_height": null,
            "padding": null,
            "grid_auto_rows": null,
            "grid_gap": null,
            "max_width": null,
            "order": null,
            "_view_module_version": "1.2.0",
            "grid_template_areas": null,
            "object_position": null,
            "object_fit": null,
            "grid_auto_columns": null,
            "margin": null,
            "display": null,
            "left": null
          }
        },
        "594f1356744945b4843366c01cd6fc13": {
          "model_module": "@jupyter-widgets/controls",
          "model_name": "DescriptionStyleModel",
          "model_module_version": "1.5.0",
          "state": {
            "_view_name": "StyleView",
            "_model_name": "DescriptionStyleModel",
            "description_width": "",
            "_view_module": "@jupyter-widgets/base",
            "_model_module_version": "1.5.0",
            "_view_count": null,
            "_view_module_version": "1.2.0",
            "_model_module": "@jupyter-widgets/controls"
          }
        },
        "41f1ae0c8f174b0880c96f4535feff25": {
          "model_module": "@jupyter-widgets/base",
          "model_name": "LayoutModel",
          "model_module_version": "1.2.0",
          "state": {
            "_view_name": "LayoutView",
            "grid_template_rows": null,
            "right": null,
            "justify_content": null,
            "_view_module": "@jupyter-widgets/base",
            "overflow": null,
            "_model_module_version": "1.2.0",
            "_view_count": null,
            "flex_flow": null,
            "width": null,
            "min_width": null,
            "border": null,
            "align_items": null,
            "bottom": null,
            "_model_module": "@jupyter-widgets/base",
            "top": null,
            "grid_column": null,
            "overflow_y": null,
            "overflow_x": null,
            "grid_auto_flow": null,
            "grid_area": null,
            "grid_template_columns": null,
            "flex": null,
            "_model_name": "LayoutModel",
            "justify_items": null,
            "grid_row": null,
            "max_height": null,
            "align_content": null,
            "visibility": null,
            "align_self": null,
            "height": null,
            "min_height": null,
            "padding": null,
            "grid_auto_rows": null,
            "grid_gap": null,
            "max_width": null,
            "order": null,
            "_view_module_version": "1.2.0",
            "grid_template_areas": null,
            "object_position": null,
            "object_fit": null,
            "grid_auto_columns": null,
            "margin": null,
            "display": null,
            "left": null
          }
        },
        "5f36da7750d746589dc8d8f989fd7c47": {
          "model_module": "@jupyter-widgets/controls",
          "model_name": "HBoxModel",
          "model_module_version": "1.5.0",
          "state": {
            "_view_name": "HBoxView",
            "_dom_classes": [],
            "_model_name": "HBoxModel",
            "_view_module": "@jupyter-widgets/controls",
            "_model_module_version": "1.5.0",
            "_view_count": null,
            "_view_module_version": "1.5.0",
            "box_style": "",
            "layout": "IPY_MODEL_4166d74c711642809e0478530bc3b5d6",
            "_model_module": "@jupyter-widgets/controls",
            "children": [
              "IPY_MODEL_7ccf50efbbe444729a79e9da184ed5cc",
              "IPY_MODEL_f26e29878c594bf8be042737b8074168",
              "IPY_MODEL_004cb7c187a14c1eaad0b660bcd8c09f"
            ]
          }
        },
        "4166d74c711642809e0478530bc3b5d6": {
          "model_module": "@jupyter-widgets/base",
          "model_name": "LayoutModel",
          "model_module_version": "1.2.0",
          "state": {
            "_view_name": "LayoutView",
            "grid_template_rows": null,
            "right": null,
            "justify_content": null,
            "_view_module": "@jupyter-widgets/base",
            "overflow": null,
            "_model_module_version": "1.2.0",
            "_view_count": null,
            "flex_flow": null,
            "width": null,
            "min_width": null,
            "border": null,
            "align_items": null,
            "bottom": null,
            "_model_module": "@jupyter-widgets/base",
            "top": null,
            "grid_column": null,
            "overflow_y": null,
            "overflow_x": null,
            "grid_auto_flow": null,
            "grid_area": null,
            "grid_template_columns": null,
            "flex": null,
            "_model_name": "LayoutModel",
            "justify_items": null,
            "grid_row": null,
            "max_height": null,
            "align_content": null,
            "visibility": null,
            "align_self": null,
            "height": null,
            "min_height": null,
            "padding": null,
            "grid_auto_rows": null,
            "grid_gap": null,
            "max_width": null,
            "order": null,
            "_view_module_version": "1.2.0",
            "grid_template_areas": null,
            "object_position": null,
            "object_fit": null,
            "grid_auto_columns": null,
            "margin": null,
            "display": null,
            "left": null
          }
        },
        "7ccf50efbbe444729a79e9da184ed5cc": {
          "model_module": "@jupyter-widgets/controls",
          "model_name": "HTMLModel",
          "model_module_version": "1.5.0",
          "state": {
            "_view_name": "HTMLView",
            "style": "IPY_MODEL_accb8cb9ef7340d388ee191af48b1d01",
            "_dom_classes": [],
            "description": "",
            "_model_name": "HTMLModel",
            "placeholder": "​",
            "_view_module": "@jupyter-widgets/controls",
            "_model_module_version": "1.5.0",
            "value": "Downloading: 100%",
            "_view_count": null,
            "_view_module_version": "1.5.0",
            "description_tooltip": null,
            "_model_module": "@jupyter-widgets/controls",
            "layout": "IPY_MODEL_fde22e4e752b4ee381f7bfe796b7449e"
          }
        },
        "f26e29878c594bf8be042737b8074168": {
          "model_module": "@jupyter-widgets/controls",
          "model_name": "FloatProgressModel",
          "model_module_version": "1.5.0",
          "state": {
            "_view_name": "ProgressView",
            "style": "IPY_MODEL_0f7611f22ba2489b8737a9a25260ec56",
            "_dom_classes": [],
            "description": "",
            "_model_name": "FloatProgressModel",
            "bar_style": "success",
            "max": 26,
            "_view_module": "@jupyter-widgets/controls",
            "_model_module_version": "1.5.0",
            "value": 26,
            "_view_count": null,
            "_view_module_version": "1.5.0",
            "orientation": "horizontal",
            "min": 0,
            "description_tooltip": null,
            "_model_module": "@jupyter-widgets/controls",
            "layout": "IPY_MODEL_e1f899e52284487b87f9db33ab8322dd"
          }
        },
        "004cb7c187a14c1eaad0b660bcd8c09f": {
          "model_module": "@jupyter-widgets/controls",
          "model_name": "HTMLModel",
          "model_module_version": "1.5.0",
          "state": {
            "_view_name": "HTMLView",
            "style": "IPY_MODEL_441769245f574ac6be2f97eecb701ab6",
            "_dom_classes": [],
            "description": "",
            "_model_name": "HTMLModel",
            "placeholder": "​",
            "_view_module": "@jupyter-widgets/controls",
            "_model_module_version": "1.5.0",
            "value": " 26.0/26.0 [00:00&lt;00:00, 553B/s]",
            "_view_count": null,
            "_view_module_version": "1.5.0",
            "description_tooltip": null,
            "_model_module": "@jupyter-widgets/controls",
            "layout": "IPY_MODEL_c34110c3fbd242c98d01f57550510701"
          }
        },
        "accb8cb9ef7340d388ee191af48b1d01": {
          "model_module": "@jupyter-widgets/controls",
          "model_name": "DescriptionStyleModel",
          "model_module_version": "1.5.0",
          "state": {
            "_view_name": "StyleView",
            "_model_name": "DescriptionStyleModel",
            "description_width": "",
            "_view_module": "@jupyter-widgets/base",
            "_model_module_version": "1.5.0",
            "_view_count": null,
            "_view_module_version": "1.2.0",
            "_model_module": "@jupyter-widgets/controls"
          }
        },
        "fde22e4e752b4ee381f7bfe796b7449e": {
          "model_module": "@jupyter-widgets/base",
          "model_name": "LayoutModel",
          "model_module_version": "1.2.0",
          "state": {
            "_view_name": "LayoutView",
            "grid_template_rows": null,
            "right": null,
            "justify_content": null,
            "_view_module": "@jupyter-widgets/base",
            "overflow": null,
            "_model_module_version": "1.2.0",
            "_view_count": null,
            "flex_flow": null,
            "width": null,
            "min_width": null,
            "border": null,
            "align_items": null,
            "bottom": null,
            "_model_module": "@jupyter-widgets/base",
            "top": null,
            "grid_column": null,
            "overflow_y": null,
            "overflow_x": null,
            "grid_auto_flow": null,
            "grid_area": null,
            "grid_template_columns": null,
            "flex": null,
            "_model_name": "LayoutModel",
            "justify_items": null,
            "grid_row": null,
            "max_height": null,
            "align_content": null,
            "visibility": null,
            "align_self": null,
            "height": null,
            "min_height": null,
            "padding": null,
            "grid_auto_rows": null,
            "grid_gap": null,
            "max_width": null,
            "order": null,
            "_view_module_version": "1.2.0",
            "grid_template_areas": null,
            "object_position": null,
            "object_fit": null,
            "grid_auto_columns": null,
            "margin": null,
            "display": null,
            "left": null
          }
        },
        "0f7611f22ba2489b8737a9a25260ec56": {
          "model_module": "@jupyter-widgets/controls",
          "model_name": "ProgressStyleModel",
          "model_module_version": "1.5.0",
          "state": {
            "_view_name": "StyleView",
            "_model_name": "ProgressStyleModel",
            "description_width": "",
            "_view_module": "@jupyter-widgets/base",
            "_model_module_version": "1.5.0",
            "_view_count": null,
            "_view_module_version": "1.2.0",
            "bar_color": null,
            "_model_module": "@jupyter-widgets/controls"
          }
        },
        "e1f899e52284487b87f9db33ab8322dd": {
          "model_module": "@jupyter-widgets/base",
          "model_name": "LayoutModel",
          "model_module_version": "1.2.0",
          "state": {
            "_view_name": "LayoutView",
            "grid_template_rows": null,
            "right": null,
            "justify_content": null,
            "_view_module": "@jupyter-widgets/base",
            "overflow": null,
            "_model_module_version": "1.2.0",
            "_view_count": null,
            "flex_flow": null,
            "width": null,
            "min_width": null,
            "border": null,
            "align_items": null,
            "bottom": null,
            "_model_module": "@jupyter-widgets/base",
            "top": null,
            "grid_column": null,
            "overflow_y": null,
            "overflow_x": null,
            "grid_auto_flow": null,
            "grid_area": null,
            "grid_template_columns": null,
            "flex": null,
            "_model_name": "LayoutModel",
            "justify_items": null,
            "grid_row": null,
            "max_height": null,
            "align_content": null,
            "visibility": null,
            "align_self": null,
            "height": null,
            "min_height": null,
            "padding": null,
            "grid_auto_rows": null,
            "grid_gap": null,
            "max_width": null,
            "order": null,
            "_view_module_version": "1.2.0",
            "grid_template_areas": null,
            "object_position": null,
            "object_fit": null,
            "grid_auto_columns": null,
            "margin": null,
            "display": null,
            "left": null
          }
        },
        "441769245f574ac6be2f97eecb701ab6": {
          "model_module": "@jupyter-widgets/controls",
          "model_name": "DescriptionStyleModel",
          "model_module_version": "1.5.0",
          "state": {
            "_view_name": "StyleView",
            "_model_name": "DescriptionStyleModel",
            "description_width": "",
            "_view_module": "@jupyter-widgets/base",
            "_model_module_version": "1.5.0",
            "_view_count": null,
            "_view_module_version": "1.2.0",
            "_model_module": "@jupyter-widgets/controls"
          }
        },
        "c34110c3fbd242c98d01f57550510701": {
          "model_module": "@jupyter-widgets/base",
          "model_name": "LayoutModel",
          "model_module_version": "1.2.0",
          "state": {
            "_view_name": "LayoutView",
            "grid_template_rows": null,
            "right": null,
            "justify_content": null,
            "_view_module": "@jupyter-widgets/base",
            "overflow": null,
            "_model_module_version": "1.2.0",
            "_view_count": null,
            "flex_flow": null,
            "width": null,
            "min_width": null,
            "border": null,
            "align_items": null,
            "bottom": null,
            "_model_module": "@jupyter-widgets/base",
            "top": null,
            "grid_column": null,
            "overflow_y": null,
            "overflow_x": null,
            "grid_auto_flow": null,
            "grid_area": null,
            "grid_template_columns": null,
            "flex": null,
            "_model_name": "LayoutModel",
            "justify_items": null,
            "grid_row": null,
            "max_height": null,
            "align_content": null,
            "visibility": null,
            "align_self": null,
            "height": null,
            "min_height": null,
            "padding": null,
            "grid_auto_rows": null,
            "grid_gap": null,
            "max_width": null,
            "order": null,
            "_view_module_version": "1.2.0",
            "grid_template_areas": null,
            "object_position": null,
            "object_fit": null,
            "grid_auto_columns": null,
            "margin": null,
            "display": null,
            "left": null
          }
        },
        "8ad70f6b76ea47769b2025eb9d5d2f57": {
          "model_module": "@jupyter-widgets/controls",
          "model_name": "HBoxModel",
          "model_module_version": "1.5.0",
          "state": {
            "_view_name": "HBoxView",
            "_dom_classes": [],
            "_model_name": "HBoxModel",
            "_view_module": "@jupyter-widgets/controls",
            "_model_module_version": "1.5.0",
            "_view_count": null,
            "_view_module_version": "1.5.0",
            "box_style": "",
            "layout": "IPY_MODEL_4b8ba204630d49d2963394d7b42c9117",
            "_model_module": "@jupyter-widgets/controls",
            "children": [
              "IPY_MODEL_fafb926280194a1a9d0c7b22c91724fc",
              "IPY_MODEL_d394d87c00af456b8cb99f3dd412b08c",
              "IPY_MODEL_bcc3e096787f4ab7a281405e6a767938"
            ]
          }
        },
        "4b8ba204630d49d2963394d7b42c9117": {
          "model_module": "@jupyter-widgets/base",
          "model_name": "LayoutModel",
          "model_module_version": "1.2.0",
          "state": {
            "_view_name": "LayoutView",
            "grid_template_rows": null,
            "right": null,
            "justify_content": null,
            "_view_module": "@jupyter-widgets/base",
            "overflow": null,
            "_model_module_version": "1.2.0",
            "_view_count": null,
            "flex_flow": null,
            "width": null,
            "min_width": null,
            "border": null,
            "align_items": null,
            "bottom": null,
            "_model_module": "@jupyter-widgets/base",
            "top": null,
            "grid_column": null,
            "overflow_y": null,
            "overflow_x": null,
            "grid_auto_flow": null,
            "grid_area": null,
            "grid_template_columns": null,
            "flex": null,
            "_model_name": "LayoutModel",
            "justify_items": null,
            "grid_row": null,
            "max_height": null,
            "align_content": null,
            "visibility": null,
            "align_self": null,
            "height": null,
            "min_height": null,
            "padding": null,
            "grid_auto_rows": null,
            "grid_gap": null,
            "max_width": null,
            "order": null,
            "_view_module_version": "1.2.0",
            "grid_template_areas": null,
            "object_position": null,
            "object_fit": null,
            "grid_auto_columns": null,
            "margin": null,
            "display": null,
            "left": null
          }
        },
        "fafb926280194a1a9d0c7b22c91724fc": {
          "model_module": "@jupyter-widgets/controls",
          "model_name": "HTMLModel",
          "model_module_version": "1.5.0",
          "state": {
            "_view_name": "HTMLView",
            "style": "IPY_MODEL_824635432d024d489afbef7a4101fdd1",
            "_dom_classes": [],
            "description": "",
            "_model_name": "HTMLModel",
            "placeholder": "​",
            "_view_module": "@jupyter-widgets/controls",
            "_model_module_version": "1.5.0",
            "value": "Downloading: 100%",
            "_view_count": null,
            "_view_module_version": "1.5.0",
            "description_tooltip": null,
            "_model_module": "@jupyter-widgets/controls",
            "layout": "IPY_MODEL_f0b8b075ad6245fab8611617dda9a6fa"
          }
        },
        "d394d87c00af456b8cb99f3dd412b08c": {
          "model_module": "@jupyter-widgets/controls",
          "model_name": "FloatProgressModel",
          "model_module_version": "1.5.0",
          "state": {
            "_view_name": "ProgressView",
            "style": "IPY_MODEL_6502ff6432424c6c8d107fc86b3d6e20",
            "_dom_classes": [],
            "description": "",
            "_model_name": "FloatProgressModel",
            "bar_style": "success",
            "max": 898822,
            "_view_module": "@jupyter-widgets/controls",
            "_model_module_version": "1.5.0",
            "value": 898822,
            "_view_count": null,
            "_view_module_version": "1.5.0",
            "orientation": "horizontal",
            "min": 0,
            "description_tooltip": null,
            "_model_module": "@jupyter-widgets/controls",
            "layout": "IPY_MODEL_91b42e606b134b818f9bd9bebfc3e652"
          }
        },
        "bcc3e096787f4ab7a281405e6a767938": {
          "model_module": "@jupyter-widgets/controls",
          "model_name": "HTMLModel",
          "model_module_version": "1.5.0",
          "state": {
            "_view_name": "HTMLView",
            "style": "IPY_MODEL_1436abeee232415ea6c7d1b998612849",
            "_dom_classes": [],
            "description": "",
            "_model_name": "HTMLModel",
            "placeholder": "​",
            "_view_module": "@jupyter-widgets/controls",
            "_model_module_version": "1.5.0",
            "value": " 878k/878k [00:00&lt;00:00, 1.05MB/s]",
            "_view_count": null,
            "_view_module_version": "1.5.0",
            "description_tooltip": null,
            "_model_module": "@jupyter-widgets/controls",
            "layout": "IPY_MODEL_1b4ed71a705b45a7b97521d968c35f23"
          }
        },
        "824635432d024d489afbef7a4101fdd1": {
          "model_module": "@jupyter-widgets/controls",
          "model_name": "DescriptionStyleModel",
          "model_module_version": "1.5.0",
          "state": {
            "_view_name": "StyleView",
            "_model_name": "DescriptionStyleModel",
            "description_width": "",
            "_view_module": "@jupyter-widgets/base",
            "_model_module_version": "1.5.0",
            "_view_count": null,
            "_view_module_version": "1.2.0",
            "_model_module": "@jupyter-widgets/controls"
          }
        },
        "f0b8b075ad6245fab8611617dda9a6fa": {
          "model_module": "@jupyter-widgets/base",
          "model_name": "LayoutModel",
          "model_module_version": "1.2.0",
          "state": {
            "_view_name": "LayoutView",
            "grid_template_rows": null,
            "right": null,
            "justify_content": null,
            "_view_module": "@jupyter-widgets/base",
            "overflow": null,
            "_model_module_version": "1.2.0",
            "_view_count": null,
            "flex_flow": null,
            "width": null,
            "min_width": null,
            "border": null,
            "align_items": null,
            "bottom": null,
            "_model_module": "@jupyter-widgets/base",
            "top": null,
            "grid_column": null,
            "overflow_y": null,
            "overflow_x": null,
            "grid_auto_flow": null,
            "grid_area": null,
            "grid_template_columns": null,
            "flex": null,
            "_model_name": "LayoutModel",
            "justify_items": null,
            "grid_row": null,
            "max_height": null,
            "align_content": null,
            "visibility": null,
            "align_self": null,
            "height": null,
            "min_height": null,
            "padding": null,
            "grid_auto_rows": null,
            "grid_gap": null,
            "max_width": null,
            "order": null,
            "_view_module_version": "1.2.0",
            "grid_template_areas": null,
            "object_position": null,
            "object_fit": null,
            "grid_auto_columns": null,
            "margin": null,
            "display": null,
            "left": null
          }
        },
        "6502ff6432424c6c8d107fc86b3d6e20": {
          "model_module": "@jupyter-widgets/controls",
          "model_name": "ProgressStyleModel",
          "model_module_version": "1.5.0",
          "state": {
            "_view_name": "StyleView",
            "_model_name": "ProgressStyleModel",
            "description_width": "",
            "_view_module": "@jupyter-widgets/base",
            "_model_module_version": "1.5.0",
            "_view_count": null,
            "_view_module_version": "1.2.0",
            "bar_color": null,
            "_model_module": "@jupyter-widgets/controls"
          }
        },
        "91b42e606b134b818f9bd9bebfc3e652": {
          "model_module": "@jupyter-widgets/base",
          "model_name": "LayoutModel",
          "model_module_version": "1.2.0",
          "state": {
            "_view_name": "LayoutView",
            "grid_template_rows": null,
            "right": null,
            "justify_content": null,
            "_view_module": "@jupyter-widgets/base",
            "overflow": null,
            "_model_module_version": "1.2.0",
            "_view_count": null,
            "flex_flow": null,
            "width": null,
            "min_width": null,
            "border": null,
            "align_items": null,
            "bottom": null,
            "_model_module": "@jupyter-widgets/base",
            "top": null,
            "grid_column": null,
            "overflow_y": null,
            "overflow_x": null,
            "grid_auto_flow": null,
            "grid_area": null,
            "grid_template_columns": null,
            "flex": null,
            "_model_name": "LayoutModel",
            "justify_items": null,
            "grid_row": null,
            "max_height": null,
            "align_content": null,
            "visibility": null,
            "align_self": null,
            "height": null,
            "min_height": null,
            "padding": null,
            "grid_auto_rows": null,
            "grid_gap": null,
            "max_width": null,
            "order": null,
            "_view_module_version": "1.2.0",
            "grid_template_areas": null,
            "object_position": null,
            "object_fit": null,
            "grid_auto_columns": null,
            "margin": null,
            "display": null,
            "left": null
          }
        },
        "1436abeee232415ea6c7d1b998612849": {
          "model_module": "@jupyter-widgets/controls",
          "model_name": "DescriptionStyleModel",
          "model_module_version": "1.5.0",
          "state": {
            "_view_name": "StyleView",
            "_model_name": "DescriptionStyleModel",
            "description_width": "",
            "_view_module": "@jupyter-widgets/base",
            "_model_module_version": "1.5.0",
            "_view_count": null,
            "_view_module_version": "1.2.0",
            "_model_module": "@jupyter-widgets/controls"
          }
        },
        "1b4ed71a705b45a7b97521d968c35f23": {
          "model_module": "@jupyter-widgets/base",
          "model_name": "LayoutModel",
          "model_module_version": "1.2.0",
          "state": {
            "_view_name": "LayoutView",
            "grid_template_rows": null,
            "right": null,
            "justify_content": null,
            "_view_module": "@jupyter-widgets/base",
            "overflow": null,
            "_model_module_version": "1.2.0",
            "_view_count": null,
            "flex_flow": null,
            "width": null,
            "min_width": null,
            "border": null,
            "align_items": null,
            "bottom": null,
            "_model_module": "@jupyter-widgets/base",
            "top": null,
            "grid_column": null,
            "overflow_y": null,
            "overflow_x": null,
            "grid_auto_flow": null,
            "grid_area": null,
            "grid_template_columns": null,
            "flex": null,
            "_model_name": "LayoutModel",
            "justify_items": null,
            "grid_row": null,
            "max_height": null,
            "align_content": null,
            "visibility": null,
            "align_self": null,
            "height": null,
            "min_height": null,
            "padding": null,
            "grid_auto_rows": null,
            "grid_gap": null,
            "max_width": null,
            "order": null,
            "_view_module_version": "1.2.0",
            "grid_template_areas": null,
            "object_position": null,
            "object_fit": null,
            "grid_auto_columns": null,
            "margin": null,
            "display": null,
            "left": null
          }
        },
        "0ec1b980236a47a0bc86651ca9ec9302": {
          "model_module": "@jupyter-widgets/controls",
          "model_name": "HBoxModel",
          "model_module_version": "1.5.0",
          "state": {
            "_view_name": "HBoxView",
            "_dom_classes": [],
            "_model_name": "HBoxModel",
            "_view_module": "@jupyter-widgets/controls",
            "_model_module_version": "1.5.0",
            "_view_count": null,
            "_view_module_version": "1.5.0",
            "box_style": "",
            "layout": "IPY_MODEL_dc47bbca22f14b2899240d692fc00120",
            "_model_module": "@jupyter-widgets/controls",
            "children": [
              "IPY_MODEL_d3b5ebc4cf3f4c2185ac5d240a7d8102",
              "IPY_MODEL_336cb0a0dad64a76a0dcdfdcd18ce663",
              "IPY_MODEL_2d0ee80a1803406abbeab4855c6b7d3b"
            ]
          }
        },
        "dc47bbca22f14b2899240d692fc00120": {
          "model_module": "@jupyter-widgets/base",
          "model_name": "LayoutModel",
          "model_module_version": "1.2.0",
          "state": {
            "_view_name": "LayoutView",
            "grid_template_rows": null,
            "right": null,
            "justify_content": null,
            "_view_module": "@jupyter-widgets/base",
            "overflow": null,
            "_model_module_version": "1.2.0",
            "_view_count": null,
            "flex_flow": null,
            "width": null,
            "min_width": null,
            "border": null,
            "align_items": null,
            "bottom": null,
            "_model_module": "@jupyter-widgets/base",
            "top": null,
            "grid_column": null,
            "overflow_y": null,
            "overflow_x": null,
            "grid_auto_flow": null,
            "grid_area": null,
            "grid_template_columns": null,
            "flex": null,
            "_model_name": "LayoutModel",
            "justify_items": null,
            "grid_row": null,
            "max_height": null,
            "align_content": null,
            "visibility": null,
            "align_self": null,
            "height": null,
            "min_height": null,
            "padding": null,
            "grid_auto_rows": null,
            "grid_gap": null,
            "max_width": null,
            "order": null,
            "_view_module_version": "1.2.0",
            "grid_template_areas": null,
            "object_position": null,
            "object_fit": null,
            "grid_auto_columns": null,
            "margin": null,
            "display": null,
            "left": null
          }
        },
        "d3b5ebc4cf3f4c2185ac5d240a7d8102": {
          "model_module": "@jupyter-widgets/controls",
          "model_name": "HTMLModel",
          "model_module_version": "1.5.0",
          "state": {
            "_view_name": "HTMLView",
            "style": "IPY_MODEL_3acc4ac055ec4ea78fedc127fc9f91ee",
            "_dom_classes": [],
            "description": "",
            "_model_name": "HTMLModel",
            "placeholder": "​",
            "_view_module": "@jupyter-widgets/controls",
            "_model_module_version": "1.5.0",
            "value": "Downloading: 100%",
            "_view_count": null,
            "_view_module_version": "1.5.0",
            "description_tooltip": null,
            "_model_module": "@jupyter-widgets/controls",
            "layout": "IPY_MODEL_03923544251b452d8fbfc1453780e45b"
          }
        },
        "336cb0a0dad64a76a0dcdfdcd18ce663": {
          "model_module": "@jupyter-widgets/controls",
          "model_name": "FloatProgressModel",
          "model_module_version": "1.5.0",
          "state": {
            "_view_name": "ProgressView",
            "style": "IPY_MODEL_809979b75bed495c9bf1fa3796dbba6d",
            "_dom_classes": [],
            "description": "",
            "_model_name": "FloatProgressModel",
            "bar_style": "success",
            "max": 456318,
            "_view_module": "@jupyter-widgets/controls",
            "_model_module_version": "1.5.0",
            "value": 456318,
            "_view_count": null,
            "_view_module_version": "1.5.0",
            "orientation": "horizontal",
            "min": 0,
            "description_tooltip": null,
            "_model_module": "@jupyter-widgets/controls",
            "layout": "IPY_MODEL_cc3e4b4b79064ece895e5eaf0ec58695"
          }
        },
        "2d0ee80a1803406abbeab4855c6b7d3b": {
          "model_module": "@jupyter-widgets/controls",
          "model_name": "HTMLModel",
          "model_module_version": "1.5.0",
          "state": {
            "_view_name": "HTMLView",
            "style": "IPY_MODEL_7b3d70e61c7048fc8880214ed0c628b3",
            "_dom_classes": [],
            "description": "",
            "_model_name": "HTMLModel",
            "placeholder": "​",
            "_view_module": "@jupyter-widgets/controls",
            "_model_module_version": "1.5.0",
            "value": " 446k/446k [00:00&lt;00:00, 1.10MB/s]",
            "_view_count": null,
            "_view_module_version": "1.5.0",
            "description_tooltip": null,
            "_model_module": "@jupyter-widgets/controls",
            "layout": "IPY_MODEL_15a91a42491e42a18a156a9c98753b40"
          }
        },
        "3acc4ac055ec4ea78fedc127fc9f91ee": {
          "model_module": "@jupyter-widgets/controls",
          "model_name": "DescriptionStyleModel",
          "model_module_version": "1.5.0",
          "state": {
            "_view_name": "StyleView",
            "_model_name": "DescriptionStyleModel",
            "description_width": "",
            "_view_module": "@jupyter-widgets/base",
            "_model_module_version": "1.5.0",
            "_view_count": null,
            "_view_module_version": "1.2.0",
            "_model_module": "@jupyter-widgets/controls"
          }
        },
        "03923544251b452d8fbfc1453780e45b": {
          "model_module": "@jupyter-widgets/base",
          "model_name": "LayoutModel",
          "model_module_version": "1.2.0",
          "state": {
            "_view_name": "LayoutView",
            "grid_template_rows": null,
            "right": null,
            "justify_content": null,
            "_view_module": "@jupyter-widgets/base",
            "overflow": null,
            "_model_module_version": "1.2.0",
            "_view_count": null,
            "flex_flow": null,
            "width": null,
            "min_width": null,
            "border": null,
            "align_items": null,
            "bottom": null,
            "_model_module": "@jupyter-widgets/base",
            "top": null,
            "grid_column": null,
            "overflow_y": null,
            "overflow_x": null,
            "grid_auto_flow": null,
            "grid_area": null,
            "grid_template_columns": null,
            "flex": null,
            "_model_name": "LayoutModel",
            "justify_items": null,
            "grid_row": null,
            "max_height": null,
            "align_content": null,
            "visibility": null,
            "align_self": null,
            "height": null,
            "min_height": null,
            "padding": null,
            "grid_auto_rows": null,
            "grid_gap": null,
            "max_width": null,
            "order": null,
            "_view_module_version": "1.2.0",
            "grid_template_areas": null,
            "object_position": null,
            "object_fit": null,
            "grid_auto_columns": null,
            "margin": null,
            "display": null,
            "left": null
          }
        },
        "809979b75bed495c9bf1fa3796dbba6d": {
          "model_module": "@jupyter-widgets/controls",
          "model_name": "ProgressStyleModel",
          "model_module_version": "1.5.0",
          "state": {
            "_view_name": "StyleView",
            "_model_name": "ProgressStyleModel",
            "description_width": "",
            "_view_module": "@jupyter-widgets/base",
            "_model_module_version": "1.5.0",
            "_view_count": null,
            "_view_module_version": "1.2.0",
            "bar_color": null,
            "_model_module": "@jupyter-widgets/controls"
          }
        },
        "cc3e4b4b79064ece895e5eaf0ec58695": {
          "model_module": "@jupyter-widgets/base",
          "model_name": "LayoutModel",
          "model_module_version": "1.2.0",
          "state": {
            "_view_name": "LayoutView",
            "grid_template_rows": null,
            "right": null,
            "justify_content": null,
            "_view_module": "@jupyter-widgets/base",
            "overflow": null,
            "_model_module_version": "1.2.0",
            "_view_count": null,
            "flex_flow": null,
            "width": null,
            "min_width": null,
            "border": null,
            "align_items": null,
            "bottom": null,
            "_model_module": "@jupyter-widgets/base",
            "top": null,
            "grid_column": null,
            "overflow_y": null,
            "overflow_x": null,
            "grid_auto_flow": null,
            "grid_area": null,
            "grid_template_columns": null,
            "flex": null,
            "_model_name": "LayoutModel",
            "justify_items": null,
            "grid_row": null,
            "max_height": null,
            "align_content": null,
            "visibility": null,
            "align_self": null,
            "height": null,
            "min_height": null,
            "padding": null,
            "grid_auto_rows": null,
            "grid_gap": null,
            "max_width": null,
            "order": null,
            "_view_module_version": "1.2.0",
            "grid_template_areas": null,
            "object_position": null,
            "object_fit": null,
            "grid_auto_columns": null,
            "margin": null,
            "display": null,
            "left": null
          }
        },
        "7b3d70e61c7048fc8880214ed0c628b3": {
          "model_module": "@jupyter-widgets/controls",
          "model_name": "DescriptionStyleModel",
          "model_module_version": "1.5.0",
          "state": {
            "_view_name": "StyleView",
            "_model_name": "DescriptionStyleModel",
            "description_width": "",
            "_view_module": "@jupyter-widgets/base",
            "_model_module_version": "1.5.0",
            "_view_count": null,
            "_view_module_version": "1.2.0",
            "_model_module": "@jupyter-widgets/controls"
          }
        },
        "15a91a42491e42a18a156a9c98753b40": {
          "model_module": "@jupyter-widgets/base",
          "model_name": "LayoutModel",
          "model_module_version": "1.2.0",
          "state": {
            "_view_name": "LayoutView",
            "grid_template_rows": null,
            "right": null,
            "justify_content": null,
            "_view_module": "@jupyter-widgets/base",
            "overflow": null,
            "_model_module_version": "1.2.0",
            "_view_count": null,
            "flex_flow": null,
            "width": null,
            "min_width": null,
            "border": null,
            "align_items": null,
            "bottom": null,
            "_model_module": "@jupyter-widgets/base",
            "top": null,
            "grid_column": null,
            "overflow_y": null,
            "overflow_x": null,
            "grid_auto_flow": null,
            "grid_area": null,
            "grid_template_columns": null,
            "flex": null,
            "_model_name": "LayoutModel",
            "justify_items": null,
            "grid_row": null,
            "max_height": null,
            "align_content": null,
            "visibility": null,
            "align_self": null,
            "height": null,
            "min_height": null,
            "padding": null,
            "grid_auto_rows": null,
            "grid_gap": null,
            "max_width": null,
            "order": null,
            "_view_module_version": "1.2.0",
            "grid_template_areas": null,
            "object_position": null,
            "object_fit": null,
            "grid_auto_columns": null,
            "margin": null,
            "display": null,
            "left": null
          }
        },
        "828b7312a57e4343aa641f40a3e39ba1": {
          "model_module": "@jupyter-widgets/controls",
          "model_name": "HBoxModel",
          "model_module_version": "1.5.0",
          "state": {
            "_view_name": "HBoxView",
            "_dom_classes": [],
            "_model_name": "HBoxModel",
            "_view_module": "@jupyter-widgets/controls",
            "_model_module_version": "1.5.0",
            "_view_count": null,
            "_view_module_version": "1.5.0",
            "box_style": "",
            "layout": "IPY_MODEL_33b16afaea764be49f8bfbc17aebe8a7",
            "_model_module": "@jupyter-widgets/controls",
            "children": [
              "IPY_MODEL_dfa3888290df42ecba32fb962bc2289b",
              "IPY_MODEL_bfcc4047b21a45478a93106301e3b40e",
              "IPY_MODEL_7bf9ed52435d47aba1ac2f854f9b3ab4"
            ]
          }
        },
        "33b16afaea764be49f8bfbc17aebe8a7": {
          "model_module": "@jupyter-widgets/base",
          "model_name": "LayoutModel",
          "model_module_version": "1.2.0",
          "state": {
            "_view_name": "LayoutView",
            "grid_template_rows": null,
            "right": null,
            "justify_content": null,
            "_view_module": "@jupyter-widgets/base",
            "overflow": null,
            "_model_module_version": "1.2.0",
            "_view_count": null,
            "flex_flow": null,
            "width": null,
            "min_width": null,
            "border": null,
            "align_items": null,
            "bottom": null,
            "_model_module": "@jupyter-widgets/base",
            "top": null,
            "grid_column": null,
            "overflow_y": null,
            "overflow_x": null,
            "grid_auto_flow": null,
            "grid_area": null,
            "grid_template_columns": null,
            "flex": null,
            "_model_name": "LayoutModel",
            "justify_items": null,
            "grid_row": null,
            "max_height": null,
            "align_content": null,
            "visibility": null,
            "align_self": null,
            "height": null,
            "min_height": null,
            "padding": null,
            "grid_auto_rows": null,
            "grid_gap": null,
            "max_width": null,
            "order": null,
            "_view_module_version": "1.2.0",
            "grid_template_areas": null,
            "object_position": null,
            "object_fit": null,
            "grid_auto_columns": null,
            "margin": null,
            "display": null,
            "left": null
          }
        },
        "dfa3888290df42ecba32fb962bc2289b": {
          "model_module": "@jupyter-widgets/controls",
          "model_name": "HTMLModel",
          "model_module_version": "1.5.0",
          "state": {
            "_view_name": "HTMLView",
            "style": "IPY_MODEL_12fb4cf5efa84cb7927fd2861ac9346f",
            "_dom_classes": [],
            "description": "",
            "_model_name": "HTMLModel",
            "placeholder": "​",
            "_view_module": "@jupyter-widgets/controls",
            "_model_module_version": "1.5.0",
            "value": "Downloading: 100%",
            "_view_count": null,
            "_view_module_version": "1.5.0",
            "description_tooltip": null,
            "_model_module": "@jupyter-widgets/controls",
            "layout": "IPY_MODEL_02ce3ea7077a4e3cb710c21cc3f037ba"
          }
        },
        "bfcc4047b21a45478a93106301e3b40e": {
          "model_module": "@jupyter-widgets/controls",
          "model_name": "FloatProgressModel",
          "model_module_version": "1.5.0",
          "state": {
            "_view_name": "ProgressView",
            "style": "IPY_MODEL_95339a557e764b8d8183490aca6134a1",
            "_dom_classes": [],
            "description": "",
            "_model_name": "FloatProgressModel",
            "bar_style": "success",
            "max": 1199,
            "_view_module": "@jupyter-widgets/controls",
            "_model_module_version": "1.5.0",
            "value": 1199,
            "_view_count": null,
            "_view_module_version": "1.5.0",
            "orientation": "horizontal",
            "min": 0,
            "description_tooltip": null,
            "_model_module": "@jupyter-widgets/controls",
            "layout": "IPY_MODEL_8cb4a21cc1a4414e8218f8732987d91a"
          }
        },
        "7bf9ed52435d47aba1ac2f854f9b3ab4": {
          "model_module": "@jupyter-widgets/controls",
          "model_name": "HTMLModel",
          "model_module_version": "1.5.0",
          "state": {
            "_view_name": "HTMLView",
            "style": "IPY_MODEL_1b69c7b7cc16475db7cc467aa7108d8e",
            "_dom_classes": [],
            "description": "",
            "_model_name": "HTMLModel",
            "placeholder": "​",
            "_view_module": "@jupyter-widgets/controls",
            "_model_module_version": "1.5.0",
            "value": " 1.17k/1.17k [00:00&lt;00:00, 20.5kB/s]",
            "_view_count": null,
            "_view_module_version": "1.5.0",
            "description_tooltip": null,
            "_model_module": "@jupyter-widgets/controls",
            "layout": "IPY_MODEL_3c504f763e6b4c95b82d4d3b1c5dffbf"
          }
        },
        "12fb4cf5efa84cb7927fd2861ac9346f": {
          "model_module": "@jupyter-widgets/controls",
          "model_name": "DescriptionStyleModel",
          "model_module_version": "1.5.0",
          "state": {
            "_view_name": "StyleView",
            "_model_name": "DescriptionStyleModel",
            "description_width": "",
            "_view_module": "@jupyter-widgets/base",
            "_model_module_version": "1.5.0",
            "_view_count": null,
            "_view_module_version": "1.2.0",
            "_model_module": "@jupyter-widgets/controls"
          }
        },
        "02ce3ea7077a4e3cb710c21cc3f037ba": {
          "model_module": "@jupyter-widgets/base",
          "model_name": "LayoutModel",
          "model_module_version": "1.2.0",
          "state": {
            "_view_name": "LayoutView",
            "grid_template_rows": null,
            "right": null,
            "justify_content": null,
            "_view_module": "@jupyter-widgets/base",
            "overflow": null,
            "_model_module_version": "1.2.0",
            "_view_count": null,
            "flex_flow": null,
            "width": null,
            "min_width": null,
            "border": null,
            "align_items": null,
            "bottom": null,
            "_model_module": "@jupyter-widgets/base",
            "top": null,
            "grid_column": null,
            "overflow_y": null,
            "overflow_x": null,
            "grid_auto_flow": null,
            "grid_area": null,
            "grid_template_columns": null,
            "flex": null,
            "_model_name": "LayoutModel",
            "justify_items": null,
            "grid_row": null,
            "max_height": null,
            "align_content": null,
            "visibility": null,
            "align_self": null,
            "height": null,
            "min_height": null,
            "padding": null,
            "grid_auto_rows": null,
            "grid_gap": null,
            "max_width": null,
            "order": null,
            "_view_module_version": "1.2.0",
            "grid_template_areas": null,
            "object_position": null,
            "object_fit": null,
            "grid_auto_columns": null,
            "margin": null,
            "display": null,
            "left": null
          }
        },
        "95339a557e764b8d8183490aca6134a1": {
          "model_module": "@jupyter-widgets/controls",
          "model_name": "ProgressStyleModel",
          "model_module_version": "1.5.0",
          "state": {
            "_view_name": "StyleView",
            "_model_name": "ProgressStyleModel",
            "description_width": "",
            "_view_module": "@jupyter-widgets/base",
            "_model_module_version": "1.5.0",
            "_view_count": null,
            "_view_module_version": "1.2.0",
            "bar_color": null,
            "_model_module": "@jupyter-widgets/controls"
          }
        },
        "8cb4a21cc1a4414e8218f8732987d91a": {
          "model_module": "@jupyter-widgets/base",
          "model_name": "LayoutModel",
          "model_module_version": "1.2.0",
          "state": {
            "_view_name": "LayoutView",
            "grid_template_rows": null,
            "right": null,
            "justify_content": null,
            "_view_module": "@jupyter-widgets/base",
            "overflow": null,
            "_model_module_version": "1.2.0",
            "_view_count": null,
            "flex_flow": null,
            "width": null,
            "min_width": null,
            "border": null,
            "align_items": null,
            "bottom": null,
            "_model_module": "@jupyter-widgets/base",
            "top": null,
            "grid_column": null,
            "overflow_y": null,
            "overflow_x": null,
            "grid_auto_flow": null,
            "grid_area": null,
            "grid_template_columns": null,
            "flex": null,
            "_model_name": "LayoutModel",
            "justify_items": null,
            "grid_row": null,
            "max_height": null,
            "align_content": null,
            "visibility": null,
            "align_self": null,
            "height": null,
            "min_height": null,
            "padding": null,
            "grid_auto_rows": null,
            "grid_gap": null,
            "max_width": null,
            "order": null,
            "_view_module_version": "1.2.0",
            "grid_template_areas": null,
            "object_position": null,
            "object_fit": null,
            "grid_auto_columns": null,
            "margin": null,
            "display": null,
            "left": null
          }
        },
        "1b69c7b7cc16475db7cc467aa7108d8e": {
          "model_module": "@jupyter-widgets/controls",
          "model_name": "DescriptionStyleModel",
          "model_module_version": "1.5.0",
          "state": {
            "_view_name": "StyleView",
            "_model_name": "DescriptionStyleModel",
            "description_width": "",
            "_view_module": "@jupyter-widgets/base",
            "_model_module_version": "1.5.0",
            "_view_count": null,
            "_view_module_version": "1.2.0",
            "_model_module": "@jupyter-widgets/controls"
          }
        },
        "3c504f763e6b4c95b82d4d3b1c5dffbf": {
          "model_module": "@jupyter-widgets/base",
          "model_name": "LayoutModel",
          "model_module_version": "1.2.0",
          "state": {
            "_view_name": "LayoutView",
            "grid_template_rows": null,
            "right": null,
            "justify_content": null,
            "_view_module": "@jupyter-widgets/base",
            "overflow": null,
            "_model_module_version": "1.2.0",
            "_view_count": null,
            "flex_flow": null,
            "width": null,
            "min_width": null,
            "border": null,
            "align_items": null,
            "bottom": null,
            "_model_module": "@jupyter-widgets/base",
            "top": null,
            "grid_column": null,
            "overflow_y": null,
            "overflow_x": null,
            "grid_auto_flow": null,
            "grid_area": null,
            "grid_template_columns": null,
            "flex": null,
            "_model_name": "LayoutModel",
            "justify_items": null,
            "grid_row": null,
            "max_height": null,
            "align_content": null,
            "visibility": null,
            "align_self": null,
            "height": null,
            "min_height": null,
            "padding": null,
            "grid_auto_rows": null,
            "grid_gap": null,
            "max_width": null,
            "order": null,
            "_view_module_version": "1.2.0",
            "grid_template_areas": null,
            "object_position": null,
            "object_fit": null,
            "grid_auto_columns": null,
            "margin": null,
            "display": null,
            "left": null
          }
        },
        "0a185559802743a58f44393dd08df586": {
          "model_module": "@jupyter-widgets/controls",
          "model_name": "HBoxModel",
          "model_module_version": "1.5.0",
          "state": {
            "_view_name": "HBoxView",
            "_dom_classes": [],
            "_model_name": "HBoxModel",
            "_view_module": "@jupyter-widgets/controls",
            "_model_module_version": "1.5.0",
            "_view_count": null,
            "_view_module_version": "1.5.0",
            "box_style": "",
            "layout": "IPY_MODEL_9dde38c7f0184028b9e6b635865d9ee2",
            "_model_module": "@jupyter-widgets/controls",
            "children": [
              "IPY_MODEL_185dca69ecf64c43a9375cbc7962b392",
              "IPY_MODEL_691b7906c21540b582d391d54c95169a",
              "IPY_MODEL_b6b7132f8d7748e7a214eb33d116f10f"
            ]
          }
        },
        "9dde38c7f0184028b9e6b635865d9ee2": {
          "model_module": "@jupyter-widgets/base",
          "model_name": "LayoutModel",
          "model_module_version": "1.2.0",
          "state": {
            "_view_name": "LayoutView",
            "grid_template_rows": null,
            "right": null,
            "justify_content": null,
            "_view_module": "@jupyter-widgets/base",
            "overflow": null,
            "_model_module_version": "1.2.0",
            "_view_count": null,
            "flex_flow": null,
            "width": null,
            "min_width": null,
            "border": null,
            "align_items": null,
            "bottom": null,
            "_model_module": "@jupyter-widgets/base",
            "top": null,
            "grid_column": null,
            "overflow_y": null,
            "overflow_x": null,
            "grid_auto_flow": null,
            "grid_area": null,
            "grid_template_columns": null,
            "flex": null,
            "_model_name": "LayoutModel",
            "justify_items": null,
            "grid_row": null,
            "max_height": null,
            "align_content": null,
            "visibility": null,
            "align_self": null,
            "height": null,
            "min_height": null,
            "padding": null,
            "grid_auto_rows": null,
            "grid_gap": null,
            "max_width": null,
            "order": null,
            "_view_module_version": "1.2.0",
            "grid_template_areas": null,
            "object_position": null,
            "object_fit": null,
            "grid_auto_columns": null,
            "margin": null,
            "display": null,
            "left": null
          }
        },
        "185dca69ecf64c43a9375cbc7962b392": {
          "model_module": "@jupyter-widgets/controls",
          "model_name": "HTMLModel",
          "model_module_version": "1.5.0",
          "state": {
            "_view_name": "HTMLView",
            "style": "IPY_MODEL_04918f9ec66a4aec8535663f17deab05",
            "_dom_classes": [],
            "description": "",
            "_model_name": "HTMLModel",
            "placeholder": "​",
            "_view_module": "@jupyter-widgets/controls",
            "_model_module_version": "1.5.0",
            "value": "Downloading: 100%",
            "_view_count": null,
            "_view_module_version": "1.5.0",
            "description_tooltip": null,
            "_model_module": "@jupyter-widgets/controls",
            "layout": "IPY_MODEL_9bed37173b304e61a537e983cd218a48"
          }
        },
        "691b7906c21540b582d391d54c95169a": {
          "model_module": "@jupyter-widgets/controls",
          "model_name": "FloatProgressModel",
          "model_module_version": "1.5.0",
          "state": {
            "_view_name": "ProgressView",
            "style": "IPY_MODEL_d8aaf8e8ad304ce99578137f02864ed2",
            "_dom_classes": [],
            "description": "",
            "_model_name": "FloatProgressModel",
            "bar_style": "success",
            "max": 892146080,
            "_view_module": "@jupyter-widgets/controls",
            "_model_module_version": "1.5.0",
            "value": 892146080,
            "_view_count": null,
            "_view_module_version": "1.5.0",
            "orientation": "horizontal",
            "min": 0,
            "description_tooltip": null,
            "_model_module": "@jupyter-widgets/controls",
            "layout": "IPY_MODEL_8053bcedc63c42be872a831c416d423a"
          }
        },
        "b6b7132f8d7748e7a214eb33d116f10f": {
          "model_module": "@jupyter-widgets/controls",
          "model_name": "HTMLModel",
          "model_module_version": "1.5.0",
          "state": {
            "_view_name": "HTMLView",
            "style": "IPY_MODEL_b25332b403714118837f5b7b57287d60",
            "_dom_classes": [],
            "description": "",
            "_model_name": "HTMLModel",
            "placeholder": "​",
            "_view_module": "@jupyter-widgets/controls",
            "_model_module_version": "1.5.0",
            "value": " 851M/851M [00:27&lt;00:00, 34.6MB/s]",
            "_view_count": null,
            "_view_module_version": "1.5.0",
            "description_tooltip": null,
            "_model_module": "@jupyter-widgets/controls",
            "layout": "IPY_MODEL_d2f00fdc5d2d485ebc9eb8375620b9fd"
          }
        },
        "04918f9ec66a4aec8535663f17deab05": {
          "model_module": "@jupyter-widgets/controls",
          "model_name": "DescriptionStyleModel",
          "model_module_version": "1.5.0",
          "state": {
            "_view_name": "StyleView",
            "_model_name": "DescriptionStyleModel",
            "description_width": "",
            "_view_module": "@jupyter-widgets/base",
            "_model_module_version": "1.5.0",
            "_view_count": null,
            "_view_module_version": "1.2.0",
            "_model_module": "@jupyter-widgets/controls"
          }
        },
        "9bed37173b304e61a537e983cd218a48": {
          "model_module": "@jupyter-widgets/base",
          "model_name": "LayoutModel",
          "model_module_version": "1.2.0",
          "state": {
            "_view_name": "LayoutView",
            "grid_template_rows": null,
            "right": null,
            "justify_content": null,
            "_view_module": "@jupyter-widgets/base",
            "overflow": null,
            "_model_module_version": "1.2.0",
            "_view_count": null,
            "flex_flow": null,
            "width": null,
            "min_width": null,
            "border": null,
            "align_items": null,
            "bottom": null,
            "_model_module": "@jupyter-widgets/base",
            "top": null,
            "grid_column": null,
            "overflow_y": null,
            "overflow_x": null,
            "grid_auto_flow": null,
            "grid_area": null,
            "grid_template_columns": null,
            "flex": null,
            "_model_name": "LayoutModel",
            "justify_items": null,
            "grid_row": null,
            "max_height": null,
            "align_content": null,
            "visibility": null,
            "align_self": null,
            "height": null,
            "min_height": null,
            "padding": null,
            "grid_auto_rows": null,
            "grid_gap": null,
            "max_width": null,
            "order": null,
            "_view_module_version": "1.2.0",
            "grid_template_areas": null,
            "object_position": null,
            "object_fit": null,
            "grid_auto_columns": null,
            "margin": null,
            "display": null,
            "left": null
          }
        },
        "d8aaf8e8ad304ce99578137f02864ed2": {
          "model_module": "@jupyter-widgets/controls",
          "model_name": "ProgressStyleModel",
          "model_module_version": "1.5.0",
          "state": {
            "_view_name": "StyleView",
            "_model_name": "ProgressStyleModel",
            "description_width": "",
            "_view_module": "@jupyter-widgets/base",
            "_model_module_version": "1.5.0",
            "_view_count": null,
            "_view_module_version": "1.2.0",
            "bar_color": null,
            "_model_module": "@jupyter-widgets/controls"
          }
        },
        "8053bcedc63c42be872a831c416d423a": {
          "model_module": "@jupyter-widgets/base",
          "model_name": "LayoutModel",
          "model_module_version": "1.2.0",
          "state": {
            "_view_name": "LayoutView",
            "grid_template_rows": null,
            "right": null,
            "justify_content": null,
            "_view_module": "@jupyter-widgets/base",
            "overflow": null,
            "_model_module_version": "1.2.0",
            "_view_count": null,
            "flex_flow": null,
            "width": null,
            "min_width": null,
            "border": null,
            "align_items": null,
            "bottom": null,
            "_model_module": "@jupyter-widgets/base",
            "top": null,
            "grid_column": null,
            "overflow_y": null,
            "overflow_x": null,
            "grid_auto_flow": null,
            "grid_area": null,
            "grid_template_columns": null,
            "flex": null,
            "_model_name": "LayoutModel",
            "justify_items": null,
            "grid_row": null,
            "max_height": null,
            "align_content": null,
            "visibility": null,
            "align_self": null,
            "height": null,
            "min_height": null,
            "padding": null,
            "grid_auto_rows": null,
            "grid_gap": null,
            "max_width": null,
            "order": null,
            "_view_module_version": "1.2.0",
            "grid_template_areas": null,
            "object_position": null,
            "object_fit": null,
            "grid_auto_columns": null,
            "margin": null,
            "display": null,
            "left": null
          }
        },
        "b25332b403714118837f5b7b57287d60": {
          "model_module": "@jupyter-widgets/controls",
          "model_name": "DescriptionStyleModel",
          "model_module_version": "1.5.0",
          "state": {
            "_view_name": "StyleView",
            "_model_name": "DescriptionStyleModel",
            "description_width": "",
            "_view_module": "@jupyter-widgets/base",
            "_model_module_version": "1.5.0",
            "_view_count": null,
            "_view_module_version": "1.2.0",
            "_model_module": "@jupyter-widgets/controls"
          }
        },
        "d2f00fdc5d2d485ebc9eb8375620b9fd": {
          "model_module": "@jupyter-widgets/base",
          "model_name": "LayoutModel",
          "model_module_version": "1.2.0",
          "state": {
            "_view_name": "LayoutView",
            "grid_template_rows": null,
            "right": null,
            "justify_content": null,
            "_view_module": "@jupyter-widgets/base",
            "overflow": null,
            "_model_module_version": "1.2.0",
            "_view_count": null,
            "flex_flow": null,
            "width": null,
            "min_width": null,
            "border": null,
            "align_items": null,
            "bottom": null,
            "_model_module": "@jupyter-widgets/base",
            "top": null,
            "grid_column": null,
            "overflow_y": null,
            "overflow_x": null,
            "grid_auto_flow": null,
            "grid_area": null,
            "grid_template_columns": null,
            "flex": null,
            "_model_name": "LayoutModel",
            "justify_items": null,
            "grid_row": null,
            "max_height": null,
            "align_content": null,
            "visibility": null,
            "align_self": null,
            "height": null,
            "min_height": null,
            "padding": null,
            "grid_auto_rows": null,
            "grid_gap": null,
            "max_width": null,
            "order": null,
            "_view_module_version": "1.2.0",
            "grid_template_areas": null,
            "object_position": null,
            "object_fit": null,
            "grid_auto_columns": null,
            "margin": null,
            "display": null,
            "left": null
          }
        },
        "7e53b0b51ec34f459936fb926c4bf3f8": {
          "model_module": "@jupyter-widgets/controls",
          "model_name": "HBoxModel",
          "model_module_version": "1.5.0",
          "state": {
            "_view_name": "HBoxView",
            "_dom_classes": [],
            "_model_name": "HBoxModel",
            "_view_module": "@jupyter-widgets/controls",
            "_model_module_version": "1.5.0",
            "_view_count": null,
            "_view_module_version": "1.5.0",
            "box_style": "",
            "layout": "IPY_MODEL_2e1f99e605c8400f92b5986fdbf612f9",
            "_model_module": "@jupyter-widgets/controls",
            "children": [
              "IPY_MODEL_6c17aa84e6bf4410822fbf2926cb7fa8",
              "IPY_MODEL_afc5030f246c489baddc9a51b01d95f0",
              "IPY_MODEL_c0bf8e92ae4145d48ccfb3edc25abe23"
            ]
          }
        },
        "2e1f99e605c8400f92b5986fdbf612f9": {
          "model_module": "@jupyter-widgets/base",
          "model_name": "LayoutModel",
          "model_module_version": "1.2.0",
          "state": {
            "_view_name": "LayoutView",
            "grid_template_rows": null,
            "right": null,
            "justify_content": null,
            "_view_module": "@jupyter-widgets/base",
            "overflow": null,
            "_model_module_version": "1.2.0",
            "_view_count": null,
            "flex_flow": null,
            "width": null,
            "min_width": null,
            "border": null,
            "align_items": null,
            "bottom": null,
            "_model_module": "@jupyter-widgets/base",
            "top": null,
            "grid_column": null,
            "overflow_y": null,
            "overflow_x": null,
            "grid_auto_flow": null,
            "grid_area": null,
            "grid_template_columns": null,
            "flex": null,
            "_model_name": "LayoutModel",
            "justify_items": null,
            "grid_row": null,
            "max_height": null,
            "align_content": null,
            "visibility": null,
            "align_self": null,
            "height": null,
            "min_height": null,
            "padding": null,
            "grid_auto_rows": null,
            "grid_gap": null,
            "max_width": null,
            "order": null,
            "_view_module_version": "1.2.0",
            "grid_template_areas": null,
            "object_position": null,
            "object_fit": null,
            "grid_auto_columns": null,
            "margin": null,
            "display": null,
            "left": null
          }
        },
        "6c17aa84e6bf4410822fbf2926cb7fa8": {
          "model_module": "@jupyter-widgets/controls",
          "model_name": "HTMLModel",
          "model_module_version": "1.5.0",
          "state": {
            "_view_name": "HTMLView",
            "style": "IPY_MODEL_e34a5298716d47209a865c9adfa6e9bb",
            "_dom_classes": [],
            "description": "",
            "_model_name": "HTMLModel",
            "placeholder": "​",
            "_view_module": "@jupyter-widgets/controls",
            "_model_module_version": "1.5.0",
            "value": "Downloading: 100%",
            "_view_count": null,
            "_view_module_version": "1.5.0",
            "description_tooltip": null,
            "_model_module": "@jupyter-widgets/controls",
            "layout": "IPY_MODEL_1b75a2994db148919a9009c4185edc02"
          }
        },
        "afc5030f246c489baddc9a51b01d95f0": {
          "model_module": "@jupyter-widgets/controls",
          "model_name": "FloatProgressModel",
          "model_module_version": "1.5.0",
          "state": {
            "_view_name": "ProgressView",
            "style": "IPY_MODEL_39f8ce873a614f8c86bc939bef85f0d0",
            "_dom_classes": [],
            "description": "",
            "_model_name": "FloatProgressModel",
            "bar_style": "success",
            "max": 791656,
            "_view_module": "@jupyter-widgets/controls",
            "_model_module_version": "1.5.0",
            "value": 791656,
            "_view_count": null,
            "_view_module_version": "1.5.0",
            "orientation": "horizontal",
            "min": 0,
            "description_tooltip": null,
            "_model_module": "@jupyter-widgets/controls",
            "layout": "IPY_MODEL_0290a65944284dbe9c3d008093dd79cc"
          }
        },
        "c0bf8e92ae4145d48ccfb3edc25abe23": {
          "model_module": "@jupyter-widgets/controls",
          "model_name": "HTMLModel",
          "model_module_version": "1.5.0",
          "state": {
            "_view_name": "HTMLView",
            "style": "IPY_MODEL_099b669acde24477ae03440a23003275",
            "_dom_classes": [],
            "description": "",
            "_model_name": "HTMLModel",
            "placeholder": "​",
            "_view_module": "@jupyter-widgets/controls",
            "_model_module_version": "1.5.0",
            "value": " 773k/773k [00:00&lt;00:00, 1.12MB/s]",
            "_view_count": null,
            "_view_module_version": "1.5.0",
            "description_tooltip": null,
            "_model_module": "@jupyter-widgets/controls",
            "layout": "IPY_MODEL_4716232563f146429d83ccb406bf62f7"
          }
        },
        "e34a5298716d47209a865c9adfa6e9bb": {
          "model_module": "@jupyter-widgets/controls",
          "model_name": "DescriptionStyleModel",
          "model_module_version": "1.5.0",
          "state": {
            "_view_name": "StyleView",
            "_model_name": "DescriptionStyleModel",
            "description_width": "",
            "_view_module": "@jupyter-widgets/base",
            "_model_module_version": "1.5.0",
            "_view_count": null,
            "_view_module_version": "1.2.0",
            "_model_module": "@jupyter-widgets/controls"
          }
        },
        "1b75a2994db148919a9009c4185edc02": {
          "model_module": "@jupyter-widgets/base",
          "model_name": "LayoutModel",
          "model_module_version": "1.2.0",
          "state": {
            "_view_name": "LayoutView",
            "grid_template_rows": null,
            "right": null,
            "justify_content": null,
            "_view_module": "@jupyter-widgets/base",
            "overflow": null,
            "_model_module_version": "1.2.0",
            "_view_count": null,
            "flex_flow": null,
            "width": null,
            "min_width": null,
            "border": null,
            "align_items": null,
            "bottom": null,
            "_model_module": "@jupyter-widgets/base",
            "top": null,
            "grid_column": null,
            "overflow_y": null,
            "overflow_x": null,
            "grid_auto_flow": null,
            "grid_area": null,
            "grid_template_columns": null,
            "flex": null,
            "_model_name": "LayoutModel",
            "justify_items": null,
            "grid_row": null,
            "max_height": null,
            "align_content": null,
            "visibility": null,
            "align_self": null,
            "height": null,
            "min_height": null,
            "padding": null,
            "grid_auto_rows": null,
            "grid_gap": null,
            "max_width": null,
            "order": null,
            "_view_module_version": "1.2.0",
            "grid_template_areas": null,
            "object_position": null,
            "object_fit": null,
            "grid_auto_columns": null,
            "margin": null,
            "display": null,
            "left": null
          }
        },
        "39f8ce873a614f8c86bc939bef85f0d0": {
          "model_module": "@jupyter-widgets/controls",
          "model_name": "ProgressStyleModel",
          "model_module_version": "1.5.0",
          "state": {
            "_view_name": "StyleView",
            "_model_name": "ProgressStyleModel",
            "description_width": "",
            "_view_module": "@jupyter-widgets/base",
            "_model_module_version": "1.5.0",
            "_view_count": null,
            "_view_module_version": "1.2.0",
            "bar_color": null,
            "_model_module": "@jupyter-widgets/controls"
          }
        },
        "0290a65944284dbe9c3d008093dd79cc": {
          "model_module": "@jupyter-widgets/base",
          "model_name": "LayoutModel",
          "model_module_version": "1.2.0",
          "state": {
            "_view_name": "LayoutView",
            "grid_template_rows": null,
            "right": null,
            "justify_content": null,
            "_view_module": "@jupyter-widgets/base",
            "overflow": null,
            "_model_module_version": "1.2.0",
            "_view_count": null,
            "flex_flow": null,
            "width": null,
            "min_width": null,
            "border": null,
            "align_items": null,
            "bottom": null,
            "_model_module": "@jupyter-widgets/base",
            "top": null,
            "grid_column": null,
            "overflow_y": null,
            "overflow_x": null,
            "grid_auto_flow": null,
            "grid_area": null,
            "grid_template_columns": null,
            "flex": null,
            "_model_name": "LayoutModel",
            "justify_items": null,
            "grid_row": null,
            "max_height": null,
            "align_content": null,
            "visibility": null,
            "align_self": null,
            "height": null,
            "min_height": null,
            "padding": null,
            "grid_auto_rows": null,
            "grid_gap": null,
            "max_width": null,
            "order": null,
            "_view_module_version": "1.2.0",
            "grid_template_areas": null,
            "object_position": null,
            "object_fit": null,
            "grid_auto_columns": null,
            "margin": null,
            "display": null,
            "left": null
          }
        },
        "099b669acde24477ae03440a23003275": {
          "model_module": "@jupyter-widgets/controls",
          "model_name": "DescriptionStyleModel",
          "model_module_version": "1.5.0",
          "state": {
            "_view_name": "StyleView",
            "_model_name": "DescriptionStyleModel",
            "description_width": "",
            "_view_module": "@jupyter-widgets/base",
            "_model_module_version": "1.5.0",
            "_view_count": null,
            "_view_module_version": "1.2.0",
            "_model_module": "@jupyter-widgets/controls"
          }
        },
        "4716232563f146429d83ccb406bf62f7": {
          "model_module": "@jupyter-widgets/base",
          "model_name": "LayoutModel",
          "model_module_version": "1.2.0",
          "state": {
            "_view_name": "LayoutView",
            "grid_template_rows": null,
            "right": null,
            "justify_content": null,
            "_view_module": "@jupyter-widgets/base",
            "overflow": null,
            "_model_module_version": "1.2.0",
            "_view_count": null,
            "flex_flow": null,
            "width": null,
            "min_width": null,
            "border": null,
            "align_items": null,
            "bottom": null,
            "_model_module": "@jupyter-widgets/base",
            "top": null,
            "grid_column": null,
            "overflow_y": null,
            "overflow_x": null,
            "grid_auto_flow": null,
            "grid_area": null,
            "grid_template_columns": null,
            "flex": null,
            "_model_name": "LayoutModel",
            "justify_items": null,
            "grid_row": null,
            "max_height": null,
            "align_content": null,
            "visibility": null,
            "align_self": null,
            "height": null,
            "min_height": null,
            "padding": null,
            "grid_auto_rows": null,
            "grid_gap": null,
            "max_width": null,
            "order": null,
            "_view_module_version": "1.2.0",
            "grid_template_areas": null,
            "object_position": null,
            "object_fit": null,
            "grid_auto_columns": null,
            "margin": null,
            "display": null,
            "left": null
          }
        },
        "0341248ecc4043cda91083e91079aaca": {
          "model_module": "@jupyter-widgets/controls",
          "model_name": "HBoxModel",
          "model_module_version": "1.5.0",
          "state": {
            "_view_name": "HBoxView",
            "_dom_classes": [],
            "_model_name": "HBoxModel",
            "_view_module": "@jupyter-widgets/controls",
            "_model_module_version": "1.5.0",
            "_view_count": null,
            "_view_module_version": "1.5.0",
            "box_style": "",
            "layout": "IPY_MODEL_92a75033d2fc4927a178f20359f94c50",
            "_model_module": "@jupyter-widgets/controls",
            "children": [
              "IPY_MODEL_0f98d2c6914d42c38ba59e04c7d36ba6",
              "IPY_MODEL_61eaba104fdc4c34b79057e3040a16b2",
              "IPY_MODEL_5ec4df3cfe2a44068133dc6bb3921960"
            ]
          }
        },
        "92a75033d2fc4927a178f20359f94c50": {
          "model_module": "@jupyter-widgets/base",
          "model_name": "LayoutModel",
          "model_module_version": "1.2.0",
          "state": {
            "_view_name": "LayoutView",
            "grid_template_rows": null,
            "right": null,
            "justify_content": null,
            "_view_module": "@jupyter-widgets/base",
            "overflow": null,
            "_model_module_version": "1.2.0",
            "_view_count": null,
            "flex_flow": null,
            "width": null,
            "min_width": null,
            "border": null,
            "align_items": null,
            "bottom": null,
            "_model_module": "@jupyter-widgets/base",
            "top": null,
            "grid_column": null,
            "overflow_y": null,
            "overflow_x": null,
            "grid_auto_flow": null,
            "grid_area": null,
            "grid_template_columns": null,
            "flex": null,
            "_model_name": "LayoutModel",
            "justify_items": null,
            "grid_row": null,
            "max_height": null,
            "align_content": null,
            "visibility": null,
            "align_self": null,
            "height": null,
            "min_height": null,
            "padding": null,
            "grid_auto_rows": null,
            "grid_gap": null,
            "max_width": null,
            "order": null,
            "_view_module_version": "1.2.0",
            "grid_template_areas": null,
            "object_position": null,
            "object_fit": null,
            "grid_auto_columns": null,
            "margin": null,
            "display": null,
            "left": null
          }
        },
        "0f98d2c6914d42c38ba59e04c7d36ba6": {
          "model_module": "@jupyter-widgets/controls",
          "model_name": "HTMLModel",
          "model_module_version": "1.5.0",
          "state": {
            "_view_name": "HTMLView",
            "style": "IPY_MODEL_205b1b9942ff4007bf34e6aa0462cad5",
            "_dom_classes": [],
            "description": "",
            "_model_name": "HTMLModel",
            "placeholder": "​",
            "_view_module": "@jupyter-widgets/controls",
            "_model_module_version": "1.5.0",
            "value": "Downloading: 100%",
            "_view_count": null,
            "_view_module_version": "1.5.0",
            "description_tooltip": null,
            "_model_module": "@jupyter-widgets/controls",
            "layout": "IPY_MODEL_8c87dc6e8bcf4a17a8da9a31f0b80448"
          }
        },
        "61eaba104fdc4c34b79057e3040a16b2": {
          "model_module": "@jupyter-widgets/controls",
          "model_name": "FloatProgressModel",
          "model_module_version": "1.5.0",
          "state": {
            "_view_name": "ProgressView",
            "style": "IPY_MODEL_5de5dd8efd9b42628bec9f87dea51d7b",
            "_dom_classes": [],
            "description": "",
            "_model_name": "FloatProgressModel",
            "bar_style": "success",
            "max": 1389353,
            "_view_module": "@jupyter-widgets/controls",
            "_model_module_version": "1.5.0",
            "value": 1389353,
            "_view_count": null,
            "_view_module_version": "1.5.0",
            "orientation": "horizontal",
            "min": 0,
            "description_tooltip": null,
            "_model_module": "@jupyter-widgets/controls",
            "layout": "IPY_MODEL_f7fea71df11d4e738de8ec56f6a88195"
          }
        },
        "5ec4df3cfe2a44068133dc6bb3921960": {
          "model_module": "@jupyter-widgets/controls",
          "model_name": "HTMLModel",
          "model_module_version": "1.5.0",
          "state": {
            "_view_name": "HTMLView",
            "style": "IPY_MODEL_c6c9ebda4e5146b1b81ae2f0e6a3ac79",
            "_dom_classes": [],
            "description": "",
            "_model_name": "HTMLModel",
            "placeholder": "​",
            "_view_module": "@jupyter-widgets/controls",
            "_model_module_version": "1.5.0",
            "value": " 1.32M/1.32M [00:00&lt;00:00, 1.13MB/s]",
            "_view_count": null,
            "_view_module_version": "1.5.0",
            "description_tooltip": null,
            "_model_module": "@jupyter-widgets/controls",
            "layout": "IPY_MODEL_d6bbcc4b8d9948619233204b8b95effa"
          }
        },
        "205b1b9942ff4007bf34e6aa0462cad5": {
          "model_module": "@jupyter-widgets/controls",
          "model_name": "DescriptionStyleModel",
          "model_module_version": "1.5.0",
          "state": {
            "_view_name": "StyleView",
            "_model_name": "DescriptionStyleModel",
            "description_width": "",
            "_view_module": "@jupyter-widgets/base",
            "_model_module_version": "1.5.0",
            "_view_count": null,
            "_view_module_version": "1.2.0",
            "_model_module": "@jupyter-widgets/controls"
          }
        },
        "8c87dc6e8bcf4a17a8da9a31f0b80448": {
          "model_module": "@jupyter-widgets/base",
          "model_name": "LayoutModel",
          "model_module_version": "1.2.0",
          "state": {
            "_view_name": "LayoutView",
            "grid_template_rows": null,
            "right": null,
            "justify_content": null,
            "_view_module": "@jupyter-widgets/base",
            "overflow": null,
            "_model_module_version": "1.2.0",
            "_view_count": null,
            "flex_flow": null,
            "width": null,
            "min_width": null,
            "border": null,
            "align_items": null,
            "bottom": null,
            "_model_module": "@jupyter-widgets/base",
            "top": null,
            "grid_column": null,
            "overflow_y": null,
            "overflow_x": null,
            "grid_auto_flow": null,
            "grid_area": null,
            "grid_template_columns": null,
            "flex": null,
            "_model_name": "LayoutModel",
            "justify_items": null,
            "grid_row": null,
            "max_height": null,
            "align_content": null,
            "visibility": null,
            "align_self": null,
            "height": null,
            "min_height": null,
            "padding": null,
            "grid_auto_rows": null,
            "grid_gap": null,
            "max_width": null,
            "order": null,
            "_view_module_version": "1.2.0",
            "grid_template_areas": null,
            "object_position": null,
            "object_fit": null,
            "grid_auto_columns": null,
            "margin": null,
            "display": null,
            "left": null
          }
        },
        "5de5dd8efd9b42628bec9f87dea51d7b": {
          "model_module": "@jupyter-widgets/controls",
          "model_name": "ProgressStyleModel",
          "model_module_version": "1.5.0",
          "state": {
            "_view_name": "StyleView",
            "_model_name": "ProgressStyleModel",
            "description_width": "",
            "_view_module": "@jupyter-widgets/base",
            "_model_module_version": "1.5.0",
            "_view_count": null,
            "_view_module_version": "1.2.0",
            "bar_color": null,
            "_model_module": "@jupyter-widgets/controls"
          }
        },
        "f7fea71df11d4e738de8ec56f6a88195": {
          "model_module": "@jupyter-widgets/base",
          "model_name": "LayoutModel",
          "model_module_version": "1.2.0",
          "state": {
            "_view_name": "LayoutView",
            "grid_template_rows": null,
            "right": null,
            "justify_content": null,
            "_view_module": "@jupyter-widgets/base",
            "overflow": null,
            "_model_module_version": "1.2.0",
            "_view_count": null,
            "flex_flow": null,
            "width": null,
            "min_width": null,
            "border": null,
            "align_items": null,
            "bottom": null,
            "_model_module": "@jupyter-widgets/base",
            "top": null,
            "grid_column": null,
            "overflow_y": null,
            "overflow_x": null,
            "grid_auto_flow": null,
            "grid_area": null,
            "grid_template_columns": null,
            "flex": null,
            "_model_name": "LayoutModel",
            "justify_items": null,
            "grid_row": null,
            "max_height": null,
            "align_content": null,
            "visibility": null,
            "align_self": null,
            "height": null,
            "min_height": null,
            "padding": null,
            "grid_auto_rows": null,
            "grid_gap": null,
            "max_width": null,
            "order": null,
            "_view_module_version": "1.2.0",
            "grid_template_areas": null,
            "object_position": null,
            "object_fit": null,
            "grid_auto_columns": null,
            "margin": null,
            "display": null,
            "left": null
          }
        },
        "c6c9ebda4e5146b1b81ae2f0e6a3ac79": {
          "model_module": "@jupyter-widgets/controls",
          "model_name": "DescriptionStyleModel",
          "model_module_version": "1.5.0",
          "state": {
            "_view_name": "StyleView",
            "_model_name": "DescriptionStyleModel",
            "description_width": "",
            "_view_module": "@jupyter-widgets/base",
            "_model_module_version": "1.5.0",
            "_view_count": null,
            "_view_module_version": "1.2.0",
            "_model_module": "@jupyter-widgets/controls"
          }
        },
        "d6bbcc4b8d9948619233204b8b95effa": {
          "model_module": "@jupyter-widgets/base",
          "model_name": "LayoutModel",
          "model_module_version": "1.2.0",
          "state": {
            "_view_name": "LayoutView",
            "grid_template_rows": null,
            "right": null,
            "justify_content": null,
            "_view_module": "@jupyter-widgets/base",
            "overflow": null,
            "_model_module_version": "1.2.0",
            "_view_count": null,
            "flex_flow": null,
            "width": null,
            "min_width": null,
            "border": null,
            "align_items": null,
            "bottom": null,
            "_model_module": "@jupyter-widgets/base",
            "top": null,
            "grid_column": null,
            "overflow_y": null,
            "overflow_x": null,
            "grid_auto_flow": null,
            "grid_area": null,
            "grid_template_columns": null,
            "flex": null,
            "_model_name": "LayoutModel",
            "justify_items": null,
            "grid_row": null,
            "max_height": null,
            "align_content": null,
            "visibility": null,
            "align_self": null,
            "height": null,
            "min_height": null,
            "padding": null,
            "grid_auto_rows": null,
            "grid_gap": null,
            "max_width": null,
            "order": null,
            "_view_module_version": "1.2.0",
            "grid_template_areas": null,
            "object_position": null,
            "object_fit": null,
            "grid_auto_columns": null,
            "margin": null,
            "display": null,
            "left": null
          }
        },
        "d186b31ec56746e6b9369c155029c7bd": {
          "model_module": "@jupyter-widgets/controls",
          "model_name": "HBoxModel",
          "model_module_version": "1.5.0",
          "state": {
            "_view_name": "HBoxView",
            "_dom_classes": [],
            "_model_name": "HBoxModel",
            "_view_module": "@jupyter-widgets/controls",
            "_model_module_version": "1.5.0",
            "_view_count": null,
            "_view_module_version": "1.5.0",
            "box_style": "",
            "layout": "IPY_MODEL_cf859aeaaee3438e92b76f09406b29fc",
            "_model_module": "@jupyter-widgets/controls",
            "children": [
              "IPY_MODEL_62741b9c54d04e5295196fa579d122e4",
              "IPY_MODEL_563b4758e24346c394e032df359c98e0",
              "IPY_MODEL_16b574f5b8ab44cea94fd1e04751b865"
            ]
          }
        },
        "cf859aeaaee3438e92b76f09406b29fc": {
          "model_module": "@jupyter-widgets/base",
          "model_name": "LayoutModel",
          "model_module_version": "1.2.0",
          "state": {
            "_view_name": "LayoutView",
            "grid_template_rows": null,
            "right": null,
            "justify_content": null,
            "_view_module": "@jupyter-widgets/base",
            "overflow": null,
            "_model_module_version": "1.2.0",
            "_view_count": null,
            "flex_flow": null,
            "width": null,
            "min_width": null,
            "border": null,
            "align_items": null,
            "bottom": null,
            "_model_module": "@jupyter-widgets/base",
            "top": null,
            "grid_column": null,
            "overflow_y": null,
            "overflow_x": null,
            "grid_auto_flow": null,
            "grid_area": null,
            "grid_template_columns": null,
            "flex": null,
            "_model_name": "LayoutModel",
            "justify_items": null,
            "grid_row": null,
            "max_height": null,
            "align_content": null,
            "visibility": null,
            "align_self": null,
            "height": null,
            "min_height": null,
            "padding": null,
            "grid_auto_rows": null,
            "grid_gap": null,
            "max_width": null,
            "order": null,
            "_view_module_version": "1.2.0",
            "grid_template_areas": null,
            "object_position": null,
            "object_fit": null,
            "grid_auto_columns": null,
            "margin": null,
            "display": null,
            "left": null
          }
        },
        "62741b9c54d04e5295196fa579d122e4": {
          "model_module": "@jupyter-widgets/controls",
          "model_name": "HTMLModel",
          "model_module_version": "1.5.0",
          "state": {
            "_view_name": "HTMLView",
            "style": "IPY_MODEL_48aad3473f994293bb89f1a0b1d7a5d1",
            "_dom_classes": [],
            "description": "",
            "_model_name": "HTMLModel",
            "placeholder": "​",
            "_view_module": "@jupyter-widgets/controls",
            "_model_module_version": "1.5.0",
            "value": "Downloading: 100%",
            "_view_count": null,
            "_view_module_version": "1.5.0",
            "description_tooltip": null,
            "_model_module": "@jupyter-widgets/controls",
            "layout": "IPY_MODEL_32d1addc0d9f4c469b3b37f3f46828e1"
          }
        },
        "563b4758e24346c394e032df359c98e0": {
          "model_module": "@jupyter-widgets/controls",
          "model_name": "FloatProgressModel",
          "model_module_version": "1.5.0",
          "state": {
            "_view_name": "ProgressView",
            "style": "IPY_MODEL_465a457b73f043529dc694437dc9aaf9",
            "_dom_classes": [],
            "description": "",
            "_model_name": "FloatProgressModel",
            "bar_style": "success",
            "max": 748,
            "_view_module": "@jupyter-widgets/controls",
            "_model_module_version": "1.5.0",
            "value": 748,
            "_view_count": null,
            "_view_module_version": "1.5.0",
            "orientation": "horizontal",
            "min": 0,
            "description_tooltip": null,
            "_model_module": "@jupyter-widgets/controls",
            "layout": "IPY_MODEL_122674430271483da8cc6887e6685aba"
          }
        },
        "16b574f5b8ab44cea94fd1e04751b865": {
          "model_module": "@jupyter-widgets/controls",
          "model_name": "HTMLModel",
          "model_module_version": "1.5.0",
          "state": {
            "_view_name": "HTMLView",
            "style": "IPY_MODEL_36450fdf58ac497ba2dd8840f5e81257",
            "_dom_classes": [],
            "description": "",
            "_model_name": "HTMLModel",
            "placeholder": "​",
            "_view_module": "@jupyter-widgets/controls",
            "_model_module_version": "1.5.0",
            "value": " 748/748 [00:00&lt;00:00, 17.8kB/s]",
            "_view_count": null,
            "_view_module_version": "1.5.0",
            "description_tooltip": null,
            "_model_module": "@jupyter-widgets/controls",
            "layout": "IPY_MODEL_faaa77e232774c0ea53b6c54baf3cce1"
          }
        },
        "48aad3473f994293bb89f1a0b1d7a5d1": {
          "model_module": "@jupyter-widgets/controls",
          "model_name": "DescriptionStyleModel",
          "model_module_version": "1.5.0",
          "state": {
            "_view_name": "StyleView",
            "_model_name": "DescriptionStyleModel",
            "description_width": "",
            "_view_module": "@jupyter-widgets/base",
            "_model_module_version": "1.5.0",
            "_view_count": null,
            "_view_module_version": "1.2.0",
            "_model_module": "@jupyter-widgets/controls"
          }
        },
        "32d1addc0d9f4c469b3b37f3f46828e1": {
          "model_module": "@jupyter-widgets/base",
          "model_name": "LayoutModel",
          "model_module_version": "1.2.0",
          "state": {
            "_view_name": "LayoutView",
            "grid_template_rows": null,
            "right": null,
            "justify_content": null,
            "_view_module": "@jupyter-widgets/base",
            "overflow": null,
            "_model_module_version": "1.2.0",
            "_view_count": null,
            "flex_flow": null,
            "width": null,
            "min_width": null,
            "border": null,
            "align_items": null,
            "bottom": null,
            "_model_module": "@jupyter-widgets/base",
            "top": null,
            "grid_column": null,
            "overflow_y": null,
            "overflow_x": null,
            "grid_auto_flow": null,
            "grid_area": null,
            "grid_template_columns": null,
            "flex": null,
            "_model_name": "LayoutModel",
            "justify_items": null,
            "grid_row": null,
            "max_height": null,
            "align_content": null,
            "visibility": null,
            "align_self": null,
            "height": null,
            "min_height": null,
            "padding": null,
            "grid_auto_rows": null,
            "grid_gap": null,
            "max_width": null,
            "order": null,
            "_view_module_version": "1.2.0",
            "grid_template_areas": null,
            "object_position": null,
            "object_fit": null,
            "grid_auto_columns": null,
            "margin": null,
            "display": null,
            "left": null
          }
        },
        "465a457b73f043529dc694437dc9aaf9": {
          "model_module": "@jupyter-widgets/controls",
          "model_name": "ProgressStyleModel",
          "model_module_version": "1.5.0",
          "state": {
            "_view_name": "StyleView",
            "_model_name": "ProgressStyleModel",
            "description_width": "",
            "_view_module": "@jupyter-widgets/base",
            "_model_module_version": "1.5.0",
            "_view_count": null,
            "_view_module_version": "1.2.0",
            "bar_color": null,
            "_model_module": "@jupyter-widgets/controls"
          }
        },
        "122674430271483da8cc6887e6685aba": {
          "model_module": "@jupyter-widgets/base",
          "model_name": "LayoutModel",
          "model_module_version": "1.2.0",
          "state": {
            "_view_name": "LayoutView",
            "grid_template_rows": null,
            "right": null,
            "justify_content": null,
            "_view_module": "@jupyter-widgets/base",
            "overflow": null,
            "_model_module_version": "1.2.0",
            "_view_count": null,
            "flex_flow": null,
            "width": null,
            "min_width": null,
            "border": null,
            "align_items": null,
            "bottom": null,
            "_model_module": "@jupyter-widgets/base",
            "top": null,
            "grid_column": null,
            "overflow_y": null,
            "overflow_x": null,
            "grid_auto_flow": null,
            "grid_area": null,
            "grid_template_columns": null,
            "flex": null,
            "_model_name": "LayoutModel",
            "justify_items": null,
            "grid_row": null,
            "max_height": null,
            "align_content": null,
            "visibility": null,
            "align_self": null,
            "height": null,
            "min_height": null,
            "padding": null,
            "grid_auto_rows": null,
            "grid_gap": null,
            "max_width": null,
            "order": null,
            "_view_module_version": "1.2.0",
            "grid_template_areas": null,
            "object_position": null,
            "object_fit": null,
            "grid_auto_columns": null,
            "margin": null,
            "display": null,
            "left": null
          }
        },
        "36450fdf58ac497ba2dd8840f5e81257": {
          "model_module": "@jupyter-widgets/controls",
          "model_name": "DescriptionStyleModel",
          "model_module_version": "1.5.0",
          "state": {
            "_view_name": "StyleView",
            "_model_name": "DescriptionStyleModel",
            "description_width": "",
            "_view_module": "@jupyter-widgets/base",
            "_model_module_version": "1.5.0",
            "_view_count": null,
            "_view_module_version": "1.2.0",
            "_model_module": "@jupyter-widgets/controls"
          }
        },
        "faaa77e232774c0ea53b6c54baf3cce1": {
          "model_module": "@jupyter-widgets/base",
          "model_name": "LayoutModel",
          "model_module_version": "1.2.0",
          "state": {
            "_view_name": "LayoutView",
            "grid_template_rows": null,
            "right": null,
            "justify_content": null,
            "_view_module": "@jupyter-widgets/base",
            "overflow": null,
            "_model_module_version": "1.2.0",
            "_view_count": null,
            "flex_flow": null,
            "width": null,
            "min_width": null,
            "border": null,
            "align_items": null,
            "bottom": null,
            "_model_module": "@jupyter-widgets/base",
            "top": null,
            "grid_column": null,
            "overflow_y": null,
            "overflow_x": null,
            "grid_auto_flow": null,
            "grid_area": null,
            "grid_template_columns": null,
            "flex": null,
            "_model_name": "LayoutModel",
            "justify_items": null,
            "grid_row": null,
            "max_height": null,
            "align_content": null,
            "visibility": null,
            "align_self": null,
            "height": null,
            "min_height": null,
            "padding": null,
            "grid_auto_rows": null,
            "grid_gap": null,
            "max_width": null,
            "order": null,
            "_view_module_version": "1.2.0",
            "grid_template_areas": null,
            "object_position": null,
            "object_fit": null,
            "grid_auto_columns": null,
            "margin": null,
            "display": null,
            "left": null
          }
        },
        "ef3fa3a43f7848a08d17ef9051ac1793": {
          "model_module": "@jupyter-widgets/controls",
          "model_name": "HBoxModel",
          "model_module_version": "1.5.0",
          "state": {
            "_view_name": "HBoxView",
            "_dom_classes": [],
            "_model_name": "HBoxModel",
            "_view_module": "@jupyter-widgets/controls",
            "_model_module_version": "1.5.0",
            "_view_count": null,
            "_view_module_version": "1.5.0",
            "box_style": "",
            "layout": "IPY_MODEL_0c4037a94dd2486b8645346fc2a54f24",
            "_model_module": "@jupyter-widgets/controls",
            "children": [
              "IPY_MODEL_b4a8c1d04d2b4e41836f47e935f4d14a",
              "IPY_MODEL_1c41d182138843699a079f60131acf03",
              "IPY_MODEL_3d1a2b25166d4ba79e149a72b58756de"
            ]
          }
        },
        "0c4037a94dd2486b8645346fc2a54f24": {
          "model_module": "@jupyter-widgets/base",
          "model_name": "LayoutModel",
          "model_module_version": "1.2.0",
          "state": {
            "_view_name": "LayoutView",
            "grid_template_rows": null,
            "right": null,
            "justify_content": null,
            "_view_module": "@jupyter-widgets/base",
            "overflow": null,
            "_model_module_version": "1.2.0",
            "_view_count": null,
            "flex_flow": null,
            "width": null,
            "min_width": null,
            "border": null,
            "align_items": null,
            "bottom": null,
            "_model_module": "@jupyter-widgets/base",
            "top": null,
            "grid_column": null,
            "overflow_y": null,
            "overflow_x": null,
            "grid_auto_flow": null,
            "grid_area": null,
            "grid_template_columns": null,
            "flex": null,
            "_model_name": "LayoutModel",
            "justify_items": null,
            "grid_row": null,
            "max_height": null,
            "align_content": null,
            "visibility": null,
            "align_self": null,
            "height": null,
            "min_height": null,
            "padding": null,
            "grid_auto_rows": null,
            "grid_gap": null,
            "max_width": null,
            "order": null,
            "_view_module_version": "1.2.0",
            "grid_template_areas": null,
            "object_position": null,
            "object_fit": null,
            "grid_auto_columns": null,
            "margin": null,
            "display": null,
            "left": null
          }
        },
        "b4a8c1d04d2b4e41836f47e935f4d14a": {
          "model_module": "@jupyter-widgets/controls",
          "model_name": "HTMLModel",
          "model_module_version": "1.5.0",
          "state": {
            "_view_name": "HTMLView",
            "style": "IPY_MODEL_047bfda1f68a4036b1f1b39e5ea6ebca",
            "_dom_classes": [],
            "description": "",
            "_model_name": "HTMLModel",
            "placeholder": "​",
            "_view_module": "@jupyter-widgets/controls",
            "_model_module_version": "1.5.0",
            "value": "Downloading: 100%",
            "_view_count": null,
            "_view_module_version": "1.5.0",
            "description_tooltip": null,
            "_model_module": "@jupyter-widgets/controls",
            "layout": "IPY_MODEL_1a122c9347bd498b8e092c0a260d5018"
          }
        },
        "1c41d182138843699a079f60131acf03": {
          "model_module": "@jupyter-widgets/controls",
          "model_name": "FloatProgressModel",
          "model_module_version": "1.5.0",
          "state": {
            "_view_name": "ProgressView",
            "style": "IPY_MODEL_2e62ce2396b74ce2bec58be02ff3726b",
            "_dom_classes": [],
            "description": "",
            "_model_name": "FloatProgressModel",
            "bar_style": "success",
            "max": 3922,
            "_view_module": "@jupyter-widgets/controls",
            "_model_module_version": "1.5.0",
            "value": 3922,
            "_view_count": null,
            "_view_module_version": "1.5.0",
            "orientation": "horizontal",
            "min": 0,
            "description_tooltip": null,
            "_model_module": "@jupyter-widgets/controls",
            "layout": "IPY_MODEL_dbb79b690a5546989ff5f27582d0d056"
          }
        },
        "3d1a2b25166d4ba79e149a72b58756de": {
          "model_module": "@jupyter-widgets/controls",
          "model_name": "HTMLModel",
          "model_module_version": "1.5.0",
          "state": {
            "_view_name": "HTMLView",
            "style": "IPY_MODEL_4c022f5f2b094dba845f00736154cf23",
            "_dom_classes": [],
            "description": "",
            "_model_name": "HTMLModel",
            "placeholder": "​",
            "_view_module": "@jupyter-widgets/controls",
            "_model_module_version": "1.5.0",
            "value": " 3.92k/3.92k [00:00&lt;00:00, 68.1kB/s]",
            "_view_count": null,
            "_view_module_version": "1.5.0",
            "description_tooltip": null,
            "_model_module": "@jupyter-widgets/controls",
            "layout": "IPY_MODEL_a93873aa733c4a21b891dc3a0570da22"
          }
        },
        "047bfda1f68a4036b1f1b39e5ea6ebca": {
          "model_module": "@jupyter-widgets/controls",
          "model_name": "DescriptionStyleModel",
          "model_module_version": "1.5.0",
          "state": {
            "_view_name": "StyleView",
            "_model_name": "DescriptionStyleModel",
            "description_width": "",
            "_view_module": "@jupyter-widgets/base",
            "_model_module_version": "1.5.0",
            "_view_count": null,
            "_view_module_version": "1.2.0",
            "_model_module": "@jupyter-widgets/controls"
          }
        },
        "1a122c9347bd498b8e092c0a260d5018": {
          "model_module": "@jupyter-widgets/base",
          "model_name": "LayoutModel",
          "model_module_version": "1.2.0",
          "state": {
            "_view_name": "LayoutView",
            "grid_template_rows": null,
            "right": null,
            "justify_content": null,
            "_view_module": "@jupyter-widgets/base",
            "overflow": null,
            "_model_module_version": "1.2.0",
            "_view_count": null,
            "flex_flow": null,
            "width": null,
            "min_width": null,
            "border": null,
            "align_items": null,
            "bottom": null,
            "_model_module": "@jupyter-widgets/base",
            "top": null,
            "grid_column": null,
            "overflow_y": null,
            "overflow_x": null,
            "grid_auto_flow": null,
            "grid_area": null,
            "grid_template_columns": null,
            "flex": null,
            "_model_name": "LayoutModel",
            "justify_items": null,
            "grid_row": null,
            "max_height": null,
            "align_content": null,
            "visibility": null,
            "align_self": null,
            "height": null,
            "min_height": null,
            "padding": null,
            "grid_auto_rows": null,
            "grid_gap": null,
            "max_width": null,
            "order": null,
            "_view_module_version": "1.2.0",
            "grid_template_areas": null,
            "object_position": null,
            "object_fit": null,
            "grid_auto_columns": null,
            "margin": null,
            "display": null,
            "left": null
          }
        },
        "2e62ce2396b74ce2bec58be02ff3726b": {
          "model_module": "@jupyter-widgets/controls",
          "model_name": "ProgressStyleModel",
          "model_module_version": "1.5.0",
          "state": {
            "_view_name": "StyleView",
            "_model_name": "ProgressStyleModel",
            "description_width": "",
            "_view_module": "@jupyter-widgets/base",
            "_model_module_version": "1.5.0",
            "_view_count": null,
            "_view_module_version": "1.2.0",
            "bar_color": null,
            "_model_module": "@jupyter-widgets/controls"
          }
        },
        "dbb79b690a5546989ff5f27582d0d056": {
          "model_module": "@jupyter-widgets/base",
          "model_name": "LayoutModel",
          "model_module_version": "1.2.0",
          "state": {
            "_view_name": "LayoutView",
            "grid_template_rows": null,
            "right": null,
            "justify_content": null,
            "_view_module": "@jupyter-widgets/base",
            "overflow": null,
            "_model_module_version": "1.2.0",
            "_view_count": null,
            "flex_flow": null,
            "width": null,
            "min_width": null,
            "border": null,
            "align_items": null,
            "bottom": null,
            "_model_module": "@jupyter-widgets/base",
            "top": null,
            "grid_column": null,
            "overflow_y": null,
            "overflow_x": null,
            "grid_auto_flow": null,
            "grid_area": null,
            "grid_template_columns": null,
            "flex": null,
            "_model_name": "LayoutModel",
            "justify_items": null,
            "grid_row": null,
            "max_height": null,
            "align_content": null,
            "visibility": null,
            "align_self": null,
            "height": null,
            "min_height": null,
            "padding": null,
            "grid_auto_rows": null,
            "grid_gap": null,
            "max_width": null,
            "order": null,
            "_view_module_version": "1.2.0",
            "grid_template_areas": null,
            "object_position": null,
            "object_fit": null,
            "grid_auto_columns": null,
            "margin": null,
            "display": null,
            "left": null
          }
        },
        "4c022f5f2b094dba845f00736154cf23": {
          "model_module": "@jupyter-widgets/controls",
          "model_name": "DescriptionStyleModel",
          "model_module_version": "1.5.0",
          "state": {
            "_view_name": "StyleView",
            "_model_name": "DescriptionStyleModel",
            "description_width": "",
            "_view_module": "@jupyter-widgets/base",
            "_model_module_version": "1.5.0",
            "_view_count": null,
            "_view_module_version": "1.2.0",
            "_model_module": "@jupyter-widgets/controls"
          }
        },
        "a93873aa733c4a21b891dc3a0570da22": {
          "model_module": "@jupyter-widgets/base",
          "model_name": "LayoutModel",
          "model_module_version": "1.2.0",
          "state": {
            "_view_name": "LayoutView",
            "grid_template_rows": null,
            "right": null,
            "justify_content": null,
            "_view_module": "@jupyter-widgets/base",
            "overflow": null,
            "_model_module_version": "1.2.0",
            "_view_count": null,
            "flex_flow": null,
            "width": null,
            "min_width": null,
            "border": null,
            "align_items": null,
            "bottom": null,
            "_model_module": "@jupyter-widgets/base",
            "top": null,
            "grid_column": null,
            "overflow_y": null,
            "overflow_x": null,
            "grid_auto_flow": null,
            "grid_area": null,
            "grid_template_columns": null,
            "flex": null,
            "_model_name": "LayoutModel",
            "justify_items": null,
            "grid_row": null,
            "max_height": null,
            "align_content": null,
            "visibility": null,
            "align_self": null,
            "height": null,
            "min_height": null,
            "padding": null,
            "grid_auto_rows": null,
            "grid_gap": null,
            "max_width": null,
            "order": null,
            "_view_module_version": "1.2.0",
            "grid_template_areas": null,
            "object_position": null,
            "object_fit": null,
            "grid_auto_columns": null,
            "margin": null,
            "display": null,
            "left": null
          }
        },
        "d54bef50eec74076a22156eac8deeaee": {
          "model_module": "@jupyter-widgets/controls",
          "model_name": "HBoxModel",
          "model_module_version": "1.5.0",
          "state": {
            "_view_name": "HBoxView",
            "_dom_classes": [],
            "_model_name": "HBoxModel",
            "_view_module": "@jupyter-widgets/controls",
            "_model_module_version": "1.5.0",
            "_view_count": null,
            "_view_module_version": "1.5.0",
            "box_style": "",
            "layout": "IPY_MODEL_662d12ab6e8d4989b03cdbf3a1b4f2b2",
            "_model_module": "@jupyter-widgets/controls",
            "children": [
              "IPY_MODEL_4b0bd1cf62354981a7eb4dd2ff87ab8d",
              "IPY_MODEL_5767ef30f8894e4db7e63b5577678cb6",
              "IPY_MODEL_bc55e0894a924340a9f8b2c3fe49b159"
            ]
          }
        },
        "662d12ab6e8d4989b03cdbf3a1b4f2b2": {
          "model_module": "@jupyter-widgets/base",
          "model_name": "LayoutModel",
          "model_module_version": "1.2.0",
          "state": {
            "_view_name": "LayoutView",
            "grid_template_rows": null,
            "right": null,
            "justify_content": null,
            "_view_module": "@jupyter-widgets/base",
            "overflow": null,
            "_model_module_version": "1.2.0",
            "_view_count": null,
            "flex_flow": null,
            "width": null,
            "min_width": null,
            "border": null,
            "align_items": null,
            "bottom": null,
            "_model_module": "@jupyter-widgets/base",
            "top": null,
            "grid_column": null,
            "overflow_y": null,
            "overflow_x": null,
            "grid_auto_flow": null,
            "grid_area": null,
            "grid_template_columns": null,
            "flex": null,
            "_model_name": "LayoutModel",
            "justify_items": null,
            "grid_row": null,
            "max_height": null,
            "align_content": null,
            "visibility": null,
            "align_self": null,
            "height": null,
            "min_height": null,
            "padding": null,
            "grid_auto_rows": null,
            "grid_gap": null,
            "max_width": null,
            "order": null,
            "_view_module_version": "1.2.0",
            "grid_template_areas": null,
            "object_position": null,
            "object_fit": null,
            "grid_auto_columns": null,
            "margin": null,
            "display": null,
            "left": null
          }
        },
        "4b0bd1cf62354981a7eb4dd2ff87ab8d": {
          "model_module": "@jupyter-widgets/controls",
          "model_name": "HTMLModel",
          "model_module_version": "1.5.0",
          "state": {
            "_view_name": "HTMLView",
            "style": "IPY_MODEL_7b31b939790043fe97ed7939bf98fabc",
            "_dom_classes": [],
            "description": "",
            "_model_name": "HTMLModel",
            "placeholder": "​",
            "_view_module": "@jupyter-widgets/controls",
            "_model_module_version": "1.5.0",
            "value": "Downloading: 100%",
            "_view_count": null,
            "_view_module_version": "1.5.0",
            "description_tooltip": null,
            "_model_module": "@jupyter-widgets/controls",
            "layout": "IPY_MODEL_d115d9257da94e52a59fbfd60543f19c"
          }
        },
        "5767ef30f8894e4db7e63b5577678cb6": {
          "model_module": "@jupyter-widgets/controls",
          "model_name": "FloatProgressModel",
          "model_module_version": "1.5.0",
          "state": {
            "_view_name": "ProgressView",
            "style": "IPY_MODEL_9aea6a095fc0497d897fc6dddeabf4a5",
            "_dom_classes": [],
            "description": "",
            "_model_name": "FloatProgressModel",
            "bar_style": "success",
            "max": 2,
            "_view_module": "@jupyter-widgets/controls",
            "_model_module_version": "1.5.0",
            "value": 2,
            "_view_count": null,
            "_view_module_version": "1.5.0",
            "orientation": "horizontal",
            "min": 0,
            "description_tooltip": null,
            "_model_module": "@jupyter-widgets/controls",
            "layout": "IPY_MODEL_0a68d3b5d2f94be487313c673b4c7a14"
          }
        },
        "bc55e0894a924340a9f8b2c3fe49b159": {
          "model_module": "@jupyter-widgets/controls",
          "model_name": "HTMLModel",
          "model_module_version": "1.5.0",
          "state": {
            "_view_name": "HTMLView",
            "style": "IPY_MODEL_1069df4941194447916cc4b585148190",
            "_dom_classes": [],
            "description": "",
            "_model_name": "HTMLModel",
            "placeholder": "​",
            "_view_module": "@jupyter-widgets/controls",
            "_model_module_version": "1.5.0",
            "value": " 2.00/2.00 [00:00&lt;00:00, 45.5B/s]",
            "_view_count": null,
            "_view_module_version": "1.5.0",
            "description_tooltip": null,
            "_model_module": "@jupyter-widgets/controls",
            "layout": "IPY_MODEL_074268c6964140ac9ad1fd90e2de25ea"
          }
        },
        "7b31b939790043fe97ed7939bf98fabc": {
          "model_module": "@jupyter-widgets/controls",
          "model_name": "DescriptionStyleModel",
          "model_module_version": "1.5.0",
          "state": {
            "_view_name": "StyleView",
            "_model_name": "DescriptionStyleModel",
            "description_width": "",
            "_view_module": "@jupyter-widgets/base",
            "_model_module_version": "1.5.0",
            "_view_count": null,
            "_view_module_version": "1.2.0",
            "_model_module": "@jupyter-widgets/controls"
          }
        },
        "d115d9257da94e52a59fbfd60543f19c": {
          "model_module": "@jupyter-widgets/base",
          "model_name": "LayoutModel",
          "model_module_version": "1.2.0",
          "state": {
            "_view_name": "LayoutView",
            "grid_template_rows": null,
            "right": null,
            "justify_content": null,
            "_view_module": "@jupyter-widgets/base",
            "overflow": null,
            "_model_module_version": "1.2.0",
            "_view_count": null,
            "flex_flow": null,
            "width": null,
            "min_width": null,
            "border": null,
            "align_items": null,
            "bottom": null,
            "_model_module": "@jupyter-widgets/base",
            "top": null,
            "grid_column": null,
            "overflow_y": null,
            "overflow_x": null,
            "grid_auto_flow": null,
            "grid_area": null,
            "grid_template_columns": null,
            "flex": null,
            "_model_name": "LayoutModel",
            "justify_items": null,
            "grid_row": null,
            "max_height": null,
            "align_content": null,
            "visibility": null,
            "align_self": null,
            "height": null,
            "min_height": null,
            "padding": null,
            "grid_auto_rows": null,
            "grid_gap": null,
            "max_width": null,
            "order": null,
            "_view_module_version": "1.2.0",
            "grid_template_areas": null,
            "object_position": null,
            "object_fit": null,
            "grid_auto_columns": null,
            "margin": null,
            "display": null,
            "left": null
          }
        },
        "9aea6a095fc0497d897fc6dddeabf4a5": {
          "model_module": "@jupyter-widgets/controls",
          "model_name": "ProgressStyleModel",
          "model_module_version": "1.5.0",
          "state": {
            "_view_name": "StyleView",
            "_model_name": "ProgressStyleModel",
            "description_width": "",
            "_view_module": "@jupyter-widgets/base",
            "_model_module_version": "1.5.0",
            "_view_count": null,
            "_view_module_version": "1.2.0",
            "bar_color": null,
            "_model_module": "@jupyter-widgets/controls"
          }
        },
        "0a68d3b5d2f94be487313c673b4c7a14": {
          "model_module": "@jupyter-widgets/base",
          "model_name": "LayoutModel",
          "model_module_version": "1.2.0",
          "state": {
            "_view_name": "LayoutView",
            "grid_template_rows": null,
            "right": null,
            "justify_content": null,
            "_view_module": "@jupyter-widgets/base",
            "overflow": null,
            "_model_module_version": "1.2.0",
            "_view_count": null,
            "flex_flow": null,
            "width": null,
            "min_width": null,
            "border": null,
            "align_items": null,
            "bottom": null,
            "_model_module": "@jupyter-widgets/base",
            "top": null,
            "grid_column": null,
            "overflow_y": null,
            "overflow_x": null,
            "grid_auto_flow": null,
            "grid_area": null,
            "grid_template_columns": null,
            "flex": null,
            "_model_name": "LayoutModel",
            "justify_items": null,
            "grid_row": null,
            "max_height": null,
            "align_content": null,
            "visibility": null,
            "align_self": null,
            "height": null,
            "min_height": null,
            "padding": null,
            "grid_auto_rows": null,
            "grid_gap": null,
            "max_width": null,
            "order": null,
            "_view_module_version": "1.2.0",
            "grid_template_areas": null,
            "object_position": null,
            "object_fit": null,
            "grid_auto_columns": null,
            "margin": null,
            "display": null,
            "left": null
          }
        },
        "1069df4941194447916cc4b585148190": {
          "model_module": "@jupyter-widgets/controls",
          "model_name": "DescriptionStyleModel",
          "model_module_version": "1.5.0",
          "state": {
            "_view_name": "StyleView",
            "_model_name": "DescriptionStyleModel",
            "description_width": "",
            "_view_module": "@jupyter-widgets/base",
            "_model_module_version": "1.5.0",
            "_view_count": null,
            "_view_module_version": "1.2.0",
            "_model_module": "@jupyter-widgets/controls"
          }
        },
        "074268c6964140ac9ad1fd90e2de25ea": {
          "model_module": "@jupyter-widgets/base",
          "model_name": "LayoutModel",
          "model_module_version": "1.2.0",
          "state": {
            "_view_name": "LayoutView",
            "grid_template_rows": null,
            "right": null,
            "justify_content": null,
            "_view_module": "@jupyter-widgets/base",
            "overflow": null,
            "_model_module_version": "1.2.0",
            "_view_count": null,
            "flex_flow": null,
            "width": null,
            "min_width": null,
            "border": null,
            "align_items": null,
            "bottom": null,
            "_model_module": "@jupyter-widgets/base",
            "top": null,
            "grid_column": null,
            "overflow_y": null,
            "overflow_x": null,
            "grid_auto_flow": null,
            "grid_area": null,
            "grid_template_columns": null,
            "flex": null,
            "_model_name": "LayoutModel",
            "justify_items": null,
            "grid_row": null,
            "max_height": null,
            "align_content": null,
            "visibility": null,
            "align_self": null,
            "height": null,
            "min_height": null,
            "padding": null,
            "grid_auto_rows": null,
            "grid_gap": null,
            "max_width": null,
            "order": null,
            "_view_module_version": "1.2.0",
            "grid_template_areas": null,
            "object_position": null,
            "object_fit": null,
            "grid_auto_columns": null,
            "margin": null,
            "display": null,
            "left": null
          }
        },
        "70336bc076ef48389b4fda0e73005e56": {
          "model_module": "@jupyter-widgets/controls",
          "model_name": "HBoxModel",
          "model_module_version": "1.5.0",
          "state": {
            "_view_name": "HBoxView",
            "_dom_classes": [],
            "_model_name": "HBoxModel",
            "_view_module": "@jupyter-widgets/controls",
            "_model_module_version": "1.5.0",
            "_view_count": null,
            "_view_module_version": "1.5.0",
            "box_style": "",
            "layout": "IPY_MODEL_a602a4c7c4cc42a0acccc3cc500ea92c",
            "_model_module": "@jupyter-widgets/controls",
            "children": [
              "IPY_MODEL_93db07804be44a40b72834d0a11ea156",
              "IPY_MODEL_6851fde16b0a486385275aa5d60c4ca8",
              "IPY_MODEL_1eaf6584615b4d199b9328ff6b1241f4"
            ]
          }
        },
        "a602a4c7c4cc42a0acccc3cc500ea92c": {
          "model_module": "@jupyter-widgets/base",
          "model_name": "LayoutModel",
          "model_module_version": "1.2.0",
          "state": {
            "_view_name": "LayoutView",
            "grid_template_rows": null,
            "right": null,
            "justify_content": null,
            "_view_module": "@jupyter-widgets/base",
            "overflow": null,
            "_model_module_version": "1.2.0",
            "_view_count": null,
            "flex_flow": null,
            "width": null,
            "min_width": null,
            "border": null,
            "align_items": null,
            "bottom": null,
            "_model_module": "@jupyter-widgets/base",
            "top": null,
            "grid_column": null,
            "overflow_y": null,
            "overflow_x": null,
            "grid_auto_flow": null,
            "grid_area": null,
            "grid_template_columns": null,
            "flex": null,
            "_model_name": "LayoutModel",
            "justify_items": null,
            "grid_row": null,
            "max_height": null,
            "align_content": null,
            "visibility": null,
            "align_self": null,
            "height": null,
            "min_height": null,
            "padding": null,
            "grid_auto_rows": null,
            "grid_gap": null,
            "max_width": null,
            "order": null,
            "_view_module_version": "1.2.0",
            "grid_template_areas": null,
            "object_position": null,
            "object_fit": null,
            "grid_auto_columns": null,
            "margin": null,
            "display": null,
            "left": null
          }
        },
        "93db07804be44a40b72834d0a11ea156": {
          "model_module": "@jupyter-widgets/controls",
          "model_name": "HTMLModel",
          "model_module_version": "1.5.0",
          "state": {
            "_view_name": "HTMLView",
            "style": "IPY_MODEL_1f391ca703444bd9af8e6ca2f51ec532",
            "_dom_classes": [],
            "description": "",
            "_model_name": "HTMLModel",
            "placeholder": "​",
            "_view_module": "@jupyter-widgets/controls",
            "_model_module_version": "1.5.0",
            "value": "Downloading: 100%",
            "_view_count": null,
            "_view_module_version": "1.5.0",
            "description_tooltip": null,
            "_model_module": "@jupyter-widgets/controls",
            "layout": "IPY_MODEL_4257c0540eb245b5b8cd7f105dc47e55"
          }
        },
        "6851fde16b0a486385275aa5d60c4ca8": {
          "model_module": "@jupyter-widgets/controls",
          "model_name": "FloatProgressModel",
          "model_module_version": "1.5.0",
          "state": {
            "_view_name": "ProgressView",
            "style": "IPY_MODEL_5841777be15e4dce8e3b4287e82305fb",
            "_dom_classes": [],
            "description": "",
            "_model_name": "FloatProgressModel",
            "bar_style": "success",
            "max": 674,
            "_view_module": "@jupyter-widgets/controls",
            "_model_module_version": "1.5.0",
            "value": 674,
            "_view_count": null,
            "_view_module_version": "1.5.0",
            "orientation": "horizontal",
            "min": 0,
            "description_tooltip": null,
            "_model_module": "@jupyter-widgets/controls",
            "layout": "IPY_MODEL_4c81390344c947d5af01beb471198133"
          }
        },
        "1eaf6584615b4d199b9328ff6b1241f4": {
          "model_module": "@jupyter-widgets/controls",
          "model_name": "HTMLModel",
          "model_module_version": "1.5.0",
          "state": {
            "_view_name": "HTMLView",
            "style": "IPY_MODEL_6df049039e4049a2ab15c1180d1587b6",
            "_dom_classes": [],
            "description": "",
            "_model_name": "HTMLModel",
            "placeholder": "​",
            "_view_module": "@jupyter-widgets/controls",
            "_model_module_version": "1.5.0",
            "value": " 674/674 [00:00&lt;00:00, 12.5kB/s]",
            "_view_count": null,
            "_view_module_version": "1.5.0",
            "description_tooltip": null,
            "_model_module": "@jupyter-widgets/controls",
            "layout": "IPY_MODEL_8089ba7648014bb29c5cd822594de9b0"
          }
        },
        "1f391ca703444bd9af8e6ca2f51ec532": {
          "model_module": "@jupyter-widgets/controls",
          "model_name": "DescriptionStyleModel",
          "model_module_version": "1.5.0",
          "state": {
            "_view_name": "StyleView",
            "_model_name": "DescriptionStyleModel",
            "description_width": "",
            "_view_module": "@jupyter-widgets/base",
            "_model_module_version": "1.5.0",
            "_view_count": null,
            "_view_module_version": "1.2.0",
            "_model_module": "@jupyter-widgets/controls"
          }
        },
        "4257c0540eb245b5b8cd7f105dc47e55": {
          "model_module": "@jupyter-widgets/base",
          "model_name": "LayoutModel",
          "model_module_version": "1.2.0",
          "state": {
            "_view_name": "LayoutView",
            "grid_template_rows": null,
            "right": null,
            "justify_content": null,
            "_view_module": "@jupyter-widgets/base",
            "overflow": null,
            "_model_module_version": "1.2.0",
            "_view_count": null,
            "flex_flow": null,
            "width": null,
            "min_width": null,
            "border": null,
            "align_items": null,
            "bottom": null,
            "_model_module": "@jupyter-widgets/base",
            "top": null,
            "grid_column": null,
            "overflow_y": null,
            "overflow_x": null,
            "grid_auto_flow": null,
            "grid_area": null,
            "grid_template_columns": null,
            "flex": null,
            "_model_name": "LayoutModel",
            "justify_items": null,
            "grid_row": null,
            "max_height": null,
            "align_content": null,
            "visibility": null,
            "align_self": null,
            "height": null,
            "min_height": null,
            "padding": null,
            "grid_auto_rows": null,
            "grid_gap": null,
            "max_width": null,
            "order": null,
            "_view_module_version": "1.2.0",
            "grid_template_areas": null,
            "object_position": null,
            "object_fit": null,
            "grid_auto_columns": null,
            "margin": null,
            "display": null,
            "left": null
          }
        },
        "5841777be15e4dce8e3b4287e82305fb": {
          "model_module": "@jupyter-widgets/controls",
          "model_name": "ProgressStyleModel",
          "model_module_version": "1.5.0",
          "state": {
            "_view_name": "StyleView",
            "_model_name": "ProgressStyleModel",
            "description_width": "",
            "_view_module": "@jupyter-widgets/base",
            "_model_module_version": "1.5.0",
            "_view_count": null,
            "_view_module_version": "1.2.0",
            "bar_color": null,
            "_model_module": "@jupyter-widgets/controls"
          }
        },
        "4c81390344c947d5af01beb471198133": {
          "model_module": "@jupyter-widgets/base",
          "model_name": "LayoutModel",
          "model_module_version": "1.2.0",
          "state": {
            "_view_name": "LayoutView",
            "grid_template_rows": null,
            "right": null,
            "justify_content": null,
            "_view_module": "@jupyter-widgets/base",
            "overflow": null,
            "_model_module_version": "1.2.0",
            "_view_count": null,
            "flex_flow": null,
            "width": null,
            "min_width": null,
            "border": null,
            "align_items": null,
            "bottom": null,
            "_model_module": "@jupyter-widgets/base",
            "top": null,
            "grid_column": null,
            "overflow_y": null,
            "overflow_x": null,
            "grid_auto_flow": null,
            "grid_area": null,
            "grid_template_columns": null,
            "flex": null,
            "_model_name": "LayoutModel",
            "justify_items": null,
            "grid_row": null,
            "max_height": null,
            "align_content": null,
            "visibility": null,
            "align_self": null,
            "height": null,
            "min_height": null,
            "padding": null,
            "grid_auto_rows": null,
            "grid_gap": null,
            "max_width": null,
            "order": null,
            "_view_module_version": "1.2.0",
            "grid_template_areas": null,
            "object_position": null,
            "object_fit": null,
            "grid_auto_columns": null,
            "margin": null,
            "display": null,
            "left": null
          }
        },
        "6df049039e4049a2ab15c1180d1587b6": {
          "model_module": "@jupyter-widgets/controls",
          "model_name": "DescriptionStyleModel",
          "model_module_version": "1.5.0",
          "state": {
            "_view_name": "StyleView",
            "_model_name": "DescriptionStyleModel",
            "description_width": "",
            "_view_module": "@jupyter-widgets/base",
            "_model_module_version": "1.5.0",
            "_view_count": null,
            "_view_module_version": "1.2.0",
            "_model_module": "@jupyter-widgets/controls"
          }
        },
        "8089ba7648014bb29c5cd822594de9b0": {
          "model_module": "@jupyter-widgets/base",
          "model_name": "LayoutModel",
          "model_module_version": "1.2.0",
          "state": {
            "_view_name": "LayoutView",
            "grid_template_rows": null,
            "right": null,
            "justify_content": null,
            "_view_module": "@jupyter-widgets/base",
            "overflow": null,
            "_model_module_version": "1.2.0",
            "_view_count": null,
            "flex_flow": null,
            "width": null,
            "min_width": null,
            "border": null,
            "align_items": null,
            "bottom": null,
            "_model_module": "@jupyter-widgets/base",
            "top": null,
            "grid_column": null,
            "overflow_y": null,
            "overflow_x": null,
            "grid_auto_flow": null,
            "grid_area": null,
            "grid_template_columns": null,
            "flex": null,
            "_model_name": "LayoutModel",
            "justify_items": null,
            "grid_row": null,
            "max_height": null,
            "align_content": null,
            "visibility": null,
            "align_self": null,
            "height": null,
            "min_height": null,
            "padding": null,
            "grid_auto_rows": null,
            "grid_gap": null,
            "max_width": null,
            "order": null,
            "_view_module_version": "1.2.0",
            "grid_template_areas": null,
            "object_position": null,
            "object_fit": null,
            "grid_auto_columns": null,
            "margin": null,
            "display": null,
            "left": null
          }
        },
        "29f2b728929b49f48b3ac147d7f35f60": {
          "model_module": "@jupyter-widgets/controls",
          "model_name": "HBoxModel",
          "model_module_version": "1.5.0",
          "state": {
            "_view_name": "HBoxView",
            "_dom_classes": [],
            "_model_name": "HBoxModel",
            "_view_module": "@jupyter-widgets/controls",
            "_model_module_version": "1.5.0",
            "_view_count": null,
            "_view_module_version": "1.5.0",
            "box_style": "",
            "layout": "IPY_MODEL_2ac48cf533c4407ea76dd99c29d1fca7",
            "_model_module": "@jupyter-widgets/controls",
            "children": [
              "IPY_MODEL_2c93ec392abf49f8a69c8d01c55e4ebd",
              "IPY_MODEL_497515d9510e482394e0d0412a8f5a3b",
              "IPY_MODEL_a0f7192aaff44a9dbb8eb4c767f35862"
            ]
          }
        },
        "2ac48cf533c4407ea76dd99c29d1fca7": {
          "model_module": "@jupyter-widgets/base",
          "model_name": "LayoutModel",
          "model_module_version": "1.2.0",
          "state": {
            "_view_name": "LayoutView",
            "grid_template_rows": null,
            "right": null,
            "justify_content": null,
            "_view_module": "@jupyter-widgets/base",
            "overflow": null,
            "_model_module_version": "1.2.0",
            "_view_count": null,
            "flex_flow": null,
            "width": null,
            "min_width": null,
            "border": null,
            "align_items": null,
            "bottom": null,
            "_model_module": "@jupyter-widgets/base",
            "top": null,
            "grid_column": null,
            "overflow_y": null,
            "overflow_x": null,
            "grid_auto_flow": null,
            "grid_area": null,
            "grid_template_columns": null,
            "flex": null,
            "_model_name": "LayoutModel",
            "justify_items": null,
            "grid_row": null,
            "max_height": null,
            "align_content": null,
            "visibility": null,
            "align_self": null,
            "height": null,
            "min_height": null,
            "padding": null,
            "grid_auto_rows": null,
            "grid_gap": null,
            "max_width": null,
            "order": null,
            "_view_module_version": "1.2.0",
            "grid_template_areas": null,
            "object_position": null,
            "object_fit": null,
            "grid_auto_columns": null,
            "margin": null,
            "display": null,
            "left": null
          }
        },
        "2c93ec392abf49f8a69c8d01c55e4ebd": {
          "model_module": "@jupyter-widgets/controls",
          "model_name": "HTMLModel",
          "model_module_version": "1.5.0",
          "state": {
            "_view_name": "HTMLView",
            "style": "IPY_MODEL_dde3809a19d1425f868edcee57fd3871",
            "_dom_classes": [],
            "description": "",
            "_model_name": "HTMLModel",
            "placeholder": "​",
            "_view_module": "@jupyter-widgets/controls",
            "_model_module_version": "1.5.0",
            "value": "Downloading: 100%",
            "_view_count": null,
            "_view_module_version": "1.5.0",
            "description_tooltip": null,
            "_model_module": "@jupyter-widgets/controls",
            "layout": "IPY_MODEL_f1610b237b4b4aa89c2997a693f1b40d"
          }
        },
        "497515d9510e482394e0d0412a8f5a3b": {
          "model_module": "@jupyter-widgets/controls",
          "model_name": "FloatProgressModel",
          "model_module_version": "1.5.0",
          "state": {
            "_view_name": "ProgressView",
            "style": "IPY_MODEL_66882886ec4047c4aba45d9b679d32c5",
            "_dom_classes": [],
            "description": "",
            "_model_name": "FloatProgressModel",
            "bar_style": "success",
            "max": 122,
            "_view_module": "@jupyter-widgets/controls",
            "_model_module_version": "1.5.0",
            "value": 122,
            "_view_count": null,
            "_view_module_version": "1.5.0",
            "orientation": "horizontal",
            "min": 0,
            "description_tooltip": null,
            "_model_module": "@jupyter-widgets/controls",
            "layout": "IPY_MODEL_52bd8cd52fcb4a3e84e226f7d4b0cf92"
          }
        },
        "a0f7192aaff44a9dbb8eb4c767f35862": {
          "model_module": "@jupyter-widgets/controls",
          "model_name": "HTMLModel",
          "model_module_version": "1.5.0",
          "state": {
            "_view_name": "HTMLView",
            "style": "IPY_MODEL_a04bc3b054694e919d367dbb3b584174",
            "_dom_classes": [],
            "description": "",
            "_model_name": "HTMLModel",
            "placeholder": "​",
            "_view_module": "@jupyter-widgets/controls",
            "_model_module_version": "1.5.0",
            "value": " 122/122 [00:00&lt;00:00, 2.67kB/s]",
            "_view_count": null,
            "_view_module_version": "1.5.0",
            "description_tooltip": null,
            "_model_module": "@jupyter-widgets/controls",
            "layout": "IPY_MODEL_e355d3d6736144799d909f0f9c27ad00"
          }
        },
        "dde3809a19d1425f868edcee57fd3871": {
          "model_module": "@jupyter-widgets/controls",
          "model_name": "DescriptionStyleModel",
          "model_module_version": "1.5.0",
          "state": {
            "_view_name": "StyleView",
            "_model_name": "DescriptionStyleModel",
            "description_width": "",
            "_view_module": "@jupyter-widgets/base",
            "_model_module_version": "1.5.0",
            "_view_count": null,
            "_view_module_version": "1.2.0",
            "_model_module": "@jupyter-widgets/controls"
          }
        },
        "f1610b237b4b4aa89c2997a693f1b40d": {
          "model_module": "@jupyter-widgets/base",
          "model_name": "LayoutModel",
          "model_module_version": "1.2.0",
          "state": {
            "_view_name": "LayoutView",
            "grid_template_rows": null,
            "right": null,
            "justify_content": null,
            "_view_module": "@jupyter-widgets/base",
            "overflow": null,
            "_model_module_version": "1.2.0",
            "_view_count": null,
            "flex_flow": null,
            "width": null,
            "min_width": null,
            "border": null,
            "align_items": null,
            "bottom": null,
            "_model_module": "@jupyter-widgets/base",
            "top": null,
            "grid_column": null,
            "overflow_y": null,
            "overflow_x": null,
            "grid_auto_flow": null,
            "grid_area": null,
            "grid_template_columns": null,
            "flex": null,
            "_model_name": "LayoutModel",
            "justify_items": null,
            "grid_row": null,
            "max_height": null,
            "align_content": null,
            "visibility": null,
            "align_self": null,
            "height": null,
            "min_height": null,
            "padding": null,
            "grid_auto_rows": null,
            "grid_gap": null,
            "max_width": null,
            "order": null,
            "_view_module_version": "1.2.0",
            "grid_template_areas": null,
            "object_position": null,
            "object_fit": null,
            "grid_auto_columns": null,
            "margin": null,
            "display": null,
            "left": null
          }
        },
        "66882886ec4047c4aba45d9b679d32c5": {
          "model_module": "@jupyter-widgets/controls",
          "model_name": "ProgressStyleModel",
          "model_module_version": "1.5.0",
          "state": {
            "_view_name": "StyleView",
            "_model_name": "ProgressStyleModel",
            "description_width": "",
            "_view_module": "@jupyter-widgets/base",
            "_model_module_version": "1.5.0",
            "_view_count": null,
            "_view_module_version": "1.2.0",
            "bar_color": null,
            "_model_module": "@jupyter-widgets/controls"
          }
        },
        "52bd8cd52fcb4a3e84e226f7d4b0cf92": {
          "model_module": "@jupyter-widgets/base",
          "model_name": "LayoutModel",
          "model_module_version": "1.2.0",
          "state": {
            "_view_name": "LayoutView",
            "grid_template_rows": null,
            "right": null,
            "justify_content": null,
            "_view_module": "@jupyter-widgets/base",
            "overflow": null,
            "_model_module_version": "1.2.0",
            "_view_count": null,
            "flex_flow": null,
            "width": null,
            "min_width": null,
            "border": null,
            "align_items": null,
            "bottom": null,
            "_model_module": "@jupyter-widgets/base",
            "top": null,
            "grid_column": null,
            "overflow_y": null,
            "overflow_x": null,
            "grid_auto_flow": null,
            "grid_area": null,
            "grid_template_columns": null,
            "flex": null,
            "_model_name": "LayoutModel",
            "justify_items": null,
            "grid_row": null,
            "max_height": null,
            "align_content": null,
            "visibility": null,
            "align_self": null,
            "height": null,
            "min_height": null,
            "padding": null,
            "grid_auto_rows": null,
            "grid_gap": null,
            "max_width": null,
            "order": null,
            "_view_module_version": "1.2.0",
            "grid_template_areas": null,
            "object_position": null,
            "object_fit": null,
            "grid_auto_columns": null,
            "margin": null,
            "display": null,
            "left": null
          }
        },
        "a04bc3b054694e919d367dbb3b584174": {
          "model_module": "@jupyter-widgets/controls",
          "model_name": "DescriptionStyleModel",
          "model_module_version": "1.5.0",
          "state": {
            "_view_name": "StyleView",
            "_model_name": "DescriptionStyleModel",
            "description_width": "",
            "_view_module": "@jupyter-widgets/base",
            "_model_module_version": "1.5.0",
            "_view_count": null,
            "_view_module_version": "1.2.0",
            "_model_module": "@jupyter-widgets/controls"
          }
        },
        "e355d3d6736144799d909f0f9c27ad00": {
          "model_module": "@jupyter-widgets/base",
          "model_name": "LayoutModel",
          "model_module_version": "1.2.0",
          "state": {
            "_view_name": "LayoutView",
            "grid_template_rows": null,
            "right": null,
            "justify_content": null,
            "_view_module": "@jupyter-widgets/base",
            "overflow": null,
            "_model_module_version": "1.2.0",
            "_view_count": null,
            "flex_flow": null,
            "width": null,
            "min_width": null,
            "border": null,
            "align_items": null,
            "bottom": null,
            "_model_module": "@jupyter-widgets/base",
            "top": null,
            "grid_column": null,
            "overflow_y": null,
            "overflow_x": null,
            "grid_auto_flow": null,
            "grid_area": null,
            "grid_template_columns": null,
            "flex": null,
            "_model_name": "LayoutModel",
            "justify_items": null,
            "grid_row": null,
            "max_height": null,
            "align_content": null,
            "visibility": null,
            "align_self": null,
            "height": null,
            "min_height": null,
            "padding": null,
            "grid_auto_rows": null,
            "grid_gap": null,
            "max_width": null,
            "order": null,
            "_view_module_version": "1.2.0",
            "grid_template_areas": null,
            "object_position": null,
            "object_fit": null,
            "grid_auto_columns": null,
            "margin": null,
            "display": null,
            "left": null
          }
        },
        "a428144299b84d65aee9f64aaddf7494": {
          "model_module": "@jupyter-widgets/controls",
          "model_name": "HBoxModel",
          "model_module_version": "1.5.0",
          "state": {
            "_view_name": "HBoxView",
            "_dom_classes": [],
            "_model_name": "HBoxModel",
            "_view_module": "@jupyter-widgets/controls",
            "_model_module_version": "1.5.0",
            "_view_count": null,
            "_view_module_version": "1.5.0",
            "box_style": "",
            "layout": "IPY_MODEL_155efca690734767952ca9fb22957d3c",
            "_model_module": "@jupyter-widgets/controls",
            "children": [
              "IPY_MODEL_1a3cb52399564e068ca2161bebeb523b",
              "IPY_MODEL_a2ca9c5d1e944521a04db1e23acf04d3",
              "IPY_MODEL_9e9250b81c854668b84791bdacf77751"
            ]
          }
        },
        "155efca690734767952ca9fb22957d3c": {
          "model_module": "@jupyter-widgets/base",
          "model_name": "LayoutModel",
          "model_module_version": "1.2.0",
          "state": {
            "_view_name": "LayoutView",
            "grid_template_rows": null,
            "right": null,
            "justify_content": null,
            "_view_module": "@jupyter-widgets/base",
            "overflow": null,
            "_model_module_version": "1.2.0",
            "_view_count": null,
            "flex_flow": null,
            "width": null,
            "min_width": null,
            "border": null,
            "align_items": null,
            "bottom": null,
            "_model_module": "@jupyter-widgets/base",
            "top": null,
            "grid_column": null,
            "overflow_y": null,
            "overflow_x": null,
            "grid_auto_flow": null,
            "grid_area": null,
            "grid_template_columns": null,
            "flex": null,
            "_model_name": "LayoutModel",
            "justify_items": null,
            "grid_row": null,
            "max_height": null,
            "align_content": null,
            "visibility": null,
            "align_self": null,
            "height": null,
            "min_height": null,
            "padding": null,
            "grid_auto_rows": null,
            "grid_gap": null,
            "max_width": null,
            "order": null,
            "_view_module_version": "1.2.0",
            "grid_template_areas": null,
            "object_position": null,
            "object_fit": null,
            "grid_auto_columns": null,
            "margin": null,
            "display": null,
            "left": null
          }
        },
        "1a3cb52399564e068ca2161bebeb523b": {
          "model_module": "@jupyter-widgets/controls",
          "model_name": "HTMLModel",
          "model_module_version": "1.5.0",
          "state": {
            "_view_name": "HTMLView",
            "style": "IPY_MODEL_bfa9ddc1ae884b97833b049e12a7a7e1",
            "_dom_classes": [],
            "description": "",
            "_model_name": "HTMLModel",
            "placeholder": "​",
            "_view_module": "@jupyter-widgets/controls",
            "_model_module_version": "1.5.0",
            "value": "Downloading: 100%",
            "_view_count": null,
            "_view_module_version": "1.5.0",
            "description_tooltip": null,
            "_model_module": "@jupyter-widgets/controls",
            "layout": "IPY_MODEL_06bc5f078b764543acb8bfbe52a26161"
          }
        },
        "a2ca9c5d1e944521a04db1e23acf04d3": {
          "model_module": "@jupyter-widgets/controls",
          "model_name": "FloatProgressModel",
          "model_module_version": "1.5.0",
          "state": {
            "_view_name": "ProgressView",
            "style": "IPY_MODEL_d8dc6b42a98d460d819165771814ccce",
            "_dom_classes": [],
            "description": "",
            "_model_name": "FloatProgressModel",
            "bar_style": "success",
            "max": 456356,
            "_view_module": "@jupyter-widgets/controls",
            "_model_module_version": "1.5.0",
            "value": 456356,
            "_view_count": null,
            "_view_module_version": "1.5.0",
            "orientation": "horizontal",
            "min": 0,
            "description_tooltip": null,
            "_model_module": "@jupyter-widgets/controls",
            "layout": "IPY_MODEL_507a5e2bb5fd483da1b8f8903d4ba220"
          }
        },
        "9e9250b81c854668b84791bdacf77751": {
          "model_module": "@jupyter-widgets/controls",
          "model_name": "HTMLModel",
          "model_module_version": "1.5.0",
          "state": {
            "_view_name": "HTMLView",
            "style": "IPY_MODEL_c301da1c10464b919cfe59e71e2f8d8c",
            "_dom_classes": [],
            "description": "",
            "_model_name": "HTMLModel",
            "placeholder": "​",
            "_view_module": "@jupyter-widgets/controls",
            "_model_module_version": "1.5.0",
            "value": " 456k/456k [00:00&lt;00:00, 781kB/s]",
            "_view_count": null,
            "_view_module_version": "1.5.0",
            "description_tooltip": null,
            "_model_module": "@jupyter-widgets/controls",
            "layout": "IPY_MODEL_bbfdead189f541c3b36cb8a035bb67be"
          }
        },
        "bfa9ddc1ae884b97833b049e12a7a7e1": {
          "model_module": "@jupyter-widgets/controls",
          "model_name": "DescriptionStyleModel",
          "model_module_version": "1.5.0",
          "state": {
            "_view_name": "StyleView",
            "_model_name": "DescriptionStyleModel",
            "description_width": "",
            "_view_module": "@jupyter-widgets/base",
            "_model_module_version": "1.5.0",
            "_view_count": null,
            "_view_module_version": "1.2.0",
            "_model_module": "@jupyter-widgets/controls"
          }
        },
        "06bc5f078b764543acb8bfbe52a26161": {
          "model_module": "@jupyter-widgets/base",
          "model_name": "LayoutModel",
          "model_module_version": "1.2.0",
          "state": {
            "_view_name": "LayoutView",
            "grid_template_rows": null,
            "right": null,
            "justify_content": null,
            "_view_module": "@jupyter-widgets/base",
            "overflow": null,
            "_model_module_version": "1.2.0",
            "_view_count": null,
            "flex_flow": null,
            "width": null,
            "min_width": null,
            "border": null,
            "align_items": null,
            "bottom": null,
            "_model_module": "@jupyter-widgets/base",
            "top": null,
            "grid_column": null,
            "overflow_y": null,
            "overflow_x": null,
            "grid_auto_flow": null,
            "grid_area": null,
            "grid_template_columns": null,
            "flex": null,
            "_model_name": "LayoutModel",
            "justify_items": null,
            "grid_row": null,
            "max_height": null,
            "align_content": null,
            "visibility": null,
            "align_self": null,
            "height": null,
            "min_height": null,
            "padding": null,
            "grid_auto_rows": null,
            "grid_gap": null,
            "max_width": null,
            "order": null,
            "_view_module_version": "1.2.0",
            "grid_template_areas": null,
            "object_position": null,
            "object_fit": null,
            "grid_auto_columns": null,
            "margin": null,
            "display": null,
            "left": null
          }
        },
        "d8dc6b42a98d460d819165771814ccce": {
          "model_module": "@jupyter-widgets/controls",
          "model_name": "ProgressStyleModel",
          "model_module_version": "1.5.0",
          "state": {
            "_view_name": "StyleView",
            "_model_name": "ProgressStyleModel",
            "description_width": "",
            "_view_module": "@jupyter-widgets/base",
            "_model_module_version": "1.5.0",
            "_view_count": null,
            "_view_module_version": "1.2.0",
            "bar_color": null,
            "_model_module": "@jupyter-widgets/controls"
          }
        },
        "507a5e2bb5fd483da1b8f8903d4ba220": {
          "model_module": "@jupyter-widgets/base",
          "model_name": "LayoutModel",
          "model_module_version": "1.2.0",
          "state": {
            "_view_name": "LayoutView",
            "grid_template_rows": null,
            "right": null,
            "justify_content": null,
            "_view_module": "@jupyter-widgets/base",
            "overflow": null,
            "_model_module_version": "1.2.0",
            "_view_count": null,
            "flex_flow": null,
            "width": null,
            "min_width": null,
            "border": null,
            "align_items": null,
            "bottom": null,
            "_model_module": "@jupyter-widgets/base",
            "top": null,
            "grid_column": null,
            "overflow_y": null,
            "overflow_x": null,
            "grid_auto_flow": null,
            "grid_area": null,
            "grid_template_columns": null,
            "flex": null,
            "_model_name": "LayoutModel",
            "justify_items": null,
            "grid_row": null,
            "max_height": null,
            "align_content": null,
            "visibility": null,
            "align_self": null,
            "height": null,
            "min_height": null,
            "padding": null,
            "grid_auto_rows": null,
            "grid_gap": null,
            "max_width": null,
            "order": null,
            "_view_module_version": "1.2.0",
            "grid_template_areas": null,
            "object_position": null,
            "object_fit": null,
            "grid_auto_columns": null,
            "margin": null,
            "display": null,
            "left": null
          }
        },
        "c301da1c10464b919cfe59e71e2f8d8c": {
          "model_module": "@jupyter-widgets/controls",
          "model_name": "DescriptionStyleModel",
          "model_module_version": "1.5.0",
          "state": {
            "_view_name": "StyleView",
            "_model_name": "DescriptionStyleModel",
            "description_width": "",
            "_view_module": "@jupyter-widgets/base",
            "_model_module_version": "1.5.0",
            "_view_count": null,
            "_view_module_version": "1.2.0",
            "_model_module": "@jupyter-widgets/controls"
          }
        },
        "bbfdead189f541c3b36cb8a035bb67be": {
          "model_module": "@jupyter-widgets/base",
          "model_name": "LayoutModel",
          "model_module_version": "1.2.0",
          "state": {
            "_view_name": "LayoutView",
            "grid_template_rows": null,
            "right": null,
            "justify_content": null,
            "_view_module": "@jupyter-widgets/base",
            "overflow": null,
            "_model_module_version": "1.2.0",
            "_view_count": null,
            "flex_flow": null,
            "width": null,
            "min_width": null,
            "border": null,
            "align_items": null,
            "bottom": null,
            "_model_module": "@jupyter-widgets/base",
            "top": null,
            "grid_column": null,
            "overflow_y": null,
            "overflow_x": null,
            "grid_auto_flow": null,
            "grid_area": null,
            "grid_template_columns": null,
            "flex": null,
            "_model_name": "LayoutModel",
            "justify_items": null,
            "grid_row": null,
            "max_height": null,
            "align_content": null,
            "visibility": null,
            "align_self": null,
            "height": null,
            "min_height": null,
            "padding": null,
            "grid_auto_rows": null,
            "grid_gap": null,
            "max_width": null,
            "order": null,
            "_view_module_version": "1.2.0",
            "grid_template_areas": null,
            "object_position": null,
            "object_fit": null,
            "grid_auto_columns": null,
            "margin": null,
            "display": null,
            "left": null
          }
        },
        "1ca01f3730ff49feb0ebc30f13b2bf95": {
          "model_module": "@jupyter-widgets/controls",
          "model_name": "HBoxModel",
          "model_module_version": "1.5.0",
          "state": {
            "_view_name": "HBoxView",
            "_dom_classes": [],
            "_model_name": "HBoxModel",
            "_view_module": "@jupyter-widgets/controls",
            "_model_module_version": "1.5.0",
            "_view_count": null,
            "_view_module_version": "1.5.0",
            "box_style": "",
            "layout": "IPY_MODEL_5ea62557755d455aa015725677e280d7",
            "_model_module": "@jupyter-widgets/controls",
            "children": [
              "IPY_MODEL_45a91ad45f164e1fb8a5bb287316ee84",
              "IPY_MODEL_85d5936e0956429f90fbb3af34772c6d",
              "IPY_MODEL_79b3292fa8b34c6286233fd3e0bb0734"
            ]
          }
        },
        "5ea62557755d455aa015725677e280d7": {
          "model_module": "@jupyter-widgets/base",
          "model_name": "LayoutModel",
          "model_module_version": "1.2.0",
          "state": {
            "_view_name": "LayoutView",
            "grid_template_rows": null,
            "right": null,
            "justify_content": null,
            "_view_module": "@jupyter-widgets/base",
            "overflow": null,
            "_model_module_version": "1.2.0",
            "_view_count": null,
            "flex_flow": null,
            "width": null,
            "min_width": null,
            "border": null,
            "align_items": null,
            "bottom": null,
            "_model_module": "@jupyter-widgets/base",
            "top": null,
            "grid_column": null,
            "overflow_y": null,
            "overflow_x": null,
            "grid_auto_flow": null,
            "grid_area": null,
            "grid_template_columns": null,
            "flex": null,
            "_model_name": "LayoutModel",
            "justify_items": null,
            "grid_row": null,
            "max_height": null,
            "align_content": null,
            "visibility": null,
            "align_self": null,
            "height": null,
            "min_height": null,
            "padding": null,
            "grid_auto_rows": null,
            "grid_gap": null,
            "max_width": null,
            "order": null,
            "_view_module_version": "1.2.0",
            "grid_template_areas": null,
            "object_position": null,
            "object_fit": null,
            "grid_auto_columns": null,
            "margin": null,
            "display": null,
            "left": null
          }
        },
        "45a91ad45f164e1fb8a5bb287316ee84": {
          "model_module": "@jupyter-widgets/controls",
          "model_name": "HTMLModel",
          "model_module_version": "1.5.0",
          "state": {
            "_view_name": "HTMLView",
            "style": "IPY_MODEL_31dab26b02aa429e8b99dee5ac25fdd5",
            "_dom_classes": [],
            "description": "",
            "_model_name": "HTMLModel",
            "placeholder": "​",
            "_view_module": "@jupyter-widgets/controls",
            "_model_module_version": "1.5.0",
            "value": "Downloading: 100%",
            "_view_count": null,
            "_view_module_version": "1.5.0",
            "description_tooltip": null,
            "_model_module": "@jupyter-widgets/controls",
            "layout": "IPY_MODEL_8179da36d9b34ded8f4be46f2263be82"
          }
        },
        "85d5936e0956429f90fbb3af34772c6d": {
          "model_module": "@jupyter-widgets/controls",
          "model_name": "FloatProgressModel",
          "model_module_version": "1.5.0",
          "state": {
            "_view_name": "ProgressView",
            "style": "IPY_MODEL_1ffb319a2a2749c29cbfef1f4a1d86a3",
            "_dom_classes": [],
            "description": "",
            "_model_name": "FloatProgressModel",
            "bar_style": "success",
            "max": 229,
            "_view_module": "@jupyter-widgets/controls",
            "_model_module_version": "1.5.0",
            "value": 229,
            "_view_count": null,
            "_view_module_version": "1.5.0",
            "orientation": "horizontal",
            "min": 0,
            "description_tooltip": null,
            "_model_module": "@jupyter-widgets/controls",
            "layout": "IPY_MODEL_a86a61d3c1f34e08bc4947f1631ec38c"
          }
        },
        "79b3292fa8b34c6286233fd3e0bb0734": {
          "model_module": "@jupyter-widgets/controls",
          "model_name": "HTMLModel",
          "model_module_version": "1.5.0",
          "state": {
            "_view_name": "HTMLView",
            "style": "IPY_MODEL_159338bcd4504c2e81030a9b73ec3c40",
            "_dom_classes": [],
            "description": "",
            "_model_name": "HTMLModel",
            "placeholder": "​",
            "_view_module": "@jupyter-widgets/controls",
            "_model_module_version": "1.5.0",
            "value": " 229/229 [00:00&lt;00:00, 4.55kB/s]",
            "_view_count": null,
            "_view_module_version": "1.5.0",
            "description_tooltip": null,
            "_model_module": "@jupyter-widgets/controls",
            "layout": "IPY_MODEL_3198f3e4755a4a4f82b530e7ab592312"
          }
        },
        "31dab26b02aa429e8b99dee5ac25fdd5": {
          "model_module": "@jupyter-widgets/controls",
          "model_name": "DescriptionStyleModel",
          "model_module_version": "1.5.0",
          "state": {
            "_view_name": "StyleView",
            "_model_name": "DescriptionStyleModel",
            "description_width": "",
            "_view_module": "@jupyter-widgets/base",
            "_model_module_version": "1.5.0",
            "_view_count": null,
            "_view_module_version": "1.2.0",
            "_model_module": "@jupyter-widgets/controls"
          }
        },
        "8179da36d9b34ded8f4be46f2263be82": {
          "model_module": "@jupyter-widgets/base",
          "model_name": "LayoutModel",
          "model_module_version": "1.2.0",
          "state": {
            "_view_name": "LayoutView",
            "grid_template_rows": null,
            "right": null,
            "justify_content": null,
            "_view_module": "@jupyter-widgets/base",
            "overflow": null,
            "_model_module_version": "1.2.0",
            "_view_count": null,
            "flex_flow": null,
            "width": null,
            "min_width": null,
            "border": null,
            "align_items": null,
            "bottom": null,
            "_model_module": "@jupyter-widgets/base",
            "top": null,
            "grid_column": null,
            "overflow_y": null,
            "overflow_x": null,
            "grid_auto_flow": null,
            "grid_area": null,
            "grid_template_columns": null,
            "flex": null,
            "_model_name": "LayoutModel",
            "justify_items": null,
            "grid_row": null,
            "max_height": null,
            "align_content": null,
            "visibility": null,
            "align_self": null,
            "height": null,
            "min_height": null,
            "padding": null,
            "grid_auto_rows": null,
            "grid_gap": null,
            "max_width": null,
            "order": null,
            "_view_module_version": "1.2.0",
            "grid_template_areas": null,
            "object_position": null,
            "object_fit": null,
            "grid_auto_columns": null,
            "margin": null,
            "display": null,
            "left": null
          }
        },
        "1ffb319a2a2749c29cbfef1f4a1d86a3": {
          "model_module": "@jupyter-widgets/controls",
          "model_name": "ProgressStyleModel",
          "model_module_version": "1.5.0",
          "state": {
            "_view_name": "StyleView",
            "_model_name": "ProgressStyleModel",
            "description_width": "",
            "_view_module": "@jupyter-widgets/base",
            "_model_module_version": "1.5.0",
            "_view_count": null,
            "_view_module_version": "1.2.0",
            "bar_color": null,
            "_model_module": "@jupyter-widgets/controls"
          }
        },
        "a86a61d3c1f34e08bc4947f1631ec38c": {
          "model_module": "@jupyter-widgets/base",
          "model_name": "LayoutModel",
          "model_module_version": "1.2.0",
          "state": {
            "_view_name": "LayoutView",
            "grid_template_rows": null,
            "right": null,
            "justify_content": null,
            "_view_module": "@jupyter-widgets/base",
            "overflow": null,
            "_model_module_version": "1.2.0",
            "_view_count": null,
            "flex_flow": null,
            "width": null,
            "min_width": null,
            "border": null,
            "align_items": null,
            "bottom": null,
            "_model_module": "@jupyter-widgets/base",
            "top": null,
            "grid_column": null,
            "overflow_y": null,
            "overflow_x": null,
            "grid_auto_flow": null,
            "grid_area": null,
            "grid_template_columns": null,
            "flex": null,
            "_model_name": "LayoutModel",
            "justify_items": null,
            "grid_row": null,
            "max_height": null,
            "align_content": null,
            "visibility": null,
            "align_self": null,
            "height": null,
            "min_height": null,
            "padding": null,
            "grid_auto_rows": null,
            "grid_gap": null,
            "max_width": null,
            "order": null,
            "_view_module_version": "1.2.0",
            "grid_template_areas": null,
            "object_position": null,
            "object_fit": null,
            "grid_auto_columns": null,
            "margin": null,
            "display": null,
            "left": null
          }
        },
        "159338bcd4504c2e81030a9b73ec3c40": {
          "model_module": "@jupyter-widgets/controls",
          "model_name": "DescriptionStyleModel",
          "model_module_version": "1.5.0",
          "state": {
            "_view_name": "StyleView",
            "_model_name": "DescriptionStyleModel",
            "description_width": "",
            "_view_module": "@jupyter-widgets/base",
            "_model_module_version": "1.5.0",
            "_view_count": null,
            "_view_module_version": "1.2.0",
            "_model_module": "@jupyter-widgets/controls"
          }
        },
        "3198f3e4755a4a4f82b530e7ab592312": {
          "model_module": "@jupyter-widgets/base",
          "model_name": "LayoutModel",
          "model_module_version": "1.2.0",
          "state": {
            "_view_name": "LayoutView",
            "grid_template_rows": null,
            "right": null,
            "justify_content": null,
            "_view_module": "@jupyter-widgets/base",
            "overflow": null,
            "_model_module_version": "1.2.0",
            "_view_count": null,
            "flex_flow": null,
            "width": null,
            "min_width": null,
            "border": null,
            "align_items": null,
            "bottom": null,
            "_model_module": "@jupyter-widgets/base",
            "top": null,
            "grid_column": null,
            "overflow_y": null,
            "overflow_x": null,
            "grid_auto_flow": null,
            "grid_area": null,
            "grid_template_columns": null,
            "flex": null,
            "_model_name": "LayoutModel",
            "justify_items": null,
            "grid_row": null,
            "max_height": null,
            "align_content": null,
            "visibility": null,
            "align_self": null,
            "height": null,
            "min_height": null,
            "padding": null,
            "grid_auto_rows": null,
            "grid_gap": null,
            "max_width": null,
            "order": null,
            "_view_module_version": "1.2.0",
            "grid_template_areas": null,
            "object_position": null,
            "object_fit": null,
            "grid_auto_columns": null,
            "margin": null,
            "display": null,
            "left": null
          }
        },
        "087968bbe1c34c73b54b467f0547fd34": {
          "model_module": "@jupyter-widgets/controls",
          "model_name": "HBoxModel",
          "model_module_version": "1.5.0",
          "state": {
            "_view_name": "HBoxView",
            "_dom_classes": [],
            "_model_name": "HBoxModel",
            "_view_module": "@jupyter-widgets/controls",
            "_model_module_version": "1.5.0",
            "_view_count": null,
            "_view_module_version": "1.5.0",
            "box_style": "",
            "layout": "IPY_MODEL_121781d07b39437784054867e737b3c5",
            "_model_module": "@jupyter-widgets/controls",
            "children": [
              "IPY_MODEL_13bc7bef9f4f435e85dbc5e1d95f3943",
              "IPY_MODEL_8e7e515c1129482f866d60ce39febebf",
              "IPY_MODEL_52f88d815dbc4390984bdb24b455eda2"
            ]
          }
        },
        "121781d07b39437784054867e737b3c5": {
          "model_module": "@jupyter-widgets/base",
          "model_name": "LayoutModel",
          "model_module_version": "1.2.0",
          "state": {
            "_view_name": "LayoutView",
            "grid_template_rows": null,
            "right": null,
            "justify_content": null,
            "_view_module": "@jupyter-widgets/base",
            "overflow": null,
            "_model_module_version": "1.2.0",
            "_view_count": null,
            "flex_flow": null,
            "width": null,
            "min_width": null,
            "border": null,
            "align_items": null,
            "bottom": null,
            "_model_module": "@jupyter-widgets/base",
            "top": null,
            "grid_column": null,
            "overflow_y": null,
            "overflow_x": null,
            "grid_auto_flow": null,
            "grid_area": null,
            "grid_template_columns": null,
            "flex": null,
            "_model_name": "LayoutModel",
            "justify_items": null,
            "grid_row": null,
            "max_height": null,
            "align_content": null,
            "visibility": null,
            "align_self": null,
            "height": null,
            "min_height": null,
            "padding": null,
            "grid_auto_rows": null,
            "grid_gap": null,
            "max_width": null,
            "order": null,
            "_view_module_version": "1.2.0",
            "grid_template_areas": null,
            "object_position": null,
            "object_fit": null,
            "grid_auto_columns": null,
            "margin": null,
            "display": null,
            "left": null
          }
        },
        "13bc7bef9f4f435e85dbc5e1d95f3943": {
          "model_module": "@jupyter-widgets/controls",
          "model_name": "HTMLModel",
          "model_module_version": "1.5.0",
          "state": {
            "_view_name": "HTMLView",
            "style": "IPY_MODEL_8dee553c67284c3aa7fc7cb2803bd234",
            "_dom_classes": [],
            "description": "",
            "_model_name": "HTMLModel",
            "placeholder": "​",
            "_view_module": "@jupyter-widgets/controls",
            "_model_module_version": "1.5.0",
            "value": "Downloading: 100%",
            "_view_count": null,
            "_view_module_version": "1.5.0",
            "description_tooltip": null,
            "_model_module": "@jupyter-widgets/controls",
            "layout": "IPY_MODEL_f455ce16531946cb98e36ee84787a9c0"
          }
        },
        "8e7e515c1129482f866d60ce39febebf": {
          "model_module": "@jupyter-widgets/controls",
          "model_name": "FloatProgressModel",
          "model_module_version": "1.5.0",
          "state": {
            "_view_name": "ProgressView",
            "style": "IPY_MODEL_e4781d1380a94f5ca84919b2fb392873",
            "_dom_classes": [],
            "description": "",
            "_model_name": "FloatProgressModel",
            "bar_style": "success",
            "max": 1421590449,
            "_view_module": "@jupyter-widgets/controls",
            "_model_module_version": "1.5.0",
            "value": 1421590449,
            "_view_count": null,
            "_view_module_version": "1.5.0",
            "orientation": "horizontal",
            "min": 0,
            "description_tooltip": null,
            "_model_module": "@jupyter-widgets/controls",
            "layout": "IPY_MODEL_7328569b90af4904a3f24630928e55b9"
          }
        },
        "52f88d815dbc4390984bdb24b455eda2": {
          "model_module": "@jupyter-widgets/controls",
          "model_name": "HTMLModel",
          "model_module_version": "1.5.0",
          "state": {
            "_view_name": "HTMLView",
            "style": "IPY_MODEL_433b2eb7d79249dfaa80304ca820cc99",
            "_dom_classes": [],
            "description": "",
            "_model_name": "HTMLModel",
            "placeholder": "​",
            "_view_module": "@jupyter-widgets/controls",
            "_model_module_version": "1.5.0",
            "value": " 1.42G/1.42G [00:38&lt;00:00, 40.1MB/s]",
            "_view_count": null,
            "_view_module_version": "1.5.0",
            "description_tooltip": null,
            "_model_module": "@jupyter-widgets/controls",
            "layout": "IPY_MODEL_5f42fde9df5f4111b3992d0668b4c9e3"
          }
        },
        "8dee553c67284c3aa7fc7cb2803bd234": {
          "model_module": "@jupyter-widgets/controls",
          "model_name": "DescriptionStyleModel",
          "model_module_version": "1.5.0",
          "state": {
            "_view_name": "StyleView",
            "_model_name": "DescriptionStyleModel",
            "description_width": "",
            "_view_module": "@jupyter-widgets/base",
            "_model_module_version": "1.5.0",
            "_view_count": null,
            "_view_module_version": "1.2.0",
            "_model_module": "@jupyter-widgets/controls"
          }
        },
        "f455ce16531946cb98e36ee84787a9c0": {
          "model_module": "@jupyter-widgets/base",
          "model_name": "LayoutModel",
          "model_module_version": "1.2.0",
          "state": {
            "_view_name": "LayoutView",
            "grid_template_rows": null,
            "right": null,
            "justify_content": null,
            "_view_module": "@jupyter-widgets/base",
            "overflow": null,
            "_model_module_version": "1.2.0",
            "_view_count": null,
            "flex_flow": null,
            "width": null,
            "min_width": null,
            "border": null,
            "align_items": null,
            "bottom": null,
            "_model_module": "@jupyter-widgets/base",
            "top": null,
            "grid_column": null,
            "overflow_y": null,
            "overflow_x": null,
            "grid_auto_flow": null,
            "grid_area": null,
            "grid_template_columns": null,
            "flex": null,
            "_model_name": "LayoutModel",
            "justify_items": null,
            "grid_row": null,
            "max_height": null,
            "align_content": null,
            "visibility": null,
            "align_self": null,
            "height": null,
            "min_height": null,
            "padding": null,
            "grid_auto_rows": null,
            "grid_gap": null,
            "max_width": null,
            "order": null,
            "_view_module_version": "1.2.0",
            "grid_template_areas": null,
            "object_position": null,
            "object_fit": null,
            "grid_auto_columns": null,
            "margin": null,
            "display": null,
            "left": null
          }
        },
        "e4781d1380a94f5ca84919b2fb392873": {
          "model_module": "@jupyter-widgets/controls",
          "model_name": "ProgressStyleModel",
          "model_module_version": "1.5.0",
          "state": {
            "_view_name": "StyleView",
            "_model_name": "ProgressStyleModel",
            "description_width": "",
            "_view_module": "@jupyter-widgets/base",
            "_model_module_version": "1.5.0",
            "_view_count": null,
            "_view_module_version": "1.2.0",
            "bar_color": null,
            "_model_module": "@jupyter-widgets/controls"
          }
        },
        "7328569b90af4904a3f24630928e55b9": {
          "model_module": "@jupyter-widgets/base",
          "model_name": "LayoutModel",
          "model_module_version": "1.2.0",
          "state": {
            "_view_name": "LayoutView",
            "grid_template_rows": null,
            "right": null,
            "justify_content": null,
            "_view_module": "@jupyter-widgets/base",
            "overflow": null,
            "_model_module_version": "1.2.0",
            "_view_count": null,
            "flex_flow": null,
            "width": null,
            "min_width": null,
            "border": null,
            "align_items": null,
            "bottom": null,
            "_model_module": "@jupyter-widgets/base",
            "top": null,
            "grid_column": null,
            "overflow_y": null,
            "overflow_x": null,
            "grid_auto_flow": null,
            "grid_area": null,
            "grid_template_columns": null,
            "flex": null,
            "_model_name": "LayoutModel",
            "justify_items": null,
            "grid_row": null,
            "max_height": null,
            "align_content": null,
            "visibility": null,
            "align_self": null,
            "height": null,
            "min_height": null,
            "padding": null,
            "grid_auto_rows": null,
            "grid_gap": null,
            "max_width": null,
            "order": null,
            "_view_module_version": "1.2.0",
            "grid_template_areas": null,
            "object_position": null,
            "object_fit": null,
            "grid_auto_columns": null,
            "margin": null,
            "display": null,
            "left": null
          }
        },
        "433b2eb7d79249dfaa80304ca820cc99": {
          "model_module": "@jupyter-widgets/controls",
          "model_name": "DescriptionStyleModel",
          "model_module_version": "1.5.0",
          "state": {
            "_view_name": "StyleView",
            "_model_name": "DescriptionStyleModel",
            "description_width": "",
            "_view_module": "@jupyter-widgets/base",
            "_model_module_version": "1.5.0",
            "_view_count": null,
            "_view_module_version": "1.2.0",
            "_model_module": "@jupyter-widgets/controls"
          }
        },
        "5f42fde9df5f4111b3992d0668b4c9e3": {
          "model_module": "@jupyter-widgets/base",
          "model_name": "LayoutModel",
          "model_module_version": "1.2.0",
          "state": {
            "_view_name": "LayoutView",
            "grid_template_rows": null,
            "right": null,
            "justify_content": null,
            "_view_module": "@jupyter-widgets/base",
            "overflow": null,
            "_model_module_version": "1.2.0",
            "_view_count": null,
            "flex_flow": null,
            "width": null,
            "min_width": null,
            "border": null,
            "align_items": null,
            "bottom": null,
            "_model_module": "@jupyter-widgets/base",
            "top": null,
            "grid_column": null,
            "overflow_y": null,
            "overflow_x": null,
            "grid_auto_flow": null,
            "grid_area": null,
            "grid_template_columns": null,
            "flex": null,
            "_model_name": "LayoutModel",
            "justify_items": null,
            "grid_row": null,
            "max_height": null,
            "align_content": null,
            "visibility": null,
            "align_self": null,
            "height": null,
            "min_height": null,
            "padding": null,
            "grid_auto_rows": null,
            "grid_gap": null,
            "max_width": null,
            "order": null,
            "_view_module_version": "1.2.0",
            "grid_template_areas": null,
            "object_position": null,
            "object_fit": null,
            "grid_auto_columns": null,
            "margin": null,
            "display": null,
            "left": null
          }
        },
        "45999843bffa4404831fce74de27bea1": {
          "model_module": "@jupyter-widgets/controls",
          "model_name": "HBoxModel",
          "model_module_version": "1.5.0",
          "state": {
            "_view_name": "HBoxView",
            "_dom_classes": [],
            "_model_name": "HBoxModel",
            "_view_module": "@jupyter-widgets/controls",
            "_model_module_version": "1.5.0",
            "_view_count": null,
            "_view_module_version": "1.5.0",
            "box_style": "",
            "layout": "IPY_MODEL_63bd008bffdb47f18f76d74dae567d11",
            "_model_module": "@jupyter-widgets/controls",
            "children": [
              "IPY_MODEL_31cc0a762c98497d9b215d6a094bdf9b",
              "IPY_MODEL_3b64261d922d4f7ca17621fcf56f05a2",
              "IPY_MODEL_abe15d5b2eb846a1a12736c68beb429d"
            ]
          }
        },
        "63bd008bffdb47f18f76d74dae567d11": {
          "model_module": "@jupyter-widgets/base",
          "model_name": "LayoutModel",
          "model_module_version": "1.2.0",
          "state": {
            "_view_name": "LayoutView",
            "grid_template_rows": null,
            "right": null,
            "justify_content": null,
            "_view_module": "@jupyter-widgets/base",
            "overflow": null,
            "_model_module_version": "1.2.0",
            "_view_count": null,
            "flex_flow": null,
            "width": null,
            "min_width": null,
            "border": null,
            "align_items": null,
            "bottom": null,
            "_model_module": "@jupyter-widgets/base",
            "top": null,
            "grid_column": null,
            "overflow_y": null,
            "overflow_x": null,
            "grid_auto_flow": null,
            "grid_area": null,
            "grid_template_columns": null,
            "flex": null,
            "_model_name": "LayoutModel",
            "justify_items": null,
            "grid_row": null,
            "max_height": null,
            "align_content": null,
            "visibility": null,
            "align_self": null,
            "height": null,
            "min_height": null,
            "padding": null,
            "grid_auto_rows": null,
            "grid_gap": null,
            "max_width": null,
            "order": null,
            "_view_module_version": "1.2.0",
            "grid_template_areas": null,
            "object_position": null,
            "object_fit": null,
            "grid_auto_columns": null,
            "margin": null,
            "display": null,
            "left": null
          }
        },
        "31cc0a762c98497d9b215d6a094bdf9b": {
          "model_module": "@jupyter-widgets/controls",
          "model_name": "HTMLModel",
          "model_module_version": "1.5.0",
          "state": {
            "_view_name": "HTMLView",
            "style": "IPY_MODEL_8b72b5ab32c444a3a3f23dec438f6204",
            "_dom_classes": [],
            "description": "",
            "_model_name": "HTMLModel",
            "placeholder": "​",
            "_view_module": "@jupyter-widgets/controls",
            "_model_module_version": "1.5.0",
            "value": "Downloading: 100%",
            "_view_count": null,
            "_view_module_version": "1.5.0",
            "description_tooltip": null,
            "_model_module": "@jupyter-widgets/controls",
            "layout": "IPY_MODEL_e8713e57e6e843e1a638c05b1f3b5a80"
          }
        },
        "3b64261d922d4f7ca17621fcf56f05a2": {
          "model_module": "@jupyter-widgets/controls",
          "model_name": "FloatProgressModel",
          "model_module_version": "1.5.0",
          "state": {
            "_view_name": "ProgressView",
            "style": "IPY_MODEL_d09d31fc603c4826ba08eb72009ad672",
            "_dom_classes": [],
            "description": "",
            "_model_name": "FloatProgressModel",
            "bar_style": "success",
            "max": 52,
            "_view_module": "@jupyter-widgets/controls",
            "_model_module_version": "1.5.0",
            "value": 52,
            "_view_count": null,
            "_view_module_version": "1.5.0",
            "orientation": "horizontal",
            "min": 0,
            "description_tooltip": null,
            "_model_module": "@jupyter-widgets/controls",
            "layout": "IPY_MODEL_237a883e1d754603aaecb800b36e52b0"
          }
        },
        "abe15d5b2eb846a1a12736c68beb429d": {
          "model_module": "@jupyter-widgets/controls",
          "model_name": "HTMLModel",
          "model_module_version": "1.5.0",
          "state": {
            "_view_name": "HTMLView",
            "style": "IPY_MODEL_be7a16a654a14f45ae32de863e23bcfb",
            "_dom_classes": [],
            "description": "",
            "_model_name": "HTMLModel",
            "placeholder": "​",
            "_view_module": "@jupyter-widgets/controls",
            "_model_module_version": "1.5.0",
            "value": " 52.0/52.0 [00:00&lt;00:00, 1.19kB/s]",
            "_view_count": null,
            "_view_module_version": "1.5.0",
            "description_tooltip": null,
            "_model_module": "@jupyter-widgets/controls",
            "layout": "IPY_MODEL_8bca916fefb8434e990bd3102d130292"
          }
        },
        "8b72b5ab32c444a3a3f23dec438f6204": {
          "model_module": "@jupyter-widgets/controls",
          "model_name": "DescriptionStyleModel",
          "model_module_version": "1.5.0",
          "state": {
            "_view_name": "StyleView",
            "_model_name": "DescriptionStyleModel",
            "description_width": "",
            "_view_module": "@jupyter-widgets/base",
            "_model_module_version": "1.5.0",
            "_view_count": null,
            "_view_module_version": "1.2.0",
            "_model_module": "@jupyter-widgets/controls"
          }
        },
        "e8713e57e6e843e1a638c05b1f3b5a80": {
          "model_module": "@jupyter-widgets/base",
          "model_name": "LayoutModel",
          "model_module_version": "1.2.0",
          "state": {
            "_view_name": "LayoutView",
            "grid_template_rows": null,
            "right": null,
            "justify_content": null,
            "_view_module": "@jupyter-widgets/base",
            "overflow": null,
            "_model_module_version": "1.2.0",
            "_view_count": null,
            "flex_flow": null,
            "width": null,
            "min_width": null,
            "border": null,
            "align_items": null,
            "bottom": null,
            "_model_module": "@jupyter-widgets/base",
            "top": null,
            "grid_column": null,
            "overflow_y": null,
            "overflow_x": null,
            "grid_auto_flow": null,
            "grid_area": null,
            "grid_template_columns": null,
            "flex": null,
            "_model_name": "LayoutModel",
            "justify_items": null,
            "grid_row": null,
            "max_height": null,
            "align_content": null,
            "visibility": null,
            "align_self": null,
            "height": null,
            "min_height": null,
            "padding": null,
            "grid_auto_rows": null,
            "grid_gap": null,
            "max_width": null,
            "order": null,
            "_view_module_version": "1.2.0",
            "grid_template_areas": null,
            "object_position": null,
            "object_fit": null,
            "grid_auto_columns": null,
            "margin": null,
            "display": null,
            "left": null
          }
        },
        "d09d31fc603c4826ba08eb72009ad672": {
          "model_module": "@jupyter-widgets/controls",
          "model_name": "ProgressStyleModel",
          "model_module_version": "1.5.0",
          "state": {
            "_view_name": "StyleView",
            "_model_name": "ProgressStyleModel",
            "description_width": "",
            "_view_module": "@jupyter-widgets/base",
            "_model_module_version": "1.5.0",
            "_view_count": null,
            "_view_module_version": "1.2.0",
            "bar_color": null,
            "_model_module": "@jupyter-widgets/controls"
          }
        },
        "237a883e1d754603aaecb800b36e52b0": {
          "model_module": "@jupyter-widgets/base",
          "model_name": "LayoutModel",
          "model_module_version": "1.2.0",
          "state": {
            "_view_name": "LayoutView",
            "grid_template_rows": null,
            "right": null,
            "justify_content": null,
            "_view_module": "@jupyter-widgets/base",
            "overflow": null,
            "_model_module_version": "1.2.0",
            "_view_count": null,
            "flex_flow": null,
            "width": null,
            "min_width": null,
            "border": null,
            "align_items": null,
            "bottom": null,
            "_model_module": "@jupyter-widgets/base",
            "top": null,
            "grid_column": null,
            "overflow_y": null,
            "overflow_x": null,
            "grid_auto_flow": null,
            "grid_area": null,
            "grid_template_columns": null,
            "flex": null,
            "_model_name": "LayoutModel",
            "justify_items": null,
            "grid_row": null,
            "max_height": null,
            "align_content": null,
            "visibility": null,
            "align_self": null,
            "height": null,
            "min_height": null,
            "padding": null,
            "grid_auto_rows": null,
            "grid_gap": null,
            "max_width": null,
            "order": null,
            "_view_module_version": "1.2.0",
            "grid_template_areas": null,
            "object_position": null,
            "object_fit": null,
            "grid_auto_columns": null,
            "margin": null,
            "display": null,
            "left": null
          }
        },
        "be7a16a654a14f45ae32de863e23bcfb": {
          "model_module": "@jupyter-widgets/controls",
          "model_name": "DescriptionStyleModel",
          "model_module_version": "1.5.0",
          "state": {
            "_view_name": "StyleView",
            "_model_name": "DescriptionStyleModel",
            "description_width": "",
            "_view_module": "@jupyter-widgets/base",
            "_model_module_version": "1.5.0",
            "_view_count": null,
            "_view_module_version": "1.2.0",
            "_model_module": "@jupyter-widgets/controls"
          }
        },
        "8bca916fefb8434e990bd3102d130292": {
          "model_module": "@jupyter-widgets/base",
          "model_name": "LayoutModel",
          "model_module_version": "1.2.0",
          "state": {
            "_view_name": "LayoutView",
            "grid_template_rows": null,
            "right": null,
            "justify_content": null,
            "_view_module": "@jupyter-widgets/base",
            "overflow": null,
            "_model_module_version": "1.2.0",
            "_view_count": null,
            "flex_flow": null,
            "width": null,
            "min_width": null,
            "border": null,
            "align_items": null,
            "bottom": null,
            "_model_module": "@jupyter-widgets/base",
            "top": null,
            "grid_column": null,
            "overflow_y": null,
            "overflow_x": null,
            "grid_auto_flow": null,
            "grid_area": null,
            "grid_template_columns": null,
            "flex": null,
            "_model_name": "LayoutModel",
            "justify_items": null,
            "grid_row": null,
            "max_height": null,
            "align_content": null,
            "visibility": null,
            "align_self": null,
            "height": null,
            "min_height": null,
            "padding": null,
            "grid_auto_rows": null,
            "grid_gap": null,
            "max_width": null,
            "order": null,
            "_view_module_version": "1.2.0",
            "grid_template_areas": null,
            "object_position": null,
            "object_fit": null,
            "grid_auto_columns": null,
            "margin": null,
            "display": null,
            "left": null
          }
        },
        "d70e9a0c0d7844b2be4dd98dd1e1c2a3": {
          "model_module": "@jupyter-widgets/controls",
          "model_name": "HBoxModel",
          "model_module_version": "1.5.0",
          "state": {
            "_view_name": "HBoxView",
            "_dom_classes": [],
            "_model_name": "HBoxModel",
            "_view_module": "@jupyter-widgets/controls",
            "_model_module_version": "1.5.0",
            "_view_count": null,
            "_view_module_version": "1.5.0",
            "box_style": "",
            "layout": "IPY_MODEL_d4b7755699d94736b49927d99ee748a0",
            "_model_module": "@jupyter-widgets/controls",
            "children": [
              "IPY_MODEL_a07c166d9ee046afbeb6b2b4ded86483",
              "IPY_MODEL_33e2f84ae31d4229891f55691a9e6eb7",
              "IPY_MODEL_d414e78ebeb14a6abf2ed0922fcf8e14"
            ]
          }
        },
        "d4b7755699d94736b49927d99ee748a0": {
          "model_module": "@jupyter-widgets/base",
          "model_name": "LayoutModel",
          "model_module_version": "1.2.0",
          "state": {
            "_view_name": "LayoutView",
            "grid_template_rows": null,
            "right": null,
            "justify_content": null,
            "_view_module": "@jupyter-widgets/base",
            "overflow": null,
            "_model_module_version": "1.2.0",
            "_view_count": null,
            "flex_flow": null,
            "width": null,
            "min_width": null,
            "border": null,
            "align_items": null,
            "bottom": null,
            "_model_module": "@jupyter-widgets/base",
            "top": null,
            "grid_column": null,
            "overflow_y": null,
            "overflow_x": null,
            "grid_auto_flow": null,
            "grid_area": null,
            "grid_template_columns": null,
            "flex": null,
            "_model_name": "LayoutModel",
            "justify_items": null,
            "grid_row": null,
            "max_height": null,
            "align_content": null,
            "visibility": null,
            "align_self": null,
            "height": null,
            "min_height": null,
            "padding": null,
            "grid_auto_rows": null,
            "grid_gap": null,
            "max_width": null,
            "order": null,
            "_view_module_version": "1.2.0",
            "grid_template_areas": null,
            "object_position": null,
            "object_fit": null,
            "grid_auto_columns": null,
            "margin": null,
            "display": null,
            "left": null
          }
        },
        "a07c166d9ee046afbeb6b2b4ded86483": {
          "model_module": "@jupyter-widgets/controls",
          "model_name": "HTMLModel",
          "model_module_version": "1.5.0",
          "state": {
            "_view_name": "HTMLView",
            "style": "IPY_MODEL_5323c95a957848daa1a56c923c3aed4e",
            "_dom_classes": [],
            "description": "",
            "_model_name": "HTMLModel",
            "placeholder": "​",
            "_view_module": "@jupyter-widgets/controls",
            "_model_module_version": "1.5.0",
            "value": "Downloading: 100%",
            "_view_count": null,
            "_view_module_version": "1.5.0",
            "description_tooltip": null,
            "_model_module": "@jupyter-widgets/controls",
            "layout": "IPY_MODEL_41c54a1b62784f43af61859c04b6dff2"
          }
        },
        "33e2f84ae31d4229891f55691a9e6eb7": {
          "model_module": "@jupyter-widgets/controls",
          "model_name": "FloatProgressModel",
          "model_module_version": "1.5.0",
          "state": {
            "_view_name": "ProgressView",
            "style": "IPY_MODEL_da787eff1e0c4ee9b24a405ed36780fb",
            "_dom_classes": [],
            "description": "",
            "_model_name": "FloatProgressModel",
            "bar_style": "success",
            "max": 239,
            "_view_module": "@jupyter-widgets/controls",
            "_model_module_version": "1.5.0",
            "value": 239,
            "_view_count": null,
            "_view_module_version": "1.5.0",
            "orientation": "horizontal",
            "min": 0,
            "description_tooltip": null,
            "_model_module": "@jupyter-widgets/controls",
            "layout": "IPY_MODEL_c64cf354ece2446d8ce84b0f0f700ea0"
          }
        },
        "d414e78ebeb14a6abf2ed0922fcf8e14": {
          "model_module": "@jupyter-widgets/controls",
          "model_name": "HTMLModel",
          "model_module_version": "1.5.0",
          "state": {
            "_view_name": "HTMLView",
            "style": "IPY_MODEL_c4a8458f584e4d35b06448fe401871e9",
            "_dom_classes": [],
            "description": "",
            "_model_name": "HTMLModel",
            "placeholder": "​",
            "_view_module": "@jupyter-widgets/controls",
            "_model_module_version": "1.5.0",
            "value": " 239/239 [00:00&lt;00:00, 5.03kB/s]",
            "_view_count": null,
            "_view_module_version": "1.5.0",
            "description_tooltip": null,
            "_model_module": "@jupyter-widgets/controls",
            "layout": "IPY_MODEL_299e0ea02967431c8a61f87fe7a7f9f8"
          }
        },
        "5323c95a957848daa1a56c923c3aed4e": {
          "model_module": "@jupyter-widgets/controls",
          "model_name": "DescriptionStyleModel",
          "model_module_version": "1.5.0",
          "state": {
            "_view_name": "StyleView",
            "_model_name": "DescriptionStyleModel",
            "description_width": "",
            "_view_module": "@jupyter-widgets/base",
            "_model_module_version": "1.5.0",
            "_view_count": null,
            "_view_module_version": "1.2.0",
            "_model_module": "@jupyter-widgets/controls"
          }
        },
        "41c54a1b62784f43af61859c04b6dff2": {
          "model_module": "@jupyter-widgets/base",
          "model_name": "LayoutModel",
          "model_module_version": "1.2.0",
          "state": {
            "_view_name": "LayoutView",
            "grid_template_rows": null,
            "right": null,
            "justify_content": null,
            "_view_module": "@jupyter-widgets/base",
            "overflow": null,
            "_model_module_version": "1.2.0",
            "_view_count": null,
            "flex_flow": null,
            "width": null,
            "min_width": null,
            "border": null,
            "align_items": null,
            "bottom": null,
            "_model_module": "@jupyter-widgets/base",
            "top": null,
            "grid_column": null,
            "overflow_y": null,
            "overflow_x": null,
            "grid_auto_flow": null,
            "grid_area": null,
            "grid_template_columns": null,
            "flex": null,
            "_model_name": "LayoutModel",
            "justify_items": null,
            "grid_row": null,
            "max_height": null,
            "align_content": null,
            "visibility": null,
            "align_self": null,
            "height": null,
            "min_height": null,
            "padding": null,
            "grid_auto_rows": null,
            "grid_gap": null,
            "max_width": null,
            "order": null,
            "_view_module_version": "1.2.0",
            "grid_template_areas": null,
            "object_position": null,
            "object_fit": null,
            "grid_auto_columns": null,
            "margin": null,
            "display": null,
            "left": null
          }
        },
        "da787eff1e0c4ee9b24a405ed36780fb": {
          "model_module": "@jupyter-widgets/controls",
          "model_name": "ProgressStyleModel",
          "model_module_version": "1.5.0",
          "state": {
            "_view_name": "StyleView",
            "_model_name": "ProgressStyleModel",
            "description_width": "",
            "_view_module": "@jupyter-widgets/base",
            "_model_module_version": "1.5.0",
            "_view_count": null,
            "_view_module_version": "1.2.0",
            "bar_color": null,
            "_model_module": "@jupyter-widgets/controls"
          }
        },
        "c64cf354ece2446d8ce84b0f0f700ea0": {
          "model_module": "@jupyter-widgets/base",
          "model_name": "LayoutModel",
          "model_module_version": "1.2.0",
          "state": {
            "_view_name": "LayoutView",
            "grid_template_rows": null,
            "right": null,
            "justify_content": null,
            "_view_module": "@jupyter-widgets/base",
            "overflow": null,
            "_model_module_version": "1.2.0",
            "_view_count": null,
            "flex_flow": null,
            "width": null,
            "min_width": null,
            "border": null,
            "align_items": null,
            "bottom": null,
            "_model_module": "@jupyter-widgets/base",
            "top": null,
            "grid_column": null,
            "overflow_y": null,
            "overflow_x": null,
            "grid_auto_flow": null,
            "grid_area": null,
            "grid_template_columns": null,
            "flex": null,
            "_model_name": "LayoutModel",
            "justify_items": null,
            "grid_row": null,
            "max_height": null,
            "align_content": null,
            "visibility": null,
            "align_self": null,
            "height": null,
            "min_height": null,
            "padding": null,
            "grid_auto_rows": null,
            "grid_gap": null,
            "max_width": null,
            "order": null,
            "_view_module_version": "1.2.0",
            "grid_template_areas": null,
            "object_position": null,
            "object_fit": null,
            "grid_auto_columns": null,
            "margin": null,
            "display": null,
            "left": null
          }
        },
        "c4a8458f584e4d35b06448fe401871e9": {
          "model_module": "@jupyter-widgets/controls",
          "model_name": "DescriptionStyleModel",
          "model_module_version": "1.5.0",
          "state": {
            "_view_name": "StyleView",
            "_model_name": "DescriptionStyleModel",
            "description_width": "",
            "_view_module": "@jupyter-widgets/base",
            "_model_module_version": "1.5.0",
            "_view_count": null,
            "_view_module_version": "1.2.0",
            "_model_module": "@jupyter-widgets/controls"
          }
        },
        "299e0ea02967431c8a61f87fe7a7f9f8": {
          "model_module": "@jupyter-widgets/base",
          "model_name": "LayoutModel",
          "model_module_version": "1.2.0",
          "state": {
            "_view_name": "LayoutView",
            "grid_template_rows": null,
            "right": null,
            "justify_content": null,
            "_view_module": "@jupyter-widgets/base",
            "overflow": null,
            "_model_module_version": "1.2.0",
            "_view_count": null,
            "flex_flow": null,
            "width": null,
            "min_width": null,
            "border": null,
            "align_items": null,
            "bottom": null,
            "_model_module": "@jupyter-widgets/base",
            "top": null,
            "grid_column": null,
            "overflow_y": null,
            "overflow_x": null,
            "grid_auto_flow": null,
            "grid_area": null,
            "grid_template_columns": null,
            "flex": null,
            "_model_name": "LayoutModel",
            "justify_items": null,
            "grid_row": null,
            "max_height": null,
            "align_content": null,
            "visibility": null,
            "align_self": null,
            "height": null,
            "min_height": null,
            "padding": null,
            "grid_auto_rows": null,
            "grid_gap": null,
            "max_width": null,
            "order": null,
            "_view_module_version": "1.2.0",
            "grid_template_areas": null,
            "object_position": null,
            "object_fit": null,
            "grid_auto_columns": null,
            "margin": null,
            "display": null,
            "left": null
          }
        },
        "384165754e434348b2c45bba2df16333": {
          "model_module": "@jupyter-widgets/controls",
          "model_name": "HBoxModel",
          "model_module_version": "1.5.0",
          "state": {
            "_view_name": "HBoxView",
            "_dom_classes": [],
            "_model_name": "HBoxModel",
            "_view_module": "@jupyter-widgets/controls",
            "_model_module_version": "1.5.0",
            "_view_count": null,
            "_view_module_version": "1.5.0",
            "box_style": "",
            "layout": "IPY_MODEL_4c4727e80bd44a90833248a4ebf7c67c",
            "_model_module": "@jupyter-widgets/controls",
            "children": [
              "IPY_MODEL_00cf63b11b124c8aa4a953edc1ccf13d",
              "IPY_MODEL_cfe63ede0d7f41b9861fad7a976098cc",
              "IPY_MODEL_85ee74c2a8af4c4fa2e1dadf101930b9"
            ]
          }
        },
        "4c4727e80bd44a90833248a4ebf7c67c": {
          "model_module": "@jupyter-widgets/base",
          "model_name": "LayoutModel",
          "model_module_version": "1.2.0",
          "state": {
            "_view_name": "LayoutView",
            "grid_template_rows": null,
            "right": null,
            "justify_content": null,
            "_view_module": "@jupyter-widgets/base",
            "overflow": null,
            "_model_module_version": "1.2.0",
            "_view_count": null,
            "flex_flow": null,
            "width": null,
            "min_width": null,
            "border": null,
            "align_items": null,
            "bottom": null,
            "_model_module": "@jupyter-widgets/base",
            "top": null,
            "grid_column": null,
            "overflow_y": null,
            "overflow_x": null,
            "grid_auto_flow": null,
            "grid_area": null,
            "grid_template_columns": null,
            "flex": null,
            "_model_name": "LayoutModel",
            "justify_items": null,
            "grid_row": null,
            "max_height": null,
            "align_content": null,
            "visibility": null,
            "align_self": null,
            "height": null,
            "min_height": null,
            "padding": null,
            "grid_auto_rows": null,
            "grid_gap": null,
            "max_width": null,
            "order": null,
            "_view_module_version": "1.2.0",
            "grid_template_areas": null,
            "object_position": null,
            "object_fit": null,
            "grid_auto_columns": null,
            "margin": null,
            "display": null,
            "left": null
          }
        },
        "00cf63b11b124c8aa4a953edc1ccf13d": {
          "model_module": "@jupyter-widgets/controls",
          "model_name": "HTMLModel",
          "model_module_version": "1.5.0",
          "state": {
            "_view_name": "HTMLView",
            "style": "IPY_MODEL_8a21645926a94d7f8eec0327bb6bc373",
            "_dom_classes": [],
            "description": "",
            "_model_name": "HTMLModel",
            "placeholder": "​",
            "_view_module": "@jupyter-widgets/controls",
            "_model_module_version": "1.5.0",
            "value": "Downloading: 100%",
            "_view_count": null,
            "_view_module_version": "1.5.0",
            "description_tooltip": null,
            "_model_module": "@jupyter-widgets/controls",
            "layout": "IPY_MODEL_f496fc2ad9554be1ad1821527e8dbe27"
          }
        },
        "cfe63ede0d7f41b9861fad7a976098cc": {
          "model_module": "@jupyter-widgets/controls",
          "model_name": "FloatProgressModel",
          "model_module_version": "1.5.0",
          "state": {
            "_view_name": "ProgressView",
            "style": "IPY_MODEL_5c93fb976dee4544beabdc958e854e2a",
            "_dom_classes": [],
            "description": "",
            "_model_name": "FloatProgressModel",
            "bar_style": "success",
            "max": 1355881,
            "_view_module": "@jupyter-widgets/controls",
            "_model_module_version": "1.5.0",
            "value": 1355881,
            "_view_count": null,
            "_view_module_version": "1.5.0",
            "orientation": "horizontal",
            "min": 0,
            "description_tooltip": null,
            "_model_module": "@jupyter-widgets/controls",
            "layout": "IPY_MODEL_be5290685a864e838192fa0782d976a2"
          }
        },
        "85ee74c2a8af4c4fa2e1dadf101930b9": {
          "model_module": "@jupyter-widgets/controls",
          "model_name": "HTMLModel",
          "model_module_version": "1.5.0",
          "state": {
            "_view_name": "HTMLView",
            "style": "IPY_MODEL_f7dc54fb52bb436493aafb757229de6e",
            "_dom_classes": [],
            "description": "",
            "_model_name": "HTMLModel",
            "placeholder": "​",
            "_view_module": "@jupyter-widgets/controls",
            "_model_module_version": "1.5.0",
            "value": " 1.36M/1.36M [00:00&lt;00:00, 2.48MB/s]",
            "_view_count": null,
            "_view_module_version": "1.5.0",
            "description_tooltip": null,
            "_model_module": "@jupyter-widgets/controls",
            "layout": "IPY_MODEL_035a5c716a61479eba30d44f20b80129"
          }
        },
        "8a21645926a94d7f8eec0327bb6bc373": {
          "model_module": "@jupyter-widgets/controls",
          "model_name": "DescriptionStyleModel",
          "model_module_version": "1.5.0",
          "state": {
            "_view_name": "StyleView",
            "_model_name": "DescriptionStyleModel",
            "description_width": "",
            "_view_module": "@jupyter-widgets/base",
            "_model_module_version": "1.5.0",
            "_view_count": null,
            "_view_module_version": "1.2.0",
            "_model_module": "@jupyter-widgets/controls"
          }
        },
        "f496fc2ad9554be1ad1821527e8dbe27": {
          "model_module": "@jupyter-widgets/base",
          "model_name": "LayoutModel",
          "model_module_version": "1.2.0",
          "state": {
            "_view_name": "LayoutView",
            "grid_template_rows": null,
            "right": null,
            "justify_content": null,
            "_view_module": "@jupyter-widgets/base",
            "overflow": null,
            "_model_module_version": "1.2.0",
            "_view_count": null,
            "flex_flow": null,
            "width": null,
            "min_width": null,
            "border": null,
            "align_items": null,
            "bottom": null,
            "_model_module": "@jupyter-widgets/base",
            "top": null,
            "grid_column": null,
            "overflow_y": null,
            "overflow_x": null,
            "grid_auto_flow": null,
            "grid_area": null,
            "grid_template_columns": null,
            "flex": null,
            "_model_name": "LayoutModel",
            "justify_items": null,
            "grid_row": null,
            "max_height": null,
            "align_content": null,
            "visibility": null,
            "align_self": null,
            "height": null,
            "min_height": null,
            "padding": null,
            "grid_auto_rows": null,
            "grid_gap": null,
            "max_width": null,
            "order": null,
            "_view_module_version": "1.2.0",
            "grid_template_areas": null,
            "object_position": null,
            "object_fit": null,
            "grid_auto_columns": null,
            "margin": null,
            "display": null,
            "left": null
          }
        },
        "5c93fb976dee4544beabdc958e854e2a": {
          "model_module": "@jupyter-widgets/controls",
          "model_name": "ProgressStyleModel",
          "model_module_version": "1.5.0",
          "state": {
            "_view_name": "StyleView",
            "_model_name": "ProgressStyleModel",
            "description_width": "",
            "_view_module": "@jupyter-widgets/base",
            "_model_module_version": "1.5.0",
            "_view_count": null,
            "_view_module_version": "1.2.0",
            "bar_color": null,
            "_model_module": "@jupyter-widgets/controls"
          }
        },
        "be5290685a864e838192fa0782d976a2": {
          "model_module": "@jupyter-widgets/base",
          "model_name": "LayoutModel",
          "model_module_version": "1.2.0",
          "state": {
            "_view_name": "LayoutView",
            "grid_template_rows": null,
            "right": null,
            "justify_content": null,
            "_view_module": "@jupyter-widgets/base",
            "overflow": null,
            "_model_module_version": "1.2.0",
            "_view_count": null,
            "flex_flow": null,
            "width": null,
            "min_width": null,
            "border": null,
            "align_items": null,
            "bottom": null,
            "_model_module": "@jupyter-widgets/base",
            "top": null,
            "grid_column": null,
            "overflow_y": null,
            "overflow_x": null,
            "grid_auto_flow": null,
            "grid_area": null,
            "grid_template_columns": null,
            "flex": null,
            "_model_name": "LayoutModel",
            "justify_items": null,
            "grid_row": null,
            "max_height": null,
            "align_content": null,
            "visibility": null,
            "align_self": null,
            "height": null,
            "min_height": null,
            "padding": null,
            "grid_auto_rows": null,
            "grid_gap": null,
            "max_width": null,
            "order": null,
            "_view_module_version": "1.2.0",
            "grid_template_areas": null,
            "object_position": null,
            "object_fit": null,
            "grid_auto_columns": null,
            "margin": null,
            "display": null,
            "left": null
          }
        },
        "f7dc54fb52bb436493aafb757229de6e": {
          "model_module": "@jupyter-widgets/controls",
          "model_name": "DescriptionStyleModel",
          "model_module_version": "1.5.0",
          "state": {
            "_view_name": "StyleView",
            "_model_name": "DescriptionStyleModel",
            "description_width": "",
            "_view_module": "@jupyter-widgets/base",
            "_model_module_version": "1.5.0",
            "_view_count": null,
            "_view_module_version": "1.2.0",
            "_model_module": "@jupyter-widgets/controls"
          }
        },
        "035a5c716a61479eba30d44f20b80129": {
          "model_module": "@jupyter-widgets/base",
          "model_name": "LayoutModel",
          "model_module_version": "1.2.0",
          "state": {
            "_view_name": "LayoutView",
            "grid_template_rows": null,
            "right": null,
            "justify_content": null,
            "_view_module": "@jupyter-widgets/base",
            "overflow": null,
            "_model_module_version": "1.2.0",
            "_view_count": null,
            "flex_flow": null,
            "width": null,
            "min_width": null,
            "border": null,
            "align_items": null,
            "bottom": null,
            "_model_module": "@jupyter-widgets/base",
            "top": null,
            "grid_column": null,
            "overflow_y": null,
            "overflow_x": null,
            "grid_auto_flow": null,
            "grid_area": null,
            "grid_template_columns": null,
            "flex": null,
            "_model_name": "LayoutModel",
            "justify_items": null,
            "grid_row": null,
            "max_height": null,
            "align_content": null,
            "visibility": null,
            "align_self": null,
            "height": null,
            "min_height": null,
            "padding": null,
            "grid_auto_rows": null,
            "grid_gap": null,
            "max_width": null,
            "order": null,
            "_view_module_version": "1.2.0",
            "grid_template_areas": null,
            "object_position": null,
            "object_fit": null,
            "grid_auto_columns": null,
            "margin": null,
            "display": null,
            "left": null
          }
        },
        "4dd31862e6f94d4abddc57c32c4c1cbc": {
          "model_module": "@jupyter-widgets/controls",
          "model_name": "HBoxModel",
          "model_module_version": "1.5.0",
          "state": {
            "_view_name": "HBoxView",
            "_dom_classes": [],
            "_model_name": "HBoxModel",
            "_view_module": "@jupyter-widgets/controls",
            "_model_module_version": "1.5.0",
            "_view_count": null,
            "_view_module_version": "1.5.0",
            "box_style": "",
            "layout": "IPY_MODEL_9e13847e2d6643bc932aac43dc241eb9",
            "_model_module": "@jupyter-widgets/controls",
            "children": [
              "IPY_MODEL_c5839085582245a79443ea5f0b8130af",
              "IPY_MODEL_7549e4c2be0e45468fa6900203678a32",
              "IPY_MODEL_e2b022c76cca4ba192720467543afef1"
            ]
          }
        },
        "9e13847e2d6643bc932aac43dc241eb9": {
          "model_module": "@jupyter-widgets/base",
          "model_name": "LayoutModel",
          "model_module_version": "1.2.0",
          "state": {
            "_view_name": "LayoutView",
            "grid_template_rows": null,
            "right": null,
            "justify_content": null,
            "_view_module": "@jupyter-widgets/base",
            "overflow": null,
            "_model_module_version": "1.2.0",
            "_view_count": null,
            "flex_flow": null,
            "width": null,
            "min_width": null,
            "border": null,
            "align_items": null,
            "bottom": null,
            "_model_module": "@jupyter-widgets/base",
            "top": null,
            "grid_column": null,
            "overflow_y": null,
            "overflow_x": null,
            "grid_auto_flow": null,
            "grid_area": null,
            "grid_template_columns": null,
            "flex": null,
            "_model_name": "LayoutModel",
            "justify_items": null,
            "grid_row": null,
            "max_height": null,
            "align_content": null,
            "visibility": null,
            "align_self": null,
            "height": null,
            "min_height": null,
            "padding": null,
            "grid_auto_rows": null,
            "grid_gap": null,
            "max_width": null,
            "order": null,
            "_view_module_version": "1.2.0",
            "grid_template_areas": null,
            "object_position": null,
            "object_fit": null,
            "grid_auto_columns": null,
            "margin": null,
            "display": null,
            "left": null
          }
        },
        "c5839085582245a79443ea5f0b8130af": {
          "model_module": "@jupyter-widgets/controls",
          "model_name": "HTMLModel",
          "model_module_version": "1.5.0",
          "state": {
            "_view_name": "HTMLView",
            "style": "IPY_MODEL_6440a1131b484cf3bf20ab62cfbcc2e1",
            "_dom_classes": [],
            "description": "",
            "_model_name": "HTMLModel",
            "placeholder": "​",
            "_view_module": "@jupyter-widgets/controls",
            "_model_module_version": "1.5.0",
            "value": "Downloading: 100%",
            "_view_count": null,
            "_view_module_version": "1.5.0",
            "description_tooltip": null,
            "_model_module": "@jupyter-widgets/controls",
            "layout": "IPY_MODEL_8704dfd6ef1445f5a2b5e99b066fdd1e"
          }
        },
        "7549e4c2be0e45468fa6900203678a32": {
          "model_module": "@jupyter-widgets/controls",
          "model_name": "FloatProgressModel",
          "model_module_version": "1.5.0",
          "state": {
            "_view_name": "ProgressView",
            "style": "IPY_MODEL_133577f09d6f48aaa78936a91a6ea138",
            "_dom_classes": [],
            "description": "",
            "_model_name": "FloatProgressModel",
            "bar_style": "success",
            "max": 1174,
            "_view_module": "@jupyter-widgets/controls",
            "_model_module_version": "1.5.0",
            "value": 1174,
            "_view_count": null,
            "_view_module_version": "1.5.0",
            "orientation": "horizontal",
            "min": 0,
            "description_tooltip": null,
            "_model_module": "@jupyter-widgets/controls",
            "layout": "IPY_MODEL_5a35f82faac6457cb04c4a66bd0dfe63"
          }
        },
        "e2b022c76cca4ba192720467543afef1": {
          "model_module": "@jupyter-widgets/controls",
          "model_name": "HTMLModel",
          "model_module_version": "1.5.0",
          "state": {
            "_view_name": "HTMLView",
            "style": "IPY_MODEL_943106cf03c74799b5e7ec366de0d01e",
            "_dom_classes": [],
            "description": "",
            "_model_name": "HTMLModel",
            "placeholder": "​",
            "_view_module": "@jupyter-widgets/controls",
            "_model_module_version": "1.5.0",
            "value": " 1.17k/1.17k [00:00&lt;00:00, 27.2kB/s]",
            "_view_count": null,
            "_view_module_version": "1.5.0",
            "description_tooltip": null,
            "_model_module": "@jupyter-widgets/controls",
            "layout": "IPY_MODEL_a0a2fd3435714a02a51da92191470d71"
          }
        },
        "6440a1131b484cf3bf20ab62cfbcc2e1": {
          "model_module": "@jupyter-widgets/controls",
          "model_name": "DescriptionStyleModel",
          "model_module_version": "1.5.0",
          "state": {
            "_view_name": "StyleView",
            "_model_name": "DescriptionStyleModel",
            "description_width": "",
            "_view_module": "@jupyter-widgets/base",
            "_model_module_version": "1.5.0",
            "_view_count": null,
            "_view_module_version": "1.2.0",
            "_model_module": "@jupyter-widgets/controls"
          }
        },
        "8704dfd6ef1445f5a2b5e99b066fdd1e": {
          "model_module": "@jupyter-widgets/base",
          "model_name": "LayoutModel",
          "model_module_version": "1.2.0",
          "state": {
            "_view_name": "LayoutView",
            "grid_template_rows": null,
            "right": null,
            "justify_content": null,
            "_view_module": "@jupyter-widgets/base",
            "overflow": null,
            "_model_module_version": "1.2.0",
            "_view_count": null,
            "flex_flow": null,
            "width": null,
            "min_width": null,
            "border": null,
            "align_items": null,
            "bottom": null,
            "_model_module": "@jupyter-widgets/base",
            "top": null,
            "grid_column": null,
            "overflow_y": null,
            "overflow_x": null,
            "grid_auto_flow": null,
            "grid_area": null,
            "grid_template_columns": null,
            "flex": null,
            "_model_name": "LayoutModel",
            "justify_items": null,
            "grid_row": null,
            "max_height": null,
            "align_content": null,
            "visibility": null,
            "align_self": null,
            "height": null,
            "min_height": null,
            "padding": null,
            "grid_auto_rows": null,
            "grid_gap": null,
            "max_width": null,
            "order": null,
            "_view_module_version": "1.2.0",
            "grid_template_areas": null,
            "object_position": null,
            "object_fit": null,
            "grid_auto_columns": null,
            "margin": null,
            "display": null,
            "left": null
          }
        },
        "133577f09d6f48aaa78936a91a6ea138": {
          "model_module": "@jupyter-widgets/controls",
          "model_name": "ProgressStyleModel",
          "model_module_version": "1.5.0",
          "state": {
            "_view_name": "StyleView",
            "_model_name": "ProgressStyleModel",
            "description_width": "",
            "_view_module": "@jupyter-widgets/base",
            "_model_module_version": "1.5.0",
            "_view_count": null,
            "_view_module_version": "1.2.0",
            "bar_color": null,
            "_model_module": "@jupyter-widgets/controls"
          }
        },
        "5a35f82faac6457cb04c4a66bd0dfe63": {
          "model_module": "@jupyter-widgets/base",
          "model_name": "LayoutModel",
          "model_module_version": "1.2.0",
          "state": {
            "_view_name": "LayoutView",
            "grid_template_rows": null,
            "right": null,
            "justify_content": null,
            "_view_module": "@jupyter-widgets/base",
            "overflow": null,
            "_model_module_version": "1.2.0",
            "_view_count": null,
            "flex_flow": null,
            "width": null,
            "min_width": null,
            "border": null,
            "align_items": null,
            "bottom": null,
            "_model_module": "@jupyter-widgets/base",
            "top": null,
            "grid_column": null,
            "overflow_y": null,
            "overflow_x": null,
            "grid_auto_flow": null,
            "grid_area": null,
            "grid_template_columns": null,
            "flex": null,
            "_model_name": "LayoutModel",
            "justify_items": null,
            "grid_row": null,
            "max_height": null,
            "align_content": null,
            "visibility": null,
            "align_self": null,
            "height": null,
            "min_height": null,
            "padding": null,
            "grid_auto_rows": null,
            "grid_gap": null,
            "max_width": null,
            "order": null,
            "_view_module_version": "1.2.0",
            "grid_template_areas": null,
            "object_position": null,
            "object_fit": null,
            "grid_auto_columns": null,
            "margin": null,
            "display": null,
            "left": null
          }
        },
        "943106cf03c74799b5e7ec366de0d01e": {
          "model_module": "@jupyter-widgets/controls",
          "model_name": "DescriptionStyleModel",
          "model_module_version": "1.5.0",
          "state": {
            "_view_name": "StyleView",
            "_model_name": "DescriptionStyleModel",
            "description_width": "",
            "_view_module": "@jupyter-widgets/base",
            "_model_module_version": "1.5.0",
            "_view_count": null,
            "_view_module_version": "1.2.0",
            "_model_module": "@jupyter-widgets/controls"
          }
        },
        "a0a2fd3435714a02a51da92191470d71": {
          "model_module": "@jupyter-widgets/base",
          "model_name": "LayoutModel",
          "model_module_version": "1.2.0",
          "state": {
            "_view_name": "LayoutView",
            "grid_template_rows": null,
            "right": null,
            "justify_content": null,
            "_view_module": "@jupyter-widgets/base",
            "overflow": null,
            "_model_module_version": "1.2.0",
            "_view_count": null,
            "flex_flow": null,
            "width": null,
            "min_width": null,
            "border": null,
            "align_items": null,
            "bottom": null,
            "_model_module": "@jupyter-widgets/base",
            "top": null,
            "grid_column": null,
            "overflow_y": null,
            "overflow_x": null,
            "grid_auto_flow": null,
            "grid_area": null,
            "grid_template_columns": null,
            "flex": null,
            "_model_name": "LayoutModel",
            "justify_items": null,
            "grid_row": null,
            "max_height": null,
            "align_content": null,
            "visibility": null,
            "align_self": null,
            "height": null,
            "min_height": null,
            "padding": null,
            "grid_auto_rows": null,
            "grid_gap": null,
            "max_width": null,
            "order": null,
            "_view_module_version": "1.2.0",
            "grid_template_areas": null,
            "object_position": null,
            "object_fit": null,
            "grid_auto_columns": null,
            "margin": null,
            "display": null,
            "left": null
          }
        },
        "4a8482a23f154e06812001fa83f434a0": {
          "model_module": "@jupyter-widgets/controls",
          "model_name": "HBoxModel",
          "model_module_version": "1.5.0",
          "state": {
            "_view_name": "HBoxView",
            "_dom_classes": [],
            "_model_name": "HBoxModel",
            "_view_module": "@jupyter-widgets/controls",
            "_model_module_version": "1.5.0",
            "_view_count": null,
            "_view_module_version": "1.5.0",
            "box_style": "",
            "layout": "IPY_MODEL_733160dc120f4011860b1820e1c68cae",
            "_model_module": "@jupyter-widgets/controls",
            "children": [
              "IPY_MODEL_55c895b65e404168bbc4470dd5bf428d",
              "IPY_MODEL_b5b9d293e8f04b5ab8537b874a20d15a",
              "IPY_MODEL_f5b2b682664b44f08f445fec6c52aca8"
            ]
          }
        },
        "733160dc120f4011860b1820e1c68cae": {
          "model_module": "@jupyter-widgets/base",
          "model_name": "LayoutModel",
          "model_module_version": "1.2.0",
          "state": {
            "_view_name": "LayoutView",
            "grid_template_rows": null,
            "right": null,
            "justify_content": null,
            "_view_module": "@jupyter-widgets/base",
            "overflow": null,
            "_model_module_version": "1.2.0",
            "_view_count": null,
            "flex_flow": null,
            "width": null,
            "min_width": null,
            "border": null,
            "align_items": null,
            "bottom": null,
            "_model_module": "@jupyter-widgets/base",
            "top": null,
            "grid_column": null,
            "overflow_y": null,
            "overflow_x": null,
            "grid_auto_flow": null,
            "grid_area": null,
            "grid_template_columns": null,
            "flex": null,
            "_model_name": "LayoutModel",
            "justify_items": null,
            "grid_row": null,
            "max_height": null,
            "align_content": null,
            "visibility": null,
            "align_self": null,
            "height": null,
            "min_height": null,
            "padding": null,
            "grid_auto_rows": null,
            "grid_gap": null,
            "max_width": null,
            "order": null,
            "_view_module_version": "1.2.0",
            "grid_template_areas": null,
            "object_position": null,
            "object_fit": null,
            "grid_auto_columns": null,
            "margin": null,
            "display": null,
            "left": null
          }
        },
        "55c895b65e404168bbc4470dd5bf428d": {
          "model_module": "@jupyter-widgets/controls",
          "model_name": "HTMLModel",
          "model_module_version": "1.5.0",
          "state": {
            "_view_name": "HTMLView",
            "style": "IPY_MODEL_932d63b95d02474d9a954e43e1bc8365",
            "_dom_classes": [],
            "description": "",
            "_model_name": "HTMLModel",
            "placeholder": "​",
            "_view_module": "@jupyter-widgets/controls",
            "_model_module_version": "1.5.0",
            "value": "Downloading: 100%",
            "_view_count": null,
            "_view_module_version": "1.5.0",
            "description_tooltip": null,
            "_model_module": "@jupyter-widgets/controls",
            "layout": "IPY_MODEL_53a48b480246409aaa489c01ecfcf69c"
          }
        },
        "b5b9d293e8f04b5ab8537b874a20d15a": {
          "model_module": "@jupyter-widgets/controls",
          "model_name": "FloatProgressModel",
          "model_module_version": "1.5.0",
          "state": {
            "_view_name": "ProgressView",
            "style": "IPY_MODEL_6de8c59c849d4ab480b3f0a0278fb190",
            "_dom_classes": [],
            "description": "",
            "_model_name": "FloatProgressModel",
            "bar_style": "success",
            "max": 798293,
            "_view_module": "@jupyter-widgets/controls",
            "_model_module_version": "1.5.0",
            "value": 798293,
            "_view_count": null,
            "_view_module_version": "1.5.0",
            "orientation": "horizontal",
            "min": 0,
            "description_tooltip": null,
            "_model_module": "@jupyter-widgets/controls",
            "layout": "IPY_MODEL_c3068736822048379125c3761aff0df5"
          }
        },
        "f5b2b682664b44f08f445fec6c52aca8": {
          "model_module": "@jupyter-widgets/controls",
          "model_name": "HTMLModel",
          "model_module_version": "1.5.0",
          "state": {
            "_view_name": "HTMLView",
            "style": "IPY_MODEL_e15c54ec08a54836a7795cdc2a29f056",
            "_dom_classes": [],
            "description": "",
            "_model_name": "HTMLModel",
            "placeholder": "​",
            "_view_module": "@jupyter-widgets/controls",
            "_model_module_version": "1.5.0",
            "value": " 798k/798k [00:00&lt;00:00, 726kB/s]",
            "_view_count": null,
            "_view_module_version": "1.5.0",
            "description_tooltip": null,
            "_model_module": "@jupyter-widgets/controls",
            "layout": "IPY_MODEL_5fc89530fefb475b85158956cfe8da0c"
          }
        },
        "932d63b95d02474d9a954e43e1bc8365": {
          "model_module": "@jupyter-widgets/controls",
          "model_name": "DescriptionStyleModel",
          "model_module_version": "1.5.0",
          "state": {
            "_view_name": "StyleView",
            "_model_name": "DescriptionStyleModel",
            "description_width": "",
            "_view_module": "@jupyter-widgets/base",
            "_model_module_version": "1.5.0",
            "_view_count": null,
            "_view_module_version": "1.2.0",
            "_model_module": "@jupyter-widgets/controls"
          }
        },
        "53a48b480246409aaa489c01ecfcf69c": {
          "model_module": "@jupyter-widgets/base",
          "model_name": "LayoutModel",
          "model_module_version": "1.2.0",
          "state": {
            "_view_name": "LayoutView",
            "grid_template_rows": null,
            "right": null,
            "justify_content": null,
            "_view_module": "@jupyter-widgets/base",
            "overflow": null,
            "_model_module_version": "1.2.0",
            "_view_count": null,
            "flex_flow": null,
            "width": null,
            "min_width": null,
            "border": null,
            "align_items": null,
            "bottom": null,
            "_model_module": "@jupyter-widgets/base",
            "top": null,
            "grid_column": null,
            "overflow_y": null,
            "overflow_x": null,
            "grid_auto_flow": null,
            "grid_area": null,
            "grid_template_columns": null,
            "flex": null,
            "_model_name": "LayoutModel",
            "justify_items": null,
            "grid_row": null,
            "max_height": null,
            "align_content": null,
            "visibility": null,
            "align_self": null,
            "height": null,
            "min_height": null,
            "padding": null,
            "grid_auto_rows": null,
            "grid_gap": null,
            "max_width": null,
            "order": null,
            "_view_module_version": "1.2.0",
            "grid_template_areas": null,
            "object_position": null,
            "object_fit": null,
            "grid_auto_columns": null,
            "margin": null,
            "display": null,
            "left": null
          }
        },
        "6de8c59c849d4ab480b3f0a0278fb190": {
          "model_module": "@jupyter-widgets/controls",
          "model_name": "ProgressStyleModel",
          "model_module_version": "1.5.0",
          "state": {
            "_view_name": "StyleView",
            "_model_name": "ProgressStyleModel",
            "description_width": "",
            "_view_module": "@jupyter-widgets/base",
            "_model_module_version": "1.5.0",
            "_view_count": null,
            "_view_module_version": "1.2.0",
            "bar_color": null,
            "_model_module": "@jupyter-widgets/controls"
          }
        },
        "c3068736822048379125c3761aff0df5": {
          "model_module": "@jupyter-widgets/base",
          "model_name": "LayoutModel",
          "model_module_version": "1.2.0",
          "state": {
            "_view_name": "LayoutView",
            "grid_template_rows": null,
            "right": null,
            "justify_content": null,
            "_view_module": "@jupyter-widgets/base",
            "overflow": null,
            "_model_module_version": "1.2.0",
            "_view_count": null,
            "flex_flow": null,
            "width": null,
            "min_width": null,
            "border": null,
            "align_items": null,
            "bottom": null,
            "_model_module": "@jupyter-widgets/base",
            "top": null,
            "grid_column": null,
            "overflow_y": null,
            "overflow_x": null,
            "grid_auto_flow": null,
            "grid_area": null,
            "grid_template_columns": null,
            "flex": null,
            "_model_name": "LayoutModel",
            "justify_items": null,
            "grid_row": null,
            "max_height": null,
            "align_content": null,
            "visibility": null,
            "align_self": null,
            "height": null,
            "min_height": null,
            "padding": null,
            "grid_auto_rows": null,
            "grid_gap": null,
            "max_width": null,
            "order": null,
            "_view_module_version": "1.2.0",
            "grid_template_areas": null,
            "object_position": null,
            "object_fit": null,
            "grid_auto_columns": null,
            "margin": null,
            "display": null,
            "left": null
          }
        },
        "e15c54ec08a54836a7795cdc2a29f056": {
          "model_module": "@jupyter-widgets/controls",
          "model_name": "DescriptionStyleModel",
          "model_module_version": "1.5.0",
          "state": {
            "_view_name": "StyleView",
            "_model_name": "DescriptionStyleModel",
            "description_width": "",
            "_view_module": "@jupyter-widgets/base",
            "_model_module_version": "1.5.0",
            "_view_count": null,
            "_view_module_version": "1.2.0",
            "_model_module": "@jupyter-widgets/controls"
          }
        },
        "5fc89530fefb475b85158956cfe8da0c": {
          "model_module": "@jupyter-widgets/base",
          "model_name": "LayoutModel",
          "model_module_version": "1.2.0",
          "state": {
            "_view_name": "LayoutView",
            "grid_template_rows": null,
            "right": null,
            "justify_content": null,
            "_view_module": "@jupyter-widgets/base",
            "overflow": null,
            "_model_module_version": "1.2.0",
            "_view_count": null,
            "flex_flow": null,
            "width": null,
            "min_width": null,
            "border": null,
            "align_items": null,
            "bottom": null,
            "_model_module": "@jupyter-widgets/base",
            "top": null,
            "grid_column": null,
            "overflow_y": null,
            "overflow_x": null,
            "grid_auto_flow": null,
            "grid_area": null,
            "grid_template_columns": null,
            "flex": null,
            "_model_name": "LayoutModel",
            "justify_items": null,
            "grid_row": null,
            "max_height": null,
            "align_content": null,
            "visibility": null,
            "align_self": null,
            "height": null,
            "min_height": null,
            "padding": null,
            "grid_auto_rows": null,
            "grid_gap": null,
            "max_width": null,
            "order": null,
            "_view_module_version": "1.2.0",
            "grid_template_areas": null,
            "object_position": null,
            "object_fit": null,
            "grid_auto_columns": null,
            "margin": null,
            "display": null,
            "left": null
          }
        },
        "dfd6c231b1e74cec847c1a685d3f7e73": {
          "model_module": "@jupyter-widgets/controls",
          "model_name": "HBoxModel",
          "model_module_version": "1.5.0",
          "state": {
            "_view_name": "HBoxView",
            "_dom_classes": [],
            "_model_name": "HBoxModel",
            "_view_module": "@jupyter-widgets/controls",
            "_model_module_version": "1.5.0",
            "_view_count": null,
            "_view_module_version": "1.5.0",
            "box_style": "",
            "layout": "IPY_MODEL_c301790bd3d1450287e056786afb367f",
            "_model_module": "@jupyter-widgets/controls",
            "children": [
              "IPY_MODEL_f2ba8562a0d046e6a8ed2dc827b61307",
              "IPY_MODEL_25e8d1e4078c4920bb3caac181834f70",
              "IPY_MODEL_ee2958e2e3504ec5baed4c1b684e4d29"
            ]
          }
        },
        "c301790bd3d1450287e056786afb367f": {
          "model_module": "@jupyter-widgets/base",
          "model_name": "LayoutModel",
          "model_module_version": "1.2.0",
          "state": {
            "_view_name": "LayoutView",
            "grid_template_rows": null,
            "right": null,
            "justify_content": null,
            "_view_module": "@jupyter-widgets/base",
            "overflow": null,
            "_model_module_version": "1.2.0",
            "_view_count": null,
            "flex_flow": null,
            "width": null,
            "min_width": null,
            "border": null,
            "align_items": null,
            "bottom": null,
            "_model_module": "@jupyter-widgets/base",
            "top": null,
            "grid_column": null,
            "overflow_y": null,
            "overflow_x": null,
            "grid_auto_flow": null,
            "grid_area": null,
            "grid_template_columns": null,
            "flex": null,
            "_model_name": "LayoutModel",
            "justify_items": null,
            "grid_row": null,
            "max_height": null,
            "align_content": null,
            "visibility": null,
            "align_self": null,
            "height": null,
            "min_height": null,
            "padding": null,
            "grid_auto_rows": null,
            "grid_gap": null,
            "max_width": null,
            "order": null,
            "_view_module_version": "1.2.0",
            "grid_template_areas": null,
            "object_position": null,
            "object_fit": null,
            "grid_auto_columns": null,
            "margin": null,
            "display": null,
            "left": null
          }
        },
        "f2ba8562a0d046e6a8ed2dc827b61307": {
          "model_module": "@jupyter-widgets/controls",
          "model_name": "HTMLModel",
          "model_module_version": "1.5.0",
          "state": {
            "_view_name": "HTMLView",
            "style": "IPY_MODEL_76be95aaf43e42249a6eb0d5392bd9f4",
            "_dom_classes": [],
            "description": "",
            "_model_name": "HTMLModel",
            "placeholder": "​",
            "_view_module": "@jupyter-widgets/controls",
            "_model_module_version": "1.5.0",
            "value": "Downloading: 100%",
            "_view_count": null,
            "_view_module_version": "1.5.0",
            "description_tooltip": null,
            "_model_module": "@jupyter-widgets/controls",
            "layout": "IPY_MODEL_1b3928d2cfe64628a33fc0041ef814ff"
          }
        },
        "25e8d1e4078c4920bb3caac181834f70": {
          "model_module": "@jupyter-widgets/controls",
          "model_name": "FloatProgressModel",
          "model_module_version": "1.5.0",
          "state": {
            "_view_name": "ProgressView",
            "style": "IPY_MODEL_ddc2889a05064ba182c51ff835f4f80c",
            "_dom_classes": [],
            "description": "",
            "_model_name": "FloatProgressModel",
            "bar_style": "success",
            "max": 191,
            "_view_module": "@jupyter-widgets/controls",
            "_model_module_version": "1.5.0",
            "value": 191,
            "_view_count": null,
            "_view_module_version": "1.5.0",
            "orientation": "horizontal",
            "min": 0,
            "description_tooltip": null,
            "_model_module": "@jupyter-widgets/controls",
            "layout": "IPY_MODEL_a0c74237d8d0425791de6a954347299f"
          }
        },
        "ee2958e2e3504ec5baed4c1b684e4d29": {
          "model_module": "@jupyter-widgets/controls",
          "model_name": "HTMLModel",
          "model_module_version": "1.5.0",
          "state": {
            "_view_name": "HTMLView",
            "style": "IPY_MODEL_a585e5068e4245d0ad933f6145724359",
            "_dom_classes": [],
            "description": "",
            "_model_name": "HTMLModel",
            "placeholder": "​",
            "_view_module": "@jupyter-widgets/controls",
            "_model_module_version": "1.5.0",
            "value": " 191/191 [00:00&lt;00:00, 4.29kB/s]",
            "_view_count": null,
            "_view_module_version": "1.5.0",
            "description_tooltip": null,
            "_model_module": "@jupyter-widgets/controls",
            "layout": "IPY_MODEL_6711cdbc07114716a95770b03a3ebef5"
          }
        },
        "76be95aaf43e42249a6eb0d5392bd9f4": {
          "model_module": "@jupyter-widgets/controls",
          "model_name": "DescriptionStyleModel",
          "model_module_version": "1.5.0",
          "state": {
            "_view_name": "StyleView",
            "_model_name": "DescriptionStyleModel",
            "description_width": "",
            "_view_module": "@jupyter-widgets/base",
            "_model_module_version": "1.5.0",
            "_view_count": null,
            "_view_module_version": "1.2.0",
            "_model_module": "@jupyter-widgets/controls"
          }
        },
        "1b3928d2cfe64628a33fc0041ef814ff": {
          "model_module": "@jupyter-widgets/base",
          "model_name": "LayoutModel",
          "model_module_version": "1.2.0",
          "state": {
            "_view_name": "LayoutView",
            "grid_template_rows": null,
            "right": null,
            "justify_content": null,
            "_view_module": "@jupyter-widgets/base",
            "overflow": null,
            "_model_module_version": "1.2.0",
            "_view_count": null,
            "flex_flow": null,
            "width": null,
            "min_width": null,
            "border": null,
            "align_items": null,
            "bottom": null,
            "_model_module": "@jupyter-widgets/base",
            "top": null,
            "grid_column": null,
            "overflow_y": null,
            "overflow_x": null,
            "grid_auto_flow": null,
            "grid_area": null,
            "grid_template_columns": null,
            "flex": null,
            "_model_name": "LayoutModel",
            "justify_items": null,
            "grid_row": null,
            "max_height": null,
            "align_content": null,
            "visibility": null,
            "align_self": null,
            "height": null,
            "min_height": null,
            "padding": null,
            "grid_auto_rows": null,
            "grid_gap": null,
            "max_width": null,
            "order": null,
            "_view_module_version": "1.2.0",
            "grid_template_areas": null,
            "object_position": null,
            "object_fit": null,
            "grid_auto_columns": null,
            "margin": null,
            "display": null,
            "left": null
          }
        },
        "ddc2889a05064ba182c51ff835f4f80c": {
          "model_module": "@jupyter-widgets/controls",
          "model_name": "ProgressStyleModel",
          "model_module_version": "1.5.0",
          "state": {
            "_view_name": "StyleView",
            "_model_name": "ProgressStyleModel",
            "description_width": "",
            "_view_module": "@jupyter-widgets/base",
            "_model_module_version": "1.5.0",
            "_view_count": null,
            "_view_module_version": "1.2.0",
            "bar_color": null,
            "_model_module": "@jupyter-widgets/controls"
          }
        },
        "a0c74237d8d0425791de6a954347299f": {
          "model_module": "@jupyter-widgets/base",
          "model_name": "LayoutModel",
          "model_module_version": "1.2.0",
          "state": {
            "_view_name": "LayoutView",
            "grid_template_rows": null,
            "right": null,
            "justify_content": null,
            "_view_module": "@jupyter-widgets/base",
            "overflow": null,
            "_model_module_version": "1.2.0",
            "_view_count": null,
            "flex_flow": null,
            "width": null,
            "min_width": null,
            "border": null,
            "align_items": null,
            "bottom": null,
            "_model_module": "@jupyter-widgets/base",
            "top": null,
            "grid_column": null,
            "overflow_y": null,
            "overflow_x": null,
            "grid_auto_flow": null,
            "grid_area": null,
            "grid_template_columns": null,
            "flex": null,
            "_model_name": "LayoutModel",
            "justify_items": null,
            "grid_row": null,
            "max_height": null,
            "align_content": null,
            "visibility": null,
            "align_self": null,
            "height": null,
            "min_height": null,
            "padding": null,
            "grid_auto_rows": null,
            "grid_gap": null,
            "max_width": null,
            "order": null,
            "_view_module_version": "1.2.0",
            "grid_template_areas": null,
            "object_position": null,
            "object_fit": null,
            "grid_auto_columns": null,
            "margin": null,
            "display": null,
            "left": null
          }
        },
        "a585e5068e4245d0ad933f6145724359": {
          "model_module": "@jupyter-widgets/controls",
          "model_name": "DescriptionStyleModel",
          "model_module_version": "1.5.0",
          "state": {
            "_view_name": "StyleView",
            "_model_name": "DescriptionStyleModel",
            "description_width": "",
            "_view_module": "@jupyter-widgets/base",
            "_model_module_version": "1.5.0",
            "_view_count": null,
            "_view_module_version": "1.2.0",
            "_model_module": "@jupyter-widgets/controls"
          }
        },
        "6711cdbc07114716a95770b03a3ebef5": {
          "model_module": "@jupyter-widgets/base",
          "model_name": "LayoutModel",
          "model_module_version": "1.2.0",
          "state": {
            "_view_name": "LayoutView",
            "grid_template_rows": null,
            "right": null,
            "justify_content": null,
            "_view_module": "@jupyter-widgets/base",
            "overflow": null,
            "_model_module_version": "1.2.0",
            "_view_count": null,
            "flex_flow": null,
            "width": null,
            "min_width": null,
            "border": null,
            "align_items": null,
            "bottom": null,
            "_model_module": "@jupyter-widgets/base",
            "top": null,
            "grid_column": null,
            "overflow_y": null,
            "overflow_x": null,
            "grid_auto_flow": null,
            "grid_area": null,
            "grid_template_columns": null,
            "flex": null,
            "_model_name": "LayoutModel",
            "justify_items": null,
            "grid_row": null,
            "max_height": null,
            "align_content": null,
            "visibility": null,
            "align_self": null,
            "height": null,
            "min_height": null,
            "padding": null,
            "grid_auto_rows": null,
            "grid_gap": null,
            "max_width": null,
            "order": null,
            "_view_module_version": "1.2.0",
            "grid_template_areas": null,
            "object_position": null,
            "object_fit": null,
            "grid_auto_columns": null,
            "margin": null,
            "display": null,
            "left": null
          }
        }
      }
    }
  },
  "cells": [
    {
      "cell_type": "markdown",
      "metadata": {
        "id": "BggDwv-09WMa"
      },
      "source": [
        "# Applied Machine Learning Homework Week 9a\n",
        " "
      ]
    },
    {
      "cell_type": "markdown",
      "metadata": {
        "id": "UmQmZ3Dq9WMd"
      },
      "source": [
        "\n",
        "\n",
        "## NLP for NLU using Transformers"
      ]
    },
    {
      "cell_type": "markdown",
      "metadata": {
        "id": "mmILtihc9WMe"
      },
      "source": [
        "#### This is the homework for Applied Machine Learning, Part 2, NLP for NLU.\n",
        "##### Week -3\n"
      ]
    },
    {
      "cell_type": "markdown",
      "metadata": {
        "id": "ujbDRoeU9WMf"
      },
      "source": [
        "\n",
        "\n",
        "<div class=\"alert alert-info\" style=\"background-color:#5d3a8e; color:white; padding:0px 10px; border-radius:5px;\"><h2 style='margin:10px 5px'> Part 1: Summarization and Topics Modeling of Articles</h2>\n",
        "</div>\n",
        "\n",
        "\n",
        "1. Read large text:\n",
        "  -- Google search for a topic \n",
        "  -- get list of top ten articles\n",
        "2. extract into sentences ended with '.' [period]\n",
        "3. write to a text file\n",
        "4. read text file into list\n",
        "5. summarize text using transformers \n",
        "   \n",
        "   Find summaries -- see project details at end of notebook \n",
        "   \n",
        "   try and plot comparisons of 5 combinations/permutations of the list sequence created in step 4 above\n",
        "   to see the effects of chunking on the summarization\n",
        "6. Do 2 distillations on the original article and the summary:\n",
        "   topics, named entity recognition"
      ]
    },
    {
      "cell_type": "markdown",
      "metadata": {
        "id": "nLPrKh2Oi6cx"
      },
      "source": [
        "## Pipeline: Scraping of top urls from google search for topic \"Thanksgiving\""
      ]
    },
    {
      "cell_type": "code",
      "metadata": {
        "id": "nIQE2jnIiulH"
      },
      "source": [
        "import urllib\n",
        "from bs4 import BeautifulSoup\n",
        "import requests\n",
        "import webbrowser\n",
        "\n",
        "text = 'fox news thanksgiving'\n",
        "text = urllib.parse.quote_plus(text)\n",
        "\n",
        "url = 'https://google.com/search?q=' + text\n",
        "\n",
        "response = requests.get(url)\n",
        "new_urls=set()\n",
        "soup = BeautifulSoup(response.text, \"html.parser\")\n",
        "for g in soup.find_all('a',href=True):\n",
        "  if 'foxnews.com' in g['href']:\n",
        "    u_str = g['href'][7:].split('&')[0]\n",
        "    if not u_str.endswith(\"thanksgiving\"):\n",
        "      new_urls.add(u_str)\n",
        "    # if len(new_urls)>2:\n",
        "    #   break;\n"
      ],
      "execution_count": null,
      "outputs": []
    },
    {
      "cell_type": "markdown",
      "metadata": {
        "id": "lqvO_JEJmFX4"
      },
      "source": [
        "Scrapped Article URLS"
      ]
    },
    {
      "cell_type": "code",
      "metadata": {
        "colab": {
          "base_uri": "https://localhost:8080/"
        },
        "id": "sQILlef3bfht",
        "outputId": "9391c2bf-7f04-481a-9e3f-aea596f97e12"
      },
      "source": [
        "output_files_temp = []\n",
        "i = 1\n",
        "for url in new_urls: \n",
        "     print (url)\n",
        "     output_files_temp.append(\"thanksgiving\"+ str(i)+\".txt\")\n",
        "     i = i + 1\n",
        "len(new_urls)"
      ],
      "execution_count": null,
      "outputs": [
        {
          "output_type": "stream",
          "name": "stdout",
          "text": [
            "https://www.foxnews.com/media/history-of-thanksgiving-fox-nation\n",
            "https://www.foxnews.com/opinion/thanksgiving-democracy-america-parents-freedom\n",
            "https://www.foxnews.com/lifestyle/best-hometown-bars-america-thanksgiving-eve\n",
            "https://www.foxnews.com/media/fauci-thanksgiving-message-vaccine-family\n",
            "https://www.foxnews.com/media/axios-thanksgiving-bouncers\n",
            "https://www.foxnews.com/media/biden-thanksgiving-billionare-inflation\n"
          ]
        },
        {
          "output_type": "execute_result",
          "data": {
            "text/plain": [
              "6"
            ]
          },
          "metadata": {},
          "execution_count": 2
        }
      ]
    },
    {
      "cell_type": "code",
      "metadata": {
        "colab": {
          "base_uri": "https://localhost:8080/"
        },
        "id": "eqv38POEnlrf",
        "outputId": "e8cc244e-c437-4db2-e830-5b785778a98d"
      },
      "source": [
        "#Output file names:\n",
        "print (output_files_temp)"
      ],
      "execution_count": null,
      "outputs": [
        {
          "output_type": "stream",
          "name": "stdout",
          "text": [
            "['thanksgiving1.txt', 'thanksgiving2.txt', 'thanksgiving3.txt', 'thanksgiving4.txt', 'thanksgiving5.txt', 'thanksgiving6.txt']\n"
          ]
        }
      ]
    },
    {
      "cell_type": "markdown",
      "metadata": {
        "id": "Pkq4pDB49WMg"
      },
      "source": [
        "##Below are the links scraped from automation code"
      ]
    },
    {
      "cell_type": "code",
      "metadata": {
        "id": "KW6I-UZF9WMg"
      },
      "source": [
        "\n",
        "# page1 = \"https://www.foxnews.com/lifestyle/thanksgiving-history-holiday-traditions-origins\"\n",
        "# page2 = \"https://www.foxnews.com/politics/government-agencies-tell-americans-downsize-thanksgiving-mask-up-around-family-vaxxed\"\n",
        "# page3 = \"https://www.foxnews.com/media/critics-new-york-times-thanksgiving-advice-kids-vaccinated\"\n",
        "\n",
        "# output_file1 = \"thanksgiving1.txt\"\n",
        "# output_file2 = \"thanksgiving2.txt\"\n",
        "# output_file3 = \"thanksgiving3.txt\"\n",
        "\n",
        "pages = list(new_urls)\n",
        "# output_files =[output_file1,output_file2,output_file3]\n",
        "output_files = output_files_temp\n",
        "\n",
        "from bs4 import BeautifulSoup\n",
        "from bs4.element import Comment\n",
        "import urllib.request\n",
        "import nltk\n",
        "\n",
        "# https://www.nltk.org/book/ch05.html"
      ],
      "execution_count": null,
      "outputs": []
    },
    {
      "cell_type": "code",
      "metadata": {
        "scrolled": true,
        "colab": {
          "base_uri": "https://localhost:8080/"
        },
        "id": "JjPOFhHM9WMj",
        "outputId": "fa90698e-ca4e-4479-ffab-36dd5ee496bb"
      },
      "source": [
        "\n",
        "\n",
        "nltk.download('punkt')\n",
        "\n",
        "\n",
        "def tag_visible(element):\n",
        "    if element.parent.name in ['style', 'script', 'head', 'title', 'meta', '[document]']:\n",
        "        return False\n",
        "    if isinstance(element, Comment):\n",
        "        return False\n",
        "    return True\n",
        "\n",
        "\n",
        "def text_from_html(body):\n",
        "    soup = BeautifulSoup(body, 'html.parser')\n",
        "    texts = soup.findAll(text=True)\n",
        "    visible_texts = filter(tag_visible, texts)  \n",
        "    return u\" \".join(t.strip() for t in visible_texts)\n",
        "\n",
        "for x in range(len(pages)):\n",
        "\n",
        "    html = urllib.request.urlopen(pages[x]).read()\n",
        "    page_text =text_from_html(html)\n",
        "\n",
        "    my_list = nltk.tokenize.sent_tokenize(page_text) #Split into list of sentences.\n",
        " \n",
        "    textfile = open(output_files[x], \"w\")\n",
        "\n",
        "    for element in my_list:\n",
        "        textfile.write(element + \"\\n\")\n",
        "    textfile.close()\n",
        "\n",
        "    print(page_text)"
      ],
      "execution_count": null,
      "outputs": [
        {
          "output_type": "stream",
          "name": "stdout",
          "text": [
            "[nltk_data] Downloading package punkt to /root/nltk_data...\n",
            "[nltk_data]   Unzipping tokenizers/punkt.zip.\n",
            "   Fox News    U.S. Politics Media Opinion Business Entertainment Sports Lifestyle Weather TV Fox Nation Listen  More  Expand / Collapse search  Login  Watch TV  Menu  Hot Topics     Coronavirus  U.S.  Crime Military Education Terror Immigration Economy Personal Freedoms Fox News Investigates World  U.N. Conflicts Terrorism Disasters Global Economy Environment Religion Scandals Opinion  Politics  Executive Senate House Judiciary Foreign Policy Polls Elections Entertainment  Celebrity News Movies TV News Music News Style News Entertainment Video Business  Personal Finance Economy Markets Watchlist Lifestyle Real Estate Tech Lifestyle  Food + Drink Cars + Trucks Travel + Outdoors House + Home Fitness + Well-being Style + Beauty Family Faith Science  Archaeology Air & Space Planet Earth Wild Nature Natural Science Dinosaurs Tech  Security Innovation Drones Computers Video Games Military Tech Health  Coronavirus Healthy Living Medical Research Mental Health Cancer Heart Health Children's Health TV  Shows Personalities Watch Live Full Episodes Show Clips News Clips About  Contact Us Careers Fox Around the World Advertise With Us Media Relations Corporate Information Compliance Supplier Diversity Other  Fox Weather Fox Nation Fox News Shop Fox News Go Fox News Radio Newsletters Podcasts Apps & Products  Fox News  New Terms of Use  New Privacy Policy  Do Not Sell my Personal Information  Closed Captioning Policy  Help  Contact Us  This material may not be published, broadcast, rewritten,\n",
            "      or redistributed. ©2021 FOX News Network, LLC. All rights reserved.\n",
            "      Quotes displayed in real-time or delayed by at least 15 minutes. Market data provided by Factset . Powered and implemented by FactSet Digital Solutions . Legal Statement . Mutual Fund and ETF data provided by Refinitiv Lipper .  Facebook  Twitter  Instagram  RSS  Email     Fox Nation  Published  November 25   Exploring the real history of Thanksgiving and why it resonates differently this year  Fox Nation revisits the story of a uniquely American tradition    By Yael Halon   | Fox News   Facebook  Twitter  Flipboard  Comments  Print  Email   close   Video  Fox Nation looks at the true story of Thanksgiving  Mayflower descendant Lea Filson previews the special on ‘Fox &amp; Friends.’ When most Americans think of the first Thanksgiving , many likely think of the Mayflower Pilgrims gathering outdoors with Native Americans for a grand feast of turkey, bread, and colorful fall vegetables. But as the country gears up for an unfamiliar holiday season amid a global pandemic, the real history behind this uniquely American tradition resonates differently this year. PAULA DEEN REVEALS THE SECRETS TO A PERFECT THANKSGIVING MENU Fox Nation's new Thanksgiving special, \"A Very Nation Thanksgiving\" explores the little known hardships and hurdles faced by the Pilgrims on their passage to the New World, and focuses on their spirit of gratitude, strength, and perseverance despite the devastating losses they sustained. In September 1620, the Mayflower set out from Plymouth, England with 102 passengers aboard. Some were fleeing religious persecution, others were seeking prosperity. All were looking for the chance to build a new life. Two months later, the ship made an initial landing on Cape Cod, Mass., before establishing Plymouth Colony. Within a year, nearly half of the new arrivals had died.   The Mayflower II, a replica of the original ship that brought the Pilgrims to Massachusetts in 1620, is seen in Plymouth, Mass., in 2014. (AP Photo/Stephan Savoia, File) \"It was a terribly dark and cold winter, very icy outside, and many of the people on the ship were sick,\" Lea Filson, a Mayflower descendent, told Fox News. \"By the end of that winter, there were only 51 of them left.\" What most consider the first Thanksgiving to have been celebrated in October 1621 after the Pilgrims' first successful corn harvest in the New World -- made possible by the help of the Wampanoags, who taught the settlers to cultivate corn and master other survival skills. \"Wampanoags did indeed help and this was the first time that actual families landed in the New World with little children and the Wampanoags were very helpful,\" Filson explained. \" They helped to teach the Pilgrims how to plant and create a good harvest and eventually a peace alliance was agreed to by both sides that they kept for a good half-century.\" CDC UPDATES CORONAVIRUS THANKSGIVING GUIDANCE, URGES AGAINST TRAVEL The Fox Nation special , hosted by \"Fox & Friends\" co-host Brian Kilmeade, honors the 400th anniversary of the Mayflower landing at Plymouth Rock. The program features insight from Filson, Plimoth Patuxet Museums Chief Historian Richard Pickering and others as they take viewers through the history of the First Thanksgiving, the establishment of the holiday by U.S. presidents, and the evolution of American traditions today. To watch \"A Very Nation Thanksgiving\" and for more exclusive holiday content, visit Fox Nation and join today. Fox Nation programs are viewable on-demand and from your mobile device app, but only for Fox Nation subscribers. Go to Fox Nation to start a free trial and watch the extensive library from Tomi Lahren, Pete Hegseth, Abby Hornacek, Laura Ingraham, Ainsley Earhardt, Greg Gutfeld, Judge Andrew Napolitano and many more of your favorite Fox News personalities.   Yael Halon is a reporter for Fox News.                  Get all the stories you need-to-know from the most powerful name in news delivered first thing every morning to your inbox  Arrives Weekdays   Subscribe   Subscribed        Subscribe   You've successfully subscribed to this newsletter!     Coronavirus  U.S.  Crime Military Education Terror Immigration Economy Personal Freedoms Fox News Investigates World  U.N. Conflicts Terrorism Disasters Global Economy Environment Religion Scandals Opinion  Politics  Executive Senate House Judiciary Foreign Policy Polls Elections Entertainment  Celebrity News Movies TV News Music News Style News Entertainment Video Business  Personal Finance Economy Markets Watchlist Lifestyle Real Estate Tech Lifestyle  Food + Drink Cars + Trucks Travel + Outdoors House + Home Fitness + Well-being Style + Beauty Family Faith Science  Archaeology Air & Space Planet Earth Wild Nature Natural Science Dinosaurs Tech  Security Innovation Drones Computers Video Games Military Tech Health  Coronavirus Healthy Living Medical Research Mental Health Cancer Heart Health Children's Health TV  Shows Personalities Watch Live Full Episodes Show Clips News Clips About  Contact Us Careers Fox Around the World Advertise With Us Media Relations Corporate Information Compliance Supplier Diversity Other  Fox Weather Fox Nation Fox News Shop Fox News Go Fox News Radio Newsletters Podcasts Apps & Products  Facebook  Twitter  Instagram  Youtube  Flipboard  LinkedIn  Slack  RSS  Newsletters  Spotify  iHeartRadio  Fox News  New Terms of Use  New Privacy Policy  Do Not Sell my Personal Information  Closed Captioning Policy  Help  Contact Us  Accessibility Statement  This material may not be published, broadcast, rewritten, or redistributed. ©2021 FOX News Network, LLC. All rights reserved. Quotes displayed in real-time or delayed by at least 15 minutes. Market data provided by Factset . Powered and implemented by FactSet Digital Solutions . Legal Statement . Mutual Fund and ETF data provided by Refinitiv Lipper .   \n",
            "   Fox News    U.S. Politics Media Opinion Business Entertainment Sports Lifestyle Weather TV Fox Nation Listen  More  Expand / Collapse search  Login  Watch TV  Menu  Hot Topics     Coronavirus  U.S.  Crime Military Education Terror Immigration Economy Personal Freedoms Fox News Investigates World  U.N. Conflicts Terrorism Disasters Global Economy Environment Religion Scandals Opinion  Politics  Executive Senate House Judiciary Foreign Policy Polls Elections Entertainment  Celebrity News Movies TV News Music News Style News Entertainment Video Business  Personal Finance Economy Markets Watchlist Lifestyle Real Estate Tech Lifestyle  Food + Drink Cars + Trucks Travel + Outdoors House + Home Fitness + Well-being Style + Beauty Family Faith Science  Archaeology Air & Space Planet Earth Wild Nature Natural Science Dinosaurs Tech  Security Innovation Drones Computers Video Games Military Tech Health  Coronavirus Healthy Living Medical Research Mental Health Cancer Heart Health Children's Health TV  Shows Personalities Watch Live Full Episodes Show Clips News Clips About  Contact Us Careers Fox Around the World Advertise With Us Media Relations Corporate Information Compliance Supplier Diversity Other  Fox Weather Fox Nation Fox News Shop Fox News Go Fox News Radio Newsletters Podcasts Apps & Products  Fox News  New Terms of Use  New Privacy Policy  Do Not Sell my Personal Information  Closed Captioning Policy  Help  Contact Us  This material may not be published, broadcast, rewritten,\n",
            "      or redistributed. ©2021 FOX News Network, LLC. All rights reserved.\n",
            "      Quotes displayed in real-time or delayed by at least 15 minutes. Market data provided by Factset . Powered and implemented by FactSet Digital Solutions . Legal Statement . Mutual Fund and ETF data provided by Refinitiv Lipper .  Facebook  Twitter  Instagram  RSS  Email     OPINION  Published  11 hours ago   This Thanksgiving, I'm thankful for democracy and the commonsense of ordinary Americans  Americans are increasingly willing to stand up to defend democracy, individual rights, our history and culture    By K.T. McFarland   | Fox News   Facebook  Twitter  Flipboard  Comments  Print  Email   close   Video  Cancel culture targeting WSJ Thanksgiving editorials  WSJ Editorial Page Assistant Editor James Freeman on the efforts to push back against what he describes as attacks from the left-wing mob to cancel the longtime Thanksgiving editorials NEW You can now listen to Fox News articles! Our annual Thanksgiving dinner is a big deal at our house. This year, there are three generations of McFarlands at the table, ranging in age from 80 years to 80 days. After the feast and before the pies, we always go around the table asking everyone what they’re most thankful for this year. WALL STREET JOURNAL REFUSES TO BOW TO LEFT'S DEMANDS TO CANCEL THANKSGIVING EDITORIALS: ‘WE WON’T BEND' This year I’m going to venture into political waters—which is usually a topic best avoided at family gatherings—and declare my thanks for democracy, and for the triumph of the common sense of ordinary Americans.   U.S. President Joe Biden listens to first lady Jill Biden speak during a Thanksgiving event with U.S. service members and military families at Fort Bragg, North Carolina, U.S., November 22, 2021. REUTERS/Leah Millis We went into COVID lockdown nearly two years ago and have emerged to find a greatly changed America. \"Wokeism\" has taken over our schools, churches, media and corporations. Teachers indoctrinate children with racial hatred and anti-Americanism. Freedom of speech has been banned from college dorms and faculty lounges. Our most renowned media outlets routinely and proudly censor any voices criticizing the radical left’s socialist agenda. Some of our once great cities are defunding police departments. Our senior military officials used to focus on defeating America’s foreign adversaries; now they’re obsessed with which pronouns to use in training manuals. Anyone criticizing the new \"Woke America\" is attacked by social media mobs and by the \"cancel culture.\"   U.S. President Joe Biden pardons the national Thanksgiving turkey, Peanut Butter, as Phil Seger, chairman of the National Turkey Federation, and Andrea Welp, a turkey grower from Indiana, stand by during the 74th National Thanksgiving Turkey Presentation in the Rose Garden at the White House in Washington, U.S., November 19, 2021. REUTERS/Jonathan Ernst Just a few years ago, America was the gold standard for freedom and individual liberty. Now we’re the capital of group think. Almost all of us have in recent months had conversations with friends who look around the room and whisper fearfully, \"What has happened to America?\" The silent majority of Americans realize we’re going in a very bad direction—we're just not sure what to do about it.  Video But I’ve detected a shift in the last few weeks. People around the country have finally had enough and are starting to fight back. The silent majority has found its voice. We're willing to stand up the socialist, totalitarian, racist, anti-American agenda. The battlegrounds are not in Washington, they’re in local school boards, town halls, and in state capitols. The warriors are not in our military nor the FBI. They’re the ordinary citizens who live ordinary lives, but who are filled with extraordinary courage that inspire others in different communities to stand up for their rights.  Video Who are these patriots willing to stand up to defend democracy, individual rights, and American history and culture? They’re the judge, defense attorneys, and jurors in Kenosha, Wisconsin, who ensured Kyle Rittenhouse received a fair trial—despite death threats to the judge, defense attorneys, and jurists. They’re people like businessman turned candidate Glenn Youngkin, who won an historic victory in Virginia by focusing on what voters care about—their kids’ education and their communities. Or the truck driver who decided to challenge one of the most entrenched politicians in New Jersey and won.  Video They’re government employees like Justice Department Inspector General Michael Horowitz who warned the FBI and the Department of Justice have become too politicized. Many see them as pursuing a two-tiered system of justice—one for political allies and another for political opponents. Or the Justice Department whistleblower who provided evidence that the Attorney General is using the Patriot Act—originally designed to protect Americans from foreign terrorists—against average parents around the country who dare protest what their kids are being taught in school.  Video These examples are starting to pile up as more and more people around the country have decided they’ve had enough of socialism, of cancel culture, of reverse-racist agendas, and of anti-Americanism. This changed attitude is best reflected in recent polls and ratings. Support for President Joe Biden and the socialist agenda is collapsing. Left-wing media outlets like CNN, MSNBC, New York Times, and Washington Post are hemorrhaging audiences. CLICK HERE TO GET THE OPINION NEWSLETTER Americans, as a people, are slow to rile up. We’re generally focused on our families, friends, neighborhoods, and our jobs. We go to our kids’ soccer games—not school board meetings. We drive to work, not to political protests.   Turkeys are displayed for sale at a Jewel-Osco grocery store ahead of Thanksgiving, in Chicago, Illinois, U.S. November 18, 2021. REUTERS/Christopher Walljasper But push us far enough, and we will respond. That’s what is happening all over America today. It’s parent protests at school district meetings. It’s whistleblowers revealing government abuse of power. It’s veterans, businessmen, and even truck drivers who are stepping up to run for political office. It's democracy in action. CLICK HERE TO GET THE FOX NEWS APP It’s why I’m thankful for democracy. Our Founding Fathers understood the nature of government is always to expand its power and privilege. They took steps to guard against mob rule and a dictatorship of interest groups. I’m grateful they also had the wisdom to give the average, commonplace, ordinary Americans the power to stop them. This Thanksgiving, it’s God bless America—and our fellow Americans. CLICK HERE TO READ MORE FROM KT McFARLAND   K.T. McFarland was President Trump’s first deputy national security adviser and helped formulate his maximum pressure campaigns. She is the author of the book “Revolution: Trump, Washington and ‘We the People,’’                  Get the recap of top opinion commentary and original content throughout the week.  Arrives Daily   Subscribe   Subscribed        Subscribe   You've successfully subscribed to this newsletter!     Coronavirus  U.S.  Crime Military Education Terror Immigration Economy Personal Freedoms Fox News Investigates World  U.N. Conflicts Terrorism Disasters Global Economy Environment Religion Scandals Opinion  Politics  Executive Senate House Judiciary Foreign Policy Polls Elections Entertainment  Celebrity News Movies TV News Music News Style News Entertainment Video Business  Personal Finance Economy Markets Watchlist Lifestyle Real Estate Tech Lifestyle  Food + Drink Cars + Trucks Travel + Outdoors House + Home Fitness + Well-being Style + Beauty Family Faith Science  Archaeology Air & Space Planet Earth Wild Nature Natural Science Dinosaurs Tech  Security Innovation Drones Computers Video Games Military Tech Health  Coronavirus Healthy Living Medical Research Mental Health Cancer Heart Health Children's Health TV  Shows Personalities Watch Live Full Episodes Show Clips News Clips About  Contact Us Careers Fox Around the World Advertise With Us Media Relations Corporate Information Compliance Supplier Diversity Other  Fox Weather Fox Nation Fox News Shop Fox News Go Fox News Radio Newsletters Podcasts Apps & Products  Facebook  Twitter  Instagram  Youtube  Flipboard  LinkedIn  Slack  RSS  Newsletters  Spotify  iHeartRadio  Fox News  New Terms of Use  New Privacy Policy  Do Not Sell my Personal Information  Closed Captioning Policy  Help  Contact Us  Accessibility Statement  This material may not be published, broadcast, rewritten, or redistributed. ©2021 FOX News Network, LLC. All rights reserved. Quotes displayed in real-time or delayed by at least 15 minutes. Market data provided by Factset . Powered and implemented by FactSet Digital Solutions . Legal Statement . Mutual Fund and ETF data provided by Refinitiv Lipper .   \n",
            "   Fox News    U.S. Politics Media Opinion Business Entertainment Sports Lifestyle Weather TV Fox Nation Listen  More  Expand / Collapse search  Login  Watch TV  Menu  Hot Topics     Coronavirus  U.S.  Crime Military Education Terror Immigration Economy Personal Freedoms Fox News Investigates World  U.N. Conflicts Terrorism Disasters Global Economy Environment Religion Scandals Opinion  Politics  Executive Senate House Judiciary Foreign Policy Polls Elections Entertainment  Celebrity News Movies TV News Music News Style News Entertainment Video Business  Personal Finance Economy Markets Watchlist Lifestyle Real Estate Tech Lifestyle  Food + Drink Cars + Trucks Travel + Outdoors House + Home Fitness + Well-being Style + Beauty Family Faith Science  Archaeology Air & Space Planet Earth Wild Nature Natural Science Dinosaurs Tech  Security Innovation Drones Computers Video Games Military Tech Health  Coronavirus Healthy Living Medical Research Mental Health Cancer Heart Health Children's Health TV  Shows Personalities Watch Live Full Episodes Show Clips News Clips About  Contact Us Careers Fox Around the World Advertise With Us Media Relations Corporate Information Compliance Supplier Diversity Other  Fox Weather Fox Nation Fox News Shop Fox News Go Fox News Radio Newsletters Podcasts Apps & Products  Fox News  New Terms of Use  New Privacy Policy  Do Not Sell my Personal Information  Closed Captioning Policy  Help  Contact Us  This material may not be published, broadcast, rewritten,\n",
            "      or redistributed. ©2021 FOX News Network, LLC. All rights reserved.\n",
            "      Quotes displayed in real-time or delayed by at least 15 minutes. Market data provided by Factset . Powered and implemented by FactSet Digital Solutions . Legal Statement . Mutual Fund and ETF data provided by Refinitiv Lipper .  Facebook  Twitter  Instagram  RSS  Email     Thanksgiving  Published  11 hours ago  Last Update 10 hours ago  Best hometown bars in America for Thanksgiving Eve celebrations  Fox News Digital’s staff reveal top neighborhood restaurants and pubs to visit over Thanksgiving weekend    By Nicole Pelletiere   | Fox News   Facebook  Twitter  Flipboard  Comments  Print  Email   close   Video  Stew Leonard’s CEO: Inflation and this surprising item are driving up Thanksgiving prices  Stew Leonard discusses how inflation will impact the cost of holiday gatherings. Twas the night before Thanksgiving which historically calls for a cold one with familiar faces at your local tavern. Fox News Digital’s staff revealed their top picks on neighborhood restaurants and pubs to swing by when it’s time to head home for the holidays. From Wisconsin to Tennessee, Florida and beyond, here are the watering holes where \"everybody knows\" our names. East Troy House - East Troy, Wisconsin Established in 1836, East Troy House says it's Wisconsin's oldest tavern. The restaurant offers an array of brews, a fish fry on Friday's 11am-9pm and apparently has a \"haunted history.\"  Old Neighborhood Pub - Cedar Rapids, Iowa Old Neighborhood Pub is a place for solid food and spirits. The pub's \"Wings Wednesday\" appears to be popular with regulars.  Flying Squirrel - Chattanooga, Tennessee \"Good food, good atmosphere,\" says one of Fox News' lifestyle reporters. The Flying Squirrel describes itself as a neighborhood bar/restaurant with \"a killer weekend brunch.\"  Crackers Bar & Grill - Crystal River, Florida The bar outside of Crackers Bar & Grill offers live music and it's located on the water in a \"super small town in Florida.\" Menu special range from oysters to clams, fried spicy snapper and gator sausage.  O'Malley's on Main - Seal Beach, California O’Malleys on Main Street is an \"authentic Irish pub\" serving traditional Irish favorites and American comfort food. One Fox News editor describes its vibe: \"Nice people, good drinks, good time and everyone knows where to meet without having to coordinate.\"  UP on the Roof - Greenville, South Carolina Stop at this Greenville rooftop spot to soak in impressive views with a hand-crafted cocktail or craft beer in hand.  Granville Moore’s - Washington, DC This \"cozy\" Belgian bar has outstanding mussels and ales, plus a friendly staff.  George's - Iowa city, Iowa George's is known for its cheeseburgers, hot nuts and great happy hours, according to the spot's Facebook page.  Cleo's Brown Beam Tavern - Appleton, Wisconsin Hit Cleo's Brown Beam for winter-themed cocktails and decorations that'll get you in the holiday spirit.  The Violet Hour - Chicago, Illinois Enjoy a pre-prohibition style cocktail at The Violet Hour – located in the Windy City, in the heart of Wicker Park.  Vanguard Wine Bar - New York City Vanguard is a wine bar serving small plates in a relaxed atmosphere.  The 35er - Pasadena, California Pop into The 35er to watch the game and have a drink. A DJ is spinning each Friday and Saturday at this hometown pub.  The Heidelberg - Columbia, Missouri Townies have frequented \"The Berg\" since 1963. Known for its fried pork loin and German potato salad, the spot also has happy hour and BOGO app deals Monday through Friday.  Shannon's Bayshore - Long Beach, California Friendly neighborhood bar Shannon's Bayshore offers good vibes, drinks and a jukebox to play tunes.  Whistlers Inn - Cinnaminson, New Jersey Whistlers Inn has a small town vibe with popular bar scene. Enjoy its award-winning barbecue menu or watch the big game over a couple of cold pints.   The Reel - East Rockaway, New York This on-the-water community staple offers live music, a seafood menu and good cocktails.    Nicole Pelletiere is the Senior Lifestyle Editor for Fox News.                   Fun stories about food, relationships, the great outdoors and more.  Arrives Weekly   Subscribe   Subscribed        Subscribe   You've successfully subscribed to this newsletter!     Coronavirus  U.S.  Crime Military Education Terror Immigration Economy Personal Freedoms Fox News Investigates World  U.N. Conflicts Terrorism Disasters Global Economy Environment Religion Scandals Opinion  Politics  Executive Senate House Judiciary Foreign Policy Polls Elections Entertainment  Celebrity News Movies TV News Music News Style News Entertainment Video Business  Personal Finance Economy Markets Watchlist Lifestyle Real Estate Tech Lifestyle  Food + Drink Cars + Trucks Travel + Outdoors House + Home Fitness + Well-being Style + Beauty Family Faith Science  Archaeology Air & Space Planet Earth Wild Nature Natural Science Dinosaurs Tech  Security Innovation Drones Computers Video Games Military Tech Health  Coronavirus Healthy Living Medical Research Mental Health Cancer Heart Health Children's Health TV  Shows Personalities Watch Live Full Episodes Show Clips News Clips About  Contact Us Careers Fox Around the World Advertise With Us Media Relations Corporate Information Compliance Supplier Diversity Other  Fox Weather Fox Nation Fox News Shop Fox News Go Fox News Radio Newsletters Podcasts Apps & Products  Facebook  Twitter  Instagram  Youtube  Flipboard  LinkedIn  Slack  RSS  Newsletters  Spotify  iHeartRadio  Fox News  New Terms of Use  New Privacy Policy  Do Not Sell my Personal Information  Closed Captioning Policy  Help  Contact Us  Accessibility Statement  This material may not be published, broadcast, rewritten, or redistributed. ©2021 FOX News Network, LLC. All rights reserved. Quotes displayed in real-time or delayed by at least 15 minutes. Market data provided by Factset . Powered and implemented by FactSet Digital Solutions . Legal Statement . Mutual Fund and ETF data provided by Refinitiv Lipper .   \n",
            "   Fox News    U.S. Politics Media Opinion Business Entertainment Sports Lifestyle Weather TV Fox Nation Listen  More  Expand / Collapse search  Login  Watch TV  Menu  Hot Topics     Coronavirus  U.S.  Crime Military Education Terror Immigration Economy Personal Freedoms Fox News Investigates World  U.N. Conflicts Terrorism Disasters Global Economy Environment Religion Scandals Opinion  Politics  Executive Senate House Judiciary Foreign Policy Polls Elections Entertainment  Celebrity News Movies TV News Music News Style News Entertainment Video Business  Personal Finance Economy Markets Watchlist Lifestyle Real Estate Tech Lifestyle  Food + Drink Cars + Trucks Travel + Outdoors House + Home Fitness + Well-being Style + Beauty Family Faith Science  Archaeology Air & Space Planet Earth Wild Nature Natural Science Dinosaurs Tech  Security Innovation Drones Computers Video Games Military Tech Health  Coronavirus Healthy Living Medical Research Mental Health Cancer Heart Health Children's Health TV  Shows Personalities Watch Live Full Episodes Show Clips News Clips About  Contact Us Careers Fox Around the World Advertise With Us Media Relations Corporate Information Compliance Supplier Diversity Other  Fox Weather Fox Nation Fox News Shop Fox News Go Fox News Radio Newsletters Podcasts Apps & Products  Fox News  New Terms of Use  New Privacy Policy  Do Not Sell my Personal Information  Closed Captioning Policy  Help  Contact Us  This material may not be published, broadcast, rewritten,\n",
            "      or redistributed. ©2021 FOX News Network, LLC. All rights reserved.\n",
            "      Quotes displayed in real-time or delayed by at least 15 minutes. Market data provided by Factset . Powered and implemented by FactSet Digital Solutions . Legal Statement . Mutual Fund and ETF data provided by Refinitiv Lipper .  Facebook  Twitter  Instagram  RSS  Email     Fox News Flash  Published  1 hour ago   Fauci's 'dangerous' Thanksgiving message promotes division among families ahead of holidays: Campos-Duffy  Campos-Duffy urged families not to shy away from political conversations at Thanksgiving dinner    By Yael Halon   | Fox News   Facebook  Twitter  Flipboard  Comments  Print  Email   close   Video  Pete Hegseth: Why do so many on the left hate Thanksgiving?  'Fox & Friends Weekend' co-hosts Pete Hegseth and Rachel Campos-Duffy slam the media for trying to ruin Thanksgiving. Fox & Friends co-host Rachel Campos-Duffy on Wednesday slammed Dr. Anthony Fauci 's Thanksgiving guidance as \"dangerous\" in an appearance on \"Fox News Primetime,\" accusing him of sowing familial division and conflict over the holidays. Fauci, director of the National Institute of Allergy and Infectious Diseases and the Chief Medical Advisor to the President, implored people to enjoy the Thanksgiving holiday with vaccinated family members in a recent TV appearance on CNN. FAUCI PROMOTING THANKSGIVING FOR VACCINATED AMERICANS \"Obviously if you’re not vaccinated, you’re in a situation where you are more vulnerable to get infected,\" Fauci told the network. \"In the family setting, particularly among vaccinated people, enjoy the holiday.\" Campos-Duffy criticized what she called a \"very Marxist\" message. \"The second part is actually very dangerous to me,\" she said. \"He says you need to surround yourself with vaccinated people. So that means you need to divide your family you need to separate your family….turning families against each other, [is] very Marxist.\" Campos-Duffy also urged families not to shy away from political conversations at Thanksgiving dinner. \"This is a time families getting together at Thanksgiving gets a bad rap because people talk about religion and politics and there’s fighting,\" she said,\" but that’s exactly what should happen. CLICK HERE TO GET THE FOX NEWS APP \"It’s there at that family table in the safety and love of family that we learn to disagree. We learn to be tolerant. We learn to figure out that we – our families - are more important than politics. If we can’t do this with our own family because… they decided not to take orders from the government, well, guess what? We are never going to learn how to have those important conversations and be united with the greater American family.\"    Yael Halon is a reporter for Fox News.                  Get all the stories you need-to-know from the most powerful name in news delivered first thing every morning to your inbox  Arrives Weekdays   Subscribe   Subscribed        Subscribe   You've successfully subscribed to this newsletter!     Coronavirus  U.S.  Crime Military Education Terror Immigration Economy Personal Freedoms Fox News Investigates World  U.N. Conflicts Terrorism Disasters Global Economy Environment Religion Scandals Opinion  Politics  Executive Senate House Judiciary Foreign Policy Polls Elections Entertainment  Celebrity News Movies TV News Music News Style News Entertainment Video Business  Personal Finance Economy Markets Watchlist Lifestyle Real Estate Tech Lifestyle  Food + Drink Cars + Trucks Travel + Outdoors House + Home Fitness + Well-being Style + Beauty Family Faith Science  Archaeology Air & Space Planet Earth Wild Nature Natural Science Dinosaurs Tech  Security Innovation Drones Computers Video Games Military Tech Health  Coronavirus Healthy Living Medical Research Mental Health Cancer Heart Health Children's Health TV  Shows Personalities Watch Live Full Episodes Show Clips News Clips About  Contact Us Careers Fox Around the World Advertise With Us Media Relations Corporate Information Compliance Supplier Diversity Other  Fox Weather Fox Nation Fox News Shop Fox News Go Fox News Radio Newsletters Podcasts Apps & Products  Facebook  Twitter  Instagram  Youtube  Flipboard  LinkedIn  Slack  RSS  Newsletters  Spotify  iHeartRadio  Fox News  New Terms of Use  New Privacy Policy  Do Not Sell my Personal Information  Closed Captioning Policy  Help  Contact Us  Accessibility Statement  This material may not be published, broadcast, rewritten, or redistributed. ©2021 FOX News Network, LLC. All rights reserved. Quotes displayed in real-time or delayed by at least 15 minutes. Market data provided by Factset . Powered and implemented by FactSet Digital Solutions . Legal Statement . Mutual Fund and ETF data provided by Refinitiv Lipper .   \n",
            "   Fox News    U.S. Politics Media Opinion Business Entertainment Sports Lifestyle Weather TV Fox Nation Listen  More  Expand / Collapse search  Login  Watch TV  Menu  Hot Topics     Coronavirus  U.S.  Crime Military Education Terror Immigration Economy Personal Freedoms Fox News Investigates World  U.N. Conflicts Terrorism Disasters Global Economy Environment Religion Scandals Opinion  Politics  Executive Senate House Judiciary Foreign Policy Polls Elections Entertainment  Celebrity News Movies TV News Music News Style News Entertainment Video Business  Personal Finance Economy Markets Watchlist Lifestyle Real Estate Tech Lifestyle  Food + Drink Cars + Trucks Travel + Outdoors House + Home Fitness + Well-being Style + Beauty Family Faith Science  Archaeology Air & Space Planet Earth Wild Nature Natural Science Dinosaurs Tech  Security Innovation Drones Computers Video Games Military Tech Health  Coronavirus Healthy Living Medical Research Mental Health Cancer Heart Health Children's Health TV  Shows Personalities Watch Live Full Episodes Show Clips News Clips About  Contact Us Careers Fox Around the World Advertise With Us Media Relations Corporate Information Compliance Supplier Diversity Other  Fox Weather Fox Nation Fox News Shop Fox News Go Fox News Radio Newsletters Podcasts Apps & Products  Fox News  New Terms of Use  New Privacy Policy  Do Not Sell my Personal Information  Closed Captioning Policy  Help  Contact Us  This material may not be published, broadcast, rewritten,\n",
            "      or redistributed. ©2021 FOX News Network, LLC. All rights reserved.\n",
            "      Quotes displayed in real-time or delayed by at least 15 minutes. Market data provided by Factset . Powered and implemented by FactSet Digital Solutions . Legal Statement . Mutual Fund and ETF data provided by Refinitiv Lipper .  Facebook  Twitter  Instagram  RSS  Email     Thanksgiving  Published  17 hours ago   Axios panned for suggesting 'Thanksgiving bouncers' to administer COVID tests ahead of holiday gathering  'If this counts as journalism, then it should be taken out to pasture,' one critic reacted    By Joseph A. Wulfsohn   | Fox News   Facebook  Twitter  Flipboard  Comments  Print  Email   close   Video  Dr Makary: Don't be afraid to gather for Thanksgiving  Fox News contributor Dr. Marty Makary joins ‘Your World’ to discuss COVID as the holiday season approaches. Families across America are about to gather to celebrate Thanksgiving and while certain family members may be assigned to carve the turkey or bring a pumpkin pie, Axios is suggesting a new role for the holiday. \"No one really wants this job, but millions of households may need their own Thanksgiving bouncer,\" Axios began a report on Tuesday. \"The cover charge is a negative COVID test, done ahead of arrival or outside the front door.\" The report, co-authored by Axios politics managing editor and CNN analyst Margaret Talev and Axios health care editor Tina Reed, called for the \"normalizing\" of rapid COVID tests in order to \"help extended families feel a little more normal around the holiday dinner table.\" CRITICS PAN THANKSGIVING ADVICE IN NEW YORK TIMES THAT KIDS AREN'T FULLY VACCINATED SHOULD ‘EAT QUICKLY’ \"If you're hosting, let your guests know ahead of their arrival that you'll be testing everyone at the door for their own safety. If you're a guest who's anxious about attending without testing, talk to your host now about their plans and how you can help,\" Axios suggested. \"Depending on your budget, you might offer to pick up the tab for everyone's tests, or hosts might ask guests to pay for their own. At-home antigen tests cost around $25 for a box of two. Alternatively, guests who have gotten a PCR test within a couple of days prior could bring evidence of their negative results.\" \"One extra precaution may be to purchase enough tests for a re-test, or to ask guests to test on their own before and then again when they arrive for the meal,\" Axios told readers.   Elegant Thanksgiving Dinner (iStock) Axios had Gigi Gronvall of Johns Hopkins Center for Health Security cautioned the false-positive results that could emerge from the rapid antigen tests, telling the outlet, \"If you are negative, you can draw some comfort in that but it doesn't mean you'll always be negative. You just might be below the threshold. But you also might not, at that moment, be as much of a danger to somebody else either.\" Gronvall also suggested opening windows to improve circulation in homes. NBC SUGGESTS NOT HAVING THANKSGIVING TURKEY THIS YEAR TO DEAL WITH INFLATION COSTS CNN medical analyst Dr. Leana Wen called a rapid antigen test a \"very good for that kind of screening purpose\" to put relatives at ease. \"Enforcing testing rules at your holiday gathering can reduce the chances of COVID spread. But there's no way to eliminate the risk when people are gathering,\" Axios added.   As Americans prepare to gather with relatives and enjoy a Thanksgiving feast on Thursday, far-left pundits, columnists and news organizations have set their sights on the holiday. (iStock) Critics panned Axios for floating such strict COVID enforcements for Thanksgiving dinner. \"No,\" Rep. Dan Bishop, R-N.C., told Axios. \"Who are these people who not only think these things, but then decide it’s a good idea to write them down with their names attributed to them??!\" reacted \"The War on Small Business\" author Carol Roth. \"It's never been more clear that there are two Americas,\" radio host Tony Katz tweeted . \"If a family member confronts you and asks you for a negative covid test on thanksgiving, you should smoosh the mashed potatoes you brought firmly in their face,\" Tablet Magazine's Noam Blum suggested . CLICK HERE TO GET THE FOX NEWS APP \"Omg this is peak COVID media parody,\" The Daily Signal reporter Mary Margaret Olohan exclaimed . \"brb just heaving grandma out the window because she forgot her vax card,\" Washington Examiner reporter Jerry Dunleavy quipped . \"If this counts as journalism, then it should be taken out to pasture,\" conservative attorney Elliott Hamilton wrote .   Joseph A. Wulfsohn is a media reporter for Fox News. Follow him on Twitter @JosephWulfsohn.                  Get all the stories you need-to-know from the most powerful name in news delivered first thing every morning to your inbox  Arrives Weekdays   Subscribe   Subscribed        Subscribe   You've successfully subscribed to this newsletter!     Coronavirus  U.S.  Crime Military Education Terror Immigration Economy Personal Freedoms Fox News Investigates World  U.N. Conflicts Terrorism Disasters Global Economy Environment Religion Scandals Opinion  Politics  Executive Senate House Judiciary Foreign Policy Polls Elections Entertainment  Celebrity News Movies TV News Music News Style News Entertainment Video Business  Personal Finance Economy Markets Watchlist Lifestyle Real Estate Tech Lifestyle  Food + Drink Cars + Trucks Travel + Outdoors House + Home Fitness + Well-being Style + Beauty Family Faith Science  Archaeology Air & Space Planet Earth Wild Nature Natural Science Dinosaurs Tech  Security Innovation Drones Computers Video Games Military Tech Health  Coronavirus Healthy Living Medical Research Mental Health Cancer Heart Health Children's Health TV  Shows Personalities Watch Live Full Episodes Show Clips News Clips About  Contact Us Careers Fox Around the World Advertise With Us Media Relations Corporate Information Compliance Supplier Diversity Other  Fox Weather Fox Nation Fox News Shop Fox News Go Fox News Radio Newsletters Podcasts Apps & Products  Facebook  Twitter  Instagram  Youtube  Flipboard  LinkedIn  Slack  RSS  Newsletters  Spotify  iHeartRadio  Fox News  New Terms of Use  New Privacy Policy  Do Not Sell my Personal Information  Closed Captioning Policy  Help  Contact Us  Accessibility Statement  This material may not be published, broadcast, rewritten, or redistributed. ©2021 FOX News Network, LLC. All rights reserved. Quotes displayed in real-time or delayed by at least 15 minutes. Market data provided by Factset . Powered and implemented by FactSet Digital Solutions . Legal Statement . Mutual Fund and ETF data provided by Refinitiv Lipper .   \n",
            "   Fox News    U.S. Politics Media Opinion Business Entertainment Sports Lifestyle Weather TV Fox Nation Listen  More  Expand / Collapse search  Login  Watch TV  Menu  Hot Topics     Coronavirus  U.S.  Crime Military Education Terror Immigration Economy Personal Freedoms Fox News Investigates World  U.N. Conflicts Terrorism Disasters Global Economy Environment Religion Scandals Opinion  Politics  Executive Senate House Judiciary Foreign Policy Polls Elections Entertainment  Celebrity News Movies TV News Music News Style News Entertainment Video Business  Personal Finance Economy Markets Watchlist Lifestyle Real Estate Tech Lifestyle  Food + Drink Cars + Trucks Travel + Outdoors House + Home Fitness + Well-being Style + Beauty Family Faith Science  Archaeology Air & Space Planet Earth Wild Nature Natural Science Dinosaurs Tech  Security Innovation Drones Computers Video Games Military Tech Health  Coronavirus Healthy Living Medical Research Mental Health Cancer Heart Health Children's Health TV  Shows Personalities Watch Live Full Episodes Show Clips News Clips About  Contact Us Careers Fox Around the World Advertise With Us Media Relations Corporate Information Compliance Supplier Diversity Other  Fox Weather Fox Nation Fox News Shop Fox News Go Fox News Radio Newsletters Podcasts Apps & Products  Fox News  New Terms of Use  New Privacy Policy  Do Not Sell my Personal Information  Closed Captioning Policy  Help  Contact Us  This material may not be published, broadcast, rewritten,\n",
            "      or redistributed. ©2021 FOX News Network, LLC. All rights reserved.\n",
            "      Quotes displayed in real-time or delayed by at least 15 minutes. Market data provided by Factset . Powered and implemented by FactSet Digital Solutions . Legal Statement . Mutual Fund and ETF data provided by Refinitiv Lipper .  Facebook  Twitter  Instagram  RSS  Email     Fox News Flash  Published  6 hours ago   Biden criticized by 'The Five' for spending Thanksgiving at billionaire's Nantucket home amid inflation woes  Dagen McDowell also criticized Energy Secretary Granholm as 'incompetent'    By Charles Creitz   | Fox News   Facebook  Twitter  Flipboard  Comments  Print  Email   close   Video  Biden spending Thanksgiving on Nantucket with Carter-era billionaire  The panel on 'The Five' offers reaction and analysis Hosts of \"The Five\" criticized Biden Wednesday for embarking on a lavish Thanksgiving vacation on the Massachusetts island of Nantucket with a billionaire former adviser to President Carter . Biden arrived Wednesday on the island to visit former Carter domestic policy adviser David Rubenstein, a Baltimore native who founded the equity firm The Carlyle Group and is a former chairman of the Smithsonian. Dana Perino noted the president, who she called \"Scranton Joe\" after his working-class birthplace, is going on vacation to Rubenstein's $30 million estate while Americans are struggling amid his inflation, crime and border crises. \"Some say [it] looks widely out of touch with the problems everyday Americans are facing this Thanksgiving,\" she said, adding that the latest polls show inflation to be Americans' current top concern.   David M. Rubenstein (L), co-founder and co-chief executive officer at The Carlyle Group, holds a discussion with former British Prime Minister David Cameron during the SALT conference in Las Vegas, Nevada, U.S. May 17, 2017.  REUTERS/Richard Brian Biden spokeswoman Jen Psaki's defended Biden's actions, pointing out that the average turkey price is only up \"about a dollar more for a 20-pound bird, which is a huge bird if you are feeding a big family.\" \"Joe is literally giving us the bird,\" Greg Gutfeld remarked in response. \"I love this message – ‘Relax folks, you’ll get your yams' – his poll numbers are so bad the Thanksgiving turkey was thinking of pardoning him.\" Host Dagen McDowell went on to rip Energy Secretary Jen Granholm for an equally criticized message when she claimed not to know the average gasoline consumption in the country despite being in the discussions that led to the small release from the strategic petroleum reserves. \"Let me talk about the wholly incompetent cackling clatterbag that is our energy secretary, McDowell said. \"Why did they pick her? She’s completely incompetent.\"   President Joe Biden, with first lady Jill Biden, speaks during a visit at Brookland Middle School in northeast Washington, on Sept. 10. Biden has encouraged every school district to promote vaccines, including with on-site clinics. McDowell went on to suggest that Biden is joining Rubenstein for Thanksgiving over concern that he will eclipse former President Carter, who is often seen as the most economically incompetent president. \"Biden is spending Thanksgiving with David Rubenstein, who worked in the Carter administration. I suppose he’s going to be sitting around saying ‘tell me I’m not as bad as Jimmy’. Perino later added that Carter, now 97, must be watching the media and wondering why they decided to report so heavily on his administration's stagflation crisis and largely ignore similar inflation under Biden.                    Get all the stories you need-to-know from the most powerful name in news delivered first thing every morning to your inbox  Arrives Weekdays   Subscribe   Subscribed        Subscribe   You've successfully subscribed to this newsletter!     Coronavirus  U.S.  Crime Military Education Terror Immigration Economy Personal Freedoms Fox News Investigates World  U.N. Conflicts Terrorism Disasters Global Economy Environment Religion Scandals Opinion  Politics  Executive Senate House Judiciary Foreign Policy Polls Elections Entertainment  Celebrity News Movies TV News Music News Style News Entertainment Video Business  Personal Finance Economy Markets Watchlist Lifestyle Real Estate Tech Lifestyle  Food + Drink Cars + Trucks Travel + Outdoors House + Home Fitness + Well-being Style + Beauty Family Faith Science  Archaeology Air & Space Planet Earth Wild Nature Natural Science Dinosaurs Tech  Security Innovation Drones Computers Video Games Military Tech Health  Coronavirus Healthy Living Medical Research Mental Health Cancer Heart Health Children's Health TV  Shows Personalities Watch Live Full Episodes Show Clips News Clips About  Contact Us Careers Fox Around the World Advertise With Us Media Relations Corporate Information Compliance Supplier Diversity Other  Fox Weather Fox Nation Fox News Shop Fox News Go Fox News Radio Newsletters Podcasts Apps & Products  Facebook  Twitter  Instagram  Youtube  Flipboard  LinkedIn  Slack  RSS  Newsletters  Spotify  iHeartRadio  Fox News  New Terms of Use  New Privacy Policy  Do Not Sell my Personal Information  Closed Captioning Policy  Help  Contact Us  Accessibility Statement  This material may not be published, broadcast, rewritten, or redistributed. ©2021 FOX News Network, LLC. All rights reserved. Quotes displayed in real-time or delayed by at least 15 minutes. Market data provided by Factset . Powered and implemented by FactSet Digital Solutions . Legal Statement . Mutual Fund and ETF data provided by Refinitiv Lipper .   \n"
          ]
        }
      ]
    },
    {
      "cell_type": "markdown",
      "metadata": {
        "id": "FYk_peNO9WMm"
      },
      "source": [
        "## Summarize text using transformers"
      ]
    },
    {
      "cell_type": "code",
      "metadata": {
        "scrolled": true,
        "colab": {
          "base_uri": "https://localhost:8080/"
        },
        "id": "PTO4pJq79WMn",
        "outputId": "e637b170-b9d2-48ea-d66c-6c37c61cd642"
      },
      "source": [
        "\n",
        "!pip install transformers"
      ],
      "execution_count": null,
      "outputs": [
        {
          "output_type": "stream",
          "name": "stdout",
          "text": [
            "Collecting transformers\n",
            "  Downloading transformers-4.12.5-py3-none-any.whl (3.1 MB)\n",
            "\u001b[K     |████████████████████████████████| 3.1 MB 5.1 MB/s \n",
            "\u001b[?25hRequirement already satisfied: requests in /usr/local/lib/python3.7/dist-packages (from transformers) (2.23.0)\n",
            "Collecting pyyaml>=5.1\n",
            "  Downloading PyYAML-6.0-cp37-cp37m-manylinux_2_5_x86_64.manylinux1_x86_64.manylinux_2_12_x86_64.manylinux2010_x86_64.whl (596 kB)\n",
            "\u001b[K     |████████████████████████████████| 596 kB 50.7 MB/s \n",
            "\u001b[?25hRequirement already satisfied: filelock in /usr/local/lib/python3.7/dist-packages (from transformers) (3.4.0)\n",
            "Collecting sacremoses\n",
            "  Downloading sacremoses-0.0.46-py3-none-any.whl (895 kB)\n",
            "\u001b[K     |████████████████████████████████| 895 kB 60.1 MB/s \n",
            "\u001b[?25hRequirement already satisfied: packaging>=20.0 in /usr/local/lib/python3.7/dist-packages (from transformers) (21.3)\n",
            "Requirement already satisfied: tqdm>=4.27 in /usr/local/lib/python3.7/dist-packages (from transformers) (4.62.3)\n",
            "Requirement already satisfied: numpy>=1.17 in /usr/local/lib/python3.7/dist-packages (from transformers) (1.19.5)\n",
            "Requirement already satisfied: regex!=2019.12.17 in /usr/local/lib/python3.7/dist-packages (from transformers) (2019.12.20)\n",
            "Requirement already satisfied: importlib-metadata in /usr/local/lib/python3.7/dist-packages (from transformers) (4.8.2)\n",
            "Collecting tokenizers<0.11,>=0.10.1\n",
            "  Downloading tokenizers-0.10.3-cp37-cp37m-manylinux_2_5_x86_64.manylinux1_x86_64.manylinux_2_12_x86_64.manylinux2010_x86_64.whl (3.3 MB)\n",
            "\u001b[K     |████████████████████████████████| 3.3 MB 39.4 MB/s \n",
            "\u001b[?25hCollecting huggingface-hub<1.0,>=0.1.0\n",
            "  Downloading huggingface_hub-0.1.2-py3-none-any.whl (59 kB)\n",
            "\u001b[K     |████████████████████████████████| 59 kB 6.1 MB/s \n",
            "\u001b[?25hRequirement already satisfied: typing-extensions>=3.7.4.3 in /usr/local/lib/python3.7/dist-packages (from huggingface-hub<1.0,>=0.1.0->transformers) (3.10.0.2)\n",
            "Requirement already satisfied: pyparsing!=3.0.5,>=2.0.2 in /usr/local/lib/python3.7/dist-packages (from packaging>=20.0->transformers) (3.0.6)\n",
            "Requirement already satisfied: zipp>=0.5 in /usr/local/lib/python3.7/dist-packages (from importlib-metadata->transformers) (3.6.0)\n",
            "Requirement already satisfied: idna<3,>=2.5 in /usr/local/lib/python3.7/dist-packages (from requests->transformers) (2.10)\n",
            "Requirement already satisfied: certifi>=2017.4.17 in /usr/local/lib/python3.7/dist-packages (from requests->transformers) (2021.10.8)\n",
            "Requirement already satisfied: chardet<4,>=3.0.2 in /usr/local/lib/python3.7/dist-packages (from requests->transformers) (3.0.4)\n",
            "Requirement already satisfied: urllib3!=1.25.0,!=1.25.1,<1.26,>=1.21.1 in /usr/local/lib/python3.7/dist-packages (from requests->transformers) (1.24.3)\n",
            "Requirement already satisfied: joblib in /usr/local/lib/python3.7/dist-packages (from sacremoses->transformers) (1.1.0)\n",
            "Requirement already satisfied: click in /usr/local/lib/python3.7/dist-packages (from sacremoses->transformers) (7.1.2)\n",
            "Requirement already satisfied: six in /usr/local/lib/python3.7/dist-packages (from sacremoses->transformers) (1.15.0)\n",
            "Installing collected packages: pyyaml, tokenizers, sacremoses, huggingface-hub, transformers\n",
            "  Attempting uninstall: pyyaml\n",
            "    Found existing installation: PyYAML 3.13\n",
            "    Uninstalling PyYAML-3.13:\n",
            "      Successfully uninstalled PyYAML-3.13\n",
            "Successfully installed huggingface-hub-0.1.2 pyyaml-6.0 sacremoses-0.0.46 tokenizers-0.10.3 transformers-4.12.5\n"
          ]
        }
      ]
    },
    {
      "cell_type": "code",
      "metadata": {
        "id": "xmQGfepW9WMn"
      },
      "source": [
        "from transformers import pipeline\n",
        "import os"
      ],
      "execution_count": null,
      "outputs": []
    },
    {
      "cell_type": "code",
      "metadata": {
        "id": "Oq_-HRLb9WMo"
      },
      "source": [
        "os.environ[\"CUDA_VISIBLE_DEVICES\"] = \"0\""
      ],
      "execution_count": null,
      "outputs": []
    },
    {
      "cell_type": "code",
      "metadata": {
        "colab": {
          "base_uri": "https://localhost:8080/",
          "height": 194,
          "referenced_widgets": [
            "b488b0fb5c56461799b175e7bef190b2",
            "3c8e34297b594788974a79d7bfd0dca5",
            "35c7b23ab9564a49926272ccc6ab0159",
            "2d481a3507ea422e8eb38bbc955fab47",
            "154fd5b6ce66417490c8188355d8e561",
            "64f06691728b4d5d8386c15ebcbea5c6",
            "bf6a074bb0514ea0ae7aa9e7af4d6a24",
            "b12f9219c9a246a9bbea29537f5b81f4",
            "1281fb7d12ce45f8b904b57537916d06",
            "ec3c633611bc46f7913d4bc6f50631c5",
            "17ef3bf4dae045c5bf726149e96f287c",
            "af31ab88861340c2a22dc7a7be6a7398",
            "23861329015c47c49bdd0df8f7f2c18f",
            "360b323cd2794c80b1c913e756bbcd4e",
            "0900c46420674112bfbfcda6f7aa18d8",
            "ce5938bb31e04b26ad00af0f12376e60",
            "fc7a4789e74740a6b5061ac58360f4f5",
            "52332389c35d49b2b184ef39b6e8c5ea",
            "325f01c4f4d14c35a7b88bbd56253cb6",
            "545b42c2000943e0be0adad291388354",
            "594f1356744945b4843366c01cd6fc13",
            "41f1ae0c8f174b0880c96f4535feff25",
            "5f36da7750d746589dc8d8f989fd7c47",
            "4166d74c711642809e0478530bc3b5d6",
            "7ccf50efbbe444729a79e9da184ed5cc",
            "f26e29878c594bf8be042737b8074168",
            "004cb7c187a14c1eaad0b660bcd8c09f",
            "accb8cb9ef7340d388ee191af48b1d01",
            "fde22e4e752b4ee381f7bfe796b7449e",
            "0f7611f22ba2489b8737a9a25260ec56",
            "e1f899e52284487b87f9db33ab8322dd",
            "441769245f574ac6be2f97eecb701ab6",
            "c34110c3fbd242c98d01f57550510701",
            "8ad70f6b76ea47769b2025eb9d5d2f57",
            "4b8ba204630d49d2963394d7b42c9117",
            "fafb926280194a1a9d0c7b22c91724fc",
            "d394d87c00af456b8cb99f3dd412b08c",
            "bcc3e096787f4ab7a281405e6a767938",
            "824635432d024d489afbef7a4101fdd1",
            "f0b8b075ad6245fab8611617dda9a6fa",
            "6502ff6432424c6c8d107fc86b3d6e20",
            "91b42e606b134b818f9bd9bebfc3e652",
            "1436abeee232415ea6c7d1b998612849",
            "1b4ed71a705b45a7b97521d968c35f23",
            "0ec1b980236a47a0bc86651ca9ec9302",
            "dc47bbca22f14b2899240d692fc00120",
            "d3b5ebc4cf3f4c2185ac5d240a7d8102",
            "336cb0a0dad64a76a0dcdfdcd18ce663",
            "2d0ee80a1803406abbeab4855c6b7d3b",
            "3acc4ac055ec4ea78fedc127fc9f91ee",
            "03923544251b452d8fbfc1453780e45b",
            "809979b75bed495c9bf1fa3796dbba6d",
            "cc3e4b4b79064ece895e5eaf0ec58695",
            "7b3d70e61c7048fc8880214ed0c628b3",
            "15a91a42491e42a18a156a9c98753b40"
          ]
        },
        "id": "1VWPRRlO9WMo",
        "outputId": "9226865b-3163-4c73-d4e3-4e369ba1c28a"
      },
      "source": [
        "summarizer = pipeline(\"summarization\")"
      ],
      "execution_count": null,
      "outputs": [
        {
          "output_type": "stream",
          "name": "stderr",
          "text": [
            "No model was supplied, defaulted to sshleifer/distilbart-cnn-12-6 (https://huggingface.co/sshleifer/distilbart-cnn-12-6)\n"
          ]
        },
        {
          "output_type": "display_data",
          "data": {
            "application/vnd.jupyter.widget-view+json": {
              "model_id": "b488b0fb5c56461799b175e7bef190b2",
              "version_minor": 0,
              "version_major": 2
            },
            "text/plain": [
              "Downloading:   0%|          | 0.00/1.76k [00:00<?, ?B/s]"
            ]
          },
          "metadata": {}
        },
        {
          "output_type": "display_data",
          "data": {
            "application/vnd.jupyter.widget-view+json": {
              "model_id": "af31ab88861340c2a22dc7a7be6a7398",
              "version_minor": 0,
              "version_major": 2
            },
            "text/plain": [
              "Downloading:   0%|          | 0.00/1.14G [00:00<?, ?B/s]"
            ]
          },
          "metadata": {}
        },
        {
          "output_type": "display_data",
          "data": {
            "application/vnd.jupyter.widget-view+json": {
              "model_id": "5f36da7750d746589dc8d8f989fd7c47",
              "version_minor": 0,
              "version_major": 2
            },
            "text/plain": [
              "Downloading:   0%|          | 0.00/26.0 [00:00<?, ?B/s]"
            ]
          },
          "metadata": {}
        },
        {
          "output_type": "display_data",
          "data": {
            "application/vnd.jupyter.widget-view+json": {
              "model_id": "8ad70f6b76ea47769b2025eb9d5d2f57",
              "version_minor": 0,
              "version_major": 2
            },
            "text/plain": [
              "Downloading:   0%|          | 0.00/878k [00:00<?, ?B/s]"
            ]
          },
          "metadata": {}
        },
        {
          "output_type": "display_data",
          "data": {
            "application/vnd.jupyter.widget-view+json": {
              "model_id": "0ec1b980236a47a0bc86651ca9ec9302",
              "version_minor": 0,
              "version_major": 2
            },
            "text/plain": [
              "Downloading:   0%|          | 0.00/446k [00:00<?, ?B/s]"
            ]
          },
          "metadata": {}
        }
      ]
    },
    {
      "cell_type": "code",
      "metadata": {
        "colab": {
          "base_uri": "https://localhost:8080/",
          "height": 233,
          "referenced_widgets": [
            "828b7312a57e4343aa641f40a3e39ba1",
            "33b16afaea764be49f8bfbc17aebe8a7",
            "dfa3888290df42ecba32fb962bc2289b",
            "bfcc4047b21a45478a93106301e3b40e",
            "7bf9ed52435d47aba1ac2f854f9b3ab4",
            "12fb4cf5efa84cb7927fd2861ac9346f",
            "02ce3ea7077a4e3cb710c21cc3f037ba",
            "95339a557e764b8d8183490aca6134a1",
            "8cb4a21cc1a4414e8218f8732987d91a",
            "1b69c7b7cc16475db7cc467aa7108d8e",
            "3c504f763e6b4c95b82d4d3b1c5dffbf",
            "0a185559802743a58f44393dd08df586",
            "9dde38c7f0184028b9e6b635865d9ee2",
            "185dca69ecf64c43a9375cbc7962b392",
            "691b7906c21540b582d391d54c95169a",
            "b6b7132f8d7748e7a214eb33d116f10f",
            "04918f9ec66a4aec8535663f17deab05",
            "9bed37173b304e61a537e983cd218a48",
            "d8aaf8e8ad304ce99578137f02864ed2",
            "8053bcedc63c42be872a831c416d423a",
            "b25332b403714118837f5b7b57287d60",
            "d2f00fdc5d2d485ebc9eb8375620b9fd",
            "7e53b0b51ec34f459936fb926c4bf3f8",
            "2e1f99e605c8400f92b5986fdbf612f9",
            "6c17aa84e6bf4410822fbf2926cb7fa8",
            "afc5030f246c489baddc9a51b01d95f0",
            "c0bf8e92ae4145d48ccfb3edc25abe23",
            "e34a5298716d47209a865c9adfa6e9bb",
            "1b75a2994db148919a9009c4185edc02",
            "39f8ce873a614f8c86bc939bef85f0d0",
            "0290a65944284dbe9c3d008093dd79cc",
            "099b669acde24477ae03440a23003275",
            "4716232563f146429d83ccb406bf62f7",
            "0341248ecc4043cda91083e91079aaca",
            "92a75033d2fc4927a178f20359f94c50",
            "0f98d2c6914d42c38ba59e04c7d36ba6",
            "61eaba104fdc4c34b79057e3040a16b2",
            "5ec4df3cfe2a44068133dc6bb3921960",
            "205b1b9942ff4007bf34e6aa0462cad5",
            "8c87dc6e8bcf4a17a8da9a31f0b80448",
            "5de5dd8efd9b42628bec9f87dea51d7b",
            "f7fea71df11d4e738de8ec56f6a88195",
            "c6c9ebda4e5146b1b81ae2f0e6a3ac79",
            "d6bbcc4b8d9948619233204b8b95effa"
          ]
        },
        "id": "5ttxkQ_39WMq",
        "outputId": "b45c44cd-2ed8-47bf-e039-543cdb323572"
      },
      "source": [
        "summarizer = pipeline(\"summarization\", model=\"t5-base\", tokenizer=\"t5-base\", framework=\"tf\")"
      ],
      "execution_count": null,
      "outputs": [
        {
          "output_type": "display_data",
          "data": {
            "application/vnd.jupyter.widget-view+json": {
              "model_id": "828b7312a57e4343aa641f40a3e39ba1",
              "version_minor": 0,
              "version_major": 2
            },
            "text/plain": [
              "Downloading:   0%|          | 0.00/1.17k [00:00<?, ?B/s]"
            ]
          },
          "metadata": {}
        },
        {
          "output_type": "display_data",
          "data": {
            "application/vnd.jupyter.widget-view+json": {
              "model_id": "0a185559802743a58f44393dd08df586",
              "version_minor": 0,
              "version_major": 2
            },
            "text/plain": [
              "Downloading:   0%|          | 0.00/851M [00:00<?, ?B/s]"
            ]
          },
          "metadata": {}
        },
        {
          "output_type": "stream",
          "name": "stderr",
          "text": [
            "All model checkpoint layers were used when initializing TFT5ForConditionalGeneration.\n",
            "\n",
            "All the layers of TFT5ForConditionalGeneration were initialized from the model checkpoint at t5-base.\n",
            "If your task is similar to the task the model of the checkpoint was trained on, you can already use TFT5ForConditionalGeneration for predictions without further training.\n"
          ]
        },
        {
          "output_type": "display_data",
          "data": {
            "application/vnd.jupyter.widget-view+json": {
              "model_id": "7e53b0b51ec34f459936fb926c4bf3f8",
              "version_minor": 0,
              "version_major": 2
            },
            "text/plain": [
              "Downloading:   0%|          | 0.00/773k [00:00<?, ?B/s]"
            ]
          },
          "metadata": {}
        },
        {
          "output_type": "display_data",
          "data": {
            "application/vnd.jupyter.widget-view+json": {
              "model_id": "0341248ecc4043cda91083e91079aaca",
              "version_minor": 0,
              "version_major": 2
            },
            "text/plain": [
              "Downloading:   0%|          | 0.00/1.32M [00:00<?, ?B/s]"
            ]
          },
          "metadata": {}
        }
      ]
    },
    {
      "cell_type": "markdown",
      "metadata": {
        "id": "kUjEHeN_v1Mp"
      },
      "source": [
        "## Quarter, Half and Full Text Summarizing Function"
      ]
    },
    {
      "cell_type": "code",
      "metadata": {
        "id": "TccYUnhESiOx"
      },
      "source": [
        "def pass_data(data_variable):\n",
        "    new_data = data_variable.strip('“”')\n",
        "    print (new_data)\n",
        "    %%time\n",
        "    print (len(new_data))\n",
        "    text1= new_data[0:3000]\n",
        "    text2= new_data[0:5000]\n",
        "    text3= new_data[0:8000]\n",
        "\n",
        "    summary_text = summarizer(text1, max_length=512, min_length=5, do_sample=False)[0]['summary_text']\n",
        "    print(\"Quarter  Text\")\n",
        "    print(summary_text)\n",
        "    summary_text = summarizer(text2, max_length=512, min_length=5, do_sample=False)[0]['summary_text']\n",
        "    print(\"Half  Text\")\n",
        "    print(summary_text)\n",
        "    summary_text = summarizer(text3, max_length=512, min_length=5, do_sample=False)[0]['summary_text']\n",
        "    print(\"Full  Text\")\n",
        "    print(summary_text)\n",
        "    \n",
        "    return summary_text\n",
        "    \n"
      ],
      "execution_count": null,
      "outputs": []
    },
    {
      "cell_type": "code",
      "metadata": {
        "colab": {
          "base_uri": "https://localhost:8080/"
        },
        "id": "4hIOBl10KH02",
        "outputId": "8d64c1e2-a0c0-4cb0-b460-e61df0f64e78"
      },
      "source": [
        "# Import Module\n",
        "import os\n",
        "\n",
        "\n",
        "# Folder Path\n",
        "path = \"/content/\"\n",
        "\n",
        "# Change the directory\n",
        "os.chdir(path)\n",
        "\n",
        "# Read text File\n",
        "def read_text_file(file_path):\n",
        "    with open(file_path, 'r') as f:\n",
        "        data = f.read().replace('\\n', '')\n",
        "        return pass_data(data)\n",
        "         \n",
        "  \n",
        "  \n",
        "# iterate through all file\n",
        "summary_text_array=[]\n",
        "for file in os.listdir():\n",
        "    # Check whether file is in text format or not\n",
        "    if file.endswith(\".txt\"):\n",
        "        file_path = f\"{path}{file}\"\n",
        "        # call read text file function\n",
        "        summary_text_array.append(read_text_file(file_path))\n",
        "\n",
        "        \n"
      ],
      "execution_count": null,
      "outputs": [
        {
          "output_type": "stream",
          "name": "stderr",
          "text": [
            "Token indices sequence length is longer than the specified maximum sequence length for this model (633 > 512). Running this sequence through the model will result in indexing errors\n"
          ]
        },
        {
          "output_type": "stream",
          "name": "stdout",
          "text": [
            "   Fox News    U.S.Politics Media Opinion Business Entertainment Sports Lifestyle Weather TV Fox Nation Listen  More  Expand / Collapse search  Login  Watch TV  Menu  Hot Topics     Coronavirus  U.S.  Crime Military Education Terror Immigration Economy Personal Freedoms Fox News Investigates World  U.N.Conflicts Terrorism Disasters Global Economy Environment Religion Scandals Opinion  Politics  Executive Senate House Judiciary Foreign Policy Polls Elections Entertainment  Celebrity News Movies TV News Music News Style News Entertainment Video Business  Personal Finance Economy Markets Watchlist Lifestyle Real Estate Tech Lifestyle  Food + Drink Cars + Trucks Travel + Outdoors House + Home Fitness + Well-being Style + Beauty Family Faith Science  Archaeology Air & Space Planet Earth Wild Nature Natural Science Dinosaurs Tech  Security Innovation Drones Computers Video Games Military Tech Health  Coronavirus Healthy Living Medical Research Mental Health Cancer Heart Health Children's Health TV  Shows Personalities Watch Live Full Episodes Show Clips News Clips About  Contact Us Careers Fox Around the World Advertise With Us Media Relations Corporate Information Compliance Supplier Diversity Other  Fox Weather Fox Nation Fox News Shop Fox News Go Fox News Radio Newsletters Podcasts Apps & Products  Fox News  New Terms of Use  New Privacy Policy  Do Not Sell my Personal Information  Closed Captioning Policy  Help  Contact Us  This material may not be published, broadcast, rewritten,      or redistributed.©2021 FOX News Network, LLC.All rights reserved.Quotes displayed in real-time or delayed by at least 15 minutes.Market data provided by Factset .Powered and implemented by FactSet Digital Solutions .Legal Statement .Mutual Fund and ETF data provided by Refinitiv Lipper .Facebook  Twitter  Instagram  RSS  Email     Thanksgiving  Published  11 hours ago  Last Update 10 hours ago  Best hometown bars in America for Thanksgiving Eve celebrations  Fox News Digital’s staff reveal top neighborhood restaurants and pubs to visit over Thanksgiving weekend    By Nicole Pelletiere   | Fox News   Facebook  Twitter  Flipboard  Comments  Print  Email   close   Video  Stew Leonard’s CEO: Inflation and this surprising item are driving up Thanksgiving prices  Stew Leonard discusses how inflation will impact the cost of holiday gatherings.Twas the night before Thanksgiving which historically calls for a cold one with familiar faces at your local tavern.Fox News Digital’s staff revealed their top picks on neighborhood restaurants and pubs to swing by when it’s time to head home for the holidays.From Wisconsin to Tennessee, Florida and beyond, here are the watering holes where \"everybody knows\" our names.East Troy House - East Troy, Wisconsin Established in 1836, East Troy House says it's Wisconsin's oldest tavern.The restaurant offers an array of brews, a fish fry on Friday's 11am-9pm and apparently has a \"haunted history.\"Old Neighborhood Pub - Cedar Rapids, Iowa Old Neighborhood Pub is a place for solid food and spirits.The pub's \"Wings Wednesday\" appears to be popular with regulars.Flying Squirrel - Chattanooga, Tennessee \"Good food, good atmosphere,\" says one of Fox News' lifestyle reporters.The Flying Squirrel describes itself as a neighborhood bar/restaurant with \"a killer weekend brunch.\"Crackers Bar & Grill - Crystal River, Florida The bar outside of Crackers Bar & Grill offers live music and it's located on the water in a \"super small town in Florida.\"Menu special range from oysters to clams, fried spicy snapper and gator sausage.O'Malley's on Main - Seal Beach, California O’Malleys on Main Street is an \"authentic Irish pub\" serving traditional Irish favorites and American comfort food.One Fox News editor describes its vibe: \"Nice people, good drinks, good time and everyone knows where to meet without having to coordinate.\"UP on the Roof - Greenville, South Carolina Stop at this Greenville rooftop spot to soak in impressive views with a hand-crafted cocktail or craft beer in hand.Granville Moore’s - Washington, DC This \"cozy\" Belgian bar has outstanding mussels and ales, plus a friendly staff.George's - Iowa city, Iowa George's is known for its cheeseburgers, hot nuts and great happy hours, according to the spot's Facebook page.Cleo's Brown Beam Tavern - Appleton, Wisconsin Hit Cleo's Brown Beam for winter-themed cocktails and decorations that'll get you in the holiday spirit.The Violet Hour - Chicago, Illinois Enjoy a pre-prohibition style cocktail at The Violet Hour – located in the Windy City, in the heart of Wicker Park.Vanguard Wine Bar - New York City Vanguard is a wine bar serving small plates in a relaxed atmosphere.The 35er - Pasadena, California Pop into The 35er to watch the game and have a drink.A DJ is spinning each Friday and Saturday at this hometown pub.The Heidelberg - Columbia, Missouri Townies have frequented \"The Berg\" since 1963.Known for its fried pork loin and German potato salad, the spot also has happy hour and BOGO app deals Monday through Friday.Shannon's Bayshore - Long Beach, California Friendly neighborhood bar Shannon's Bayshore offers good vibes, drinks and a jukebox to play tunes.Whistlers Inn - Cinnaminson, New Jersey Whistlers Inn has a small town vibe with popular bar scene.Enjoy its award-winning barbecue menu or watch the big game over a couple of cold pints.The Reel - East Rockaway, New York This on-the-water community staple offers live music, a seafood menu and good cocktails.Nicole Pelletiere is the Senior Lifestyle Editor for Fox News.Fun stories about food, relationships, the great outdoors and more.Arrives Weekly   Subscribe   Subscribed        Subscribe   You've successfully subscribed to this newsletter!Coronavirus  U.S.  Crime Military Education Terror Immigration Economy Personal Freedoms Fox News Investigates World  U.N.Conflicts Terrorism Disasters Global Economy Environment Religion Scandals Opinion  Politics  Executive Senate House Judiciary Foreign Policy Polls Elections Entertainment  Celebrity News Movies TV News Music News Style News Entertainment Video Business  Personal Finance Economy Markets Watchlist Lifestyle Real Estate Tech Lifestyle  Food + Drink Cars + Trucks Travel + Outdoors House + Home Fitness + Well-being Style + Beauty Family Faith Science  Archaeology Air & Space Planet Earth Wild Nature Natural Science Dinosaurs Tech  Security Innovation Drones Computers Video Games Military Tech Health  Coronavirus Healthy Living Medical Research Mental Health Cancer Heart Health Children's Health TV  Shows Personalities Watch Live Full Episodes Show Clips News Clips About  Contact Us Careers Fox Around the World Advertise With Us Media Relations Corporate Information Compliance Supplier Diversity Other  Fox Weather Fox Nation Fox News Shop Fox News Go Fox News Radio Newsletters Podcasts Apps & Products  Facebook  Twitter  Instagram  Youtube  Flipboard  LinkedIn  Slack  RSS  Newsletters  Spotify  iHeartRadio  Fox News  New Terms of Use  New Privacy Policy  Do Not Sell my Personal Information  Closed Captioning Policy  Help  Contact Us  Accessibility Statement  This material may not be published, broadcast, rewritten, or redistributed.©2021 FOX News Network, LLC.All rights reserved.Quotes displayed in real-time or delayed by at least 15 minutes.Market data provided by Factset .Powered and implemented by FactSet Digital Solutions .Legal Statement .Mutual Fund and ETF data provided by Refinitiv Lipper .\n",
            "CPU times: user 2 µs, sys: 0 ns, total: 2 µs\n",
            "Wall time: 6.44 µs\n",
            "7484\n",
            "Quarter  Text\n",
            "Fox News Digital’s staff revealed their top picks on neighborhood restaurants and pubs to visit over Thanksgiving weekend . from Wisconsin to Tennessee and beyond, here are the watering holes where \"everybody knows\" our names .\n",
            "Half  Text\n",
            "inflation and this surprising item are driving up the cost of holiday gatherings, says stew Leonard . from Wisconsin to Tennessee and beyond, here are the top neighborhood bars to visit .\n",
            "Full  Text\n",
            "inflation and this surprising item are driving up the cost of holiday gatherings . from Wisconsin to Tennessee and beyond, here are the top neighborhood restaurants and pubs to visit .\n",
            "   Fox News    U.S.Politics Media Opinion Business Entertainment Sports Lifestyle Weather TV Fox Nation Listen  More  Expand / Collapse search  Login  Watch TV  Menu  Hot Topics     Coronavirus  U.S.  Crime Military Education Terror Immigration Economy Personal Freedoms Fox News Investigates World  U.N.Conflicts Terrorism Disasters Global Economy Environment Religion Scandals Opinion  Politics  Executive Senate House Judiciary Foreign Policy Polls Elections Entertainment  Celebrity News Movies TV News Music News Style News Entertainment Video Business  Personal Finance Economy Markets Watchlist Lifestyle Real Estate Tech Lifestyle  Food + Drink Cars + Trucks Travel + Outdoors House + Home Fitness + Well-being Style + Beauty Family Faith Science  Archaeology Air & Space Planet Earth Wild Nature Natural Science Dinosaurs Tech  Security Innovation Drones Computers Video Games Military Tech Health  Coronavirus Healthy Living Medical Research Mental Health Cancer Heart Health Children's Health TV  Shows Personalities Watch Live Full Episodes Show Clips News Clips About  Contact Us Careers Fox Around the World Advertise With Us Media Relations Corporate Information Compliance Supplier Diversity Other  Fox Weather Fox Nation Fox News Shop Fox News Go Fox News Radio Newsletters Podcasts Apps & Products  Fox News  New Terms of Use  New Privacy Policy  Do Not Sell my Personal Information  Closed Captioning Policy  Help  Contact Us  This material may not be published, broadcast, rewritten,      or redistributed.©2021 FOX News Network, LLC.All rights reserved.Quotes displayed in real-time or delayed by at least 15 minutes.Market data provided by Factset .Powered and implemented by FactSet Digital Solutions .Legal Statement .Mutual Fund and ETF data provided by Refinitiv Lipper .Facebook  Twitter  Instagram  RSS  Email     Fox News Flash  Published  6 hours ago   Biden criticized by 'The Five' for spending Thanksgiving at billionaire's Nantucket home amid inflation woes  Dagen McDowell also criticized Energy Secretary Granholm as 'incompetent'    By Charles Creitz   | Fox News   Facebook  Twitter  Flipboard  Comments  Print  Email   close   Video  Biden spending Thanksgiving on Nantucket with Carter-era billionaire  The panel on 'The Five' offers reaction and analysis Hosts of \"The Five\" criticized Biden Wednesday for embarking on a lavish Thanksgiving vacation on the Massachusetts island of Nantucket with a billionaire former adviser to President Carter .Biden arrived Wednesday on the island to visit former Carter domestic policy adviser David Rubenstein, a Baltimore native who founded the equity firm The Carlyle Group and is a former chairman of the Smithsonian.Dana Perino noted the president, who she called \"Scranton Joe\" after his working-class birthplace, is going on vacation to Rubenstein's $30 million estate while Americans are struggling amid his inflation, crime and border crises.\"Some say [it] looks widely out of touch with the problems everyday Americans are facing this Thanksgiving,\" she said, adding that the latest polls show inflation to be Americans' current top concern.David M. Rubenstein (L), co-founder and co-chief executive officer at The Carlyle Group, holds a discussion with former British Prime Minister David Cameron during the SALT conference in Las Vegas, Nevada, U.S. May 17, 2017.REUTERS/Richard Brian Biden spokeswoman Jen Psaki's defended Biden's actions, pointing out that the average turkey price is only up \"about a dollar more for a 20-pound bird, which is a huge bird if you are feeding a big family.\"\"Joe is literally giving us the bird,\" Greg Gutfeld remarked in response.\"I love this message – ‘Relax folks, you’ll get your yams' – his poll numbers are so bad the Thanksgiving turkey was thinking of pardoning him.\"Host Dagen McDowell went on to rip Energy Secretary Jen Granholm for an equally criticized message when she claimed not to know the average gasoline consumption in the country despite being in the discussions that led to the small release from the strategic petroleum reserves.\"Let me talk about the wholly incompetent cackling clatterbag that is our energy secretary, McDowell said.\"Why did they pick her?She’s completely incompetent.\"President Joe Biden, with first lady Jill Biden, speaks during a visit at Brookland Middle School in northeast Washington, on Sept. 10.Biden has encouraged every school district to promote vaccines, including with on-site clinics.McDowell went on to suggest that Biden is joining Rubenstein for Thanksgiving over concern that he will eclipse former President Carter, who is often seen as the most economically incompetent president.\"Biden is spending Thanksgiving with David Rubenstein, who worked in the Carter administration.I suppose he’s going to be sitting around saying ‘tell me I’m not as bad as Jimmy’.Perino later added that Carter, now 97, must be watching the media and wondering why they decided to report so heavily on his administration's stagflation crisis and largely ignore similar inflation under Biden.Get all the stories you need-to-know from the most powerful name in news delivered first thing every morning to your inbox  Arrives Weekdays   Subscribe   Subscribed        Subscribe   You've successfully subscribed to this newsletter!Coronavirus  U.S.  Crime Military Education Terror Immigration Economy Personal Freedoms Fox News Investigates World  U.N.Conflicts Terrorism Disasters Global Economy Environment Religion Scandals Opinion  Politics  Executive Senate House Judiciary Foreign Policy Polls Elections Entertainment  Celebrity News Movies TV News Music News Style News Entertainment Video Business  Personal Finance Economy Markets Watchlist Lifestyle Real Estate Tech Lifestyle  Food + Drink Cars + Trucks Travel + Outdoors House + Home Fitness + Well-being Style + Beauty Family Faith Science  Archaeology Air & Space Planet Earth Wild Nature Natural Science Dinosaurs Tech  Security Innovation Drones Computers Video Games Military Tech Health  Coronavirus Healthy Living Medical Research Mental Health Cancer Heart Health Children's Health TV  Shows Personalities Watch Live Full Episodes Show Clips News Clips About  Contact Us Careers Fox Around the World Advertise With Us Media Relations Corporate Information Compliance Supplier Diversity Other  Fox Weather Fox Nation Fox News Shop Fox News Go Fox News Radio Newsletters Podcasts Apps & Products  Facebook  Twitter  Instagram  Youtube  Flipboard  LinkedIn  Slack  RSS  Newsletters  Spotify  iHeartRadio  Fox News  New Terms of Use  New Privacy Policy  Do Not Sell my Personal Information  Closed Captioning Policy  Help  Contact Us  Accessibility Statement  This material may not be published, broadcast, rewritten, or redistributed.©2021 FOX News Network, LLC.All rights reserved.Quotes displayed in real-time or delayed by at least 15 minutes.Market data provided by Factset .Powered and implemented by FactSet Digital Solutions .Legal Statement .Mutual Fund and ETF data provided by Refinitiv Lipper .\n",
            "CPU times: user 3 µs, sys: 0 ns, total: 3 µs\n",
            "Wall time: 7.87 µs\n",
            "7032\n",
            "Quarter  Text\n",
            "'the five' criticizes biden for spending Thanksgiving at billionaire's $30 million estate amid inflation woes . energy secretary slams energy secretary as 'incompetent' and 'out of touch with the problems everyday'\n",
            "Half  Text\n",
            "'the five' host dagen mcdowell rips energy secretary Jenna granholm as 'incompetent' 'i love this message – ‘relax folks, you’ll get your yams’ – his poll numbers are so bad the Thanksgiving turkey was thinking of pardoning him,' perino says . 'he's going to be sitting around saying ‘tell me I’m not as bad as Jimmy,' he adds \n",
            "Full  Text\n",
            "'the five' host dagen mcdowell criticized energy secretary jennifer granholm as 'incompetent' and 'wholly out of touch' with the problems americans are facing this Thanksgiving . 'i love this message – ‘relax folks, you’ll get your yams,' he said . the president is spending Thanksgiving with a billionaire former adviser to president john kerry .\n",
            "   Fox News    U.S.Politics Media Opinion Business Entertainment Sports Lifestyle Weather TV Fox Nation Listen  More  Expand / Collapse search  Login  Watch TV  Menu  Hot Topics     Coronavirus  U.S.  Crime Military Education Terror Immigration Economy Personal Freedoms Fox News Investigates World  U.N.Conflicts Terrorism Disasters Global Economy Environment Religion Scandals Opinion  Politics  Executive Senate House Judiciary Foreign Policy Polls Elections Entertainment  Celebrity News Movies TV News Music News Style News Entertainment Video Business  Personal Finance Economy Markets Watchlist Lifestyle Real Estate Tech Lifestyle  Food + Drink Cars + Trucks Travel + Outdoors House + Home Fitness + Well-being Style + Beauty Family Faith Science  Archaeology Air & Space Planet Earth Wild Nature Natural Science Dinosaurs Tech  Security Innovation Drones Computers Video Games Military Tech Health  Coronavirus Healthy Living Medical Research Mental Health Cancer Heart Health Children's Health TV  Shows Personalities Watch Live Full Episodes Show Clips News Clips About  Contact Us Careers Fox Around the World Advertise With Us Media Relations Corporate Information Compliance Supplier Diversity Other  Fox Weather Fox Nation Fox News Shop Fox News Go Fox News Radio Newsletters Podcasts Apps & Products  Fox News  New Terms of Use  New Privacy Policy  Do Not Sell my Personal Information  Closed Captioning Policy  Help  Contact Us  This material may not be published, broadcast, rewritten,      or redistributed.©2021 FOX News Network, LLC.All rights reserved.Quotes displayed in real-time or delayed by at least 15 minutes.Market data provided by Factset .Powered and implemented by FactSet Digital Solutions .Legal Statement .Mutual Fund and ETF data provided by Refinitiv Lipper .Facebook  Twitter  Instagram  RSS  Email     OPINION  Published  11 hours ago   This Thanksgiving, I'm thankful for democracy and the commonsense of ordinary Americans  Americans are increasingly willing to stand up to defend democracy, individual rights, our history and culture    By K.T.McFarland   | Fox News   Facebook  Twitter  Flipboard  Comments  Print  Email   close   Video  Cancel culture targeting WSJ Thanksgiving editorials  WSJ Editorial Page Assistant Editor James Freeman on the efforts to push back against what he describes as attacks from the left-wing mob to cancel the longtime Thanksgiving editorials NEW You can now listen to Fox News articles!Our annual Thanksgiving dinner is a big deal at our house.This year, there are three generations of McFarlands at the table, ranging in age from 80 years to 80 days.After the feast and before the pies, we always go around the table asking everyone what they’re most thankful for this year.WALL STREET JOURNAL REFUSES TO BOW TO LEFT'S DEMANDS TO CANCEL THANKSGIVING EDITORIALS: ‘WE WON’T BEND' This year I’m going to venture into political waters—which is usually a topic best avoided at family gatherings—and declare my thanks for democracy, and for the triumph of the common sense of ordinary Americans.U.S. President Joe Biden listens to first lady Jill Biden speak during a Thanksgiving event with U.S. service members and military families at Fort Bragg, North Carolina, U.S., November 22, 2021.REUTERS/Leah Millis We went into COVID lockdown nearly two years ago and have emerged to find a greatly changed America.\"Wokeism\" has taken over our schools, churches, media and corporations.Teachers indoctrinate children with racial hatred and anti-Americanism.Freedom of speech has been banned from college dorms and faculty lounges.Our most renowned media outlets routinely and proudly censor any voices criticizing the radical left’s socialist agenda.Some of our once great cities are defunding police departments.Our senior military officials used to focus on defeating America’s foreign adversaries; now they’re obsessed with which pronouns to use in training manuals.Anyone criticizing the new \"Woke America\" is attacked by social media mobs and by the \"cancel culture.\"U.S. President Joe Biden pardons the national Thanksgiving turkey, Peanut Butter, as Phil Seger, chairman of the National Turkey Federation, and Andrea Welp, a turkey grower from Indiana, stand by during the 74th National Thanksgiving Turkey Presentation in the Rose Garden at the White House in Washington, U.S., November 19, 2021.REUTERS/Jonathan Ernst Just a few years ago, America was the gold standard for freedom and individual liberty.Now we’re the capital of group think.Almost all of us have in recent months had conversations with friends who look around the room and whisper fearfully, \"What has happened to America?\"The silent majority of Americans realize we’re going in a very bad direction—we're just not sure what to do about it.Video But I’ve detected a shift in the last few weeks.People around the country have finally had enough and are starting to fight back.The silent majority has found its voice.We're willing to stand up the socialist, totalitarian, racist, anti-American agenda.The battlegrounds are not in Washington, they’re in local school boards, town halls, and in state capitols.The warriors are not in our military nor the FBI.They’re the ordinary citizens who live ordinary lives, but who are filled with extraordinary courage that inspire others in different communities to stand up for their rights.Video Who are these patriots willing to stand up to defend democracy, individual rights, and American history and culture?They’re the judge, defense attorneys, and jurors in Kenosha, Wisconsin, who ensured Kyle Rittenhouse received a fair trial—despite death threats to the judge, defense attorneys, and jurists.They’re people like businessman turned candidate Glenn Youngkin, who won an historic victory in Virginia by focusing on what voters care about—their kids’ education and their communities.Or the truck driver who decided to challenge one of the most entrenched politicians in New Jersey and won.Video They’re government employees like Justice Department Inspector General Michael Horowitz who warned the FBI and the Department of Justice have become too politicized.Many see them as pursuing a two-tiered system of justice—one for political allies and another for political opponents.Or the Justice Department whistleblower who provided evidence that the Attorney General is using the Patriot Act—originally designed to protect Americans from foreign terrorists—against average parents around the country who dare protest what their kids are being taught in school.Video These examples are starting to pile up as more and more people around the country have decided they’ve had enough of socialism, of cancel culture, of reverse-racist agendas, and of anti-Americanism.This changed attitude is best reflected in recent polls and ratings.Support for President Joe Biden and the socialist agenda is collapsing.Left-wing media outlets like CNN, MSNBC, New York Times, and Washington Post are hemorrhaging audiences.CLICK HERE TO GET THE OPINION NEWSLETTER Americans, as a people, are slow to rile up.We’re generally focused on our families, friends, neighborhoods, and our jobs.We go to our kids’ soccer games—not school board meetings.We drive to work, not to political protests.Turkeys are displayed for sale at a Jewel-Osco grocery store ahead of Thanksgiving, in Chicago, Illinois, U.S. November 18, 2021.REUTERS/Christopher Walljasper But push us far enough, and we will respond.That’s what is happening all over America today.It’s parent protests at school district meetings.It’s whistleblowers revealing government abuse of power.It’s veterans, businessmen, and even truck drivers who are stepping up to run for political office.It's democracy in action.CLICK HERE TO GET THE FOX NEWS APP It’s why I’m thankful for democracy.Our Founding Fathers understood the nature of government is always to expand its power and privilege.They took steps to guard against mob rule and a dictatorship of interest groups.I’m grateful they also had the wisdom to give the average, commonplace, ordinary Americans the power to stop them.This Thanksgiving, it’s God bless America—and our fellow Americans.CLICK HERE TO READ MORE FROM KT McFARLAND   K.T.McFarland was President Trump’s first deputy national security adviser and helped formulate his maximum pressure campaigns.She is the author of the book “Revolution: Trump, Washington and ‘We the People,’’                  Get the recap of top opinion commentary and original content throughout the week.Arrives Daily   Subscribe   Subscribed        Subscribe   You've successfully subscribed to this newsletter!Coronavirus  U.S.  Crime Military Education Terror Immigration Economy Personal Freedoms Fox News Investigates World  U.N.Conflicts Terrorism Disasters Global Economy Environment Religion Scandals Opinion  Politics  Executive Senate House Judiciary Foreign Policy Polls Elections Entertainment  Celebrity News Movies TV News Music News Style News Entertainment Video Business  Personal Finance Economy Markets Watchlist Lifestyle Real Estate Tech Lifestyle  Food + Drink Cars + Trucks Travel + Outdoors House + Home Fitness + Well-being Style + Beauty Family Faith Science  Archaeology Air & Space Planet Earth Wild Nature Natural Science Dinosaurs Tech  Security Innovation Drones Computers Video Games Military Tech Health  Coronavirus Healthy Living Medical Research Mental Health Cancer Heart Health Children's Health TV  Shows Personalities Watch Live Full Episodes Show Clips News Clips About  Contact Us Careers Fox Around the World Advertise With Us Media Relations Corporate Information Compliance Supplier Diversity Other  Fox Weather Fox Nation Fox News Shop Fox News Go Fox News Radio Newsletters Podcasts Apps & Products  Facebook  Twitter  Instagram  Youtube  Flipboard  LinkedIn  Slack  RSS  Newsletters  Spotify  iHeartRadio  Fox News  New Terms of Use  New Privacy Policy  Do Not Sell my Personal Information  Closed Captioning Policy  Help  Contact Us  Accessibility Statement  This material may not be published, broadcast, rewritten, or redistributed.©2021 FOX News Network, LLC.All rights reserved.Quotes displayed in real-time or delayed by at least 15 minutes.Market data provided by Factset .Powered and implemented by FactSet Digital Solutions .Legal Statement .Mutual Fund and ETF data provided by Refinitiv Lipper .\n",
            "CPU times: user 3 µs, sys: 0 ns, total: 3 µs\n",
            "Wall time: 8.34 µs\n",
            "10379\n",
            "Quarter  Text\n",
            "Fox News U.S.Politics Media Opinion Business Entertainment Sports Lifestyle Weather TV Fox Nation Listen More Expand / Collapse search Login Watch TV Menu Hot Topics Coronavirus u.s. Crime Military Education Terror Immigration Economy Personal Freedoms Fox News Investigates World U.N.Conflicts Terrorism Disasters Global Economy Environment Religion Scandals .\n",
            "Half  Text\n",
            "this year, i'm thankful for democracy, and for the triumph of the commonsense of ordinary Americans . we're willing to stand up to defend democracy, individual rights, our history and culture .\n",
            "Full  Text\n",
            "this year, i'm thankful for democracy and the commonsense of ordinary americans . the battlegrounds are not in Washington, they're in local school boards, town halls, and in state capitols.the warriors aren't in our military nor the FBI.they're filled with extraordinary courage that inspire others to stand up for their rights .\n",
            "   Fox News    U.S.Politics Media Opinion Business Entertainment Sports Lifestyle Weather TV Fox Nation Listen  More  Expand / Collapse search  Login  Watch TV  Menu  Hot Topics     Coronavirus  U.S.  Crime Military Education Terror Immigration Economy Personal Freedoms Fox News Investigates World  U.N.Conflicts Terrorism Disasters Global Economy Environment Religion Scandals Opinion  Politics  Executive Senate House Judiciary Foreign Policy Polls Elections Entertainment  Celebrity News Movies TV News Music News Style News Entertainment Video Business  Personal Finance Economy Markets Watchlist Lifestyle Real Estate Tech Lifestyle  Food + Drink Cars + Trucks Travel + Outdoors House + Home Fitness + Well-being Style + Beauty Family Faith Science  Archaeology Air & Space Planet Earth Wild Nature Natural Science Dinosaurs Tech  Security Innovation Drones Computers Video Games Military Tech Health  Coronavirus Healthy Living Medical Research Mental Health Cancer Heart Health Children's Health TV  Shows Personalities Watch Live Full Episodes Show Clips News Clips About  Contact Us Careers Fox Around the World Advertise With Us Media Relations Corporate Information Compliance Supplier Diversity Other  Fox Weather Fox Nation Fox News Shop Fox News Go Fox News Radio Newsletters Podcasts Apps & Products  Fox News  New Terms of Use  New Privacy Policy  Do Not Sell my Personal Information  Closed Captioning Policy  Help  Contact Us  This material may not be published, broadcast, rewritten,      or redistributed.©2021 FOX News Network, LLC.All rights reserved.Quotes displayed in real-time or delayed by at least 15 minutes.Market data provided by Factset .Powered and implemented by FactSet Digital Solutions .Legal Statement .Mutual Fund and ETF data provided by Refinitiv Lipper .Facebook  Twitter  Instagram  RSS  Email     Fox News Flash  Published  1 hour ago   Fauci's 'dangerous' Thanksgiving message promotes division among families ahead of holidays: Campos-Duffy  Campos-Duffy urged families not to shy away from political conversations at Thanksgiving dinner    By Yael Halon   | Fox News   Facebook  Twitter  Flipboard  Comments  Print  Email   close   Video  Pete Hegseth: Why do so many on the left hate Thanksgiving?'Fox & Friends Weekend' co-hosts Pete Hegseth and Rachel Campos-Duffy slam the media for trying to ruin Thanksgiving.Fox & Friends co-host Rachel Campos-Duffy on Wednesday slammed Dr. Anthony Fauci 's Thanksgiving guidance as \"dangerous\" in an appearance on \"Fox News Primetime,\" accusing him of sowing familial division and conflict over the holidays.Fauci, director of the National Institute of Allergy and Infectious Diseases and the Chief Medical Advisor to the President, implored people to enjoy the Thanksgiving holiday with vaccinated family members in a recent TV appearance on CNN.FAUCI PROMOTING THANKSGIVING FOR VACCINATED AMERICANS \"Obviously if you’re not vaccinated, you’re in a situation where you are more vulnerable to get infected,\" Fauci told the network.\"In the family setting, particularly among vaccinated people, enjoy the holiday.\"Campos-Duffy criticized what she called a \"very Marxist\" message.\"The second part is actually very dangerous to me,\" she said.\"He says you need to surround yourself with vaccinated people.So that means you need to divide your family you need to separate your family….turning families against each other, [is] very Marxist.\"Campos-Duffy also urged families not to shy away from political conversations at Thanksgiving dinner.\"This is a time families getting together at Thanksgiving gets a bad rap because people talk about religion and politics and there’s fighting,\" she said,\" but that’s exactly what should happen.CLICK HERE TO GET THE FOX NEWS APP \"It’s there at that family table in the safety and love of family that we learn to disagree.We learn to be tolerant.We learn to figure out that we – our families - are more important than politics.If we can’t do this with our own family because… they decided not to take orders from the government, well, guess what?We are never going to learn how to have those important conversations and be united with the greater American family.\"Yael Halon is a reporter for Fox News.Get all the stories you need-to-know from the most powerful name in news delivered first thing every morning to your inbox  Arrives Weekdays   Subscribe   Subscribed        Subscribe   You've successfully subscribed to this newsletter!Coronavirus  U.S.  Crime Military Education Terror Immigration Economy Personal Freedoms Fox News Investigates World  U.N.Conflicts Terrorism Disasters Global Economy Environment Religion Scandals Opinion  Politics  Executive Senate House Judiciary Foreign Policy Polls Elections Entertainment  Celebrity News Movies TV News Music News Style News Entertainment Video Business  Personal Finance Economy Markets Watchlist Lifestyle Real Estate Tech Lifestyle  Food + Drink Cars + Trucks Travel + Outdoors House + Home Fitness + Well-being Style + Beauty Family Faith Science  Archaeology Air & Space Planet Earth Wild Nature Natural Science Dinosaurs Tech  Security Innovation Drones Computers Video Games Military Tech Health  Coronavirus Healthy Living Medical Research Mental Health Cancer Heart Health Children's Health TV  Shows Personalities Watch Live Full Episodes Show Clips News Clips About  Contact Us Careers Fox Around the World Advertise With Us Media Relations Corporate Information Compliance Supplier Diversity Other  Fox Weather Fox Nation Fox News Shop Fox News Go Fox News Radio Newsletters Podcasts Apps & Products  Facebook  Twitter  Instagram  Youtube  Flipboard  LinkedIn  Slack  RSS  Newsletters  Spotify  iHeartRadio  Fox News  New Terms of Use  New Privacy Policy  Do Not Sell my Personal Information  Closed Captioning Policy  Help  Contact Us  Accessibility Statement  This material may not be published, broadcast, rewritten, or redistributed.©2021 FOX News Network, LLC.All rights reserved.Quotes displayed in real-time or delayed by at least 15 minutes.Market data provided by Factset .Powered and implemented by FactSet Digital Solutions .Legal Statement .Mutual Fund and ETF data provided by Refinitiv Lipper .\n",
            "CPU times: user 3 µs, sys: 1 µs, total: 4 µs\n",
            "Wall time: 8.82 µs\n",
            "6203\n",
            "Quarter  Text\n",
            "'fox & friends weekend' co-hosts slammed dr. Anthony Fauci's 'dangerous' Thanksgiving message . he implored people to enjoy the holiday with vaccinated family members .\n",
            "Half  Text\n",
            "'fox & friends weekend' co-hosts slammed 'dangerous' Thanksgiving message . 'the second part is actually very dangerous to me,' she said .\n",
            "Full  Text\n",
            "'fox & friends' co-hosts slammed the media for trying to ruin Thanksgiving . 'the second part is actually very dangerous to me,' she said .\n",
            "   Fox News    U.S.Politics Media Opinion Business Entertainment Sports Lifestyle Weather TV Fox Nation Listen  More  Expand / Collapse search  Login  Watch TV  Menu  Hot Topics     Coronavirus  U.S.  Crime Military Education Terror Immigration Economy Personal Freedoms Fox News Investigates World  U.N.Conflicts Terrorism Disasters Global Economy Environment Religion Scandals Opinion  Politics  Executive Senate House Judiciary Foreign Policy Polls Elections Entertainment  Celebrity News Movies TV News Music News Style News Entertainment Video Business  Personal Finance Economy Markets Watchlist Lifestyle Real Estate Tech Lifestyle  Food + Drink Cars + Trucks Travel + Outdoors House + Home Fitness + Well-being Style + Beauty Family Faith Science  Archaeology Air & Space Planet Earth Wild Nature Natural Science Dinosaurs Tech  Security Innovation Drones Computers Video Games Military Tech Health  Coronavirus Healthy Living Medical Research Mental Health Cancer Heart Health Children's Health TV  Shows Personalities Watch Live Full Episodes Show Clips News Clips About  Contact Us Careers Fox Around the World Advertise With Us Media Relations Corporate Information Compliance Supplier Diversity Other  Fox Weather Fox Nation Fox News Shop Fox News Go Fox News Radio Newsletters Podcasts Apps & Products  Fox News  New Terms of Use  New Privacy Policy  Do Not Sell my Personal Information  Closed Captioning Policy  Help  Contact Us  This material may not be published, broadcast, rewritten,      or redistributed.©2021 FOX News Network, LLC.All rights reserved.Quotes displayed in real-time or delayed by at least 15 minutes.Market data provided by Factset .Powered and implemented by FactSet Digital Solutions .Legal Statement .Mutual Fund and ETF data provided by Refinitiv Lipper .Facebook  Twitter  Instagram  RSS  Email     Fox Nation  Published  November 25   Exploring the real history of Thanksgiving and why it resonates differently this year  Fox Nation revisits the story of a uniquely American tradition    By Yael Halon   | Fox News   Facebook  Twitter  Flipboard  Comments  Print  Email   close   Video  Fox Nation looks at the true story of Thanksgiving  Mayflower descendant Lea Filson previews the special on ‘Fox &amp; Friends.’ When most Americans think of the first Thanksgiving , many likely think of the Mayflower Pilgrims gathering outdoors with Native Americans for a grand feast of turkey, bread, and colorful fall vegetables.But as the country gears up for an unfamiliar holiday season amid a global pandemic, the real history behind this uniquely American tradition resonates differently this year.PAULA DEEN REVEALS THE SECRETS TO A PERFECT THANKSGIVING MENU Fox Nation's new Thanksgiving special, \"A Very Nation Thanksgiving\" explores the little known hardships and hurdles faced by the Pilgrims on their passage to the New World, and focuses on their spirit of gratitude, strength, and perseverance despite the devastating losses they sustained.In September 1620, the Mayflower set out from Plymouth, England with 102 passengers aboard.Some were fleeing religious persecution, others were seeking prosperity.All were looking for the chance to build a new life.Two months later, the ship made an initial landing on Cape Cod, Mass., before establishing Plymouth Colony.Within a year, nearly half of the new arrivals had died.The Mayflower II, a replica of the original ship that brought the Pilgrims to Massachusetts in 1620, is seen in Plymouth, Mass., in 2014.(AP Photo/Stephan Savoia, File) \"It was a terribly dark and cold winter, very icy outside, and many of the people on the ship were sick,\" Lea Filson, a Mayflower descendent, told Fox News.\"By the end of that winter, there were only 51 of them left.\"What most consider the first Thanksgiving to have been celebrated in October 1621 after the Pilgrims' first successful corn harvest in the New World -- made possible by the help of the Wampanoags, who taught the settlers to cultivate corn and master other survival skills.\"Wampanoags did indeed help and this was the first time that actual families landed in the New World with little children and the Wampanoags were very helpful,\" Filson explained. \"They helped to teach the Pilgrims how to plant and create a good harvest and eventually a peace alliance was agreed to by both sides that they kept for a good half-century.\"CDC UPDATES CORONAVIRUS THANKSGIVING GUIDANCE, URGES AGAINST TRAVEL The Fox Nation special , hosted by \"Fox & Friends\" co-host Brian Kilmeade, honors the 400th anniversary of the Mayflower landing at Plymouth Rock.The program features insight from Filson, Plimoth Patuxet Museums Chief Historian Richard Pickering and others as they take viewers through the history of the First Thanksgiving, the establishment of the holiday by U.S. presidents, and the evolution of American traditions today.To watch \"A Very Nation Thanksgiving\" and for more exclusive holiday content, visit Fox Nation and join today.Fox Nation programs are viewable on-demand and from your mobile device app, but only for Fox Nation subscribers.Go to Fox Nation to start a free trial and watch the extensive library from Tomi Lahren, Pete Hegseth, Abby Hornacek, Laura Ingraham, Ainsley Earhardt, Greg Gutfeld, Judge Andrew Napolitano and many more of your favorite Fox News personalities.Yael Halon is a reporter for Fox News.Get all the stories you need-to-know from the most powerful name in news delivered first thing every morning to your inbox  Arrives Weekdays   Subscribe   Subscribed        Subscribe   You've successfully subscribed to this newsletter!Coronavirus  U.S.  Crime Military Education Terror Immigration Economy Personal Freedoms Fox News Investigates World  U.N.Conflicts Terrorism Disasters Global Economy Environment Religion Scandals Opinion  Politics  Executive Senate House Judiciary Foreign Policy Polls Elections Entertainment  Celebrity News Movies TV News Music News Style News Entertainment Video Business  Personal Finance Economy Markets Watchlist Lifestyle Real Estate Tech Lifestyle  Food + Drink Cars + Trucks Travel + Outdoors House + Home Fitness + Well-being Style + Beauty Family Faith Science  Archaeology Air & Space Planet Earth Wild Nature Natural Science Dinosaurs Tech  Security Innovation Drones Computers Video Games Military Tech Health  Coronavirus Healthy Living Medical Research Mental Health Cancer Heart Health Children's Health TV  Shows Personalities Watch Live Full Episodes Show Clips News Clips About  Contact Us Careers Fox Around the World Advertise With Us Media Relations Corporate Information Compliance Supplier Diversity Other  Fox Weather Fox Nation Fox News Shop Fox News Go Fox News Radio Newsletters Podcasts Apps & Products  Facebook  Twitter  Instagram  Youtube  Flipboard  LinkedIn  Slack  RSS  Newsletters  Spotify  iHeartRadio  Fox News  New Terms of Use  New Privacy Policy  Do Not Sell my Personal Information  Closed Captioning Policy  Help  Contact Us  Accessibility Statement  This material may not be published, broadcast, rewritten, or redistributed.©2021 FOX News Network, LLC.All rights reserved.Quotes displayed in real-time or delayed by at least 15 minutes.Market data provided by Factset .Powered and implemented by FactSet Digital Solutions .Legal Statement .Mutual Fund and ETF data provided by Refinitiv Lipper .\n",
            "CPU times: user 4 µs, sys: 0 ns, total: 4 µs\n",
            "Wall time: 9.3 µs\n",
            "7351\n",
            "Quarter  Text\n",
            "when most Americans think of first Thanksgiving, many likely think of the Mayflower Pilgrims gathering outdoors with Native Americans for a grand feast of turkey, bread, and colorful fall vegetables . but as the country gears up for an unfamiliar holiday season amid a global pandemic, the real history behind this uniquely American tradition resonates differently this year .\n",
            "Half  Text\n",
            "in September 1620, the mayflower set out from Plymouth, England with 102 passengers aboard . many were fleeing religious persecution, others were seeking prosperity . by the end of that winter, there were only 51 of them left .\n",
            "Full  Text\n",
            "the first Thanksgiving was celebrated in 1621 after the Pilgrims' first successful corn harvest in the new world . within a year, nearly half of the new arrivals had died . this year's special honors the 400th anniversary of the Mayflower landing at Plymouth Rock .\n",
            "   Fox News    U.S.Politics Media Opinion Business Entertainment Sports Lifestyle Weather TV Fox Nation Listen  More  Expand / Collapse search  Login  Watch TV  Menu  Hot Topics     Coronavirus  U.S.  Crime Military Education Terror Immigration Economy Personal Freedoms Fox News Investigates World  U.N.Conflicts Terrorism Disasters Global Economy Environment Religion Scandals Opinion  Politics  Executive Senate House Judiciary Foreign Policy Polls Elections Entertainment  Celebrity News Movies TV News Music News Style News Entertainment Video Business  Personal Finance Economy Markets Watchlist Lifestyle Real Estate Tech Lifestyle  Food + Drink Cars + Trucks Travel + Outdoors House + Home Fitness + Well-being Style + Beauty Family Faith Science  Archaeology Air & Space Planet Earth Wild Nature Natural Science Dinosaurs Tech  Security Innovation Drones Computers Video Games Military Tech Health  Coronavirus Healthy Living Medical Research Mental Health Cancer Heart Health Children's Health TV  Shows Personalities Watch Live Full Episodes Show Clips News Clips About  Contact Us Careers Fox Around the World Advertise With Us Media Relations Corporate Information Compliance Supplier Diversity Other  Fox Weather Fox Nation Fox News Shop Fox News Go Fox News Radio Newsletters Podcasts Apps & Products  Fox News  New Terms of Use  New Privacy Policy  Do Not Sell my Personal Information  Closed Captioning Policy  Help  Contact Us  This material may not be published, broadcast, rewritten,      or redistributed.©2021 FOX News Network, LLC.All rights reserved.Quotes displayed in real-time or delayed by at least 15 minutes.Market data provided by Factset .Powered and implemented by FactSet Digital Solutions .Legal Statement .Mutual Fund and ETF data provided by Refinitiv Lipper .Facebook  Twitter  Instagram  RSS  Email     Thanksgiving  Published  17 hours ago   Axios panned for suggesting 'Thanksgiving bouncers' to administer COVID tests ahead of holiday gathering  'If this counts as journalism, then it should be taken out to pasture,' one critic reacted    By Joseph A. Wulfsohn   | Fox News   Facebook  Twitter  Flipboard  Comments  Print  Email   close   Video  Dr Makary: Don't be afraid to gather for Thanksgiving  Fox News contributor Dr. Marty Makary joins ‘Your World’ to discuss COVID as the holiday season approaches.Families across America are about to gather to celebrate Thanksgiving and while certain family members may be assigned to carve the turkey or bring a pumpkin pie, Axios is suggesting a new role for the holiday.\"No one really wants this job, but millions of households may need their own Thanksgiving bouncer,\" Axios began a report on Tuesday.\"The cover charge is a negative COVID test, done ahead of arrival or outside the front door.\"The report, co-authored by Axios politics managing editor and CNN analyst Margaret Talev and Axios health care editor Tina Reed, called for the \"normalizing\" of rapid COVID tests in order to \"help extended families feel a little more normal around the holiday dinner table.\"CRITICS PAN THANKSGIVING ADVICE IN NEW YORK TIMES THAT KIDS AREN'T FULLY VACCINATED SHOULD ‘EAT QUICKLY’ \"If you're hosting, let your guests know ahead of their arrival that you'll be testing everyone at the door for their own safety.If you're a guest who's anxious about attending without testing, talk to your host now about their plans and how you can help,\" Axios suggested.\"Depending on your budget, you might offer to pick up the tab for everyone's tests, or hosts might ask guests to pay for their own.At-home antigen tests cost around $25 for a box of two.Alternatively, guests who have gotten a PCR test within a couple of days prior could bring evidence of their negative results.\"\"One extra precaution may be to purchase enough tests for a re-test, or to ask guests to test on their own before and then again when they arrive for the meal,\" Axios told readers.Elegant Thanksgiving Dinner (iStock) Axios had Gigi Gronvall of Johns Hopkins Center for Health Security cautioned the false-positive results that could emerge from the rapid antigen tests, telling the outlet, \"If you are negative, you can draw some comfort in that but it doesn't mean you'll always be negative.You just might be below the threshold.But you also might not, at that moment, be as much of a danger to somebody else either.\"Gronvall also suggested opening windows to improve circulation in homes.NBC SUGGESTS NOT HAVING THANKSGIVING TURKEY THIS YEAR TO DEAL WITH INFLATION COSTS CNN medical analyst Dr. Leana Wen called a rapid antigen test a \"very good for that kind of screening purpose\" to put relatives at ease.\"Enforcing testing rules at your holiday gathering can reduce the chances of COVID spread.But there's no way to eliminate the risk when people are gathering,\" Axios added.As Americans prepare to gather with relatives and enjoy a Thanksgiving feast on Thursday, far-left pundits, columnists and news organizations have set their sights on the holiday.(iStock) Critics panned Axios for floating such strict COVID enforcements for Thanksgiving dinner.\"No,\" Rep. Dan Bishop, R-N.C., told Axios.\"Who are these people who not only think these things, but then decide it’s a good idea to write them down with their names attributed to them??!\"reacted \"The War on Small Business\" author Carol Roth.\"It's never been more clear that there are two Americas,\" radio host Tony Katz tweeted .\"If a family member confronts you and asks you for a negative covid test on thanksgiving, you should smoosh the mashed potatoes you brought firmly in their face,\" Tablet Magazine's Noam Blum suggested .CLICK HERE TO GET THE FOX NEWS APP \"Omg this is peak COVID media parody,\" The Daily Signal reporter Mary Margaret Olohan exclaimed .\"brb just heaving grandma out the window because she forgot her vax card,\" Washington Examiner reporter Jerry Dunleavy quipped .\"If this counts as journalism, then it should be taken out to pasture,\" conservative attorney Elliott Hamilton wrote .Joseph A. Wulfsohn is a media reporter for Fox News.Follow him on Twitter @JosephWulfsohn.Get all the stories you need-to-know from the most powerful name in news delivered first thing every morning to your inbox  Arrives Weekdays   Subscribe   Subscribed        Subscribe   You've successfully subscribed to this newsletter!Coronavirus  U.S.  Crime Military Education Terror Immigration Economy Personal Freedoms Fox News Investigates World  U.N.Conflicts Terrorism Disasters Global Economy Environment Religion Scandals Opinion  Politics  Executive Senate House Judiciary Foreign Policy Polls Elections Entertainment  Celebrity News Movies TV News Music News Style News Entertainment Video Business  Personal Finance Economy Markets Watchlist Lifestyle Real Estate Tech Lifestyle  Food + Drink Cars + Trucks Travel + Outdoors House + Home Fitness + Well-being Style + Beauty Family Faith Science  Archaeology Air & Space Planet Earth Wild Nature Natural Science Dinosaurs Tech  Security Innovation Drones Computers Video Games Military Tech Health  Coronavirus Healthy Living Medical Research Mental Health Cancer Heart Health Children's Health TV  Shows Personalities Watch Live Full Episodes Show Clips News Clips About  Contact Us Careers Fox Around the World Advertise With Us Media Relations Corporate Information Compliance Supplier Diversity Other  Fox Weather Fox Nation Fox News Shop Fox News Go Fox News Radio Newsletters Podcasts Apps & Products  Facebook  Twitter  Instagram  Youtube  Flipboard  LinkedIn  Slack  RSS  Newsletters  Spotify  iHeartRadio  Fox News  New Terms of Use  New Privacy Policy  Do Not Sell my Personal Information  Closed Captioning Policy  Help  Contact Us  Accessibility Statement  This material may not be published, broadcast, rewritten, or redistributed.©2021 FOX News Network, LLC.All rights reserved.Quotes displayed in real-time or delayed by at least 15 minutes.Market data provided by Factset .Powered and implemented by FactSet Digital Solutions .Legal Statement .Mutual Fund and ETF data provided by Refinitiv Lipper .\n",
            "CPU times: user 3 µs, sys: 0 ns, total: 3 µs\n",
            "Wall time: 36.2 µs\n",
            "8085\n",
            "Quarter  Text\n",
            "'If this counts as journalism, then it should be taken out to pasture,' one critic reacted . 'No one really wants this job, but millions of households may need their own Thanksgiving bouncer,' said axios .\n",
            "Half  Text\n",
            "'If this counts as journalism, then it should be taken out to pasture,' one critic reacted . 'if you're a guest who's anxious about attending without testing, talk to your host now about their plans and how you can help,' said axios .\n",
            "Full  Text\n",
            "'if you're a guest who's anxious about attending without testing, talk to your host now about their plans and how you can help,' Axios suggested . 'If this counts as journalism, then it should be taken out to pasture,' one critic reacted . \"If a family member confronts you and asks you for a negative covid test, you should smoosh the mashed potatoes you brought firmly in their face,\" tablet magazine's noam Blum\n"
          ]
        }
      ]
    },
    {
      "cell_type": "code",
      "metadata": {
        "colab": {
          "base_uri": "https://localhost:8080/"
        },
        "id": "1KI_l5EkYlap",
        "outputId": "5d121f4f-739d-4c3f-dafb-3299b1d7ef89"
      },
      "source": [
        "len(summary_text_array)\n"
      ],
      "execution_count": null,
      "outputs": [
        {
          "output_type": "execute_result",
          "data": {
            "text/plain": [
              "6"
            ]
          },
          "metadata": {},
          "execution_count": 13
        }
      ]
    },
    {
      "cell_type": "markdown",
      "metadata": {
        "id": "uK2bfSaqF1dw"
      },
      "source": [
        "## Distillation 1 - Parts of Speech"
      ]
    },
    {
      "cell_type": "code",
      "metadata": {
        "colab": {
          "base_uri": "https://localhost:8080/"
        },
        "id": "pcL8ySPD9WMv",
        "outputId": "7dc6afb2-7dfb-4e72-fffe-ed7714d22425"
      },
      "source": [
        "import nltk\n",
        "nltk.download('averaged_perceptron_tagger')\n",
        "from nltk.tokenize import word_tokenize\n",
        "for summary_text in summary_text_array:\n",
        "  tokenized_text = word_tokenize(summary_text)\n",
        "  pos_output = nltk.pos_tag(tokenized_text)\n",
        "  print(pos_output)\n",
        "  "
      ],
      "execution_count": null,
      "outputs": [
        {
          "output_type": "stream",
          "name": "stdout",
          "text": [
            "[nltk_data] Downloading package averaged_perceptron_tagger to\n",
            "[nltk_data]     /root/nltk_data...\n",
            "[nltk_data]   Unzipping taggers/averaged_perceptron_tagger.zip.\n",
            "[('inflation', 'NN'), ('and', 'CC'), ('this', 'DT'), ('surprising', 'JJ'), ('item', 'NN'), ('are', 'VBP'), ('driving', 'VBG'), ('up', 'RP'), ('the', 'DT'), ('cost', 'NN'), ('of', 'IN'), ('holiday', 'JJ'), ('gatherings', 'NNS'), ('.', '.'), ('from', 'IN'), ('Wisconsin', 'NNP'), ('to', 'TO'), ('Tennessee', 'NNP'), ('and', 'CC'), ('beyond', 'IN'), (',', ','), ('here', 'RB'), ('are', 'VBP'), ('the', 'DT'), ('top', 'JJ'), ('neighborhood', 'NN'), ('restaurants', 'NNS'), ('and', 'CC'), ('pubs', 'NNS'), ('to', 'TO'), ('visit', 'VB'), ('.', '.')]\n",
            "[(\"'the\", 'CD'), ('five', 'CD'), (\"'\", \"''\"), ('host', 'NN'), ('dagen', 'NN'), ('mcdowell', 'NN'), ('criticized', 'VBD'), ('energy', 'NN'), ('secretary', 'NN'), ('jennifer', 'NN'), ('granholm', 'NN'), ('as', 'IN'), (\"'incompetent\", 'NN'), (\"'\", \"''\"), ('and', 'CC'), (\"'wholly\", 'RB'), ('out', 'IN'), ('of', 'IN'), ('touch', 'NN'), (\"'\", \"''\"), ('with', 'IN'), ('the', 'DT'), ('problems', 'NNS'), ('americans', 'NNS'), ('are', 'VBP'), ('facing', 'VBG'), ('this', 'DT'), ('Thanksgiving', 'NNP'), ('.', '.'), (\"'i\", \"''\"), ('love', 'VB'), ('this', 'DT'), ('message', 'NN'), ('–', 'VBZ'), ('‘', 'JJ'), ('relax', 'JJ'), ('folks', 'NNS'), (',', ','), ('you', 'PRP'), ('’', 'VBP'), ('ll', 'JJ'), ('get', 'VB'), ('your', 'PRP$'), ('yams', 'NNS'), (',', ','), (\"'\", \"''\"), ('he', 'PRP'), ('said', 'VBD'), ('.', '.'), ('the', 'DT'), ('president', 'NN'), ('is', 'VBZ'), ('spending', 'VBG'), ('Thanksgiving', 'VBG'), ('with', 'IN'), ('a', 'DT'), ('billionaire', 'NN'), ('former', 'JJ'), ('adviser', 'NN'), ('to', 'TO'), ('president', 'NN'), ('john', 'NN'), ('kerry', 'NN'), ('.', '.')]\n",
            "[('this', 'DT'), ('year', 'NN'), (',', ','), ('i', 'VBP'), (\"'m\", 'VBP'), ('thankful', 'JJ'), ('for', 'IN'), ('democracy', 'NN'), ('and', 'CC'), ('the', 'DT'), ('commonsense', 'NN'), ('of', 'IN'), ('ordinary', 'JJ'), ('americans', 'NNS'), ('.', '.'), ('the', 'DT'), ('battlegrounds', 'NNS'), ('are', 'VBP'), ('not', 'RB'), ('in', 'IN'), ('Washington', 'NNP'), (',', ','), ('they', 'PRP'), (\"'re\", 'VBP'), ('in', 'IN'), ('local', 'JJ'), ('school', 'NN'), ('boards', 'NNS'), (',', ','), ('town', 'NN'), ('halls', 'NNS'), (',', ','), ('and', 'CC'), ('in', 'IN'), ('state', 'NN'), ('capitols.the', 'NN'), ('warriors', 'NNS'), ('are', 'VBP'), (\"n't\", 'RB'), ('in', 'IN'), ('our', 'PRP$'), ('military', 'JJ'), ('nor', 'CC'), ('the', 'DT'), ('FBI.they', 'NNP'), (\"'re\", 'VBP'), ('filled', 'VBN'), ('with', 'IN'), ('extraordinary', 'JJ'), ('courage', 'NN'), ('that', 'WDT'), ('inspire', 'VBZ'), ('others', 'NNS'), ('to', 'TO'), ('stand', 'VB'), ('up', 'RP'), ('for', 'IN'), ('their', 'PRP$'), ('rights', 'NNS'), ('.', '.')]\n",
            "[(\"'fox\", 'POS'), ('&', 'CC'), ('friends', 'NNS'), (\"'\", 'POS'), ('co-hosts', 'NNS'), ('slammed', 'VBD'), ('the', 'DT'), ('media', 'NNS'), ('for', 'IN'), ('trying', 'VBG'), ('to', 'TO'), ('ruin', 'VB'), ('Thanksgiving', 'NNP'), ('.', '.'), (\"'the\", \"''\"), ('second', 'JJ'), ('part', 'NN'), ('is', 'VBZ'), ('actually', 'RB'), ('very', 'RB'), ('dangerous', 'JJ'), ('to', 'TO'), ('me', 'PRP'), (',', ','), (\"'\", \"''\"), ('she', 'PRP'), ('said', 'VBD'), ('.', '.')]\n",
            "[('the', 'DT'), ('first', 'JJ'), ('Thanksgiving', 'NNP'), ('was', 'VBD'), ('celebrated', 'VBN'), ('in', 'IN'), ('1621', 'CD'), ('after', 'IN'), ('the', 'DT'), ('Pilgrims', 'NNP'), (\"'\", 'POS'), ('first', 'JJ'), ('successful', 'JJ'), ('corn', 'NN'), ('harvest', 'NN'), ('in', 'IN'), ('the', 'DT'), ('new', 'JJ'), ('world', 'NN'), ('.', '.'), ('within', 'IN'), ('a', 'DT'), ('year', 'NN'), (',', ','), ('nearly', 'RB'), ('half', 'NN'), ('of', 'IN'), ('the', 'DT'), ('new', 'JJ'), ('arrivals', 'NNS'), ('had', 'VBD'), ('died', 'VBN'), ('.', '.'), ('this', 'DT'), ('year', 'NN'), (\"'s\", 'POS'), ('special', 'JJ'), ('honors', 'NNS'), ('the', 'DT'), ('400th', 'JJ'), ('anniversary', 'NN'), ('of', 'IN'), ('the', 'DT'), ('Mayflower', 'NNP'), ('landing', 'NN'), ('at', 'IN'), ('Plymouth', 'NNP'), ('Rock', 'NNP'), ('.', '.')]\n",
            "[(\"'if\", 'IN'), ('you', 'PRP'), (\"'re\", 'VBP'), ('a', 'DT'), ('guest', 'NN'), ('who', 'WP'), (\"'s\", 'VBZ'), ('anxious', 'JJ'), ('about', 'IN'), ('attending', 'VBG'), ('without', 'IN'), ('testing', 'VBG'), (',', ','), ('talk', 'NN'), ('to', 'TO'), ('your', 'PRP$'), ('host', 'NN'), ('now', 'RB'), ('about', 'IN'), ('their', 'PRP$'), ('plans', 'NNS'), ('and', 'CC'), ('how', 'WRB'), ('you', 'PRP'), ('can', 'MD'), ('help', 'VB'), (',', ','), (\"'\", \"''\"), ('Axios', 'NNP'), ('suggested', 'VBD'), ('.', '.'), (\"'If\", 'VB'), ('this', 'DT'), ('counts', 'NNS'), ('as', 'IN'), ('journalism', 'NN'), (',', ','), ('then', 'RB'), ('it', 'PRP'), ('should', 'MD'), ('be', 'VB'), ('taken', 'VBN'), ('out', 'RP'), ('to', 'TO'), ('pasture', 'VB'), (',', ','), (\"'\", \"''\"), ('one', 'CD'), ('critic', 'NN'), ('reacted', 'VBD'), ('.', '.'), ('``', '``'), ('If', 'IN'), ('a', 'DT'), ('family', 'NN'), ('member', 'NN'), ('confronts', 'NNS'), ('you', 'PRP'), ('and', 'CC'), ('asks', 'VB'), ('you', 'PRP'), ('for', 'IN'), ('a', 'DT'), ('negative', 'JJ'), ('covid', 'NN'), ('test', 'NN'), (',', ','), ('you', 'PRP'), ('should', 'MD'), ('smoosh', 'VB'), ('the', 'DT'), ('mashed', 'NN'), ('potatoes', 'NNS'), ('you', 'PRP'), ('brought', 'VBD'), ('firmly', 'RB'), ('in', 'IN'), ('their', 'PRP$'), ('face', 'NN'), (',', ','), (\"''\", \"''\"), ('tablet', 'VBP'), ('magazine', 'NN'), (\"'s\", 'POS'), ('noam', 'JJ'), ('Blum', 'NNP')]\n"
          ]
        }
      ]
    },
    {
      "cell_type": "markdown",
      "metadata": {
        "id": "G8CuyGBSFfe4"
      },
      "source": [
        "## Distillation 2 - Named entity recognition"
      ]
    },
    {
      "cell_type": "code",
      "metadata": {
        "colab": {
          "base_uri": "https://localhost:8080/"
        },
        "id": "cCuhZquX_Pf8",
        "outputId": "7f232549-e20f-4ea7-e2f3-04d0cbea6324"
      },
      "source": [
        "\n",
        "#spaCy is an NLP Framework -- easy to use and having ability to use neural networks\n",
        "import en_core_web_sm\n",
        "nlp = en_core_web_sm.load()\n",
        "for summary_text in summary_text_array:\n",
        "  doc = nlp(summary_text)\n",
        "  print(doc.ents)\n",
        "  print([(X.text, X.label_) for X in doc.ents])"
      ],
      "execution_count": null,
      "outputs": [
        {
          "output_type": "stream",
          "name": "stdout",
          "text": [
            "(Wisconsin, Tennessee)\n",
            "[('Wisconsin', 'GPE'), ('Tennessee', 'GPE')]\n",
            "(five, jennifer granholm, americans, Thanksgiving, Thanksgiving, john kerry)\n",
            "[('five', 'CARDINAL'), ('jennifer granholm', 'PERSON'), ('americans', 'NORP'), ('Thanksgiving', 'DATE'), ('Thanksgiving', 'DATE'), ('john kerry', 'PERSON')]\n",
            "(this year, americans, Washington)\n",
            "[('this year', 'DATE'), ('americans', 'NORP'), ('Washington', 'GPE')]\n",
            "(fox & friends', Thanksgiving, second)\n",
            "[(\"fox & friends'\", 'ORG'), ('Thanksgiving', 'DATE'), ('second', 'ORDINAL')]\n",
            "(first, Thanksgiving, 1621, Pilgrims, first, a year, nearly half, year, 400th, Mayflower, Plymouth Rock)\n",
            "[('first', 'ORDINAL'), ('Thanksgiving', 'EVENT'), ('1621', 'DATE'), ('Pilgrims', 'ORG'), ('first', 'ORDINAL'), ('a year', 'DATE'), ('nearly half', 'CARDINAL'), ('year', 'DATE'), ('400th', 'ORDINAL'), ('Mayflower', 'ORG'), ('Plymouth Rock', 'FAC')]\n",
            "(one, tablet magazine's, noam Blum)\n",
            "[('one', 'CARDINAL'), (\"tablet magazine's\", 'ORG'), ('noam Blum', 'PERSON')]\n"
          ]
        }
      ]
    },
    {
      "cell_type": "markdown",
      "metadata": {
        "id": "kokgqyOm9WMv"
      },
      "source": [
        "#<div class=\"alert alert-info\" style=\"background-color:#5d3a8e; color:white; padding:0px 10px; border-radius:5px;\"><h2 style='margin:10px 5px'> Part 2: NLP POS Substitutions and Tones for Poets</h2>\n",
        "</div>\n",
        "\n",
        "#### Find 2 poems from 2 poets for example Robert Bly and Emily Dickison (One each shown below)"
      ]
    },
    {
      "cell_type": "markdown",
      "metadata": {
        "id": "_SLm-A9m9WMw"
      },
      "source": [
        "* Pick a poem from two poets, A, B\n",
        "* Do two distillations including: POS, embeddings POS do the following do embeddings to find which poets are closest to each other in style\n",
        "* Store each POS for each poet\n",
        "* replace poet A POS with poet B POS based in semantic similarity\n",
        "\n",
        "1. for each poet, what are the verbas and advective they use: \n",
        "2. Store the verbs and adjectives for each poet in the JSON data structure\n",
        "3. Then swap the verbs \n",
        "4. then swap adejectives\n",
        "5. then swap both verbs and adjectives for the two poets!!"
      ]
    },
    {
      "cell_type": "code",
      "metadata": {
        "id": "SRANgAq5rnF_"
      },
      "source": [
        "import pandas as pd\n",
        "from textblob import TextBlob"
      ],
      "execution_count": null,
      "outputs": []
    },
    {
      "cell_type": "code",
      "metadata": {
        "colab": {
          "base_uri": "https://localhost:8080/"
        },
        "id": "mRJKN3iT-Bze",
        "outputId": "45d29d4f-3769-4d0d-b8c4-81cd829b59dc"
      },
      "source": [
        "!pip install --upgrade gensim"
      ],
      "execution_count": null,
      "outputs": [
        {
          "output_type": "stream",
          "name": "stdout",
          "text": [
            "Requirement already satisfied: gensim in /usr/local/lib/python3.7/dist-packages (3.6.0)\n",
            "Collecting gensim\n",
            "  Downloading gensim-4.1.2-cp37-cp37m-manylinux_2_12_x86_64.manylinux2010_x86_64.whl (24.1 MB)\n",
            "\u001b[K     |████████████████████████████████| 24.1 MB 1.8 MB/s \n",
            "\u001b[?25hRequirement already satisfied: numpy>=1.17.0 in /usr/local/lib/python3.7/dist-packages (from gensim) (1.19.5)\n",
            "Requirement already satisfied: scipy>=0.18.1 in /usr/local/lib/python3.7/dist-packages (from gensim) (1.4.1)\n",
            "Requirement already satisfied: smart-open>=1.8.1 in /usr/local/lib/python3.7/dist-packages (from gensim) (5.2.1)\n",
            "Installing collected packages: gensim\n",
            "  Attempting uninstall: gensim\n",
            "    Found existing installation: gensim 3.6.0\n",
            "    Uninstalling gensim-3.6.0:\n",
            "      Successfully uninstalled gensim-3.6.0\n",
            "Successfully installed gensim-4.1.2\n"
          ]
        }
      ]
    },
    {
      "cell_type": "code",
      "metadata": {
        "colab": {
          "base_uri": "https://localhost:8080/",
          "height": 973
        },
        "id": "-PH9VSri-Fju",
        "outputId": "2879b552-281f-4444-be5d-8977632de823"
      },
      "source": [
        "!pip install pyLDAvis"
      ],
      "execution_count": null,
      "outputs": [
        {
          "output_type": "stream",
          "name": "stdout",
          "text": [
            "Collecting pyLDAvis\n",
            "  Downloading pyLDAvis-3.3.1.tar.gz (1.7 MB)\n",
            "\u001b[?25l\r\u001b[K     |▏                               | 10 kB 23.3 MB/s eta 0:00:01\r\u001b[K     |▍                               | 20 kB 23.8 MB/s eta 0:00:01\r\u001b[K     |▋                               | 30 kB 24.5 MB/s eta 0:00:01\r\u001b[K     |▉                               | 40 kB 18.5 MB/s eta 0:00:01\r\u001b[K     |█                               | 51 kB 9.5 MB/s eta 0:00:01\r\u001b[K     |█▏                              | 61 kB 7.9 MB/s eta 0:00:01\r\u001b[K     |█▍                              | 71 kB 8.7 MB/s eta 0:00:01\r\u001b[K     |█▋                              | 81 kB 9.6 MB/s eta 0:00:01\r\u001b[K     |█▉                              | 92 kB 10.5 MB/s eta 0:00:01\r\u001b[K     |██                              | 102 kB 8.6 MB/s eta 0:00:01\r\u001b[K     |██▏                             | 112 kB 8.6 MB/s eta 0:00:01\r\u001b[K     |██▍                             | 122 kB 8.6 MB/s eta 0:00:01\r\u001b[K     |██▋                             | 133 kB 8.6 MB/s eta 0:00:01\r\u001b[K     |██▊                             | 143 kB 8.6 MB/s eta 0:00:01\r\u001b[K     |███                             | 153 kB 8.6 MB/s eta 0:00:01\r\u001b[K     |███▏                            | 163 kB 8.6 MB/s eta 0:00:01\r\u001b[K     |███▍                            | 174 kB 8.6 MB/s eta 0:00:01\r\u001b[K     |███▋                            | 184 kB 8.6 MB/s eta 0:00:01\r\u001b[K     |███▊                            | 194 kB 8.6 MB/s eta 0:00:01\r\u001b[K     |████                            | 204 kB 8.6 MB/s eta 0:00:01\r\u001b[K     |████▏                           | 215 kB 8.6 MB/s eta 0:00:01\r\u001b[K     |████▍                           | 225 kB 8.6 MB/s eta 0:00:01\r\u001b[K     |████▋                           | 235 kB 8.6 MB/s eta 0:00:01\r\u001b[K     |████▊                           | 245 kB 8.6 MB/s eta 0:00:01\r\u001b[K     |█████                           | 256 kB 8.6 MB/s eta 0:00:01\r\u001b[K     |█████▏                          | 266 kB 8.6 MB/s eta 0:00:01\r\u001b[K     |█████▍                          | 276 kB 8.6 MB/s eta 0:00:01\r\u001b[K     |█████▌                          | 286 kB 8.6 MB/s eta 0:00:01\r\u001b[K     |█████▊                          | 296 kB 8.6 MB/s eta 0:00:01\r\u001b[K     |██████                          | 307 kB 8.6 MB/s eta 0:00:01\r\u001b[K     |██████▏                         | 317 kB 8.6 MB/s eta 0:00:01\r\u001b[K     |██████▍                         | 327 kB 8.6 MB/s eta 0:00:01\r\u001b[K     |██████▌                         | 337 kB 8.6 MB/s eta 0:00:01\r\u001b[K     |██████▊                         | 348 kB 8.6 MB/s eta 0:00:01\r\u001b[K     |███████                         | 358 kB 8.6 MB/s eta 0:00:01\r\u001b[K     |███████▏                        | 368 kB 8.6 MB/s eta 0:00:01\r\u001b[K     |███████▎                        | 378 kB 8.6 MB/s eta 0:00:01\r\u001b[K     |███████▌                        | 389 kB 8.6 MB/s eta 0:00:01\r\u001b[K     |███████▊                        | 399 kB 8.6 MB/s eta 0:00:01\r\u001b[K     |████████                        | 409 kB 8.6 MB/s eta 0:00:01\r\u001b[K     |████████▏                       | 419 kB 8.6 MB/s eta 0:00:01\r\u001b[K     |████████▎                       | 430 kB 8.6 MB/s eta 0:00:01\r\u001b[K     |████████▌                       | 440 kB 8.6 MB/s eta 0:00:01\r\u001b[K     |████████▊                       | 450 kB 8.6 MB/s eta 0:00:01\r\u001b[K     |█████████                       | 460 kB 8.6 MB/s eta 0:00:01\r\u001b[K     |█████████▏                      | 471 kB 8.6 MB/s eta 0:00:01\r\u001b[K     |█████████▎                      | 481 kB 8.6 MB/s eta 0:00:01\r\u001b[K     |█████████▌                      | 491 kB 8.6 MB/s eta 0:00:01\r\u001b[K     |█████████▊                      | 501 kB 8.6 MB/s eta 0:00:01\r\u001b[K     |██████████                      | 512 kB 8.6 MB/s eta 0:00:01\r\u001b[K     |██████████                      | 522 kB 8.6 MB/s eta 0:00:01\r\u001b[K     |██████████▎                     | 532 kB 8.6 MB/s eta 0:00:01\r\u001b[K     |██████████▌                     | 542 kB 8.6 MB/s eta 0:00:01\r\u001b[K     |██████████▊                     | 552 kB 8.6 MB/s eta 0:00:01\r\u001b[K     |███████████                     | 563 kB 8.6 MB/s eta 0:00:01\r\u001b[K     |███████████                     | 573 kB 8.6 MB/s eta 0:00:01\r\u001b[K     |███████████▎                    | 583 kB 8.6 MB/s eta 0:00:01\r\u001b[K     |███████████▌                    | 593 kB 8.6 MB/s eta 0:00:01\r\u001b[K     |███████████▊                    | 604 kB 8.6 MB/s eta 0:00:01\r\u001b[K     |███████████▉                    | 614 kB 8.6 MB/s eta 0:00:01\r\u001b[K     |████████████                    | 624 kB 8.6 MB/s eta 0:00:01\r\u001b[K     |████████████▎                   | 634 kB 8.6 MB/s eta 0:00:01\r\u001b[K     |████████████▌                   | 645 kB 8.6 MB/s eta 0:00:01\r\u001b[K     |████████████▊                   | 655 kB 8.6 MB/s eta 0:00:01\r\u001b[K     |████████████▉                   | 665 kB 8.6 MB/s eta 0:00:01\r\u001b[K     |█████████████                   | 675 kB 8.6 MB/s eta 0:00:01\r\u001b[K     |█████████████▎                  | 686 kB 8.6 MB/s eta 0:00:01\r\u001b[K     |█████████████▌                  | 696 kB 8.6 MB/s eta 0:00:01\r\u001b[K     |█████████████▊                  | 706 kB 8.6 MB/s eta 0:00:01\r\u001b[K     |█████████████▉                  | 716 kB 8.6 MB/s eta 0:00:01\r\u001b[K     |██████████████                  | 727 kB 8.6 MB/s eta 0:00:01\r\u001b[K     |██████████████▎                 | 737 kB 8.6 MB/s eta 0:00:01\r\u001b[K     |██████████████▌                 | 747 kB 8.6 MB/s eta 0:00:01\r\u001b[K     |██████████████▋                 | 757 kB 8.6 MB/s eta 0:00:01\r\u001b[K     |██████████████▉                 | 768 kB 8.6 MB/s eta 0:00:01\r\u001b[K     |███████████████                 | 778 kB 8.6 MB/s eta 0:00:01\r\u001b[K     |███████████████▎                | 788 kB 8.6 MB/s eta 0:00:01\r\u001b[K     |███████████████▌                | 798 kB 8.6 MB/s eta 0:00:01\r\u001b[K     |███████████████▋                | 808 kB 8.6 MB/s eta 0:00:01\r\u001b[K     |███████████████▉                | 819 kB 8.6 MB/s eta 0:00:01\r\u001b[K     |████████████████                | 829 kB 8.6 MB/s eta 0:00:01\r\u001b[K     |████████████████▎               | 839 kB 8.6 MB/s eta 0:00:01\r\u001b[K     |████████████████▍               | 849 kB 8.6 MB/s eta 0:00:01\r\u001b[K     |████████████████▋               | 860 kB 8.6 MB/s eta 0:00:01\r\u001b[K     |████████████████▉               | 870 kB 8.6 MB/s eta 0:00:01\r\u001b[K     |█████████████████               | 880 kB 8.6 MB/s eta 0:00:01\r\u001b[K     |█████████████████▎              | 890 kB 8.6 MB/s eta 0:00:01\r\u001b[K     |█████████████████▍              | 901 kB 8.6 MB/s eta 0:00:01\r\u001b[K     |█████████████████▋              | 911 kB 8.6 MB/s eta 0:00:01\r\u001b[K     |█████████████████▉              | 921 kB 8.6 MB/s eta 0:00:01\r\u001b[K     |██████████████████              | 931 kB 8.6 MB/s eta 0:00:01\r\u001b[K     |██████████████████▎             | 942 kB 8.6 MB/s eta 0:00:01\r\u001b[K     |██████████████████▍             | 952 kB 8.6 MB/s eta 0:00:01\r\u001b[K     |██████████████████▋             | 962 kB 8.6 MB/s eta 0:00:01\r\u001b[K     |██████████████████▉             | 972 kB 8.6 MB/s eta 0:00:01\r\u001b[K     |███████████████████             | 983 kB 8.6 MB/s eta 0:00:01\r\u001b[K     |███████████████████▏            | 993 kB 8.6 MB/s eta 0:00:01\r\u001b[K     |███████████████████▍            | 1.0 MB 8.6 MB/s eta 0:00:01\r\u001b[K     |███████████████████▋            | 1.0 MB 8.6 MB/s eta 0:00:01\r\u001b[K     |███████████████████▉            | 1.0 MB 8.6 MB/s eta 0:00:01\r\u001b[K     |████████████████████            | 1.0 MB 8.6 MB/s eta 0:00:01\r\u001b[K     |████████████████████▏           | 1.0 MB 8.6 MB/s eta 0:00:01\r\u001b[K     |████████████████████▍           | 1.1 MB 8.6 MB/s eta 0:00:01\r\u001b[K     |████████████████████▋           | 1.1 MB 8.6 MB/s eta 0:00:01\r\u001b[K     |████████████████████▉           | 1.1 MB 8.6 MB/s eta 0:00:01\r\u001b[K     |█████████████████████           | 1.1 MB 8.6 MB/s eta 0:00:01\r\u001b[K     |█████████████████████▏          | 1.1 MB 8.6 MB/s eta 0:00:01\r\u001b[K     |█████████████████████▍          | 1.1 MB 8.6 MB/s eta 0:00:01\r\u001b[K     |█████████████████████▋          | 1.1 MB 8.6 MB/s eta 0:00:01\r\u001b[K     |█████████████████████▉          | 1.1 MB 8.6 MB/s eta 0:00:01\r\u001b[K     |██████████████████████          | 1.1 MB 8.6 MB/s eta 0:00:01\r\u001b[K     |██████████████████████▏         | 1.1 MB 8.6 MB/s eta 0:00:01\r\u001b[K     |██████████████████████▍         | 1.2 MB 8.6 MB/s eta 0:00:01\r\u001b[K     |██████████████████████▋         | 1.2 MB 8.6 MB/s eta 0:00:01\r\u001b[K     |██████████████████████▉         | 1.2 MB 8.6 MB/s eta 0:00:01\r\u001b[K     |███████████████████████         | 1.2 MB 8.6 MB/s eta 0:00:01\r\u001b[K     |███████████████████████▏        | 1.2 MB 8.6 MB/s eta 0:00:01\r\u001b[K     |███████████████████████▍        | 1.2 MB 8.6 MB/s eta 0:00:01\r\u001b[K     |███████████████████████▋        | 1.2 MB 8.6 MB/s eta 0:00:01\r\u001b[K     |███████████████████████▊        | 1.2 MB 8.6 MB/s eta 0:00:01\r\u001b[K     |████████████████████████        | 1.2 MB 8.6 MB/s eta 0:00:01\r\u001b[K     |████████████████████████▏       | 1.2 MB 8.6 MB/s eta 0:00:01\r\u001b[K     |████████████████████████▍       | 1.3 MB 8.6 MB/s eta 0:00:01\r\u001b[K     |████████████████████████▋       | 1.3 MB 8.6 MB/s eta 0:00:01\r\u001b[K     |████████████████████████▊       | 1.3 MB 8.6 MB/s eta 0:00:01\r\u001b[K     |█████████████████████████       | 1.3 MB 8.6 MB/s eta 0:00:01\r\u001b[K     |█████████████████████████▏      | 1.3 MB 8.6 MB/s eta 0:00:01\r\u001b[K     |█████████████████████████▍      | 1.3 MB 8.6 MB/s eta 0:00:01\r\u001b[K     |█████████████████████████▌      | 1.3 MB 8.6 MB/s eta 0:00:01\r\u001b[K     |█████████████████████████▊      | 1.3 MB 8.6 MB/s eta 0:00:01\r\u001b[K     |██████████████████████████      | 1.3 MB 8.6 MB/s eta 0:00:01\r\u001b[K     |██████████████████████████▏     | 1.4 MB 8.6 MB/s eta 0:00:01\r\u001b[K     |██████████████████████████▍     | 1.4 MB 8.6 MB/s eta 0:00:01\r\u001b[K     |██████████████████████████▌     | 1.4 MB 8.6 MB/s eta 0:00:01\r\u001b[K     |██████████████████████████▊     | 1.4 MB 8.6 MB/s eta 0:00:01\r\u001b[K     |███████████████████████████     | 1.4 MB 8.6 MB/s eta 0:00:01\r\u001b[K     |███████████████████████████▏    | 1.4 MB 8.6 MB/s eta 0:00:01\r\u001b[K     |███████████████████████████▍    | 1.4 MB 8.6 MB/s eta 0:00:01\r\u001b[K     |███████████████████████████▌    | 1.4 MB 8.6 MB/s eta 0:00:01\r\u001b[K     |███████████████████████████▊    | 1.4 MB 8.6 MB/s eta 0:00:01\r\u001b[K     |████████████████████████████    | 1.4 MB 8.6 MB/s eta 0:00:01\r\u001b[K     |████████████████████████████▏   | 1.5 MB 8.6 MB/s eta 0:00:01\r\u001b[K     |████████████████████████████▎   | 1.5 MB 8.6 MB/s eta 0:00:01\r\u001b[K     |████████████████████████████▌   | 1.5 MB 8.6 MB/s eta 0:00:01\r\u001b[K     |████████████████████████████▊   | 1.5 MB 8.6 MB/s eta 0:00:01\r\u001b[K     |█████████████████████████████   | 1.5 MB 8.6 MB/s eta 0:00:01\r\u001b[K     |█████████████████████████████▏  | 1.5 MB 8.6 MB/s eta 0:00:01\r\u001b[K     |█████████████████████████████▎  | 1.5 MB 8.6 MB/s eta 0:00:01\r\u001b[K     |█████████████████████████████▌  | 1.5 MB 8.6 MB/s eta 0:00:01\r\u001b[K     |█████████████████████████████▊  | 1.5 MB 8.6 MB/s eta 0:00:01\r\u001b[K     |██████████████████████████████  | 1.5 MB 8.6 MB/s eta 0:00:01\r\u001b[K     |██████████████████████████████▏ | 1.6 MB 8.6 MB/s eta 0:00:01\r\u001b[K     |██████████████████████████████▎ | 1.6 MB 8.6 MB/s eta 0:00:01\r\u001b[K     |██████████████████████████████▌ | 1.6 MB 8.6 MB/s eta 0:00:01\r\u001b[K     |██████████████████████████████▊ | 1.6 MB 8.6 MB/s eta 0:00:01\r\u001b[K     |███████████████████████████████ | 1.6 MB 8.6 MB/s eta 0:00:01\r\u001b[K     |███████████████████████████████ | 1.6 MB 8.6 MB/s eta 0:00:01\r\u001b[K     |███████████████████████████████▎| 1.6 MB 8.6 MB/s eta 0:00:01\r\u001b[K     |███████████████████████████████▌| 1.6 MB 8.6 MB/s eta 0:00:01\r\u001b[K     |███████████████████████████████▊| 1.6 MB 8.6 MB/s eta 0:00:01\r\u001b[K     |████████████████████████████████| 1.6 MB 8.6 MB/s eta 0:00:01\r\u001b[K     |████████████████████████████████| 1.7 MB 8.6 MB/s \n",
            "\u001b[?25h  Installing build dependencies ... \u001b[?25l\u001b[?25hdone\n",
            "  Getting requirements to build wheel ... \u001b[?25l\u001b[?25hdone\n",
            "  Installing backend dependencies ... \u001b[?25l\u001b[?25hdone\n",
            "    Preparing wheel metadata ... \u001b[?25l\u001b[?25hdone\n",
            "Collecting pandas>=1.2.0\n",
            "  Downloading pandas-1.3.4-cp37-cp37m-manylinux_2_17_x86_64.manylinux2014_x86_64.whl (11.3 MB)\n",
            "\u001b[K     |████████████████████████████████| 11.3 MB 32.9 MB/s \n",
            "\u001b[?25hCollecting numpy>=1.20.0\n",
            "  Downloading numpy-1.21.4-cp37-cp37m-manylinux_2_12_x86_64.manylinux2010_x86_64.whl (15.7 MB)\n",
            "\u001b[K     |████████████████████████████████| 15.7 MB 11.1 MB/s \n",
            "\u001b[?25hRequirement already satisfied: numexpr in /usr/local/lib/python3.7/dist-packages (from pyLDAvis) (2.7.3)\n",
            "Requirement already satisfied: gensim in /usr/local/lib/python3.7/dist-packages (from pyLDAvis) (4.1.2)\n",
            "Collecting funcy\n",
            "  Downloading funcy-1.16-py2.py3-none-any.whl (32 kB)\n",
            "Requirement already satisfied: scikit-learn in /usr/local/lib/python3.7/dist-packages (from pyLDAvis) (1.0.1)\n",
            "Requirement already satisfied: scipy in /usr/local/lib/python3.7/dist-packages (from pyLDAvis) (1.4.1)\n",
            "Requirement already satisfied: setuptools in /usr/local/lib/python3.7/dist-packages (from pyLDAvis) (57.4.0)\n",
            "Requirement already satisfied: future in /usr/local/lib/python3.7/dist-packages (from pyLDAvis) (0.16.0)\n",
            "Requirement already satisfied: joblib in /usr/local/lib/python3.7/dist-packages (from pyLDAvis) (1.1.0)\n",
            "Requirement already satisfied: jinja2 in /usr/local/lib/python3.7/dist-packages (from pyLDAvis) (2.11.3)\n",
            "Requirement already satisfied: sklearn in /usr/local/lib/python3.7/dist-packages (from pyLDAvis) (0.0)\n",
            "Requirement already satisfied: python-dateutil>=2.7.3 in /usr/local/lib/python3.7/dist-packages (from pandas>=1.2.0->pyLDAvis) (2.8.2)\n",
            "Requirement already satisfied: pytz>=2017.3 in /usr/local/lib/python3.7/dist-packages (from pandas>=1.2.0->pyLDAvis) (2018.9)\n",
            "Requirement already satisfied: six>=1.5 in /usr/local/lib/python3.7/dist-packages (from python-dateutil>=2.7.3->pandas>=1.2.0->pyLDAvis) (1.15.0)\n",
            "Requirement already satisfied: smart-open>=1.8.1 in /usr/local/lib/python3.7/dist-packages (from gensim->pyLDAvis) (5.2.1)\n",
            "Requirement already satisfied: MarkupSafe>=0.23 in /usr/local/lib/python3.7/dist-packages (from jinja2->pyLDAvis) (2.0.1)\n",
            "Requirement already satisfied: threadpoolctl>=2.0.0 in /usr/local/lib/python3.7/dist-packages (from scikit-learn->pyLDAvis) (3.0.0)\n",
            "Building wheels for collected packages: pyLDAvis\n",
            "  Building wheel for pyLDAvis (PEP 517) ... \u001b[?25l\u001b[?25hdone\n",
            "  Created wheel for pyLDAvis: filename=pyLDAvis-3.3.1-py2.py3-none-any.whl size=136897 sha256=217df373288acf73e6cf7b899d6407272d56d41fbb57f7cb1d2ffaa5e3465e35\n",
            "  Stored in directory: /root/.cache/pip/wheels/c9/21/f6/17bcf2667e8a68532ba2fbf6d5c72fdf4c7f7d9abfa4852d2f\n",
            "Successfully built pyLDAvis\n",
            "Installing collected packages: numpy, pandas, funcy, pyLDAvis\n",
            "  Attempting uninstall: numpy\n",
            "    Found existing installation: numpy 1.19.5\n",
            "    Uninstalling numpy-1.19.5:\n",
            "      Successfully uninstalled numpy-1.19.5\n",
            "  Attempting uninstall: pandas\n",
            "    Found existing installation: pandas 1.1.5\n",
            "    Uninstalling pandas-1.1.5:\n",
            "      Successfully uninstalled pandas-1.1.5\n",
            "\u001b[31mERROR: pip's dependency resolver does not currently take into account all the packages that are installed. This behaviour is the source of the following dependency conflicts.\n",
            "yellowbrick 1.3.post1 requires numpy<1.20,>=1.16.0, but you have numpy 1.21.4 which is incompatible.\n",
            "google-colab 1.0.0 requires pandas~=1.1.0; python_version >= \"3.0\", but you have pandas 1.3.4 which is incompatible.\n",
            "datascience 0.10.6 requires folium==0.2.1, but you have folium 0.8.3 which is incompatible.\n",
            "albumentations 0.1.12 requires imgaug<0.2.7,>=0.2.5, but you have imgaug 0.2.9 which is incompatible.\u001b[0m\n",
            "Successfully installed funcy-1.16 numpy-1.21.4 pandas-1.3.4 pyLDAvis-3.3.1\n"
          ]
        },
        {
          "output_type": "display_data",
          "data": {
            "application/vnd.colab-display-data+json": {
              "pip_warning": {
                "packages": [
                  "numpy",
                  "pandas"
                ]
              }
            }
          },
          "metadata": {}
        }
      ]
    },
    {
      "cell_type": "code",
      "metadata": {
        "colab": {
          "base_uri": "https://localhost:8080/"
        },
        "id": "ROkFdwAi-Iw5",
        "outputId": "259e0e54-cca6-45db-e177-40c1e1d22e14"
      },
      "source": [
        "!pip install spacy"
      ],
      "execution_count": null,
      "outputs": [
        {
          "output_type": "stream",
          "name": "stdout",
          "text": [
            "Requirement already satisfied: spacy in /usr/local/lib/python3.7/dist-packages (2.2.4)\n",
            "Requirement already satisfied: srsly<1.1.0,>=1.0.2 in /usr/local/lib/python3.7/dist-packages (from spacy) (1.0.5)\n",
            "Requirement already satisfied: wasabi<1.1.0,>=0.4.0 in /usr/local/lib/python3.7/dist-packages (from spacy) (0.8.2)\n",
            "Requirement already satisfied: cymem<2.1.0,>=2.0.2 in /usr/local/lib/python3.7/dist-packages (from spacy) (2.0.6)\n",
            "Requirement already satisfied: requests<3.0.0,>=2.13.0 in /usr/local/lib/python3.7/dist-packages (from spacy) (2.23.0)\n",
            "Requirement already satisfied: tqdm<5.0.0,>=4.38.0 in /usr/local/lib/python3.7/dist-packages (from spacy) (4.62.3)\n",
            "Requirement already satisfied: setuptools in /usr/local/lib/python3.7/dist-packages (from spacy) (57.4.0)\n",
            "Requirement already satisfied: preshed<3.1.0,>=3.0.2 in /usr/local/lib/python3.7/dist-packages (from spacy) (3.0.6)\n",
            "Requirement already satisfied: murmurhash<1.1.0,>=0.28.0 in /usr/local/lib/python3.7/dist-packages (from spacy) (1.0.6)\n",
            "Requirement already satisfied: plac<1.2.0,>=0.9.6 in /usr/local/lib/python3.7/dist-packages (from spacy) (1.1.3)\n",
            "Requirement already satisfied: numpy>=1.15.0 in /usr/local/lib/python3.7/dist-packages (from spacy) (1.21.4)\n",
            "Requirement already satisfied: catalogue<1.1.0,>=0.0.7 in /usr/local/lib/python3.7/dist-packages (from spacy) (1.0.0)\n",
            "Requirement already satisfied: blis<0.5.0,>=0.4.0 in /usr/local/lib/python3.7/dist-packages (from spacy) (0.4.1)\n",
            "Requirement already satisfied: thinc==7.4.0 in /usr/local/lib/python3.7/dist-packages (from spacy) (7.4.0)\n",
            "Requirement already satisfied: importlib-metadata>=0.20 in /usr/local/lib/python3.7/dist-packages (from catalogue<1.1.0,>=0.0.7->spacy) (4.8.2)\n",
            "Requirement already satisfied: zipp>=0.5 in /usr/local/lib/python3.7/dist-packages (from importlib-metadata>=0.20->catalogue<1.1.0,>=0.0.7->spacy) (3.6.0)\n",
            "Requirement already satisfied: typing-extensions>=3.6.4 in /usr/local/lib/python3.7/dist-packages (from importlib-metadata>=0.20->catalogue<1.1.0,>=0.0.7->spacy) (3.10.0.2)\n",
            "Requirement already satisfied: certifi>=2017.4.17 in /usr/local/lib/python3.7/dist-packages (from requests<3.0.0,>=2.13.0->spacy) (2021.10.8)\n",
            "Requirement already satisfied: chardet<4,>=3.0.2 in /usr/local/lib/python3.7/dist-packages (from requests<3.0.0,>=2.13.0->spacy) (3.0.4)\n",
            "Requirement already satisfied: urllib3!=1.25.0,!=1.25.1,<1.26,>=1.21.1 in /usr/local/lib/python3.7/dist-packages (from requests<3.0.0,>=2.13.0->spacy) (1.24.3)\n",
            "Requirement already satisfied: idna<3,>=2.5 in /usr/local/lib/python3.7/dist-packages (from requests<3.0.0,>=2.13.0->spacy) (2.10)\n"
          ]
        }
      ]
    },
    {
      "cell_type": "code",
      "metadata": {
        "colab": {
          "base_uri": "https://localhost:8080/"
        },
        "id": "CVvyYGoB-QgN",
        "outputId": "52479664-b6b8-4b0c-8a94-f0aaf5d488c1"
      },
      "source": [
        "!pip install transformers"
      ],
      "execution_count": null,
      "outputs": [
        {
          "output_type": "stream",
          "name": "stdout",
          "text": [
            "Requirement already satisfied: transformers in /usr/local/lib/python3.7/dist-packages (4.12.5)\n",
            "Requirement already satisfied: huggingface-hub<1.0,>=0.1.0 in /usr/local/lib/python3.7/dist-packages (from transformers) (0.1.2)\n",
            "Requirement already satisfied: requests in /usr/local/lib/python3.7/dist-packages (from transformers) (2.23.0)\n",
            "Requirement already satisfied: packaging>=20.0 in /usr/local/lib/python3.7/dist-packages (from transformers) (21.3)\n",
            "Requirement already satisfied: sacremoses in /usr/local/lib/python3.7/dist-packages (from transformers) (0.0.46)\n",
            "Requirement already satisfied: importlib-metadata in /usr/local/lib/python3.7/dist-packages (from transformers) (4.8.2)\n",
            "Requirement already satisfied: regex!=2019.12.17 in /usr/local/lib/python3.7/dist-packages (from transformers) (2019.12.20)\n",
            "Requirement already satisfied: filelock in /usr/local/lib/python3.7/dist-packages (from transformers) (3.4.0)\n",
            "Requirement already satisfied: numpy>=1.17 in /usr/local/lib/python3.7/dist-packages (from transformers) (1.21.4)\n",
            "Requirement already satisfied: tqdm>=4.27 in /usr/local/lib/python3.7/dist-packages (from transformers) (4.62.3)\n",
            "Requirement already satisfied: tokenizers<0.11,>=0.10.1 in /usr/local/lib/python3.7/dist-packages (from transformers) (0.10.3)\n",
            "Requirement already satisfied: pyyaml>=5.1 in /usr/local/lib/python3.7/dist-packages (from transformers) (6.0)\n",
            "Requirement already satisfied: typing-extensions>=3.7.4.3 in /usr/local/lib/python3.7/dist-packages (from huggingface-hub<1.0,>=0.1.0->transformers) (3.10.0.2)\n",
            "Requirement already satisfied: pyparsing!=3.0.5,>=2.0.2 in /usr/local/lib/python3.7/dist-packages (from packaging>=20.0->transformers) (3.0.6)\n",
            "Requirement already satisfied: zipp>=0.5 in /usr/local/lib/python3.7/dist-packages (from importlib-metadata->transformers) (3.6.0)\n",
            "Requirement already satisfied: urllib3!=1.25.0,!=1.25.1,<1.26,>=1.21.1 in /usr/local/lib/python3.7/dist-packages (from requests->transformers) (1.24.3)\n",
            "Requirement already satisfied: certifi>=2017.4.17 in /usr/local/lib/python3.7/dist-packages (from requests->transformers) (2021.10.8)\n",
            "Requirement already satisfied: chardet<4,>=3.0.2 in /usr/local/lib/python3.7/dist-packages (from requests->transformers) (3.0.4)\n",
            "Requirement already satisfied: idna<3,>=2.5 in /usr/local/lib/python3.7/dist-packages (from requests->transformers) (2.10)\n",
            "Requirement already satisfied: joblib in /usr/local/lib/python3.7/dist-packages (from sacremoses->transformers) (1.1.0)\n",
            "Requirement already satisfied: click in /usr/local/lib/python3.7/dist-packages (from sacremoses->transformers) (7.1.2)\n",
            "Requirement already satisfied: six in /usr/local/lib/python3.7/dist-packages (from sacremoses->transformers) (1.15.0)\n"
          ]
        }
      ]
    },
    {
      "cell_type": "code",
      "metadata": {
        "colab": {
          "base_uri": "https://localhost:8080/"
        },
        "id": "a2lw6Ele-TjT",
        "outputId": "73cc07ef-2c45-47b9-b4d1-757806fe0a3f"
      },
      "source": [
        "!pip install contractions"
      ],
      "execution_count": null,
      "outputs": [
        {
          "output_type": "stream",
          "name": "stdout",
          "text": [
            "Collecting contractions\n",
            "  Downloading contractions-0.0.58-py2.py3-none-any.whl (8.0 kB)\n",
            "Collecting textsearch>=0.0.21\n",
            "  Downloading textsearch-0.0.21-py2.py3-none-any.whl (7.5 kB)\n",
            "Collecting anyascii\n",
            "  Downloading anyascii-0.3.0-py3-none-any.whl (284 kB)\n",
            "\u001b[K     |████████████████████████████████| 284 kB 7.1 MB/s \n",
            "\u001b[?25hCollecting pyahocorasick\n",
            "  Downloading pyahocorasick-1.4.2.tar.gz (321 kB)\n",
            "\u001b[K     |████████████████████████████████| 321 kB 51.8 MB/s \n",
            "\u001b[?25hBuilding wheels for collected packages: pyahocorasick\n",
            "  Building wheel for pyahocorasick (setup.py) ... \u001b[?25l\u001b[?25hdone\n",
            "  Created wheel for pyahocorasick: filename=pyahocorasick-1.4.2-cp37-cp37m-linux_x86_64.whl size=85455 sha256=201c7e63781d627da294d4ff3bb27162b8656f32a69ca84d6e1a44ab4e9fc870\n",
            "  Stored in directory: /root/.cache/pip/wheels/25/19/a6/8f363d9939162782bb8439d886469756271abc01f76fbd790f\n",
            "Successfully built pyahocorasick\n",
            "Installing collected packages: pyahocorasick, anyascii, textsearch, contractions\n",
            "Successfully installed anyascii-0.3.0 contractions-0.0.58 pyahocorasick-1.4.2 textsearch-0.0.21\n"
          ]
        }
      ]
    },
    {
      "cell_type": "code",
      "metadata": {
        "colab": {
          "base_uri": "https://localhost:8080/"
        },
        "id": "AAGNcgdj-Wy4",
        "outputId": "e8d30354-44b7-47e5-8c53-de7ad4a02b3b"
      },
      "source": [
        "!pip install sentence-transformers"
      ],
      "execution_count": null,
      "outputs": [
        {
          "output_type": "stream",
          "name": "stdout",
          "text": [
            "Collecting sentence-transformers\n",
            "  Downloading sentence-transformers-2.1.0.tar.gz (78 kB)\n",
            "\u001b[?25l\r\u001b[K     |████▏                           | 10 kB 22.0 MB/s eta 0:00:01\r\u001b[K     |████████▍                       | 20 kB 27.8 MB/s eta 0:00:01\r\u001b[K     |████████████▌                   | 30 kB 25.2 MB/s eta 0:00:01\r\u001b[K     |████████████████▊               | 40 kB 19.2 MB/s eta 0:00:01\r\u001b[K     |████████████████████▉           | 51 kB 9.3 MB/s eta 0:00:01\r\u001b[K     |█████████████████████████       | 61 kB 7.9 MB/s eta 0:00:01\r\u001b[K     |█████████████████████████████▏  | 71 kB 8.8 MB/s eta 0:00:01\r\u001b[K     |████████████████████████████████| 78 kB 3.8 MB/s \n",
            "\u001b[?25hRequirement already satisfied: transformers<5.0.0,>=4.6.0 in /usr/local/lib/python3.7/dist-packages (from sentence-transformers) (4.12.5)\n",
            "Requirement already satisfied: tokenizers>=0.10.3 in /usr/local/lib/python3.7/dist-packages (from sentence-transformers) (0.10.3)\n",
            "Requirement already satisfied: tqdm in /usr/local/lib/python3.7/dist-packages (from sentence-transformers) (4.62.3)\n",
            "Requirement already satisfied: torch>=1.6.0 in /usr/local/lib/python3.7/dist-packages (from sentence-transformers) (1.10.0+cu111)\n",
            "Requirement already satisfied: torchvision in /usr/local/lib/python3.7/dist-packages (from sentence-transformers) (0.11.1+cu111)\n",
            "Requirement already satisfied: numpy in /usr/local/lib/python3.7/dist-packages (from sentence-transformers) (1.21.4)\n",
            "Requirement already satisfied: scikit-learn in /usr/local/lib/python3.7/dist-packages (from sentence-transformers) (1.0.1)\n",
            "Requirement already satisfied: scipy in /usr/local/lib/python3.7/dist-packages (from sentence-transformers) (1.4.1)\n",
            "Requirement already satisfied: nltk in /usr/local/lib/python3.7/dist-packages (from sentence-transformers) (3.2.5)\n",
            "Collecting sentencepiece\n",
            "  Downloading sentencepiece-0.1.96-cp37-cp37m-manylinux_2_17_x86_64.manylinux2014_x86_64.whl (1.2 MB)\n",
            "\u001b[K     |████████████████████████████████| 1.2 MB 19.9 MB/s \n",
            "\u001b[?25hRequirement already satisfied: huggingface-hub in /usr/local/lib/python3.7/dist-packages (from sentence-transformers) (0.1.2)\n",
            "Requirement already satisfied: typing-extensions in /usr/local/lib/python3.7/dist-packages (from torch>=1.6.0->sentence-transformers) (3.10.0.2)\n",
            "Requirement already satisfied: importlib-metadata in /usr/local/lib/python3.7/dist-packages (from transformers<5.0.0,>=4.6.0->sentence-transformers) (4.8.2)\n",
            "Requirement already satisfied: regex!=2019.12.17 in /usr/local/lib/python3.7/dist-packages (from transformers<5.0.0,>=4.6.0->sentence-transformers) (2019.12.20)\n",
            "Requirement already satisfied: sacremoses in /usr/local/lib/python3.7/dist-packages (from transformers<5.0.0,>=4.6.0->sentence-transformers) (0.0.46)\n",
            "Requirement already satisfied: packaging>=20.0 in /usr/local/lib/python3.7/dist-packages (from transformers<5.0.0,>=4.6.0->sentence-transformers) (21.3)\n",
            "Requirement already satisfied: filelock in /usr/local/lib/python3.7/dist-packages (from transformers<5.0.0,>=4.6.0->sentence-transformers) (3.4.0)\n",
            "Requirement already satisfied: requests in /usr/local/lib/python3.7/dist-packages (from transformers<5.0.0,>=4.6.0->sentence-transformers) (2.23.0)\n",
            "Requirement already satisfied: pyyaml>=5.1 in /usr/local/lib/python3.7/dist-packages (from transformers<5.0.0,>=4.6.0->sentence-transformers) (6.0)\n",
            "Requirement already satisfied: pyparsing!=3.0.5,>=2.0.2 in /usr/local/lib/python3.7/dist-packages (from packaging>=20.0->transformers<5.0.0,>=4.6.0->sentence-transformers) (3.0.6)\n",
            "Requirement already satisfied: zipp>=0.5 in /usr/local/lib/python3.7/dist-packages (from importlib-metadata->transformers<5.0.0,>=4.6.0->sentence-transformers) (3.6.0)\n",
            "Requirement already satisfied: six in /usr/local/lib/python3.7/dist-packages (from nltk->sentence-transformers) (1.15.0)\n",
            "Requirement already satisfied: urllib3!=1.25.0,!=1.25.1,<1.26,>=1.21.1 in /usr/local/lib/python3.7/dist-packages (from requests->transformers<5.0.0,>=4.6.0->sentence-transformers) (1.24.3)\n",
            "Requirement already satisfied: certifi>=2017.4.17 in /usr/local/lib/python3.7/dist-packages (from requests->transformers<5.0.0,>=4.6.0->sentence-transformers) (2021.10.8)\n",
            "Requirement already satisfied: chardet<4,>=3.0.2 in /usr/local/lib/python3.7/dist-packages (from requests->transformers<5.0.0,>=4.6.0->sentence-transformers) (3.0.4)\n",
            "Requirement already satisfied: idna<3,>=2.5 in /usr/local/lib/python3.7/dist-packages (from requests->transformers<5.0.0,>=4.6.0->sentence-transformers) (2.10)\n",
            "Requirement already satisfied: joblib in /usr/local/lib/python3.7/dist-packages (from sacremoses->transformers<5.0.0,>=4.6.0->sentence-transformers) (1.1.0)\n",
            "Requirement already satisfied: click in /usr/local/lib/python3.7/dist-packages (from sacremoses->transformers<5.0.0,>=4.6.0->sentence-transformers) (7.1.2)\n",
            "Requirement already satisfied: threadpoolctl>=2.0.0 in /usr/local/lib/python3.7/dist-packages (from scikit-learn->sentence-transformers) (3.0.0)\n",
            "Requirement already satisfied: pillow!=8.3.0,>=5.3.0 in /usr/local/lib/python3.7/dist-packages (from torchvision->sentence-transformers) (7.1.2)\n",
            "Building wheels for collected packages: sentence-transformers\n",
            "  Building wheel for sentence-transformers (setup.py) ... \u001b[?25l\u001b[?25hdone\n",
            "  Created wheel for sentence-transformers: filename=sentence_transformers-2.1.0-py3-none-any.whl size=121000 sha256=3c4b29fffadcf7983393d71c1a6a490e3796a377cd3ba8c7019ca9c8192b6e07\n",
            "  Stored in directory: /root/.cache/pip/wheels/90/f0/bb/ed1add84da70092ea526466eadc2bfb197c4bcb8d4fa5f7bad\n",
            "Successfully built sentence-transformers\n",
            "Installing collected packages: sentencepiece, sentence-transformers\n",
            "Successfully installed sentence-transformers-2.1.0 sentencepiece-0.1.96\n"
          ]
        }
      ]
    },
    {
      "cell_type": "code",
      "metadata": {
        "colab": {
          "base_uri": "https://localhost:8080/"
        },
        "id": "kLMLLByM-aDC",
        "outputId": "2616c328-7f92-4c70-b7af-d7ac25f96d00"
      },
      "source": [
        "!pip install spacy"
      ],
      "execution_count": null,
      "outputs": [
        {
          "output_type": "stream",
          "name": "stdout",
          "text": [
            "Requirement already satisfied: spacy in /usr/local/lib/python3.7/dist-packages (2.2.4)\n",
            "Requirement already satisfied: wasabi<1.1.0,>=0.4.0 in /usr/local/lib/python3.7/dist-packages (from spacy) (0.8.2)\n",
            "Requirement already satisfied: srsly<1.1.0,>=1.0.2 in /usr/local/lib/python3.7/dist-packages (from spacy) (1.0.5)\n",
            "Requirement already satisfied: preshed<3.1.0,>=3.0.2 in /usr/local/lib/python3.7/dist-packages (from spacy) (3.0.6)\n",
            "Requirement already satisfied: thinc==7.4.0 in /usr/local/lib/python3.7/dist-packages (from spacy) (7.4.0)\n",
            "Requirement already satisfied: murmurhash<1.1.0,>=0.28.0 in /usr/local/lib/python3.7/dist-packages (from spacy) (1.0.6)\n",
            "Requirement already satisfied: catalogue<1.1.0,>=0.0.7 in /usr/local/lib/python3.7/dist-packages (from spacy) (1.0.0)\n",
            "Requirement already satisfied: requests<3.0.0,>=2.13.0 in /usr/local/lib/python3.7/dist-packages (from spacy) (2.23.0)\n",
            "Requirement already satisfied: setuptools in /usr/local/lib/python3.7/dist-packages (from spacy) (57.4.0)\n",
            "Requirement already satisfied: tqdm<5.0.0,>=4.38.0 in /usr/local/lib/python3.7/dist-packages (from spacy) (4.62.3)\n",
            "Requirement already satisfied: numpy>=1.15.0 in /usr/local/lib/python3.7/dist-packages (from spacy) (1.21.4)\n",
            "Requirement already satisfied: cymem<2.1.0,>=2.0.2 in /usr/local/lib/python3.7/dist-packages (from spacy) (2.0.6)\n",
            "Requirement already satisfied: plac<1.2.0,>=0.9.6 in /usr/local/lib/python3.7/dist-packages (from spacy) (1.1.3)\n",
            "Requirement already satisfied: blis<0.5.0,>=0.4.0 in /usr/local/lib/python3.7/dist-packages (from spacy) (0.4.1)\n",
            "Requirement already satisfied: importlib-metadata>=0.20 in /usr/local/lib/python3.7/dist-packages (from catalogue<1.1.0,>=0.0.7->spacy) (4.8.2)\n",
            "Requirement already satisfied: typing-extensions>=3.6.4 in /usr/local/lib/python3.7/dist-packages (from importlib-metadata>=0.20->catalogue<1.1.0,>=0.0.7->spacy) (3.10.0.2)\n",
            "Requirement already satisfied: zipp>=0.5 in /usr/local/lib/python3.7/dist-packages (from importlib-metadata>=0.20->catalogue<1.1.0,>=0.0.7->spacy) (3.6.0)\n",
            "Requirement already satisfied: certifi>=2017.4.17 in /usr/local/lib/python3.7/dist-packages (from requests<3.0.0,>=2.13.0->spacy) (2021.10.8)\n",
            "Requirement already satisfied: idna<3,>=2.5 in /usr/local/lib/python3.7/dist-packages (from requests<3.0.0,>=2.13.0->spacy) (2.10)\n",
            "Requirement already satisfied: chardet<4,>=3.0.2 in /usr/local/lib/python3.7/dist-packages (from requests<3.0.0,>=2.13.0->spacy) (3.0.4)\n",
            "Requirement already satisfied: urllib3!=1.25.0,!=1.25.1,<1.26,>=1.21.1 in /usr/local/lib/python3.7/dist-packages (from requests<3.0.0,>=2.13.0->spacy) (1.24.3)\n"
          ]
        }
      ]
    },
    {
      "cell_type": "markdown",
      "metadata": {
        "id": "k401nNIx-gSq"
      },
      "source": [
        "**Imports**"
      ]
    },
    {
      "cell_type": "code",
      "metadata": {
        "colab": {
          "base_uri": "https://localhost:8080/"
        },
        "id": "QHeA1v0C-it3",
        "outputId": "d1afcf49-1da8-4921-fc93-b3209c311de9"
      },
      "source": [
        "import pandas as pd\n",
        "import numpy as np\n",
        "import os\n",
        "import glob\n",
        "import matplotlib.pyplot as plt\n",
        "import seaborn as sns\n",
        "import re\n",
        "import string\n",
        "import wordcloud\n",
        "import nltk\n",
        "import unicodedata\n",
        "import contractions\n",
        "import pickle\n",
        "import urllib.request\n",
        "import requests\n",
        "import spacy\n",
        "%matplotlib inline\n",
        "\n",
        "from sklearn.feature_extraction.text import TfidfVectorizer\n",
        "from sklearn.preprocessing import MinMaxScaler\n",
        "from sklearn.preprocessing import StandardScaler\n",
        "from sklearn.naive_bayes import MultinomialNB\n",
        "from sklearn.linear_model import LogisticRegression\n",
        "from sklearn.naive_bayes import GaussianNB\n",
        "from sklearn.ensemble import RandomForestClassifier\n",
        "from sklearn.svm import LinearSVC\n",
        "from sklearn.model_selection import train_test_split\n",
        "from sklearn.metrics import classification_report, confusion_matrix, accuracy_score\n",
        "from sklearn.model_selection import cross_val_score\n",
        "from bs4 import BeautifulSoup\n",
        "from bs4.element import Comment\n",
        "from gensim.utils import simple_preprocess\n",
        "from collections import defaultdict\n",
        "from contractions import contractions_dict\n",
        "from wordcloud import WordCloud, STOPWORDS\n",
        "from transformers import pipeline\n",
        "\n",
        "from nltk.tokenize import word_tokenize\n",
        "from nltk.stem.wordnet import WordNetLemmatizer\n",
        "from nltk.tokenize.toktok import ToktokTokenizer\n",
        "from nltk.stem.porter import PorterStemmer\n",
        "from sentence_transformers import SentenceTransformer, util\n",
        "from gensim.corpora import Dictionary\n",
        "from gensim.models.ldamodel import LdaModel\n",
        "from spacy import displacy\n",
        "\n",
        "nltk.download('stopwords')\n",
        "nltk.download('averaged_perceptron_tagger')\n",
        "nltk.download('universal_tagset')\n",
        "nltk.download('wordnet')\n",
        "nltk.download('punkt')\n",
        "\n",
        "os.environ[\"CUDA_VISIBLE_DEVICES\"] = \"0\"\n",
        "\n",
        "from contractions import contractions_dict\n",
        "from scipy import stats\n",
        "from scipy import sparse\n",
        "\n",
        "import pyLDAvis\n",
        "import pyLDAvis.gensim_models as gensimvis\n",
        "\n",
        "# Visualize the topics\n",
        "pyLDAvis.enable_notebook()\n",
        "\n",
        "tokenizer = ToktokTokenizer()\n",
        "stopword_list = nltk.corpus.stopwords.words('english')\n",
        "scaler = MinMaxScaler()\n",
        "std_scaler = StandardScaler()\n",
        "stops = set(stopword_list)\n",
        "stemmer = nltk.stem.SnowballStemmer('english')\n",
        "wrdlemmatizer = WordNetLemmatizer()\n",
        "tokenizer = nltk.word_tokenize"
      ],
      "execution_count": null,
      "outputs": [
        {
          "output_type": "stream",
          "name": "stdout",
          "text": [
            "[nltk_data] Downloading package stopwords to /root/nltk_data...\n",
            "[nltk_data]   Unzipping corpora/stopwords.zip.\n",
            "[nltk_data] Downloading package averaged_perceptron_tagger to\n",
            "[nltk_data]     /root/nltk_data...\n",
            "[nltk_data]   Package averaged_perceptron_tagger is already up-to-\n",
            "[nltk_data]       date!\n",
            "[nltk_data] Downloading package universal_tagset to /root/nltk_data...\n",
            "[nltk_data]   Unzipping taggers/universal_tagset.zip.\n",
            "[nltk_data] Downloading package wordnet to /root/nltk_data...\n",
            "[nltk_data]   Unzipping corpora/wordnet.zip.\n",
            "[nltk_data] Downloading package punkt to /root/nltk_data...\n",
            "[nltk_data]   Package punkt is already up-to-date!\n"
          ]
        },
        {
          "output_type": "stream",
          "name": "stderr",
          "text": [
            "/usr/local/lib/python3.7/dist-packages/past/types/oldstr.py:5: DeprecationWarning: Using or importing the ABCs from 'collections' instead of from 'collections.abc' is deprecated since Python 3.3,and in 3.9 it will stop working\n",
            "  from collections import Iterable\n"
          ]
        }
      ]
    },
    {
      "cell_type": "code",
      "metadata": {
        "colab": {
          "base_uri": "https://localhost:8080/"
        },
        "id": "aM71L8lI-pl9",
        "outputId": "d9fb18b0-3aa4-4ed2-d8e3-8f1f0504bcd9"
      },
      "source": [
        "from google.colab import drive\n",
        "drive.mount('/content/drive', force_remount=True)"
      ],
      "execution_count": null,
      "outputs": [
        {
          "output_type": "stream",
          "name": "stdout",
          "text": [
            "Mounted at /content/drive\n"
          ]
        }
      ]
    },
    {
      "cell_type": "code",
      "metadata": {
        "colab": {
          "base_uri": "https://localhost:8080/",
          "height": 465,
          "referenced_widgets": [
            "d186b31ec56746e6b9369c155029c7bd",
            "cf859aeaaee3438e92b76f09406b29fc",
            "62741b9c54d04e5295196fa579d122e4",
            "563b4758e24346c394e032df359c98e0",
            "16b574f5b8ab44cea94fd1e04751b865",
            "48aad3473f994293bb89f1a0b1d7a5d1",
            "32d1addc0d9f4c469b3b37f3f46828e1",
            "465a457b73f043529dc694437dc9aaf9",
            "122674430271483da8cc6887e6685aba",
            "36450fdf58ac497ba2dd8840f5e81257",
            "faaa77e232774c0ea53b6c54baf3cce1",
            "ef3fa3a43f7848a08d17ef9051ac1793",
            "0c4037a94dd2486b8645346fc2a54f24",
            "b4a8c1d04d2b4e41836f47e935f4d14a",
            "1c41d182138843699a079f60131acf03",
            "3d1a2b25166d4ba79e149a72b58756de",
            "047bfda1f68a4036b1f1b39e5ea6ebca",
            "1a122c9347bd498b8e092c0a260d5018",
            "2e62ce2396b74ce2bec58be02ff3726b",
            "dbb79b690a5546989ff5f27582d0d056",
            "4c022f5f2b094dba845f00736154cf23",
            "a93873aa733c4a21b891dc3a0570da22",
            "d54bef50eec74076a22156eac8deeaee",
            "662d12ab6e8d4989b03cdbf3a1b4f2b2",
            "4b0bd1cf62354981a7eb4dd2ff87ab8d",
            "5767ef30f8894e4db7e63b5577678cb6",
            "bc55e0894a924340a9f8b2c3fe49b159",
            "7b31b939790043fe97ed7939bf98fabc",
            "d115d9257da94e52a59fbfd60543f19c",
            "9aea6a095fc0497d897fc6dddeabf4a5",
            "0a68d3b5d2f94be487313c673b4c7a14",
            "1069df4941194447916cc4b585148190",
            "074268c6964140ac9ad1fd90e2de25ea",
            "70336bc076ef48389b4fda0e73005e56",
            "a602a4c7c4cc42a0acccc3cc500ea92c",
            "93db07804be44a40b72834d0a11ea156",
            "6851fde16b0a486385275aa5d60c4ca8",
            "1eaf6584615b4d199b9328ff6b1241f4",
            "1f391ca703444bd9af8e6ca2f51ec532",
            "4257c0540eb245b5b8cd7f105dc47e55",
            "5841777be15e4dce8e3b4287e82305fb",
            "4c81390344c947d5af01beb471198133",
            "6df049039e4049a2ab15c1180d1587b6",
            "8089ba7648014bb29c5cd822594de9b0",
            "29f2b728929b49f48b3ac147d7f35f60",
            "2ac48cf533c4407ea76dd99c29d1fca7",
            "2c93ec392abf49f8a69c8d01c55e4ebd",
            "497515d9510e482394e0d0412a8f5a3b",
            "a0f7192aaff44a9dbb8eb4c767f35862",
            "dde3809a19d1425f868edcee57fd3871",
            "f1610b237b4b4aa89c2997a693f1b40d",
            "66882886ec4047c4aba45d9b679d32c5",
            "52bd8cd52fcb4a3e84e226f7d4b0cf92",
            "a04bc3b054694e919d367dbb3b584174",
            "e355d3d6736144799d909f0f9c27ad00",
            "a428144299b84d65aee9f64aaddf7494",
            "155efca690734767952ca9fb22957d3c",
            "1a3cb52399564e068ca2161bebeb523b",
            "a2ca9c5d1e944521a04db1e23acf04d3",
            "9e9250b81c854668b84791bdacf77751",
            "bfa9ddc1ae884b97833b049e12a7a7e1",
            "06bc5f078b764543acb8bfbe52a26161",
            "d8dc6b42a98d460d819165771814ccce",
            "507a5e2bb5fd483da1b8f8903d4ba220",
            "c301da1c10464b919cfe59e71e2f8d8c",
            "bbfdead189f541c3b36cb8a035bb67be",
            "1ca01f3730ff49feb0ebc30f13b2bf95",
            "5ea62557755d455aa015725677e280d7",
            "45a91ad45f164e1fb8a5bb287316ee84",
            "85d5936e0956429f90fbb3af34772c6d",
            "79b3292fa8b34c6286233fd3e0bb0734",
            "31dab26b02aa429e8b99dee5ac25fdd5",
            "8179da36d9b34ded8f4be46f2263be82",
            "1ffb319a2a2749c29cbfef1f4a1d86a3",
            "a86a61d3c1f34e08bc4947f1631ec38c",
            "159338bcd4504c2e81030a9b73ec3c40",
            "3198f3e4755a4a4f82b530e7ab592312",
            "087968bbe1c34c73b54b467f0547fd34",
            "121781d07b39437784054867e737b3c5",
            "13bc7bef9f4f435e85dbc5e1d95f3943",
            "8e7e515c1129482f866d60ce39febebf",
            "52f88d815dbc4390984bdb24b455eda2",
            "8dee553c67284c3aa7fc7cb2803bd234",
            "f455ce16531946cb98e36ee84787a9c0",
            "e4781d1380a94f5ca84919b2fb392873",
            "7328569b90af4904a3f24630928e55b9",
            "433b2eb7d79249dfaa80304ca820cc99",
            "5f42fde9df5f4111b3992d0668b4c9e3",
            "45999843bffa4404831fce74de27bea1",
            "63bd008bffdb47f18f76d74dae567d11",
            "31cc0a762c98497d9b215d6a094bdf9b",
            "3b64261d922d4f7ca17621fcf56f05a2",
            "abe15d5b2eb846a1a12736c68beb429d",
            "8b72b5ab32c444a3a3f23dec438f6204",
            "e8713e57e6e843e1a638c05b1f3b5a80",
            "d09d31fc603c4826ba08eb72009ad672",
            "237a883e1d754603aaecb800b36e52b0",
            "be7a16a654a14f45ae32de863e23bcfb",
            "8bca916fefb8434e990bd3102d130292",
            "d70e9a0c0d7844b2be4dd98dd1e1c2a3",
            "d4b7755699d94736b49927d99ee748a0",
            "a07c166d9ee046afbeb6b2b4ded86483",
            "33e2f84ae31d4229891f55691a9e6eb7",
            "d414e78ebeb14a6abf2ed0922fcf8e14",
            "5323c95a957848daa1a56c923c3aed4e",
            "41c54a1b62784f43af61859c04b6dff2",
            "da787eff1e0c4ee9b24a405ed36780fb",
            "c64cf354ece2446d8ce84b0f0f700ea0",
            "c4a8458f584e4d35b06448fe401871e9",
            "299e0ea02967431c8a61f87fe7a7f9f8",
            "384165754e434348b2c45bba2df16333",
            "4c4727e80bd44a90833248a4ebf7c67c",
            "00cf63b11b124c8aa4a953edc1ccf13d",
            "cfe63ede0d7f41b9861fad7a976098cc",
            "85ee74c2a8af4c4fa2e1dadf101930b9",
            "8a21645926a94d7f8eec0327bb6bc373",
            "f496fc2ad9554be1ad1821527e8dbe27",
            "5c93fb976dee4544beabdc958e854e2a",
            "be5290685a864e838192fa0782d976a2",
            "f7dc54fb52bb436493aafb757229de6e",
            "035a5c716a61479eba30d44f20b80129",
            "4dd31862e6f94d4abddc57c32c4c1cbc",
            "9e13847e2d6643bc932aac43dc241eb9",
            "c5839085582245a79443ea5f0b8130af",
            "7549e4c2be0e45468fa6900203678a32",
            "e2b022c76cca4ba192720467543afef1",
            "6440a1131b484cf3bf20ab62cfbcc2e1",
            "8704dfd6ef1445f5a2b5e99b066fdd1e",
            "133577f09d6f48aaa78936a91a6ea138",
            "5a35f82faac6457cb04c4a66bd0dfe63",
            "943106cf03c74799b5e7ec366de0d01e",
            "a0a2fd3435714a02a51da92191470d71",
            "4a8482a23f154e06812001fa83f434a0",
            "733160dc120f4011860b1820e1c68cae",
            "55c895b65e404168bbc4470dd5bf428d",
            "b5b9d293e8f04b5ab8537b874a20d15a",
            "f5b2b682664b44f08f445fec6c52aca8",
            "932d63b95d02474d9a954e43e1bc8365",
            "53a48b480246409aaa489c01ecfcf69c",
            "6de8c59c849d4ab480b3f0a0278fb190",
            "c3068736822048379125c3761aff0df5",
            "e15c54ec08a54836a7795cdc2a29f056",
            "5fc89530fefb475b85158956cfe8da0c",
            "dfd6c231b1e74cec847c1a685d3f7e73",
            "c301790bd3d1450287e056786afb367f",
            "f2ba8562a0d046e6a8ed2dc827b61307",
            "25e8d1e4078c4920bb3caac181834f70",
            "ee2958e2e3504ec5baed4c1b684e4d29",
            "76be95aaf43e42249a6eb0d5392bd9f4",
            "1b3928d2cfe64628a33fc0041ef814ff",
            "ddc2889a05064ba182c51ff835f4f80c",
            "a0c74237d8d0425791de6a954347299f",
            "a585e5068e4245d0ad933f6145724359",
            "6711cdbc07114716a95770b03a3ebef5"
          ]
        },
        "id": "NqPh4ATC-wSf",
        "outputId": "e850fc49-c205-4b54-95f0-d7abe445ae9a"
      },
      "source": [
        "model = SentenceTransformer('stsb-roberta-large')"
      ],
      "execution_count": null,
      "outputs": [
        {
          "output_type": "display_data",
          "data": {
            "application/vnd.jupyter.widget-view+json": {
              "model_id": "d186b31ec56746e6b9369c155029c7bd",
              "version_minor": 0,
              "version_major": 2
            },
            "text/plain": [
              "Downloading:   0%|          | 0.00/748 [00:00<?, ?B/s]"
            ]
          },
          "metadata": {}
        },
        {
          "output_type": "display_data",
          "data": {
            "application/vnd.jupyter.widget-view+json": {
              "model_id": "ef3fa3a43f7848a08d17ef9051ac1793",
              "version_minor": 0,
              "version_major": 2
            },
            "text/plain": [
              "Downloading:   0%|          | 0.00/3.92k [00:00<?, ?B/s]"
            ]
          },
          "metadata": {}
        },
        {
          "output_type": "display_data",
          "data": {
            "application/vnd.jupyter.widget-view+json": {
              "model_id": "d54bef50eec74076a22156eac8deeaee",
              "version_minor": 0,
              "version_major": 2
            },
            "text/plain": [
              "Downloading:   0%|          | 0.00/2.00 [00:00<?, ?B/s]"
            ]
          },
          "metadata": {}
        },
        {
          "output_type": "display_data",
          "data": {
            "application/vnd.jupyter.widget-view+json": {
              "model_id": "70336bc076ef48389b4fda0e73005e56",
              "version_minor": 0,
              "version_major": 2
            },
            "text/plain": [
              "Downloading:   0%|          | 0.00/674 [00:00<?, ?B/s]"
            ]
          },
          "metadata": {}
        },
        {
          "output_type": "display_data",
          "data": {
            "application/vnd.jupyter.widget-view+json": {
              "model_id": "29f2b728929b49f48b3ac147d7f35f60",
              "version_minor": 0,
              "version_major": 2
            },
            "text/plain": [
              "Downloading:   0%|          | 0.00/122 [00:00<?, ?B/s]"
            ]
          },
          "metadata": {}
        },
        {
          "output_type": "display_data",
          "data": {
            "application/vnd.jupyter.widget-view+json": {
              "model_id": "a428144299b84d65aee9f64aaddf7494",
              "version_minor": 0,
              "version_major": 2
            },
            "text/plain": [
              "Downloading:   0%|          | 0.00/456k [00:00<?, ?B/s]"
            ]
          },
          "metadata": {}
        },
        {
          "output_type": "display_data",
          "data": {
            "application/vnd.jupyter.widget-view+json": {
              "model_id": "1ca01f3730ff49feb0ebc30f13b2bf95",
              "version_minor": 0,
              "version_major": 2
            },
            "text/plain": [
              "Downloading:   0%|          | 0.00/229 [00:00<?, ?B/s]"
            ]
          },
          "metadata": {}
        },
        {
          "output_type": "display_data",
          "data": {
            "application/vnd.jupyter.widget-view+json": {
              "model_id": "087968bbe1c34c73b54b467f0547fd34",
              "version_minor": 0,
              "version_major": 2
            },
            "text/plain": [
              "Downloading:   0%|          | 0.00/1.42G [00:00<?, ?B/s]"
            ]
          },
          "metadata": {}
        },
        {
          "output_type": "display_data",
          "data": {
            "application/vnd.jupyter.widget-view+json": {
              "model_id": "45999843bffa4404831fce74de27bea1",
              "version_minor": 0,
              "version_major": 2
            },
            "text/plain": [
              "Downloading:   0%|          | 0.00/52.0 [00:00<?, ?B/s]"
            ]
          },
          "metadata": {}
        },
        {
          "output_type": "display_data",
          "data": {
            "application/vnd.jupyter.widget-view+json": {
              "model_id": "d70e9a0c0d7844b2be4dd98dd1e1c2a3",
              "version_minor": 0,
              "version_major": 2
            },
            "text/plain": [
              "Downloading:   0%|          | 0.00/239 [00:00<?, ?B/s]"
            ]
          },
          "metadata": {}
        },
        {
          "output_type": "display_data",
          "data": {
            "application/vnd.jupyter.widget-view+json": {
              "model_id": "384165754e434348b2c45bba2df16333",
              "version_minor": 0,
              "version_major": 2
            },
            "text/plain": [
              "Downloading:   0%|          | 0.00/1.36M [00:00<?, ?B/s]"
            ]
          },
          "metadata": {}
        },
        {
          "output_type": "display_data",
          "data": {
            "application/vnd.jupyter.widget-view+json": {
              "model_id": "4dd31862e6f94d4abddc57c32c4c1cbc",
              "version_minor": 0,
              "version_major": 2
            },
            "text/plain": [
              "Downloading:   0%|          | 0.00/1.17k [00:00<?, ?B/s]"
            ]
          },
          "metadata": {}
        },
        {
          "output_type": "display_data",
          "data": {
            "application/vnd.jupyter.widget-view+json": {
              "model_id": "4a8482a23f154e06812001fa83f434a0",
              "version_minor": 0,
              "version_major": 2
            },
            "text/plain": [
              "Downloading:   0%|          | 0.00/798k [00:00<?, ?B/s]"
            ]
          },
          "metadata": {}
        },
        {
          "output_type": "display_data",
          "data": {
            "application/vnd.jupyter.widget-view+json": {
              "model_id": "dfd6c231b1e74cec847c1a685d3f7e73",
              "version_minor": 0,
              "version_major": 2
            },
            "text/plain": [
              "Downloading:   0%|          | 0.00/191 [00:00<?, ?B/s]"
            ]
          },
          "metadata": {}
        }
      ]
    },
    {
      "cell_type": "code",
      "metadata": {
        "colab": {
          "base_uri": "https://localhost:8080/"
        },
        "id": "LB3l8pqB-z3_",
        "outputId": "6fe48416-2b55-4265-d7c1-b6737fe6121e"
      },
      "source": [
        "summarizer = pipeline(\"summarization\", model=\"t5-base\", tokenizer=\"t5-base\", framework=\"tf\")"
      ],
      "execution_count": null,
      "outputs": [
        {
          "output_type": "stream",
          "name": "stderr",
          "text": [
            "All model checkpoint layers were used when initializing TFT5ForConditionalGeneration.\n",
            "\n",
            "All the layers of TFT5ForConditionalGeneration were initialized from the model checkpoint at t5-base.\n",
            "If your task is similar to the task the model of the checkpoint was trained on, you can already use TFT5ForConditionalGeneration for predictions without further training.\n"
          ]
        }
      ]
    },
    {
      "cell_type": "markdown",
      "metadata": {
        "id": "XQeUdIMnxbZe"
      },
      "source": [
        "### Poems by John Keates and Alfred Tennyson"
      ]
    },
    {
      "cell_type": "code",
      "metadata": {
        "id": "8xJzz10b_aVS"
      },
      "source": [
        "john = {\n",
        "    'author': 'John Keates',\n",
        "    'text': 'Thou still unravished bride of quietness, Thou foster-child of Silence and slow Time, Sylvan historian, who canst thus express A flowery tale more sweetly than our rhyme: What leaf-fringed legend haunts about thy shape, Of deities or mortals, or of both, In Tempe or the dales of Arcady?, What men or gods are these? What maidens loth? What mad pursuit? What struggle to escape? What pipes and timbrels? What wild ecstasy?'\n",
        "}\n",
        "\n",
        "alfred = {\n",
        "    'author': 'Alfred Tennyson',\n",
        "    'text': 'Strong Son of God, immortal Love, Whom we, that have not seen thy face, By faith, and faith alone, embrace, Believing where we cannot prove; Thine are these orbs of light and shade; Thou madest Life in man and brute; Thou madest Death; and lo, thy foot, Is on the skull which thou hast made, Its lovliness increases; it will never ,Pass into nothingness; but still will keep ,A bower quiet for us, and a sleep ,Full of sweet dreams, and health, and quiet breathing.'\n",
        "}"
      ],
      "execution_count": null,
      "outputs": []
    },
    {
      "cell_type": "markdown",
      "metadata": {
        "id": "VJwv39cfxhx7"
      },
      "source": [
        "### Extracting Verbs and Adjectives Class and Functions"
      ]
    },
    {
      "cell_type": "code",
      "metadata": {
        "id": "9j1AMBEnBcoR"
      },
      "source": [
        "class Poem:\n",
        "  def __init__(self, text):\n",
        "    self.text_ = text\n",
        "  \n",
        "  def getPos(self):\n",
        "    tokenized_frost = word_tokenize(self.text_)\n",
        "    self.pos_ = nltk.pos_tag(tokenized_frost)\n",
        "    return self.pos_\n",
        "  \n",
        "  def getVerbs(self):\n",
        "    verbs = [word for (word, pos) in self.pos_ if pos.startswith('VB')]\n",
        "    self.verbs_ = verbs\n",
        "    return verbs\n",
        "\n",
        "  def getAdj(self):\n",
        "    adj = [word for (word, pos) in self.pos_ if pos.startswith('JJ')]\n",
        "    self.adj_ = adj\n",
        "    return adj\n"
      ],
      "execution_count": null,
      "outputs": []
    },
    {
      "cell_type": "code",
      "metadata": {
        "id": "EddtmG7_Bflg"
      },
      "source": [
        "john_poem = Poem(john['text'])\n",
        "alfred_poem = Poem(alfred['text'])"
      ],
      "execution_count": null,
      "outputs": []
    },
    {
      "cell_type": "code",
      "metadata": {
        "colab": {
          "base_uri": "https://localhost:8080/"
        },
        "id": "UZfPwMIjC6BS",
        "outputId": "6cf022eb-2410-4013-b8ca-236b64a71129"
      },
      "source": [
        "print(john_poem.getPos())"
      ],
      "execution_count": null,
      "outputs": [
        {
          "output_type": "stream",
          "name": "stdout",
          "text": [
            "[('Thou', 'NNP'), ('still', 'RB'), ('unravished', 'VBD'), ('bride', 'NN'), ('of', 'IN'), ('quietness', 'NN'), (',', ','), ('Thou', 'NNP'), ('foster-child', 'NN'), ('of', 'IN'), ('Silence', 'NNP'), ('and', 'CC'), ('slow', 'JJ'), ('Time', 'NNP'), (',', ','), ('Sylvan', 'NNP'), ('historian', 'NN'), (',', ','), ('who', 'WP'), ('canst', 'VBP'), ('thus', 'RB'), ('express', 'VB'), ('A', 'NNP'), ('flowery', 'JJ'), ('tale', 'NN'), ('more', 'RBR'), ('sweetly', 'RB'), ('than', 'IN'), ('our', 'PRP$'), ('rhyme', 'NN'), (':', ':'), ('What', 'WP'), ('leaf-fringed', 'JJ'), ('legend', 'NN'), ('haunts', 'NNS'), ('about', 'IN'), ('thy', 'JJ'), ('shape', 'NN'), (',', ','), ('Of', 'IN'), ('deities', 'NNS'), ('or', 'CC'), ('mortals', 'NNS'), (',', ','), ('or', 'CC'), ('of', 'IN'), ('both', 'DT'), (',', ','), ('In', 'IN'), ('Tempe', 'NNP'), ('or', 'CC'), ('the', 'DT'), ('dales', 'NNS'), ('of', 'IN'), ('Arcady', 'NNP'), ('?', '.'), (',', ','), ('What', 'WP'), ('men', 'NNS'), ('or', 'CC'), ('gods', 'NNS'), ('are', 'VBP'), ('these', 'DT'), ('?', '.'), ('What', 'WP'), ('maidens', 'VBZ'), ('loth', 'DT'), ('?', '.'), ('What', 'WP'), ('mad', 'VBD'), ('pursuit', 'NN'), ('?', '.'), ('What', 'WP'), ('struggle', 'NN'), ('to', 'TO'), ('escape', 'VB'), ('?', '.'), ('What', 'WP'), ('pipes', 'VBZ'), ('and', 'CC'), ('timbrels', 'NNS'), ('?', '.'), ('What', 'WP'), ('wild', 'VBD'), ('ecstasy', 'JJ'), ('?', '.')]\n"
          ]
        }
      ]
    },
    {
      "cell_type": "code",
      "metadata": {
        "colab": {
          "base_uri": "https://localhost:8080/"
        },
        "id": "EMz-xKK9C9MI",
        "outputId": "11470f14-06f3-47cb-d35d-36c81a289c8d"
      },
      "source": [
        "print(john_poem.getAdj())"
      ],
      "execution_count": null,
      "outputs": [
        {
          "output_type": "stream",
          "name": "stdout",
          "text": [
            "['slow', 'flowery', 'leaf-fringed', 'thy', 'ecstasy']\n"
          ]
        }
      ]
    },
    {
      "cell_type": "code",
      "metadata": {
        "colab": {
          "base_uri": "https://localhost:8080/"
        },
        "id": "L1gCDTP_BxvH",
        "outputId": "40b71381-6d07-4916-e604-35a0860543df"
      },
      "source": [
        "print(john_poem.getVerbs())"
      ],
      "execution_count": null,
      "outputs": [
        {
          "output_type": "stream",
          "name": "stdout",
          "text": [
            "['unravished', 'canst', 'express', 'are', 'maidens', 'mad', 'escape', 'pipes', 'wild']\n"
          ]
        }
      ]
    },
    {
      "cell_type": "code",
      "metadata": {
        "colab": {
          "base_uri": "https://localhost:8080/"
        },
        "id": "BVLQylINB8Bv",
        "outputId": "4e48fc8e-ced7-455b-be2b-bf29c85096fd"
      },
      "source": [
        "print(alfred_poem.getPos())"
      ],
      "execution_count": null,
      "outputs": [
        {
          "output_type": "stream",
          "name": "stdout",
          "text": [
            "[('Strong', 'JJ'), ('Son', 'NNP'), ('of', 'IN'), ('God', 'NNP'), (',', ','), ('immortal', 'JJ'), ('Love', 'NNP'), (',', ','), ('Whom', 'NNP'), ('we', 'PRP'), (',', ','), ('that', 'WDT'), ('have', 'VBP'), ('not', 'RB'), ('seen', 'VBN'), ('thy', 'JJ'), ('face', 'NN'), (',', ','), ('By', 'IN'), ('faith', 'NN'), (',', ','), ('and', 'CC'), ('faith', 'VB'), ('alone', 'RB'), (',', ','), ('embrace', 'NN'), (',', ','), ('Believing', 'VBG'), ('where', 'WRB'), ('we', 'PRP'), ('can', 'MD'), ('not', 'RB'), ('prove', 'VB'), (';', ':'), ('Thine', 'NNP'), ('are', 'VBP'), ('these', 'DT'), ('orbs', 'NNS'), ('of', 'IN'), ('light', 'NN'), ('and', 'CC'), ('shade', 'NN'), (';', ':'), ('Thou', 'NNP'), ('madest', 'JJS'), ('Life', 'NN'), ('in', 'IN'), ('man', 'NN'), ('and', 'CC'), ('brute', 'NN'), (';', ':'), ('Thou', 'NNP'), ('madest', 'JJS'), ('Death', 'NN'), (';', ':'), ('and', 'CC'), ('lo', 'VB'), (',', ','), ('thy', 'JJ'), ('foot', 'NN'), (',', ','), ('Is', 'VBZ'), ('on', 'IN'), ('the', 'DT'), ('skull', 'NN'), ('which', 'WDT'), ('thou', 'NN'), ('hast', 'NN'), ('made', 'VBD'), (',', ','), ('Its', 'PRP$'), ('lovliness', 'NN'), ('increases', 'NNS'), (';', ':'), ('it', 'PRP'), ('will', 'MD'), ('never', 'RB'), (',', ','), ('Pass', 'NNP'), ('into', 'IN'), ('nothingness', 'NN'), (';', ':'), ('but', 'CC'), ('still', 'RB'), ('will', 'MD'), ('keep', 'VB'), (',', ','), ('A', 'DT'), ('bower', 'NN'), ('quiet', 'NN'), ('for', 'IN'), ('us', 'PRP'), (',', ','), ('and', 'CC'), ('a', 'DT'), ('sleep', 'NN'), (',', ','), ('Full', 'NNP'), ('of', 'IN'), ('sweet', 'JJ'), ('dreams', 'NNS'), (',', ','), ('and', 'CC'), ('health', 'NN'), (',', ','), ('and', 'CC'), ('quiet', 'JJ'), ('breathing', 'NN'), ('.', '.')]\n"
          ]
        }
      ]
    },
    {
      "cell_type": "code",
      "metadata": {
        "colab": {
          "base_uri": "https://localhost:8080/"
        },
        "id": "JP8dqt0AB9D3",
        "outputId": "ab98810b-deaf-40fb-8e62-4f98bf7538da"
      },
      "source": [
        "print(alfred_poem.getAdj())"
      ],
      "execution_count": null,
      "outputs": [
        {
          "output_type": "stream",
          "name": "stdout",
          "text": [
            "['Strong', 'immortal', 'thy', 'madest', 'madest', 'thy', 'sweet', 'quiet']\n"
          ]
        }
      ]
    },
    {
      "cell_type": "code",
      "metadata": {
        "colab": {
          "base_uri": "https://localhost:8080/"
        },
        "id": "CIZNZl_5B-IA",
        "outputId": "3af3947c-5aa2-4bda-f3f0-bdab187482f8"
      },
      "source": [
        "print(alfred_poem.getVerbs())"
      ],
      "execution_count": null,
      "outputs": [
        {
          "output_type": "stream",
          "name": "stdout",
          "text": [
            "['have', 'seen', 'faith', 'Believing', 'prove', 'are', 'lo', 'Is', 'made', 'keep']\n"
          ]
        }
      ]
    },
    {
      "cell_type": "markdown",
      "metadata": {
        "id": "sK-YlelxxUWf"
      },
      "source": [
        "### Semantic Similarity Function"
      ]
    },
    {
      "cell_type": "code",
      "metadata": {
        "id": "wDkQSMUYDPQ1"
      },
      "source": [
        "def semanticsimilarity(p1,p2):\n",
        "  embedding1 = model.encode(p1, convert_to_tensor=True)\n",
        "  embedding2 = model.encode(p2, convert_to_tensor=True)\n",
        "  cosine_scores = util.pytorch_cos_sim(embedding1, embedding2)\n",
        "  similarity_score = cosine_scores.item()\n",
        "  return similarity_score"
      ],
      "execution_count": null,
      "outputs": []
    },
    {
      "cell_type": "code",
      "metadata": {
        "id": "neHTTnUnDSZr"
      },
      "source": [
        "poem_similarities = semanticsimilarity(john_poem.text_, alfred_poem.text_)"
      ],
      "execution_count": null,
      "outputs": []
    },
    {
      "cell_type": "markdown",
      "metadata": {
        "id": "isvBv14BM03Q"
      },
      "source": [
        "## Swapping Verbs and Adjectives (All different combination)"
      ]
    },
    {
      "cell_type": "code",
      "metadata": {
        "id": "8320ydU4DaOY"
      },
      "source": [
        "def swapVerbs(poet1,poet2, text):\n",
        "  verbs1 = poet1.verbs_\n",
        "  verbs2 = poet2.verbs_\n",
        "  text2 = text\n",
        "  for v1 in verbs1:\n",
        "    for v2 in verbs2:\n",
        "      score = semanticsimilarity(v1,v2)\n",
        "      if score > 0.3:\n",
        "        text2 = text2.replace(v1,v2)\n",
        "  print(text2)\n",
        "  return text2"
      ],
      "execution_count": null,
      "outputs": []
    },
    {
      "cell_type": "code",
      "metadata": {
        "id": "eaNVHtbNDdTW"
      },
      "source": [
        "def swapAdj(poet1,poet2, text):\n",
        "  adj1 = poet1.adj_\n",
        "  adj2 = poet2.adj_\n",
        "  text2 = text\n",
        "  for a1 in adj1:\n",
        "    for a2 in adj2:\n",
        "      score = semanticsimilarity(a1,a2)\n",
        "      if score > 0.3:\n",
        "        text2 = text2.replace(a1,a2)\n",
        "  print(text2)\n",
        "  return text2"
      ],
      "execution_count": null,
      "outputs": []
    },
    {
      "cell_type": "code",
      "metadata": {
        "colab": {
          "base_uri": "https://localhost:8080/"
        },
        "id": "rucnoe34Dg4e",
        "outputId": "f2aea6ff-aed0-4b69-8a60-151ecde899c0"
      },
      "source": [
        "wText_cVerbs = swapVerbs(john_poem, alfred_poem, john_poem.text_)"
      ],
      "execution_count": null,
      "outputs": [
        {
          "output_type": "stream",
          "name": "stdout",
          "text": [
            "Thou still unravished bride of quietness, Thou foster-child of Silence and slow Time, Sylvan historian, who canst thus have A flowery tale more sweetly than our rhyme: What leaf-fringed legend haunts about thy shape, Of deities or mortals, or of both, In Tempe or the dales of Arcady?, What men or gods have these? What lo loth? What mad pursuit? What struggle to escape? What have and timbrels? What wild ecstasy?\n"
          ]
        }
      ]
    },
    {
      "cell_type": "code",
      "metadata": {
        "colab": {
          "base_uri": "https://localhost:8080/"
        },
        "id": "pTFiXeKkKiQr",
        "outputId": "ecefafca-32ec-422d-cb7f-dc2da0f5ea6b"
      },
      "source": [
        "new_john = john_poem\n",
        "print(\"Original Verbs for John\")\n",
        "print(john_poem.verbs_)\n",
        "new_john.new_verbs = alfred_poem.verbs_\n",
        "print(\"Swapped Verbs for John\")\n",
        "print(new_john.new_verbs)"
      ],
      "execution_count": null,
      "outputs": [
        {
          "output_type": "stream",
          "name": "stdout",
          "text": [
            "Original Verbs for John\n",
            "['unravished', 'canst', 'express', 'are', 'maidens', 'mad', 'escape', 'pipes', 'wild']\n",
            "Swapped Verbs for John\n",
            "['have', 'seen', 'faith', 'Believing', 'prove', 'are', 'lo', 'Is', 'made', 'keep']\n"
          ]
        }
      ]
    },
    {
      "cell_type": "code",
      "metadata": {
        "colab": {
          "base_uri": "https://localhost:8080/"
        },
        "id": "JDlERl-LEKt_",
        "outputId": "d60ea884-5093-4006-fd08-dbae1c650022"
      },
      "source": [
        "print(\"Old text, new text simil: \", semanticsimilarity(wText_cVerbs, john_poem.text_))"
      ],
      "execution_count": null,
      "outputs": [
        {
          "output_type": "stream",
          "name": "stdout",
          "text": [
            "Old text, new text simil:  0.9804161787033081\n"
          ]
        }
      ]
    },
    {
      "cell_type": "code",
      "metadata": {
        "colab": {
          "base_uri": "https://localhost:8080/"
        },
        "id": "WJATV9RoETGJ",
        "outputId": "5d4d08e4-4bc0-457e-fff2-40b1f8300e28"
      },
      "source": [
        "cText_wVerbs = swapVerbs(alfred_poem, john_poem, alfred_poem.text_)"
      ],
      "execution_count": null,
      "outputs": [
        {
          "output_type": "stream",
          "name": "stdout",
          "text": [
            "Strong Son of God, immortal Love, Whom we, that express not seen thy face, By express, and express amaidensne, embrace, express where we cannot express; Thine express these orbs of light and shade; Thou madest Life in man and brute; Thou madest Death; and maidens, thy foot, express on the skull which thou hast made, Its maidensvliness increases; it will never ,Pass into nothingness; but still will are ,A bower quiet for us, and a sleep ,Full of sweet dreams, and health, and quiet breathing.\n"
          ]
        }
      ]
    },
    {
      "cell_type": "code",
      "metadata": {
        "colab": {
          "base_uri": "https://localhost:8080/"
        },
        "id": "Mni2bIF9MInC",
        "outputId": "76f00847-547e-4659-edc8-77971c0af5e0"
      },
      "source": [
        "new_alfred = alfred_poem\n",
        "print(\"Original Verbs for Alfred\")\n",
        "print(alfred_poem.verbs_)\n",
        "new_alfred.new_verbs = john_poem.verbs_\n",
        "print(\"Swapped Verbs for Alfred\")\n",
        "print(new_alfred.new_verbs)"
      ],
      "execution_count": null,
      "outputs": [
        {
          "output_type": "stream",
          "name": "stdout",
          "text": [
            "Original Verbs for Alfred\n",
            "['have', 'seen', 'faith', 'Believing', 'prove', 'are', 'lo', 'Is', 'made', 'keep']\n",
            "Swapped Verbs for Alfred\n",
            "['unravished', 'canst', 'express', 'are', 'maidens', 'mad', 'escape', 'pipes', 'wild']\n"
          ]
        }
      ]
    },
    {
      "cell_type": "code",
      "metadata": {
        "id": "R2Pl7J9NEWXv"
      },
      "source": [
        "new_poem_similarities = semanticsimilarity(wText_cVerbs, cText_wVerbs)"
      ],
      "execution_count": null,
      "outputs": []
    },
    {
      "cell_type": "code",
      "metadata": {
        "colab": {
          "base_uri": "https://localhost:8080/"
        },
        "id": "nFa_rhIaEY0b",
        "outputId": "ebf91074-482d-46a7-9ff2-5402d3f8a196"
      },
      "source": [
        "wText_cAdj = swapAdj(john_poem, alfred_poem, john_poem.text_)"
      ],
      "execution_count": null,
      "outputs": [
        {
          "output_type": "stream",
          "name": "stdout",
          "text": [
            "Thou still unravished bride of quietness, Thou foster-child of Silence and Strong Time, Sylvan historian, who canst thus express A sweet tale more sweetly than our rhyme: What leaf-fringed legend haunts about sweet shape, Of deities or mortals, or of both, In Tempe or the dales of Arcady?, What men or gods are these? What maidens loth? What mad pursuit? What struggle to escape? What pipes and timbrels? What wild sweet?\n"
          ]
        }
      ]
    },
    {
      "cell_type": "code",
      "metadata": {
        "colab": {
          "base_uri": "https://localhost:8080/"
        },
        "id": "DNej7vMDNMH-",
        "outputId": "0182fe6f-d1d4-41e6-a74f-ab4951acc475"
      },
      "source": [
        "new_john = john_poem\n",
        "print(\"Original Adjectives for John\")\n",
        "print(john_poem.adj_)\n",
        "new_john.new_adj = alfred_poem.adj_\n",
        "print(\"Swapped Adjectives for John\")\n",
        "print(new_john.new_adj)"
      ],
      "execution_count": null,
      "outputs": [
        {
          "output_type": "stream",
          "name": "stdout",
          "text": [
            "Original Adjectives for John\n",
            "['slow', 'flowery', 'leaf-fringed', 'thy', 'ecstasy']\n",
            "Swapped Adjectives for John\n",
            "['Strong', 'immortal', 'thy', 'madest', 'madest', 'thy', 'sweet', 'quiet']\n"
          ]
        }
      ]
    },
    {
      "cell_type": "code",
      "metadata": {
        "colab": {
          "base_uri": "https://localhost:8080/"
        },
        "id": "6aQeag1JEbLD",
        "outputId": "a807bc14-cb9a-4b39-f8c6-64aa21db0b10"
      },
      "source": [
        "cText_wAdj = swapAdj(alfred_poem, john_poem, alfred_poem.text_)"
      ],
      "execution_count": null,
      "outputs": [
        {
          "output_type": "stream",
          "name": "stdout",
          "text": [
            "slow Son of God, immortal Love, Whom we, that have not seen thy face, By faith, and faith alone, embrace, Believing where we cannot prove; Thine are these orbs of light and shade; Thou madest Life in man and brute; Thou madest Death; and lo, thy foot, Is on the skull which thou hast made, Its lovliness increases; it will never ,Pass into nothingness; but still will keep ,A bower slow for us, and a sleep ,Full of slow dreams, and health, and slow breathing.\n"
          ]
        }
      ]
    },
    {
      "cell_type": "code",
      "metadata": {
        "colab": {
          "base_uri": "https://localhost:8080/"
        },
        "id": "i_LVXteuNx7M",
        "outputId": "66ab5b8a-2712-4057-cf61-d53515da77ad"
      },
      "source": [
        "new_alfred = alfred_poem\n",
        "print(\"Original Adjectives for Alfred\")\n",
        "print(alfred_poem.adj_)\n",
        "new_alfred.new_adj = john_poem.adj_\n",
        "print(\"Swapped Adjectives for Alfred\")\n",
        "print(new_alfred.new_adj)"
      ],
      "execution_count": null,
      "outputs": [
        {
          "output_type": "stream",
          "name": "stdout",
          "text": [
            "Original Adjectives for Alfred\n",
            "['Strong', 'immortal', 'thy', 'madest', 'madest', 'thy', 'sweet', 'quiet']\n",
            "Swapped Adjectives for Alfred\n",
            "['slow', 'flowery', 'leaf-fringed', 'thy', 'ecstasy']\n"
          ]
        }
      ]
    },
    {
      "cell_type": "markdown",
      "metadata": {
        "id": "wKAPRmtfPEa4"
      },
      "source": [
        "##John's Poem's Verbs and Adjectives Swpapped with Alfred's"
      ]
    },
    {
      "cell_type": "code",
      "metadata": {
        "id": "F4f_JCgmEdE7"
      },
      "source": [
        "new_poem_similarities_Adj = semanticsimilarity(wText_cAdj, cText_wAdj)"
      ],
      "execution_count": null,
      "outputs": []
    },
    {
      "cell_type": "code",
      "metadata": {
        "colab": {
          "base_uri": "https://localhost:8080/"
        },
        "id": "Z87jqvpiEe0z",
        "outputId": "1aa90b98-764b-4a46-ddc1-9506d6734c75"
      },
      "source": [
        "wText_cAdj_cVerb = swapVerbs(john_poem, alfred_poem, wText_cAdj)"
      ],
      "execution_count": null,
      "outputs": [
        {
          "output_type": "stream",
          "name": "stdout",
          "text": [
            "Thou still unravished bride of quietness, Thou foster-child of Silence and Strong Time, Sylvan historian, who canst thus have A sweet tale more sweetly than our rhyme: What leaf-fringed legend haunts about sweet shape, Of deities or mortals, or of both, In Tempe or the dales of Arcady?, What men or gods have these? What lo loth? What mad pursuit? What struggle to escape? What have and timbrels? What wild sweet?\n"
          ]
        }
      ]
    },
    {
      "cell_type": "code",
      "metadata": {
        "colab": {
          "base_uri": "https://localhost:8080/"
        },
        "id": "Pu6TUrmCEhDC",
        "outputId": "da5896f6-fee6-44cb-87e6-522613c706b8"
      },
      "source": [
        "cText_wAdj_wVerb = swapVerbs(alfred_poem, john_poem, cText_wAdj)"
      ],
      "execution_count": null,
      "outputs": [
        {
          "output_type": "stream",
          "name": "stdout",
          "text": [
            "smaidensw Son of God, immortal Love, Whom we, that express not seen thy face, By express, and express amaidensne, embrace, express where we cannot express; Thine express these orbs of light and shade; Thou madest Life in man and brute; Thou madest Death; and maidens, thy foot, express on the skull which thou hast made, Its maidensvliness increases; it will never ,Pass into nothingness; but still will are ,A bower smaidensw for us, and a sleep ,Full of smaidensw dreams, and health, and smaidensw breathing.\n"
          ]
        }
      ]
    },
    {
      "cell_type": "code",
      "metadata": {
        "colab": {
          "base_uri": "https://localhost:8080/"
        },
        "id": "DAZMrH4pPHHQ",
        "outputId": "0558b13a-becc-4d73-b51e-bdc384ff6247"
      },
      "source": [
        "print(cText_wAdj_wVerb)"
      ],
      "execution_count": null,
      "outputs": [
        {
          "output_type": "stream",
          "name": "stdout",
          "text": [
            "smaidensw Son of God, immortal Love, Whom we, that express not seen thy face, By express, and express amaidensne, embrace, express where we cannot express; Thine express these orbs of light and shade; Thou madest Life in man and brute; Thou madest Death; and maidens, thy foot, express on the skull which thou hast made, Its maidensvliness increases; it will never ,Pass into nothingness; but still will are ,A bower smaidensw for us, and a sleep ,Full of smaidensw dreams, and health, and smaidensw breathing.\n"
          ]
        }
      ]
    },
    {
      "cell_type": "code",
      "metadata": {
        "id": "6z-przcnEjCy"
      },
      "source": [
        "swapped_everything_poem_similarities = semanticsimilarity(wText_cAdj_cVerb, cText_wAdj_wVerb)"
      ],
      "execution_count": null,
      "outputs": []
    },
    {
      "cell_type": "markdown",
      "metadata": {
        "id": "3VgSluPizGCV"
      },
      "source": [
        "## Semantic Simialirty Results"
      ]
    },
    {
      "cell_type": "code",
      "metadata": {
        "colab": {
          "base_uri": "https://localhost:8080/"
        },
        "id": "CLO3uk6TElIR",
        "outputId": "07b64bdb-e0df-4ce8-d8c0-3cb943d2adc7"
      },
      "source": [
        "print(\"ORIGINAL similarities: \", poem_similarities)"
      ],
      "execution_count": null,
      "outputs": [
        {
          "output_type": "stream",
          "name": "stdout",
          "text": [
            "ORIGINAL similarities:  0.5899913311004639\n"
          ]
        }
      ]
    },
    {
      "cell_type": "code",
      "metadata": {
        "colab": {
          "base_uri": "https://localhost:8080/"
        },
        "id": "DHj6nJitEnN7",
        "outputId": "a82d3c08-3af0-4626-d1ae-ab834652e0e6"
      },
      "source": [
        "print(\"Swapped VERBS\", new_poem_similarities)"
      ],
      "execution_count": null,
      "outputs": [
        {
          "output_type": "stream",
          "name": "stdout",
          "text": [
            "Swapped VERBS 0.6862888932228088\n"
          ]
        }
      ]
    },
    {
      "cell_type": "code",
      "metadata": {
        "colab": {
          "base_uri": "https://localhost:8080/"
        },
        "id": "G5BEW-C9Epuo",
        "outputId": "de0be8e7-c7b1-487f-ff61-32ee920a9dad"
      },
      "source": [
        "print(\"Swapped ADJECTIVES\", new_poem_similarities_Adj)"
      ],
      "execution_count": null,
      "outputs": [
        {
          "output_type": "stream",
          "name": "stdout",
          "text": [
            "Swapped ADJECTIVES 0.5391079783439636\n"
          ]
        }
      ]
    },
    {
      "cell_type": "code",
      "metadata": {
        "colab": {
          "base_uri": "https://localhost:8080/"
        },
        "id": "mklZR2rMEtJi",
        "outputId": "7188d8b3-f2b0-40e5-f358-b71ddefde45a"
      },
      "source": [
        "print(\"Swapped EVERYTHING\", swapped_everything_poem_similarities)"
      ],
      "execution_count": null,
      "outputs": [
        {
          "output_type": "stream",
          "name": "stdout",
          "text": [
            "Swapped EVERYTHING 0.620484471321106\n"
          ]
        }
      ]
    },
    {
      "cell_type": "markdown",
      "metadata": {
        "id": "HK5nj_RY9WMy"
      },
      "source": [
        "# References\n",
        "[1] https://towardsdatascience.com/semantic-similarity-using-transformers-8f3cb5bf66d6\n",
        "\n",
        "[2] https://towardsdatascience.com/abstractive-summarization-using-pytorch-f5063e67510\n",
        "\n",
        "[3] https://towardsdatascience.com/topic-modeling-with-bert-779f7db187e6\n",
        "\n",
        "[4] https://medium.com/@muddaprince456/categorizing-and-pos-tagging-with-nltk-python-28f2bc9312c3\n",
        "\n",
        "[5] https://www.machinelearningplus.com/nlp/topic-modeling-gensim-python/\n"
      ]
    }
  ]
}