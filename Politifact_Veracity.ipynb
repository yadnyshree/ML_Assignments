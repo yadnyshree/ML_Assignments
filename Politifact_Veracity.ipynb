{
  "nbformat": 4,
  "nbformat_minor": 0,
  "metadata": {
    "colab": {
      "name": "Politifact_Veracity.ipynb",
      "provenance": [],
      "collapsed_sections": []
    },
    "kernelspec": {
      "name": "python3",
      "display_name": "Python 3"
    }
  },
  "cells": [
    {
      "cell_type": "markdown",
      "metadata": {
        "id": "aFrY3cBI5OEn"
      },
      "source": [
        "# Scrapping Politifact Dataset\n"
      ]
    },
    {
      "cell_type": "markdown",
      "metadata": {
        "id": "q2M4k_r2-MTA"
      },
      "source": [
        "Team: CloudBond\n"
      ]
    },
    {
      "cell_type": "markdown",
      "metadata": {
        "id": "n4xGi-EBNU2R"
      },
      "source": [
        "Fake news can take on many forms, including photoshopped images, fake user-generated content or spoofed accounts, network-based content designed to appeal to a particular organization or group, as well as knowledge-based stories that contain a scientific or reasonable explanation of unresolved issues, often resulting in the spread of false information."
      ]
    },
    {
      "cell_type": "markdown",
      "metadata": {
        "id": "h0cGbrIMxS7D"
      },
      "source": [
        "The dataset used is scrapped data from Politifact. Along with scraping the news addtional source information for the news is also scrapped.\n"
      ]
    },
    {
      "cell_type": "markdown",
      "metadata": {
        "id": "ZR9NxfpV5OEp"
      },
      "source": [
        "### Import Libraries"
      ]
    },
    {
      "cell_type": "code",
      "metadata": {
        "id": "V_9Lnh7J5OEs",
        "colab": {
          "base_uri": "https://localhost:8080/"
        },
        "outputId": "e5ab70fa-e672-4267-f437-64b8dc424641"
      },
      "source": [
        "import pandas as pd\n",
        "import numpy as np\n",
        "import csv\n",
        "import gensim\n",
        "from sklearn.feature_extraction.text import TfidfVectorizer\n",
        "from sklearn.feature_extraction.text import CountVectorizer\n",
        "from sklearn.model_selection import train_test_split\n",
        "from sklearn.linear_model import LogisticRegression\n",
        "from sklearn.metrics import classification_report\n",
        "from sklearn.preprocessing import StandardScaler\n",
        "from nltk.stem.wordnet import WordNetLemmatizer\n",
        "from sklearn.model_selection import GridSearchCV\n",
        "from sklearn.metrics import confusion_matrix\n",
        "from nltk.stem.porter import PorterStemmer\n",
        "from sklearn import metrics\n",
        "from sklearn.metrics import roc_auc_score\n",
        "from sklearn.metrics import roc_curve\n",
        "from sklearn.pipeline import Pipeline\n",
        "from nltk.corpus import stopwords\n",
        "from string import punctuation\n",
        "import seaborn as sns\n",
        "import pandas as pd\n",
        "import numpy as np\n",
        "import nltk\n",
        "import re\n",
        "import nltk\n",
        "nltk.download('stopwords')\n",
        "nltk.download('averaged_perceptron_tagger')\n",
        "import matplotlib.pyplot as plt\n",
        "from scipy import sparse"
      ],
      "execution_count": null,
      "outputs": [
        {
          "output_type": "stream",
          "name": "stdout",
          "text": [
            "[nltk_data] Downloading package stopwords to /root/nltk_data...\n",
            "[nltk_data]   Package stopwords is already up-to-date!\n",
            "[nltk_data] Downloading package averaged_perceptron_tagger to\n",
            "[nltk_data]     /root/nltk_data...\n",
            "[nltk_data]   Package averaged_perceptron_tagger is already up-to-\n",
            "[nltk_data]       date!\n"
          ]
        }
      ]
    },
    {
      "cell_type": "code",
      "metadata": {
        "id": "jR90RCq-xnMm",
        "colab": {
          "base_uri": "https://localhost:8080/"
        },
        "outputId": "ae43eca6-2031-440a-9de0-0372c5f13a84"
      },
      "source": [
        "from google.colab import drive\n",
        "drive.mount(\"/content/drive\")\n"
      ],
      "execution_count": null,
      "outputs": [
        {
          "output_type": "stream",
          "name": "stdout",
          "text": [
            "Drive already mounted at /content/drive; to attempt to forcibly remount, call drive.mount(\"/content/drive\", force_remount=True).\n"
          ]
        }
      ]
    },
    {
      "cell_type": "markdown",
      "metadata": {
        "id": "Z4U9dxZFMGlS"
      },
      "source": [
        "##Import Posts data collected"
      ]
    },
    {
      "cell_type": "code",
      "metadata": {
        "colab": {
          "base_uri": "https://localhost:8080/"
        },
        "id": "wmS68yW67BwI",
        "outputId": "cb9a1a62-0fe4-4c72-f53d-dc0d996a820b"
      },
      "source": [
        "cd 'drive/MyDrive'"
      ],
      "execution_count": null,
      "outputs": [
        {
          "output_type": "stream",
          "name": "stdout",
          "text": [
            "[Errno 2] No such file or directory: 'drive/MyDrive'\n",
            "/content/drive/MyDrive\n"
          ]
        }
      ]
    },
    {
      "cell_type": "code",
      "metadata": {
        "id": "h1vjW3GQokIh",
        "colab": {
          "base_uri": "https://localhost:8080/"
        },
        "outputId": "794c8d03-94b8-46e1-b8e2-80403a71bb55"
      },
      "source": [
        "df = pd.read_csv(\"NewsData.csv\",sep=',')\n",
        "\n",
        "df.info()"
      ],
      "execution_count": null,
      "outputs": [
        {
          "output_type": "stream",
          "name": "stdout",
          "text": [
            "<class 'pandas.core.frame.DataFrame'>\n",
            "RangeIndex: 18210 entries, 0 to 18209\n",
            "Data columns (total 14 columns):\n",
            " #   Column         Non-Null Count  Dtype \n",
            "---  ------         --------------  ----- \n",
            " 0   Unnamed: 0     18210 non-null  int64 \n",
            " 1   Statement      18210 non-null  object\n",
            " 2   Link           18210 non-null  object\n",
            " 3   Date           18210 non-null  object\n",
            " 4   Source         18210 non-null  object\n",
            " 5   Context        18210 non-null  object\n",
            " 6   ContextSource  12459 non-null  object\n",
            " 7   Label          18210 non-null  object\n",
            " 8   TRUE           18210 non-null  int64 \n",
            " 9   MostlyTrue     18210 non-null  int64 \n",
            " 10  HalfTrue       18210 non-null  int64 \n",
            " 11  MostlyFalse    18210 non-null  int64 \n",
            " 12  FALSE          18210 non-null  int64 \n",
            " 13  PantOnFire     18210 non-null  int64 \n",
            "dtypes: int64(7), object(7)\n",
            "memory usage: 1.9+ MB\n"
          ]
        }
      ]
    },
    {
      "cell_type": "code",
      "metadata": {
        "id": "w71AvD1GpDUH",
        "colab": {
          "base_uri": "https://localhost:8080/"
        },
        "outputId": "1b728496-1e8f-43f5-f2e3-213c51ed4229"
      },
      "source": [
        "df.info()"
      ],
      "execution_count": null,
      "outputs": [
        {
          "output_type": "stream",
          "name": "stdout",
          "text": [
            "<class 'pandas.core.frame.DataFrame'>\n",
            "RangeIndex: 18210 entries, 0 to 18209\n",
            "Data columns (total 14 columns):\n",
            " #   Column         Non-Null Count  Dtype \n",
            "---  ------         --------------  ----- \n",
            " 0   Unnamed: 0     18210 non-null  int64 \n",
            " 1   Statement      18210 non-null  object\n",
            " 2   Link           18210 non-null  object\n",
            " 3   Date           18210 non-null  object\n",
            " 4   Source         18210 non-null  object\n",
            " 5   Context        18210 non-null  object\n",
            " 6   ContextSource  12459 non-null  object\n",
            " 7   Label          18210 non-null  object\n",
            " 8   TRUE           18210 non-null  int64 \n",
            " 9   MostlyTrue     18210 non-null  int64 \n",
            " 10  HalfTrue       18210 non-null  int64 \n",
            " 11  MostlyFalse    18210 non-null  int64 \n",
            " 12  FALSE          18210 non-null  int64 \n",
            " 13  PantOnFire     18210 non-null  int64 \n",
            "dtypes: int64(7), object(7)\n",
            "memory usage: 1.9+ MB\n"
          ]
        }
      ]
    },
    {
      "cell_type": "code",
      "metadata": {
        "id": "wj_SjZtIt0OB",
        "colab": {
          "base_uri": "https://localhost:8080/",
          "height": 581
        },
        "outputId": "b1c697d3-cb34-47be-e6a2-8353e6ddf81a"
      },
      "source": [
        "df.head()"
      ],
      "execution_count": null,
      "outputs": [
        {
          "output_type": "execute_result",
          "data": {
            "text/html": [
              "<div>\n",
              "<style scoped>\n",
              "    .dataframe tbody tr th:only-of-type {\n",
              "        vertical-align: middle;\n",
              "    }\n",
              "\n",
              "    .dataframe tbody tr th {\n",
              "        vertical-align: top;\n",
              "    }\n",
              "\n",
              "    .dataframe thead th {\n",
              "        text-align: right;\n",
              "    }\n",
              "</style>\n",
              "<table border=\"1\" class=\"dataframe\">\n",
              "  <thead>\n",
              "    <tr style=\"text-align: right;\">\n",
              "      <th></th>\n",
              "      <th>Unnamed: 0</th>\n",
              "      <th>Statement</th>\n",
              "      <th>Link</th>\n",
              "      <th>Date</th>\n",
              "      <th>Source</th>\n",
              "      <th>Context</th>\n",
              "      <th>ContextSource</th>\n",
              "      <th>Label</th>\n",
              "      <th>TRUE</th>\n",
              "      <th>MostlyTrue</th>\n",
              "      <th>HalfTrue</th>\n",
              "      <th>MostlyFalse</th>\n",
              "      <th>FALSE</th>\n",
              "      <th>PantOnFire</th>\n",
              "    </tr>\n",
              "  </thead>\n",
              "  <tbody>\n",
              "    <tr>\n",
              "      <th>0</th>\n",
              "      <td>0</td>\n",
              "      <td>Says Nancy Pelosi has “suspicious ties” to a v...</td>\n",
              "      <td>https://www.politifact.com/factchecks/2020/nov...</td>\n",
              "      <td>ember 9, 2020</td>\n",
              "      <td>Clever Journeys</td>\n",
              "      <td>Bloggers</td>\n",
              "      <td>NaN</td>\n",
              "      <td>barely-true</td>\n",
              "      <td>1</td>\n",
              "      <td>3</td>\n",
              "      <td>3</td>\n",
              "      <td>6</td>\n",
              "      <td>25</td>\n",
              "      <td>59</td>\n",
              "    </tr>\n",
              "    <tr>\n",
              "      <th>1</th>\n",
              "      <td>1</td>\n",
              "      <td>“Mitt Romney has been asked to lead Health and...</td>\n",
              "      <td>https://www.politifact.com/factchecks/2020/nov...</td>\n",
              "      <td>ember 9, 2020</td>\n",
              "      <td>The Buffalo Chronicle</td>\n",
              "      <td>Bloggers</td>\n",
              "      <td>NaN</td>\n",
              "      <td>FALSE</td>\n",
              "      <td>1</td>\n",
              "      <td>3</td>\n",
              "      <td>3</td>\n",
              "      <td>6</td>\n",
              "      <td>25</td>\n",
              "      <td>59</td>\n",
              "    </tr>\n",
              "    <tr>\n",
              "      <th>2</th>\n",
              "      <td>2</td>\n",
              "      <td>Says The Washington Times ran a front-page hea...</td>\n",
              "      <td>https://www.politifact.com/factchecks/2020/nov...</td>\n",
              "      <td>ember 9, 2020</td>\n",
              "      <td>Facebook post</td>\n",
              "      <td>Viral image</td>\n",
              "      <td>NaN</td>\n",
              "      <td>FALSE</td>\n",
              "      <td>0</td>\n",
              "      <td>1</td>\n",
              "      <td>4</td>\n",
              "      <td>6</td>\n",
              "      <td>52</td>\n",
              "      <td>34</td>\n",
              "    </tr>\n",
              "    <tr>\n",
              "      <th>3</th>\n",
              "      <td>3</td>\n",
              "      <td>Says a New York Post cover used the headline “...</td>\n",
              "      <td>https://www.politifact.com/factchecks/2020/nov...</td>\n",
              "      <td>ember 9, 2020</td>\n",
              "      <td>Facebook post</td>\n",
              "      <td>Viral image</td>\n",
              "      <td>NaN</td>\n",
              "      <td>FALSE</td>\n",
              "      <td>0</td>\n",
              "      <td>1</td>\n",
              "      <td>4</td>\n",
              "      <td>6</td>\n",
              "      <td>52</td>\n",
              "      <td>34</td>\n",
              "    </tr>\n",
              "    <tr>\n",
              "      <th>4</th>\n",
              "      <td>4</td>\n",
              "      <td>Officials in Fairfax, Va., gave 100,000 Trump ...</td>\n",
              "      <td>https://www.politifact.com/factchecks/2020/nov...</td>\n",
              "      <td>ember 7, 2020</td>\n",
              "      <td>Facebook post</td>\n",
              "      <td>Facebook posts</td>\n",
              "      <td>www.facebook.com/</td>\n",
              "      <td>barely-true</td>\n",
              "      <td>1</td>\n",
              "      <td>3</td>\n",
              "      <td>7</td>\n",
              "      <td>10</td>\n",
              "      <td>51</td>\n",
              "      <td>25</td>\n",
              "    </tr>\n",
              "  </tbody>\n",
              "</table>\n",
              "</div>"
            ],
            "text/plain": [
              "   Unnamed: 0  ... PantOnFire\n",
              "0           0  ...         59\n",
              "1           1  ...         59\n",
              "2           2  ...         34\n",
              "3           3  ...         34\n",
              "4           4  ...         25\n",
              "\n",
              "[5 rows x 14 columns]"
            ]
          },
          "metadata": {},
          "execution_count": 17
        }
      ]
    },
    {
      "cell_type": "code",
      "metadata": {
        "id": "MFUp9mFEwAuH",
        "colab": {
          "base_uri": "https://localhost:8080/"
        },
        "outputId": "3673cb6f-be5c-42de-e8a6-ffc547c16bb0"
      },
      "source": [
        "df.shape"
      ],
      "execution_count": null,
      "outputs": [
        {
          "output_type": "execute_result",
          "data": {
            "text/plain": [
              "(18210, 14)"
            ]
          },
          "metadata": {},
          "execution_count": 18
        }
      ]
    },
    {
      "cell_type": "markdown",
      "metadata": {
        "id": "2uF0rwguMTT3"
      },
      "source": [
        "##Scrape Source Information for the Posts"
      ]
    },
    {
      "cell_type": "markdown",
      "metadata": {
        "id": "FynRLRI1MaZr"
      },
      "source": [
        "###Scraping in Batches"
      ]
    },
    {
      "cell_type": "code",
      "metadata": {
        "id": "FAu3nxoZw3T3",
        "colab": {
          "base_uri": "https://localhost:8080/"
        },
        "outputId": "9140a63a-03c5-4f3c-fcc6-b55b14dfc736"
      },
      "source": [
        "import urllib.request,sys,time\n",
        "from bs4 import BeautifulSoup\n",
        "import requests\n",
        "import pandas as pd\n",
        "\n",
        "pagesToGet= 50\n",
        "#pagesToGet= 2\n",
        "upperframe=[]  \n",
        "for page in range(0,pagesToGet):\n",
        "    print('processing page :', page+1)\n",
        "    link = df['Link'][page]\n",
        "    url = str(link)+'#sources'\n",
        "    print(url)\n",
        "    \n",
        "    \n",
        "    #an exception might be thrown, so the code should be in a try-except block\n",
        "    try:\n",
        "        #use the browser to get the url. This is suspicious command that might blow up.\n",
        "        curr_page=requests.get(url)  \n",
        "        #print(page.text)                           # this might throw an exception if something goes wrong.\n",
        "    \n",
        "    except Exception as e:                                   # this describes what to do if an exception is thrown\n",
        "        error_type, error_obj, error_info = sys.exc_info()      # get the exception information\n",
        "        print ('ERROR FOR LINK:',url)                          #print the link that cause the problem\n",
        "        print (error_type, 'Line:', error_info.tb_lineno)     #print error info and line that threw the exception\n",
        "        continue                                              #ignore this page. Abandon this and go back.\n",
        "    time.sleep(2)   \n",
        "    soup=BeautifulSoup(curr_page.text,'html.parser')\n",
        "    frame=[]\n",
        "    #links=soup.find_all('li',attrs={'class':'o-listicle__item'})\n",
        "    \n",
        "    article_tag=soup.find('article',attrs={'class':'m-superbox__content'})\n",
        "    article_title=soup.find('div',attrs={'class':'m-statement__quote'})\n",
        "    #print(len(links))\n",
        "    filename=\"News_Sources1.csv\"\n",
        "    f=open(filename,\"w\", encoding = 'utf-8')\n",
        "    headers=\"Title, Author, Author_Link\\n\"\n",
        "    f.write(headers)\n",
        "    \n",
        "    \n",
        "\n",
        "    authors = article_tag.find_all(\"p\")\n",
        "    for author in authors:\n",
        "      Title = article_title.text.strip()\n",
        "      Author = author.text.strip()\n",
        "      if(author.find('a')):\n",
        "        Author_Link = author.find('a')['href'].strip()\n",
        "      else:\n",
        "        Author_Link = '0'\n",
        "      frame.append((Title,Author,Author_Link))\n",
        "      f.write(Title+\",\"+Author+\",\"+Author_Link+\"\\n\")\n",
        "    upperframe.extend(frame)\n",
        "f.close()\n"
      ],
      "execution_count": null,
      "outputs": [
        {
          "output_type": "stream",
          "name": "stdout",
          "text": [
            "processing page : 1\n",
            "https://www.politifact.com/factchecks/2020/nov/09/blog-posting/trump-supporters-falsely-tie-nancy-pelosi-broader-/#sources\n",
            "processing page : 2\n",
            "https://www.politifact.com/factchecks/2020/nov/09/blog-posting/no-joe-biden-hasnt-asked-mitt-romney-be-his-health/#sources\n",
            "processing page : 3\n",
            "https://www.politifact.com/factchecks/2020/nov/09/viral-image/no-washington-times-didnt-run-president-gore-cover/#sources\n",
            "processing page : 4\n",
            "https://www.politifact.com/factchecks/2020/nov/09/viral-image/no-new-york-post-didnt-run-youre-fired-cover/#sources\n",
            "processing page : 5\n",
            "https://www.politifact.com/factchecks/2020/nov/07/facebook-posts/no-fairfax-officials-virginia-didnt-give-100000-tr/#sources\n",
            "processing page : 6\n",
            "https://www.politifact.com/factchecks/2020/nov/07/facebook-posts/no-naacp-didnt-warn-about-white-nationalist-groups/#sources\n",
            "processing page : 7\n",
            "https://www.politifact.com/factchecks/2020/nov/07/facebook-posts/georgia-election-worker-falsely-accused-discarding/#sources\n",
            "processing page : 8\n",
            "https://www.politifact.com/factchecks/2020/nov/07/tweets/list-does-not-show-over-14000-dead-people-cast-bal/#sources\n",
            "processing page : 9\n",
            "https://www.politifact.com/factchecks/2020/nov/06/nevada-republican-party/fact-checking-republican-claim-illegal-votes-nevad/#sources\n",
            "processing page : 10\n",
            "https://www.politifact.com/factchecks/2020/nov/06/ted-cruz/ted-cruz-falsely-claims-philadelphia-counting-vote/#sources\n",
            "processing page : 11\n",
            "https://www.politifact.com/factchecks/2020/nov/06/instagram-posts/no-porn-site-logo-didnt-appear-cnn-broadcast/#sources\n",
            "processing page : 12\n",
            "https://www.politifact.com/factchecks/2020/nov/06/donald-trump/donald-trumps-pants-fire-claim-about-illegal-votes/#sources\n",
            "processing page : 13\n",
            "https://www.politifact.com/factchecks/2020/nov/06/kevin-mccarthy/claim-about-people-re-voting-iowa-2020-election-wr/#sources\n",
            "processing page : 14\n",
            "https://www.politifact.com/factchecks/2020/nov/06/facebook-posts/no-ballots-donald-trump-werent-discovered-georgia-/#sources\n",
            "processing page : 15\n",
            "https://www.politifact.com/factchecks/2020/nov/06/facebook-posts/no-pennsylvania-poll-workers-werent-caught-fraudul/#sources\n",
            "processing page : 16\n",
            "https://www.politifact.com/factchecks/2020/nov/06/facebook-posts/over-100-republican-challengers-monitored-absentee/#sources\n",
            "processing page : 17\n",
            "https://www.politifact.com/factchecks/2020/nov/06/dan-patrick/no-austin-not-one-most-dangerous-city-us-let-alone/#sources\n",
            "processing page : 18\n",
            "https://www.politifact.com/factchecks/2020/nov/06/facebook-posts/did-president-trump-issue-secret-watermarks-ballot/#sources\n",
            "processing page : 19\n",
            "https://www.politifact.com/factchecks/2020/nov/06/facebook-posts/no-arizona-troopers-didnt-discover-50k-ballots-tru/#sources\n",
            "processing page : 20\n",
            "https://www.politifact.com/factchecks/2020/nov/06/tiktok-posts/it-wasnt-cheating-calif-collected-ballots-after-st/#sources\n",
            "processing page : 21\n",
            "https://www.politifact.com/factchecks/2020/nov/06/facebook-posts/pennsylvania-poll-worker-was-copying-information-d/#sources\n",
            "processing page : 22\n",
            "https://www.politifact.com/factchecks/2020/nov/06/paula-jean-swearengin/does-wva-rank-near-last-education-drinking-water-c/#sources\n",
            "processing page : 23\n",
            "https://www.politifact.com/factchecks/2020/nov/05/tiktok-posts/social-media-posts-falsely-claim-40000-votes-jo-jo/#sources\n",
            "processing page : 24\n",
            "https://www.politifact.com/factchecks/2020/nov/05/facebook-posts/no-dead-voter-named-william-bradley-didnt-vote-det/#sources\n",
            "processing page : 25\n",
            "https://www.politifact.com/factchecks/2020/nov/05/blog-posting/no-evidence-ballots-were-smuggled-detroit-counting/#sources\n",
            "processing page : 26\n",
            "https://www.politifact.com/factchecks/2020/nov/05/blog-posting/claim-postal-service-failed-deliver-27-mail-ballot/#sources\n",
            "processing page : 27\n",
            "https://www.politifact.com/factchecks/2020/nov/05/social-media/no-north-carolinas-secretary-state-doesnt-control-/#sources\n",
            "processing page : 28\n",
            "https://www.politifact.com/factchecks/2020/nov/05/facebook-posts/milwaukee-wards-did-not-have-more-votes-president-/#sources\n",
            "processing page : 29\n",
            "https://www.politifact.com/factchecks/2020/nov/05/facebook-posts/no-thousands-military-ballots-were-not-found-trash/#sources\n",
            "processing page : 30\n",
            "https://www.politifact.com/factchecks/2020/nov/05/viral-image/no-more-mail-ballots-werent-counted-pennsylvania-c/#sources\n",
            "processing page : 31\n",
            "https://www.politifact.com/factchecks/2020/nov/05/facebook-posts/video-ballot-stuffing-filmed-russia-not-flint-mich/#sources\n",
            "processing page : 32\n",
            "https://www.politifact.com/factchecks/2020/nov/05/facebook-posts/despite-sharpiegate-no-evidence-plot-use-pens-canc/#sources\n",
            "processing page : 33\n",
            "https://www.politifact.com/factchecks/2020/nov/05/facebook-posts/dead-voters-detroits-voter-rolls-including-person-/#sources\n",
            "processing page : 34\n",
            "https://www.politifact.com/factchecks/2020/nov/05/facebook-posts/biden-netted-more-votes-michigan-trump/#sources\n",
            "processing page : 35\n",
            "https://www.politifact.com/factchecks/2020/nov/05/viral-image/no-michigan-ballots-counted-after-election-day-are/#sources\n",
            "processing page : 36\n",
            "https://www.politifact.com/factchecks/2020/nov/05/donald-trump-jr/no-wisconsin-voter-turnout-did-not-jump-67-2016-89/#sources\n",
            "processing page : 37\n",
            "https://www.politifact.com/factchecks/2020/nov/05/facebook-posts/no-wisconsin-did-not-take-break-counting-election-/#sources\n",
            "processing page : 38\n",
            "https://www.politifact.com/factchecks/2020/nov/05/tucker-carlson/tucker-carlsons-false-claim-elites-washington-igno/#sources\n",
            "processing page : 39\n",
            "https://www.politifact.com/factchecks/2020/nov/05/viral-image/north-carolina-and-wisconsin-did-not-have-more-vot/#sources\n",
            "processing page : 40\n",
            "https://www.politifact.com/factchecks/2020/nov/04/eric-trump/eric-trump-retweets-video-falsely-claiming-man-bur/#sources\n",
            "processing page : 41\n",
            "https://www.politifact.com/factchecks/2020/nov/04/donald-trump/no-president-trump-ballot-dumps-key-states-were-no/#sources\n",
            "processing page : 42\n",
            "https://www.politifact.com/factchecks/2020/nov/04/facebook-posts/fact-checking-conspiracy-theory-about-ballot-count/#sources\n",
            "processing page : 43\n",
            "https://www.politifact.com/factchecks/2020/nov/04/tweets/viral-tweet-spreads-false-information-about-mail-b/#sources\n",
            "processing page : 44\n",
            "https://www.politifact.com/factchecks/2020/nov/04/facebook-posts/no-nevada-did-not-stop-counting-ballots/#sources\n",
            "processing page : 45\n",
            "https://www.politifact.com/factchecks/2020/nov/04/viral-image/no-these-fivethirtyeight-graphs-dont-prove-voter-f/#sources\n",
            "processing page : 46\n",
            "https://www.politifact.com/factchecks/2020/nov/04/facebook-posts/social-media-post-falsely-claims-wisconsin-found-1/#sources\n",
            "processing page : 47\n",
            "https://www.politifact.com/factchecks/2020/nov/04/facebook-posts/theres-nothing-mysterious-about-californias-mail-v/#sources\n",
            "processing page : 48\n",
            "https://www.politifact.com/factchecks/2020/nov/04/tweets/no-biden-did-not-receive-thousands-mysteriously-su/#sources\n",
            "processing page : 49\n",
            "https://www.politifact.com/factchecks/2020/nov/04/facebook-posts/battleground-states-did-not-stop-counting-votes-el/#sources\n",
            "processing page : 50\n",
            "https://www.politifact.com/factchecks/2020/nov/04/facebook-posts/photo-concrete-wall-front-white-house-doctored/#sources\n"
          ]
        }
      ]
    },
    {
      "cell_type": "code",
      "metadata": {
        "id": "PK5CQi5G2liG",
        "colab": {
          "base_uri": "https://localhost:8080/",
          "height": 204
        },
        "outputId": "f5351f3d-e8fe-4302-c6c7-f33c3ff14626"
      },
      "source": [
        "data1=pd.DataFrame(upperframe, columns=['Title','Author','Author_Link'])\n",
        "data1.to_csv('News_Sources1.csv')\n",
        "data1.head()"
      ],
      "execution_count": null,
      "outputs": [
        {
          "output_type": "execute_result",
          "data": {
            "text/html": [
              "<div>\n",
              "<style scoped>\n",
              "    .dataframe tbody tr th:only-of-type {\n",
              "        vertical-align: middle;\n",
              "    }\n",
              "\n",
              "    .dataframe tbody tr th {\n",
              "        vertical-align: top;\n",
              "    }\n",
              "\n",
              "    .dataframe thead th {\n",
              "        text-align: right;\n",
              "    }\n",
              "</style>\n",
              "<table border=\"1\" class=\"dataframe\">\n",
              "  <thead>\n",
              "    <tr style=\"text-align: right;\">\n",
              "      <th></th>\n",
              "      <th>Title</th>\n",
              "      <th>Author</th>\n",
              "      <th>Author_Link</th>\n",
              "    </tr>\n",
              "  </thead>\n",
              "  <tbody>\n",
              "    <tr>\n",
              "      <th>0</th>\n",
              "      <td>Says Nancy Pelosi has “suspicious ties” to a v...</td>\n",
              "      <td>Clever Journeys, Pelosi Has Suspicious Ties Wi...</td>\n",
              "      <td>https://cleverjourneys.com/2020/11/06/pelosi-h...</td>\n",
              "    </tr>\n",
              "    <tr>\n",
              "      <th>1</th>\n",
              "      <td>Says Nancy Pelosi has “suspicious ties” to a v...</td>\n",
              "      <td>Red State, Election System Responsible for 'Gl...</td>\n",
              "      <td>https://redstate.com/jenvanlaar/2020/11/07/ele...</td>\n",
              "    </tr>\n",
              "    <tr>\n",
              "      <th>2</th>\n",
              "      <td>Says Nancy Pelosi has “suspicious ties” to a v...</td>\n",
              "      <td>OpenSecrets.org, Dominion Voting Systems lobby...</td>\n",
              "      <td>https://www.opensecrets.org/federal-lobbying/c...</td>\n",
              "    </tr>\n",
              "    <tr>\n",
              "      <th>3</th>\n",
              "      <td>Says Nancy Pelosi has “suspicious ties” to a v...</td>\n",
              "      <td>Michigan Department of State, False claims fro...</td>\n",
              "      <td>https://www.michigan.gov/som/0,4669,7-192-4779...</td>\n",
              "    </tr>\n",
              "    <tr>\n",
              "      <th>4</th>\n",
              "      <td>Says Nancy Pelosi has “suspicious ties” to a v...</td>\n",
              "      <td>Detroit Free Press, Antrim County figures prom...</td>\n",
              "      <td>https://www.freep.com/story/news/politics/elec...</td>\n",
              "    </tr>\n",
              "  </tbody>\n",
              "</table>\n",
              "</div>"
            ],
            "text/plain": [
              "                                               Title  ...                                        Author_Link\n",
              "0  Says Nancy Pelosi has “suspicious ties” to a v...  ...  https://cleverjourneys.com/2020/11/06/pelosi-h...\n",
              "1  Says Nancy Pelosi has “suspicious ties” to a v...  ...  https://redstate.com/jenvanlaar/2020/11/07/ele...\n",
              "2  Says Nancy Pelosi has “suspicious ties” to a v...  ...  https://www.opensecrets.org/federal-lobbying/c...\n",
              "3  Says Nancy Pelosi has “suspicious ties” to a v...  ...  https://www.michigan.gov/som/0,4669,7-192-4779...\n",
              "4  Says Nancy Pelosi has “suspicious ties” to a v...  ...  https://www.freep.com/story/news/politics/elec...\n",
              "\n",
              "[5 rows x 3 columns]"
            ]
          },
          "metadata": {},
          "execution_count": 20
        }
      ]
    },
    {
      "cell_type": "code",
      "metadata": {
        "id": "XqGgjiVd6Etl",
        "colab": {
          "base_uri": "https://localhost:8080/"
        },
        "outputId": "7361a376-b755-4ef6-f134-f95eea6da5f8"
      },
      "source": [
        "import urllib.request,sys,time\n",
        "from bs4 import BeautifulSoup\n",
        "import requests\n",
        "import pandas as pd\n",
        "\n",
        "pagesToGet= 100\n",
        "#pagesToGet= 2\n",
        "upperframe=[]  \n",
        "for page in range(50,pagesToGet):\n",
        "    print('processing page :', page+1)\n",
        "    link = df['Link'][page]\n",
        "    url = str(link)+'#sources'\n",
        "    print(url)\n",
        "    \n",
        "    \n",
        "    #an exception might be thrown, so the code should be in a try-except block\n",
        "    try:\n",
        "        #use the browser to get the url. This is suspicious command that might blow up.\n",
        "        curr_page=requests.get(url)  \n",
        "        #print(page.text)                           # this might throw an exception if something goes wrong.\n",
        "    \n",
        "    except Exception as e:                                   # this describes what to do if an exception is thrown\n",
        "        error_type, error_obj, error_info = sys.exc_info()      # get the exception information\n",
        "        print ('ERROR FOR LINK:',url)                          #print the link that cause the problem\n",
        "        print (error_type, 'Line:', error_info.tb_lineno)     #print error info and line that threw the exception\n",
        "        continue                                              #ignore this page. Abandon this and go back.\n",
        "    time.sleep(2)   \n",
        "    soup=BeautifulSoup(curr_page.text,'html.parser')\n",
        "    frame=[]\n",
        "    #links=soup.find_all('li',attrs={'class':'o-listicle__item'})\n",
        "    \n",
        "    article_tag=soup.find('article',attrs={'class':'m-superbox__content'})\n",
        "    article_title=soup.find('div',attrs={'class':'m-statement__quote'})\n",
        "    #print(len(links))\n",
        "    filename=\"News_Sources2.csv\"\n",
        "    f=open(filename,\"w\", encoding = 'utf-8')\n",
        "    headers=\"Title, Author, Author_Link\\n\"\n",
        "    f.write(headers)\n",
        "    \n",
        "    \n",
        "\n",
        "    authors = article_tag.find_all(\"p\")\n",
        "    for author in authors:\n",
        "      Title = article_title.text.strip()\n",
        "      Author = author.text.strip()\n",
        "      if(author.find('a')):\n",
        "        Author_Link = author.find('a')['href'].strip()\n",
        "      else:\n",
        "        Author_Link = '0'\n",
        "      frame.append((Title,Author,Author_Link))\n",
        "      f.write(Title+\",\"+Author+\",\"+Author_Link+\"\\n\")\n",
        "    upperframe.extend(frame)\n",
        "f.close()\n"
      ],
      "execution_count": null,
      "outputs": [
        {
          "output_type": "stream",
          "name": "stdout",
          "text": [
            "processing page : 51\n",
            "https://www.politifact.com/factchecks/2020/nov/04/viral-image/no-whitmer-didnt-say-she-wouldnt-certify-election-/#sources\n",
            "processing page : 52\n",
            "https://www.politifact.com/factchecks/2020/nov/04/tweets/no-wisconsin-doesnt-have-more-ballots-cast-registe/#sources\n",
            "processing page : 53\n",
            "https://www.politifact.com/factchecks/2020/nov/04/facebook-posts/voting-machines-dont-read-ballots-filled-sharpies-/#sources\n",
            "processing page : 54\n",
            "https://www.politifact.com/factchecks/2020/nov/04/sean-hannity/sean-hannity-falsely-suggests-ilhan-omar-encourage/#sources\n",
            "processing page : 55\n",
            "https://www.politifact.com/factchecks/2020/nov/04/facebook-posts/no-trump-hasnt-won-election-and-neither-has-biden/#sources\n",
            "processing page : 56\n",
            "https://www.politifact.com/factchecks/2020/nov/04/facebook-posts/fact-checking-misleading-photo-caption-about-phila/#sources\n",
            "processing page : 57\n",
            "https://www.politifact.com/factchecks/2020/nov/04/donald-trump/trump-falsely-and-prematurely-claims-2020-presiden/#sources\n",
            "processing page : 58\n",
            "https://www.politifact.com/factchecks/2020/nov/04/tweets/no-sign-outside-pennsylvania-poll-isnt-voting-scam/#sources\n",
            "processing page : 59\n",
            "https://www.politifact.com/factchecks/2020/nov/03/facebook-posts/unfounded-election-day-social-media-posts-warn-mas/#sources\n",
            "processing page : 60\n",
            "https://www.politifact.com/factchecks/2020/nov/03/instagram-posts/nonpartisan-reality-national-guard-troops-deployed/#sources\n",
            "processing page : 61\n",
            "https://www.politifact.com/factchecks/2020/nov/03/tweets/fact-checking-claim-about-poll-watchers-turned-awa/#sources\n",
            "processing page : 62\n",
            "https://www.politifact.com/factchecks/2020/nov/03/tweets/no-ballots-trump-werent-thrown-out-poll-worker-pen/#sources\n",
            "processing page : 63\n",
            "https://www.politifact.com/factchecks/2020/nov/03/viral-image/no-bricks-denver-arent-being-staged-riots/#sources\n",
            "processing page : 64\n",
            "https://www.politifact.com/factchecks/2020/nov/03/facebook-posts/no-trump-supporters-arent-blocking-access-voting-s/#sources\n",
            "processing page : 65\n",
            "https://www.politifact.com/factchecks/2020/nov/03/facebook-posts/police-say-bricks-detroit-are-construction-project/#sources\n",
            "processing page : 66\n",
            "https://www.politifact.com/factchecks/2020/nov/03/tiktok-posts/video-misrepresents-bidens-speech-michigan/#sources\n",
            "processing page : 67\n",
            "https://www.politifact.com/factchecks/2020/nov/03/facebook-posts/kohls-has-t-shirt-line-promotes-racial-equality-it/#sources\n",
            "processing page : 68\n",
            "https://www.politifact.com/factchecks/2020/nov/03/blog-posting/flyer-encouraging-antifa-disguise-themselves-trump/#sources\n",
            "processing page : 69\n",
            "https://www.politifact.com/factchecks/2020/nov/03/viral-image/facebook-post-exaggerates-isolated-voting-hiccup-a/#sources\n",
            "processing page : 70\n",
            "https://www.politifact.com/factchecks/2020/nov/02/facebook-posts/pennsylvania-residents-under-covid-19-quarantine-c/#sources\n",
            "processing page : 71\n",
            "https://www.politifact.com/factchecks/2020/nov/02/tiktok-posts/video-gives-misleading-impression-mass-voting-rule/#sources\n",
            "processing page : 72\n",
            "https://www.politifact.com/factchecks/2020/nov/02/robyn-vining/voters-choosing-more-party-personality-trump-excep/#sources\n",
            "processing page : 73\n",
            "https://www.politifact.com/factchecks/2020/nov/02/facebook-posts/trumps-butler-pa-rally-drew-thousands-supporters-t/#sources\n",
            "processing page : 74\n",
            "https://www.politifact.com/factchecks/2020/nov/02/facebook-posts/no-nancy-pelosis-son-didnt-serve-burisma-board/#sources\n",
            "processing page : 75\n",
            "https://www.politifact.com/factchecks/2020/nov/02/facebook-posts/no-evidence-kamala-harris-husband-represents-chine/#sources\n",
            "processing page : 76\n",
            "https://www.politifact.com/factchecks/2020/nov/02/facebook-posts/democratic-partys-2020-platform-includes-mention-g/#sources\n",
            "processing page : 77\n",
            "https://www.politifact.com/factchecks/2020/nov/02/tweets/photo-biden-plane-without-face-mask-pandemic/#sources\n",
            "processing page : 78\n",
            "https://www.politifact.com/factchecks/2020/nov/02/donald-trump/fact-checking-trumps-claim-his-supporters-were-pro/#sources\n",
            "processing page : 79\n",
            "https://www.politifact.com/factchecks/2020/nov/01/donald-trump/trumps-misleading-attack-bidens-health-care-plan/#sources\n",
            "processing page : 80\n",
            "https://www.politifact.com/factchecks/2020/nov/01/jason-miller/trump-spokesman-jason-miller-paints-dubious-pictur/#sources\n",
            "processing page : 81\n",
            "https://www.politifact.com/factchecks/2020/nov/01/facebook-posts/video-clip-joe-biden-saying-hello-minnesota-was-do/#sources\n",
            "processing page : 82\n",
            "https://www.politifact.com/factchecks/2020/nov/01/sam-brown-petsonk/how-many-west-virginians-would-lose-coverage-if-la/#sources\n",
            "processing page : 83\n",
            "https://www.politifact.com/factchecks/2020/nov/01/donald-trump/no-biden-did-not-call-black-youth-super-predators/#sources\n",
            "processing page : 84\n",
            "https://www.politifact.com/factchecks/2020/nov/01/tweets/no-evidence-queens-voters-received-pre-marked-ball/#sources\n",
            "processing page : 85\n",
            "https://www.politifact.com/factchecks/2020/nov/01/jb-pritzker/illinois-nation-leading-funding-census-outreach/#sources\n",
            "processing page : 86\n",
            "https://www.politifact.com/factchecks/2020/nov/01/donald-trump/donald-trumps-false-claim-doctors-inflate-covid-19/#sources\n",
            "processing page : 87\n",
            "https://www.politifact.com/factchecks/2020/nov/01/tiktok-posts/no-joe-bidens-brother-didnt-build-cages-along-us-m/#sources\n",
            "processing page : 88\n",
            "https://www.politifact.com/factchecks/2020/nov/01/instagram-posts/green-new-deal-would-not-require-99-homes-be-torn-/#sources\n",
            "processing page : 89\n",
            "https://www.politifact.com/factchecks/2020/oct/31/joe-biden/yes-joe-biden-has-released-22-years-tax-returns-on/#sources\n",
            "processing page : 90\n",
            "https://www.politifact.com/factchecks/2020/oct/31/viral-image/no-photo-doesnt-show-intoxicated-kamala-harris/#sources\n",
            "processing page : 91\n",
            "https://www.politifact.com/factchecks/2020/oct/31/facebook-posts/toddler-photo-wasnt-found-lost-philadelphia-he-was/#sources\n",
            "processing page : 92\n",
            "https://www.politifact.com/factchecks/2020/oct/31/blog-posting/no-joe-biden-didnt-say-america-dead/#sources\n",
            "processing page : 93\n",
            "https://www.politifact.com/factchecks/2020/oct/31/viral-image/fake-sean-connery-letter-steve-jobs-spreads-wake-h/#sources\n",
            "processing page : 94\n",
            "https://www.politifact.com/factchecks/2020/oct/31/viral-image/no-coronavirus-pandemic-wont-end-day-after-electio/#sources\n",
            "processing page : 95\n",
            "https://www.politifact.com/factchecks/2020/oct/31/theresa-greenfield/fact-check-farm-bankruptcies-highest-8-years/#sources\n",
            "processing page : 96\n",
            "https://www.politifact.com/factchecks/2020/oct/31/facebook-posts/no-michelle-obama-not-transgender-woman/#sources\n",
            "processing page : 97\n",
            "https://www.politifact.com/factchecks/2020/oct/31/facebook-posts/no-evidence-people-are-trying-lower-age-consent-4/#sources\n",
            "processing page : 98\n",
            "https://www.politifact.com/factchecks/2020/oct/31/theresa-greenfield/greenfield-attacks-ernst-aca-lawsuit-position-refl/#sources\n",
            "processing page : 99\n",
            "https://www.politifact.com/factchecks/2020/oct/31/raphael-warnock/fact-checking-raphael-warnocks-claim-georgia-sen-k/#sources\n",
            "processing page : 100\n",
            "https://www.politifact.com/factchecks/2020/oct/30/democratic-congressional-campaign-committee/follow-money-rep-wagner-has-received-millions/#sources\n"
          ]
        }
      ]
    },
    {
      "cell_type": "code",
      "metadata": {
        "id": "yGC7VfYj6WS3",
        "colab": {
          "base_uri": "https://localhost:8080/",
          "height": 204
        },
        "outputId": "9e7822c8-1660-4bfd-c2e5-5361cd191acd"
      },
      "source": [
        "data2=pd.DataFrame(upperframe, columns=['Title','Author','Author_Link'])\n",
        "data2.to_csv('News_Sources2.csv')\n",
        "data2.head()"
      ],
      "execution_count": null,
      "outputs": [
        {
          "output_type": "execute_result",
          "data": {
            "text/html": [
              "<div>\n",
              "<style scoped>\n",
              "    .dataframe tbody tr th:only-of-type {\n",
              "        vertical-align: middle;\n",
              "    }\n",
              "\n",
              "    .dataframe tbody tr th {\n",
              "        vertical-align: top;\n",
              "    }\n",
              "\n",
              "    .dataframe thead th {\n",
              "        text-align: right;\n",
              "    }\n",
              "</style>\n",
              "<table border=\"1\" class=\"dataframe\">\n",
              "  <thead>\n",
              "    <tr style=\"text-align: right;\">\n",
              "      <th></th>\n",
              "      <th>Title</th>\n",
              "      <th>Author</th>\n",
              "      <th>Author_Link</th>\n",
              "    </tr>\n",
              "  </thead>\n",
              "  <tbody>\n",
              "    <tr>\n",
              "      <th>0</th>\n",
              "      <td>Says Michigan Gov. Gretchen Whitmer said, “I w...</td>\n",
              "      <td>Facebook post, Nov. 3, 2020</td>\n",
              "      <td>https://archive.is/XLkOQ</td>\n",
              "    </tr>\n",
              "    <tr>\n",
              "      <th>1</th>\n",
              "      <td>Says Michigan Gov. Gretchen Whitmer said, “I w...</td>\n",
              "      <td>USA Today, Trump rally crowd chants ‘lock her ...</td>\n",
              "      <td>https://www.usatoday.com/story/news/politics/e...</td>\n",
              "    </tr>\n",
              "    <tr>\n",
              "      <th>2</th>\n",
              "      <td>Says Michigan Gov. Gretchen Whitmer said, “I w...</td>\n",
              "      <td>Dana Nessel tweet, Oct. 17, 2020</td>\n",
              "      <td>https://twitter.com/dananessel/status/13176371...</td>\n",
              "    </tr>\n",
              "    <tr>\n",
              "      <th>3</th>\n",
              "      <td>Says Michigan Gov. Gretchen Whitmer said, “I w...</td>\n",
              "      <td>Michigan Secretary of State, Get to know your ...</td>\n",
              "      <td>https://www.michigan.gov/sos/0,4670,7-127-1633...</td>\n",
              "    </tr>\n",
              "    <tr>\n",
              "      <th>4</th>\n",
              "      <td>Says Michigan Gov. Gretchen Whitmer said, “I w...</td>\n",
              "      <td>Email interview with Chelsea Lewis, deputy pre...</td>\n",
              "      <td>0</td>\n",
              "    </tr>\n",
              "  </tbody>\n",
              "</table>\n",
              "</div>"
            ],
            "text/plain": [
              "                                               Title  ...                                        Author_Link\n",
              "0  Says Michigan Gov. Gretchen Whitmer said, “I w...  ...                           https://archive.is/XLkOQ\n",
              "1  Says Michigan Gov. Gretchen Whitmer said, “I w...  ...  https://www.usatoday.com/story/news/politics/e...\n",
              "2  Says Michigan Gov. Gretchen Whitmer said, “I w...  ...  https://twitter.com/dananessel/status/13176371...\n",
              "3  Says Michigan Gov. Gretchen Whitmer said, “I w...  ...  https://www.michigan.gov/sos/0,4670,7-127-1633...\n",
              "4  Says Michigan Gov. Gretchen Whitmer said, “I w...  ...                                                  0\n",
              "\n",
              "[5 rows x 3 columns]"
            ]
          },
          "metadata": {},
          "execution_count": 22
        }
      ]
    },
    {
      "cell_type": "code",
      "metadata": {
        "id": "sMHM6j7b9IYW",
        "colab": {
          "base_uri": "https://localhost:8080/"
        },
        "outputId": "007630c6-b1db-4fc7-c061-15a8464345ed"
      },
      "source": [
        "import urllib.request,sys,time\n",
        "from bs4 import BeautifulSoup\n",
        "import requests\n",
        "import pandas as pd\n",
        "\n",
        "pagesToGet= 150\n",
        "#pagesToGet= 2\n",
        "upperframe=[]  \n",
        "for page in range(100,pagesToGet):\n",
        "    print('processing page :', page+1)\n",
        "    link = df['Link'][page]\n",
        "    url = str(link)+'#sources'\n",
        "    print(url)\n",
        "    \n",
        "    \n",
        "    #an exception might be thrown, so the code should be in a try-except block\n",
        "    try:\n",
        "        #use the browser to get the url. This is suspicious command that might blow up.\n",
        "        curr_page=requests.get(url)  \n",
        "        #print(page.text)                           # this might throw an exception if something goes wrong.\n",
        "    \n",
        "    except Exception as e:                                   # this describes what to do if an exception is thrown\n",
        "        error_type, error_obj, error_info = sys.exc_info()      # get the exception information\n",
        "        print ('ERROR FOR LINK:',url)                          #print the link that cause the problem\n",
        "        print (error_type, 'Line:', error_info.tb_lineno)     #print error info and line that threw the exception\n",
        "        continue                                              #ignore this page. Abandon this and go back.\n",
        "    time.sleep(2)   \n",
        "    soup=BeautifulSoup(curr_page.text,'html.parser')\n",
        "    frame=[]\n",
        "    #links=soup.find_all('li',attrs={'class':'o-listicle__item'})\n",
        "    \n",
        "    article_tag=soup.find('article',attrs={'class':'m-superbox__content'})\n",
        "    article_title=soup.find('div',attrs={'class':'m-statement__quote'})\n",
        "    #print(len(links))\n",
        "    filename=\"News_Sources3.csv\"\n",
        "    f=open(filename,\"w\", encoding = 'utf-8')\n",
        "    headers=\"Title, Author, Author_Link\\n\"\n",
        "    f.write(headers)\n",
        "    \n",
        "    \n",
        "\n",
        "    authors = article_tag.find_all(\"p\")\n",
        "    for author in authors:\n",
        "      Title = article_title.text.strip()\n",
        "      Author = author.text.strip()\n",
        "      if(author.find('a')):\n",
        "        Author_Link = author.find('a')['href'].strip()\n",
        "      else:\n",
        "        Author_Link = '0'\n",
        "      frame.append((Title,Author,Author_Link))\n",
        "      f.write(Title+\",\"+Author+\",\"+Author_Link+\"\\n\")\n",
        "    upperframe.extend(frame)\n",
        "f.close()"
      ],
      "execution_count": null,
      "outputs": [
        {
          "output_type": "stream",
          "name": "stdout",
          "text": [
            "processing page : 101\n",
            "https://www.politifact.com/factchecks/2020/oct/30/nicole-galloway/does-gov-parson-actually-oppose-protections-preexi/#sources\n",
            "processing page : 102\n",
            "https://www.politifact.com/factchecks/2020/oct/30/facebook-posts/false-post-inflates-number-rejected-mail-ballots-m/#sources\n",
            "processing page : 103\n",
            "https://www.politifact.com/factchecks/2020/oct/30/donald-trump-jr/donald-trump-jr-claims-covid-19-deaths-almost-noth/#sources\n",
            "processing page : 104\n",
            "https://www.politifact.com/factchecks/2020/oct/30/chris-jacobs/pre-existing-conditions-jacobs-claim-needs-context/#sources\n",
            "processing page : 105\n",
            "https://www.politifact.com/factchecks/2020/oct/30/donald-trump/donald-trump-says-gdp-growth-was-historic-beat-pre/#sources\n",
            "processing page : 106\n",
            "https://www.politifact.com/factchecks/2020/oct/30/joe-biden/does-donald-trump-think-15-hour-too-much-essential/#sources\n",
            "processing page : 107\n",
            "https://www.politifact.com/factchecks/2020/oct/30/viral-image/no-photo-doesnt-show-joe-and-hunter-biden-burisma-/#sources\n",
            "processing page : 108\n",
            "https://www.politifact.com/factchecks/2020/oct/30/facebook-posts/no-youtube-didnt-remove-tucker-carlsons-interview-/#sources\n",
            "processing page : 109\n",
            "https://www.politifact.com/factchecks/2020/oct/30/facebook-posts/no-jeff-foxworthy-didnt-write-fence-test/#sources\n",
            "processing page : 110\n",
            "https://www.politifact.com/factchecks/2020/oct/30/viral-image/biden-called-trump-supporters-disrupting-his-rally/#sources\n",
            "processing page : 111\n",
            "https://www.politifact.com/factchecks/2020/oct/30/ted-cruz/federal-debt-was-frequent-talking-point-during-tru/#sources\n",
            "processing page : 112\n",
            "https://www.politifact.com/factchecks/2020/oct/30/joe-biden/biden-misstates-price-his-free-public-college-plan/#sources\n",
            "processing page : 113\n",
            "https://www.politifact.com/factchecks/2020/oct/30/abigail-spanberger/are-majority-minimum-wage-earners-mothers-spanberg/#sources\n",
            "processing page : 114\n",
            "https://www.politifact.com/factchecks/2020/oct/30/roy-cooper/cooper-right-about-forest-education-board-attendan/#sources\n",
            "processing page : 115\n",
            "https://www.politifact.com/factchecks/2020/oct/29/justin-clark/fact-checking-trump-campaign-tweet-pa-mail-ballots/#sources\n",
            "processing page : 116\n",
            "https://www.politifact.com/factchecks/2020/oct/29/youtube-videos/detroit-tv-station-accidentally-airs-fake-election/#sources\n",
            "processing page : 117\n",
            "https://www.politifact.com/factchecks/2020/oct/29/donald-trump/trump-campaign-uses-cherry-picked-video-attack-bid/#sources\n",
            "processing page : 118\n",
            "https://www.politifact.com/factchecks/2020/oct/29/jill-schupp/did-ann-wagner-vote-repeal-pre-existing-conditions/#sources\n",
            "processing page : 119\n",
            "https://www.politifact.com/factchecks/2020/oct/29/joni-ernst/joni-ernst-said-she-stood-dreamers-hasnt-always-su/#sources\n",
            "processing page : 120\n",
            "https://www.politifact.com/factchecks/2020/oct/29/facebook-posts/kamala-harris-has-condemned-looting/#sources\n",
            "processing page : 121\n",
            "https://www.politifact.com/factchecks/2020/oct/29/viral-image/no-jill-biden-didnt-say-about-hunter-bidens-laptop/#sources\n",
            "processing page : 122\n",
            "https://www.politifact.com/factchecks/2020/oct/29/robyn-vining/yes-because-gerrymandering-only-one-republican-ass/#sources\n",
            "processing page : 123\n",
            "https://www.politifact.com/factchecks/2020/oct/29/cheri-toalson-reisch/toalson-reisch-about-columbia-schools-test-scores/#sources\n",
            "processing page : 124\n",
            "https://www.politifact.com/factchecks/2020/oct/29/facebook-posts/yes-biden-seeks-eliminate-policy-reduces-inheritan/#sources\n",
            "processing page : 125\n",
            "https://www.politifact.com/factchecks/2020/oct/28/donald-trump/donald-trump-wrong-winner-has-be-announced-electio/#sources\n",
            "processing page : 126\n",
            "https://www.politifact.com/factchecks/2020/oct/28/facebook-posts/no-harris-did-not-break-ohio-law-election-site-vis/#sources\n",
            "processing page : 127\n",
            "https://www.politifact.com/factchecks/2020/oct/28/facebook-posts/10000-obamacare-penalty-doubtful/#sources\n",
            "processing page : 128\n",
            "https://www.politifact.com/factchecks/2020/oct/28/lindsey-graham/graham-says-ny-calif-and-mass-get-over-third-aca-m/#sources\n",
            "processing page : 129\n",
            "https://www.politifact.com/factchecks/2020/oct/28/lyft-lyft/app-based-companies-pushing-prop-22-say-drivers-wi/#sources\n",
            "processing page : 130\n",
            "https://www.politifact.com/factchecks/2020/oct/28/viral-image/no-photo-doesnt-show-bidens-car-big-guy-license-pl/#sources\n",
            "processing page : 131\n",
            "https://www.politifact.com/factchecks/2020/oct/28/viral-image/old-fake-clint-eastwood-quote-about-obama-turns-fa/#sources\n",
            "processing page : 132\n",
            "https://www.politifact.com/factchecks/2020/oct/28/joe-manchin/has-drug-dependence-increased-under-covid-19/#sources\n",
            "processing page : 133\n",
            "https://www.politifact.com/factchecks/2020/oct/28/instagram-posts/ad-history-exhibit-philadelphia-mistaken-attempt-s/#sources\n",
            "processing page : 134\n",
            "https://www.politifact.com/factchecks/2020/oct/28/donald-trump/trumps-misleading-claim-about-ballot-signatures-ne/#sources\n",
            "processing page : 135\n",
            "https://www.politifact.com/factchecks/2020/oct/28/facebook-posts/yes-thin-blue-line-flag-has-taken-more-prominent-p/#sources\n",
            "processing page : 136\n",
            "https://www.politifact.com/factchecks/2020/oct/28/jon-hoadley/upton-voted-dozen-times-support-repealing-affordab/#sources\n",
            "processing page : 137\n",
            "https://www.politifact.com/factchecks/2020/oct/28/donald-trump/trump-wrong-about-auto-plant-coming-north-carolina/#sources\n",
            "processing page : 138\n",
            "https://www.politifact.com/factchecks/2020/oct/28/donald-trump/fact-checking-trumps-claim-biden-said-he-would-abo/#sources\n",
            "processing page : 139\n",
            "https://www.politifact.com/factchecks/2020/oct/28/thom-tillis/sen-thom-tillis-flip-flops-filling-supreme-court-v/#sources\n",
            "processing page : 140\n",
            "https://www.politifact.com/factchecks/2020/oct/28/chris-jacobs/jacobs-charge-mcmurray-raised-taxes-grand-island-c/#sources\n",
            "processing page : 141\n",
            "https://www.politifact.com/factchecks/2020/oct/27/donald-trump/trumps-exaggerated-claim-he-saved-hbcus-2019-fundi/#sources\n",
            "processing page : 142\n",
            "https://www.politifact.com/factchecks/2020/oct/27/donald-trump/biden-was-quoting-pope-francis-not-expressing-conf/#sources\n",
            "processing page : 143\n",
            "https://www.politifact.com/factchecks/2020/oct/27/instagram-posts/malia-obama-credit-card-photo-isnt-new-and-theres-/#sources\n",
            "processing page : 144\n",
            "https://www.politifact.com/factchecks/2020/oct/27/tom-brady/no-suicides-have-not-outpaced-covid-19-deaths/#sources\n",
            "processing page : 145\n",
            "https://www.politifact.com/factchecks/2020/oct/27/american-principles-project/conservative-groups-claim-joe-biden-backs-sex-chan/#sources\n",
            "processing page : 146\n",
            "https://www.politifact.com/factchecks/2020/oct/27/donald-trump/trump-wrong-claim-us-padding-covid-19-stats/#sources\n",
            "processing page : 147\n",
            "https://www.politifact.com/factchecks/2020/oct/27/donald-trump/donald-trump-says-you-can-change-your-vote-most-st/#sources\n",
            "processing page : 148\n",
            "https://www.politifact.com/factchecks/2020/oct/27/facebook-posts/hunter-biden-alive-despite-social-media-claims-abo/#sources\n",
            "processing page : 149\n",
            "https://www.politifact.com/factchecks/2020/oct/27/kayleigh-mcenany/white-house-press-secretary-mcenany-takes-bidens-w/#sources\n",
            "processing page : 150\n",
            "https://www.politifact.com/factchecks/2020/oct/27/facebook-posts/great-barrington-herd-immunity-document-widely-dis/#sources\n"
          ]
        }
      ]
    },
    {
      "cell_type": "code",
      "metadata": {
        "id": "cqFAAar79Md8",
        "colab": {
          "base_uri": "https://localhost:8080/",
          "height": 204
        },
        "outputId": "6896d4ca-ef52-45cd-9ceb-fb8ac6ad652a"
      },
      "source": [
        "data3=pd.DataFrame(upperframe, columns=['Title','Author','Author_Link'])\n",
        "data3.to_csv('News_Sources3.csv')\n",
        "data3.head()"
      ],
      "execution_count": null,
      "outputs": [
        {
          "output_type": "execute_result",
          "data": {
            "text/html": [
              "<div>\n",
              "<style scoped>\n",
              "    .dataframe tbody tr th:only-of-type {\n",
              "        vertical-align: middle;\n",
              "    }\n",
              "\n",
              "    .dataframe tbody tr th {\n",
              "        vertical-align: top;\n",
              "    }\n",
              "\n",
              "    .dataframe thead th {\n",
              "        text-align: right;\n",
              "    }\n",
              "</style>\n",
              "<table border=\"1\" class=\"dataframe\">\n",
              "  <thead>\n",
              "    <tr style=\"text-align: right;\">\n",
              "      <th></th>\n",
              "      <th>Title</th>\n",
              "      <th>Author</th>\n",
              "      <th>Author_Link</th>\n",
              "    </tr>\n",
              "  </thead>\n",
              "  <tbody>\n",
              "    <tr>\n",
              "      <th>0</th>\n",
              "      <td>\"Mike Parson opposes protections for pre-exist...</td>\n",
              "      <td>KCUR 89.3, Galloway Takes On The Challenge Of ...</td>\n",
              "      <td>https://www.kcur.org/politics-elections-and-go...</td>\n",
              "    </tr>\n",
              "    <tr>\n",
              "      <th>1</th>\n",
              "      <td>\"Mike Parson opposes protections for pre-exist...</td>\n",
              "      <td>Nicole Galloway, \"Even Now\" Ad, Sept. 26, 2020</td>\n",
              "      <td>https://nicolegalloway.com/news/galloway-misso...</td>\n",
              "    </tr>\n",
              "    <tr>\n",
              "      <th>2</th>\n",
              "      <td>\"Mike Parson opposes protections for pre-exist...</td>\n",
              "      <td>Email Exchange with Kevin Donohoe, Galloway Ca...</td>\n",
              "      <td>0</td>\n",
              "    </tr>\n",
              "    <tr>\n",
              "      <th>3</th>\n",
              "      <td>\"Mike Parson opposes protections for pre-exist...</td>\n",
              "      <td>Interview with Kevin Donohoe, Galloway Campaig...</td>\n",
              "      <td>0</td>\n",
              "    </tr>\n",
              "    <tr>\n",
              "      <th>4</th>\n",
              "      <td>\"Mike Parson opposes protections for pre-exist...</td>\n",
              "      <td>U.S. House of Representatives, The Affordable ...</td>\n",
              "      <td>http://housedocs.house.gov/energycommerce/ppac...</td>\n",
              "    </tr>\n",
              "  </tbody>\n",
              "</table>\n",
              "</div>"
            ],
            "text/plain": [
              "                                               Title  ...                                        Author_Link\n",
              "0  \"Mike Parson opposes protections for pre-exist...  ...  https://www.kcur.org/politics-elections-and-go...\n",
              "1  \"Mike Parson opposes protections for pre-exist...  ...  https://nicolegalloway.com/news/galloway-misso...\n",
              "2  \"Mike Parson opposes protections for pre-exist...  ...                                                  0\n",
              "3  \"Mike Parson opposes protections for pre-exist...  ...                                                  0\n",
              "4  \"Mike Parson opposes protections for pre-exist...  ...  http://housedocs.house.gov/energycommerce/ppac...\n",
              "\n",
              "[5 rows x 3 columns]"
            ]
          },
          "metadata": {},
          "execution_count": 24
        }
      ]
    },
    {
      "cell_type": "code",
      "metadata": {
        "id": "32q1GkYB9WBj",
        "colab": {
          "base_uri": "https://localhost:8080/"
        },
        "outputId": "4f8baa08-0415-425c-acfe-75929e3de8dd"
      },
      "source": [
        "import urllib.request,sys,time\n",
        "from bs4 import BeautifulSoup\n",
        "import requests\n",
        "import pandas as pd\n",
        "\n",
        "pagesToGet= 200\n",
        "#pagesToGet= 2\n",
        "upperframe=[]  \n",
        "for page in range(150,pagesToGet):\n",
        "    print('processing page :', page+1)\n",
        "    link = df['Link'][page]\n",
        "    url = str(link)+'#sources'\n",
        "    print(url)\n",
        "    \n",
        "    \n",
        "    #an exception might be thrown, so the code should be in a try-except block\n",
        "    try:\n",
        "        #use the browser to get the url. This is suspicious command that might blow up.\n",
        "        curr_page=requests.get(url)  \n",
        "        #print(page.text)                           # this might throw an exception if something goes wrong.\n",
        "    \n",
        "    except Exception as e:                                   # this describes what to do if an exception is thrown\n",
        "        error_type, error_obj, error_info = sys.exc_info()      # get the exception information\n",
        "        print ('ERROR FOR LINK:',url)                          #print the link that cause the problem\n",
        "        print (error_type, 'Line:', error_info.tb_lineno)     #print error info and line that threw the exception\n",
        "        continue                                              #ignore this page. Abandon this and go back.\n",
        "    time.sleep(2)   \n",
        "    soup=BeautifulSoup(curr_page.text,'html.parser')\n",
        "    frame=[]\n",
        "    #links=soup.find_all('li',attrs={'class':'o-listicle__item'})\n",
        "    \n",
        "    article_tag=soup.find('article',attrs={'class':'m-superbox__content'})\n",
        "    article_title=soup.find('div',attrs={'class':'m-statement__quote'})\n",
        "    #print(len(links))\n",
        "    filename=\"News_Sources4.csv\"\n",
        "    f=open(filename,\"w\", encoding = 'utf-8')\n",
        "    headers=\"Title, Author, Author_Link\\n\"\n",
        "    f.write(headers)\n",
        "    \n",
        "    \n",
        "\n",
        "    authors = article_tag.find_all(\"p\")\n",
        "    for author in authors:\n",
        "      Title = article_title.text.strip()\n",
        "      Author = author.text.strip()\n",
        "      if(author.find('a')):\n",
        "        Author_Link = author.find('a')['href'].strip()\n",
        "      else:\n",
        "        Author_Link = '0'\n",
        "      frame.append((Title,Author,Author_Link))\n",
        "      f.write(Title+\",\"+Author+\",\"+Author_Link+\"\\n\")\n",
        "    upperframe.extend(frame)\n",
        "f.close()"
      ],
      "execution_count": null,
      "outputs": [
        {
          "output_type": "stream",
          "name": "stdout",
          "text": [
            "processing page : 151\n",
            "https://www.politifact.com/factchecks/2020/oct/27/facebook-posts/no-photo-paul-pelosi-jr-doesnt-show-him-abusing-gi/#sources\n",
            "processing page : 152\n",
            "https://www.politifact.com/factchecks/2020/oct/27/sri-preston-kulkarni/texas-house-race-kulkarni-distorts-nehls-take-mask/#sources\n",
            "processing page : 153\n",
            "https://www.politifact.com/factchecks/2020/oct/26/facebook-posts/no-evidence-hunter-biden-had-photos-coons-daughter/#sources\n",
            "processing page : 154\n",
            "https://www.politifact.com/factchecks/2020/oct/26/donald-trump/trump-wrongly-accuses-dc-mayor-calling-removal-was/#sources\n",
            "processing page : 155\n",
            "https://www.politifact.com/factchecks/2020/oct/26/scott-perry/pa-rep-scott-perry-airs-debunked-claim-wuhan-lab-c/#sources\n",
            "processing page : 156\n",
            "https://www.politifact.com/factchecks/2020/oct/26/joni-ernst/bipartisanship-rankings-show-joni-ernst-toward-top/#sources\n",
            "processing page : 157\n",
            "https://www.politifact.com/factchecks/2020/oct/26/viral-image/viral-image-migrant-cages-2019-not-obama-years/#sources\n",
            "processing page : 158\n",
            "https://www.politifact.com/factchecks/2020/oct/25/blog-posting/no-mark-kelly-did-not-dress-hitler/#sources\n",
            "processing page : 159\n",
            "https://www.politifact.com/factchecks/2020/oct/25/facebook-posts/bidens-tax-plan-wont-tax-401k-accounts/#sources\n",
            "processing page : 160\n",
            "https://www.politifact.com/factchecks/2020/oct/25/facebook-posts/presidential-candidates-had-notepads-podiums-not-i/#sources\n",
            "processing page : 161\n",
            "https://www.politifact.com/factchecks/2020/oct/25/facebook-posts/no-trump-did-not-vote-twice-nov-3-election/#sources\n",
            "processing page : 162\n",
            "https://www.politifact.com/factchecks/2020/oct/23/ron-johnson/us-sen-ron-johnson-confuses-and-misses-claim-about/#sources\n",
            "processing page : 163\n",
            "https://www.politifact.com/factchecks/2020/oct/23/joe-biden/biden-wrongly-claims-obama-policies-released-38000/#sources\n",
            "processing page : 164\n",
            "https://www.politifact.com/factchecks/2020/oct/23/roger-williams/no-texas-does-not-have-lowest-taxes-and-fewest-reg/#sources\n",
            "processing page : 165\n",
            "https://www.politifact.com/factchecks/2020/oct/23/viral-image/facebook-post-misstates-number-biden-owned-propert/#sources\n",
            "processing page : 166\n",
            "https://www.politifact.com/factchecks/2020/oct/23/lucy-mcbath/georgia-rep-lucy-mcbath-cherry-picks-attack-karen-/#sources\n",
            "processing page : 167\n",
            "https://www.politifact.com/factchecks/2020/oct/23/joe-biden/bidens-claim-about-trump-slashing-medicare-benefit/#sources\n",
            "processing page : 168\n",
            "https://www.politifact.com/factchecks/2020/oct/23/nicole-galloway/parson-administration-did-remove-100000-kids-medic/#sources\n",
            "processing page : 169\n",
            "https://www.politifact.com/factchecks/2020/oct/23/vicky-hartzler/hartzlers-claim-isnt-close-were-long-way-away-herd/#sources\n",
            "processing page : 170\n",
            "https://www.politifact.com/factchecks/2020/oct/23/donald-trump/trump-says-michigan-during-coronavirus-pandemic-ha/#sources\n",
            "processing page : 171\n",
            "https://www.politifact.com/factchecks/2020/oct/23/facebook-posts/trump-did-not-say-good-when-talking-about-family-s/#sources\n",
            "processing page : 172\n",
            "https://www.politifact.com/factchecks/2020/oct/23/donald-trump/trump-wrong-blame-pandemic-foxconn-struggles/#sources\n",
            "processing page : 173\n",
            "https://www.politifact.com/factchecks/2020/oct/23/donald-trump/trumps-misguided-claim-bidens-health-plan-will-ter/#sources\n",
            "processing page : 174\n",
            "https://www.politifact.com/factchecks/2020/oct/23/donald-trump/trump-repeats-flawed-claim-biden-opposed-trumps-co/#sources\n",
            "processing page : 175\n",
            "https://www.politifact.com/factchecks/2020/oct/23/donald-trump/no-fight-against-coronavirus-isnt-rounding-corner-/#sources\n",
            "processing page : 176\n",
            "https://www.politifact.com/factchecks/2020/oct/23/donald-trump/fact-checking-trumps-claim-pennsylvania-never-open/#sources\n",
            "processing page : 177\n",
            "https://www.politifact.com/factchecks/2020/oct/23/martha-mcsally/mark-kelly-did-not-take-chinese-communist-banner-s/#sources\n",
            "processing page : 178\n",
            "https://www.politifact.com/factchecks/2020/oct/22/facebook-posts/bidens-income-sources-arent-such-big-mystery/#sources\n",
            "processing page : 179\n",
            "https://www.politifact.com/factchecks/2020/oct/22/facebook-posts/biden-campaign-logo-does-not-pay-homage-chinese-so/#sources\n",
            "processing page : 180\n",
            "https://www.politifact.com/factchecks/2020/oct/22/facebook-posts/joe-biden-did-not-say-he-would-wait-till-after-ele/#sources\n",
            "processing page : 181\n",
            "https://www.politifact.com/factchecks/2020/oct/22/facebook-posts/video-kamala-harris-husband-saying-hes-married-nex/#sources\n",
            "processing page : 182\n",
            "https://www.politifact.com/factchecks/2020/oct/22/facebook-posts/maryland-elections-officials-say-video-doesnt-show/#sources\n",
            "processing page : 183\n",
            "https://www.politifact.com/factchecks/2020/oct/22/blog-posting/officials-think-iran-sent-fake-proud-boys-emails-t/#sources\n",
            "processing page : 184\n",
            "https://www.politifact.com/factchecks/2020/oct/22/instagram-posts/no-evidence-california-sent-440000-nov-3-ballots-i/#sources\n",
            "processing page : 185\n",
            "https://www.politifact.com/factchecks/2020/oct/22/roy-cooper/does-forest-want-open-state-aid-rich-north-carolin/#sources\n",
            "processing page : 186\n",
            "https://www.politifact.com/factchecks/2020/oct/21/donald-trump/fact-checking-trumps-overblown-statement-about-bal/#sources\n",
            "processing page : 187\n",
            "https://www.politifact.com/factchecks/2020/oct/21/donald-trump/trump-campaign-ad-takes-biden-out-context-three-ti/#sources\n",
            "processing page : 188\n",
            "https://www.politifact.com/factchecks/2020/oct/21/viral-image/looking-ideologies-whitmer-kidnapping-plot-suspect/#sources\n",
            "processing page : 189\n",
            "https://www.politifact.com/factchecks/2020/oct/21/gwen-moore/yes-you-can-vote-expired-photo-id-one-caveat/#sources\n",
            "processing page : 190\n",
            "https://www.politifact.com/factchecks/2020/oct/21/facebook-posts/dr-anthony-fauci-didnt-blame-masks-1918-19-flu-dea/#sources\n",
            "processing page : 191\n",
            "https://www.politifact.com/factchecks/2020/oct/21/left-action/fact-checking-claims-about-charities-linked-hunter/#sources\n",
            "processing page : 192\n",
            "https://www.politifact.com/factchecks/2020/oct/21/facebook-posts/no-viral-photo-doesnt-show-biden-next-man-seen-sex/#sources\n",
            "processing page : 193\n",
            "https://www.politifact.com/factchecks/2020/oct/21/emails/threat-wrongly-says-author-email-can-find-out-if-f/#sources\n",
            "processing page : 194\n",
            "https://www.politifact.com/factchecks/2020/oct/21/donald-trump/trump-says-he-prevented-2-million-covid-19-deaths-/#sources\n",
            "processing page : 195\n",
            "https://www.politifact.com/factchecks/2020/oct/21/joe-biden/no-boilermakers-union-didnt-endorse-joe-biden/#sources\n",
            "processing page : 196\n",
            "https://www.politifact.com/factchecks/2020/oct/20/facebook-posts/no-nbc-news-debate-moderator-isnt-democratic-mega-/#sources\n",
            "processing page : 197\n",
            "https://www.politifact.com/factchecks/2020/oct/20/instagram-posts/fact-checking-claim-about-when-your-mail-ballot-du/#sources\n",
            "processing page : 198\n",
            "https://www.politifact.com/factchecks/2020/oct/20/blog-posting/4chan-users-spread-false-information-about-oregons/#sources\n",
            "processing page : 199\n",
            "https://www.politifact.com/factchecks/2020/oct/20/viral-image/photo-shows-art-project-not-trump-protest/#sources\n",
            "processing page : 200\n",
            "https://www.politifact.com/factchecks/2020/oct/20/facebook-posts/fact-checking-unproven-claims-about-hunter-biden-a/#sources\n"
          ]
        }
      ]
    },
    {
      "cell_type": "markdown",
      "metadata": {
        "id": "T_iiEjjXMt-O"
      },
      "source": [
        "Now the sources for the posts is scraped.\n",
        "\n",
        "Save the data in a data frame and add resutls to the CSV"
      ]
    },
    {
      "cell_type": "code",
      "metadata": {
        "id": "Zld-3sGl9ZFA",
        "colab": {
          "base_uri": "https://localhost:8080/",
          "height": 204
        },
        "outputId": "3c7e04c7-e5b8-40d8-d252-609197746b16"
      },
      "source": [
        "data4=pd.DataFrame(upperframe, columns=['Title','Author','Author_Link'])\n",
        "data4.to_csv('News_Sources4.csv')\n",
        "data4.head()"
      ],
      "execution_count": null,
      "outputs": [
        {
          "output_type": "execute_result",
          "data": {
            "text/html": [
              "<div>\n",
              "<style scoped>\n",
              "    .dataframe tbody tr th:only-of-type {\n",
              "        vertical-align: middle;\n",
              "    }\n",
              "\n",
              "    .dataframe tbody tr th {\n",
              "        vertical-align: top;\n",
              "    }\n",
              "\n",
              "    .dataframe thead th {\n",
              "        text-align: right;\n",
              "    }\n",
              "</style>\n",
              "<table border=\"1\" class=\"dataframe\">\n",
              "  <thead>\n",
              "    <tr style=\"text-align: right;\">\n",
              "      <th></th>\n",
              "      <th>Title</th>\n",
              "      <th>Author</th>\n",
              "      <th>Author_Link</th>\n",
              "    </tr>\n",
              "  </thead>\n",
              "  <tbody>\n",
              "    <tr>\n",
              "      <th>0</th>\n",
              "      <td>Says photo from Hunter Biden's laptop shows Pa...</td>\n",
              "      <td>Facebook post, Oct. 26, 2020</td>\n",
              "      <td>https://archive.is/QcmY5</td>\n",
              "    </tr>\n",
              "    <tr>\n",
              "      <th>1</th>\n",
              "      <td>Says photo from Hunter Biden's laptop shows Pa...</td>\n",
              "      <td>Reverse-image search, Oct. 27, 2020</td>\n",
              "      <td>0</td>\n",
              "    </tr>\n",
              "    <tr>\n",
              "      <th>2</th>\n",
              "      <td>Says photo from Hunter Biden's laptop shows Pa...</td>\n",
              "      <td>National File, EXCLUSIVE: FBI Hunts For Inform...</td>\n",
              "      <td>https://archive.fo/OBimo</td>\n",
              "    </tr>\n",
              "    <tr>\n",
              "      <th>3</th>\n",
              "      <td>Says photo from Hunter Biden's laptop shows Pa...</td>\n",
              "      <td>PolitiFact, A look behind the NY Post headline...</td>\n",
              "      <td>https://www.politifact.com/article/2020/oct/15...</td>\n",
              "    </tr>\n",
              "    <tr>\n",
              "      <th>4</th>\n",
              "      <td>Says photo from Hunter Biden's laptop shows Pa...</td>\n",
              "      <td>Lead Stories, Fact Check: Photo Does NOT Show ...</td>\n",
              "      <td>https://leadstories.com/hoax-alert/2020/10/fac...</td>\n",
              "    </tr>\n",
              "  </tbody>\n",
              "</table>\n",
              "</div>"
            ],
            "text/plain": [
              "                                               Title  ...                                        Author_Link\n",
              "0  Says photo from Hunter Biden's laptop shows Pa...  ...                           https://archive.is/QcmY5\n",
              "1  Says photo from Hunter Biden's laptop shows Pa...  ...                                                  0\n",
              "2  Says photo from Hunter Biden's laptop shows Pa...  ...                           https://archive.fo/OBimo\n",
              "3  Says photo from Hunter Biden's laptop shows Pa...  ...  https://www.politifact.com/article/2020/oct/15...\n",
              "4  Says photo from Hunter Biden's laptop shows Pa...  ...  https://leadstories.com/hoax-alert/2020/10/fac...\n",
              "\n",
              "[5 rows x 3 columns]"
            ]
          },
          "metadata": {},
          "execution_count": 26
        }
      ]
    },
    {
      "cell_type": "code",
      "metadata": {
        "id": "oo9k3chl66oJ"
      },
      "source": [
        "data = data1.append(data2).append(data3).append(data4)"
      ],
      "execution_count": null,
      "outputs": []
    },
    {
      "cell_type": "code",
      "metadata": {
        "id": "uIPQ6pb46_aM",
        "colab": {
          "base_uri": "https://localhost:8080/",
          "height": 204
        },
        "outputId": "e6bdc6e8-0006-476f-9086-828cd8b1d78e"
      },
      "source": [
        "data.head()"
      ],
      "execution_count": null,
      "outputs": [
        {
          "output_type": "execute_result",
          "data": {
            "text/html": [
              "<div>\n",
              "<style scoped>\n",
              "    .dataframe tbody tr th:only-of-type {\n",
              "        vertical-align: middle;\n",
              "    }\n",
              "\n",
              "    .dataframe tbody tr th {\n",
              "        vertical-align: top;\n",
              "    }\n",
              "\n",
              "    .dataframe thead th {\n",
              "        text-align: right;\n",
              "    }\n",
              "</style>\n",
              "<table border=\"1\" class=\"dataframe\">\n",
              "  <thead>\n",
              "    <tr style=\"text-align: right;\">\n",
              "      <th></th>\n",
              "      <th>Title</th>\n",
              "      <th>Author</th>\n",
              "      <th>Author_Link</th>\n",
              "    </tr>\n",
              "  </thead>\n",
              "  <tbody>\n",
              "    <tr>\n",
              "      <th>0</th>\n",
              "      <td>Says Nancy Pelosi has “suspicious ties” to a v...</td>\n",
              "      <td>Clever Journeys, Pelosi Has Suspicious Ties Wi...</td>\n",
              "      <td>https://cleverjourneys.com/2020/11/06/pelosi-h...</td>\n",
              "    </tr>\n",
              "    <tr>\n",
              "      <th>1</th>\n",
              "      <td>Says Nancy Pelosi has “suspicious ties” to a v...</td>\n",
              "      <td>Red State, Election System Responsible for 'Gl...</td>\n",
              "      <td>https://redstate.com/jenvanlaar/2020/11/07/ele...</td>\n",
              "    </tr>\n",
              "    <tr>\n",
              "      <th>2</th>\n",
              "      <td>Says Nancy Pelosi has “suspicious ties” to a v...</td>\n",
              "      <td>OpenSecrets.org, Dominion Voting Systems lobby...</td>\n",
              "      <td>https://www.opensecrets.org/federal-lobbying/c...</td>\n",
              "    </tr>\n",
              "    <tr>\n",
              "      <th>3</th>\n",
              "      <td>Says Nancy Pelosi has “suspicious ties” to a v...</td>\n",
              "      <td>Michigan Department of State, False claims fro...</td>\n",
              "      <td>https://www.michigan.gov/som/0,4669,7-192-4779...</td>\n",
              "    </tr>\n",
              "    <tr>\n",
              "      <th>4</th>\n",
              "      <td>Says Nancy Pelosi has “suspicious ties” to a v...</td>\n",
              "      <td>Detroit Free Press, Antrim County figures prom...</td>\n",
              "      <td>https://www.freep.com/story/news/politics/elec...</td>\n",
              "    </tr>\n",
              "  </tbody>\n",
              "</table>\n",
              "</div>"
            ],
            "text/plain": [
              "                                               Title  ...                                        Author_Link\n",
              "0  Says Nancy Pelosi has “suspicious ties” to a v...  ...  https://cleverjourneys.com/2020/11/06/pelosi-h...\n",
              "1  Says Nancy Pelosi has “suspicious ties” to a v...  ...  https://redstate.com/jenvanlaar/2020/11/07/ele...\n",
              "2  Says Nancy Pelosi has “suspicious ties” to a v...  ...  https://www.opensecrets.org/federal-lobbying/c...\n",
              "3  Says Nancy Pelosi has “suspicious ties” to a v...  ...  https://www.michigan.gov/som/0,4669,7-192-4779...\n",
              "4  Says Nancy Pelosi has “suspicious ties” to a v...  ...  https://www.freep.com/story/news/politics/elec...\n",
              "\n",
              "[5 rows x 3 columns]"
            ]
          },
          "metadata": {},
          "execution_count": 28
        }
      ]
    },
    {
      "cell_type": "code",
      "metadata": {
        "id": "Ujs41XP27C3a",
        "colab": {
          "base_uri": "https://localhost:8080/"
        },
        "outputId": "c0f4ddd9-e33f-47ff-e745-6bcea7a16056"
      },
      "source": [
        "data.shape"
      ],
      "execution_count": null,
      "outputs": [
        {
          "output_type": "execute_result",
          "data": {
            "text/plain": [
              "(2049, 3)"
            ]
          },
          "metadata": {},
          "execution_count": 29
        }
      ]
    },
    {
      "cell_type": "code",
      "metadata": {
        "id": "h1hYrndU_CYm"
      },
      "source": [
        "data.to_csv('News_Sources_final.csv')"
      ],
      "execution_count": null,
      "outputs": []
    },
    {
      "cell_type": "code",
      "metadata": {
        "id": "zOr4HimOdolf"
      },
      "source": [
        "#data = pd.read_csv('/content/drive/My Drive/Alternus_Vera/Veracity/News_Sources_final.csv',sep=',')"
      ],
      "execution_count": null,
      "outputs": []
    },
    {
      "cell_type": "code",
      "metadata": {
        "id": "oqZZB6-FeF-Q",
        "colab": {
          "base_uri": "https://localhost:8080/",
          "height": 204
        },
        "outputId": "1ee7aae0-e219-4892-94c3-59a5412e333d"
      },
      "source": [
        "data.head()"
      ],
      "execution_count": null,
      "outputs": [
        {
          "output_type": "execute_result",
          "data": {
            "text/html": [
              "<div>\n",
              "<style scoped>\n",
              "    .dataframe tbody tr th:only-of-type {\n",
              "        vertical-align: middle;\n",
              "    }\n",
              "\n",
              "    .dataframe tbody tr th {\n",
              "        vertical-align: top;\n",
              "    }\n",
              "\n",
              "    .dataframe thead th {\n",
              "        text-align: right;\n",
              "    }\n",
              "</style>\n",
              "<table border=\"1\" class=\"dataframe\">\n",
              "  <thead>\n",
              "    <tr style=\"text-align: right;\">\n",
              "      <th></th>\n",
              "      <th>Title</th>\n",
              "      <th>Author</th>\n",
              "      <th>Author_Link</th>\n",
              "    </tr>\n",
              "  </thead>\n",
              "  <tbody>\n",
              "    <tr>\n",
              "      <th>0</th>\n",
              "      <td>Says Nancy Pelosi has “suspicious ties” to a v...</td>\n",
              "      <td>Clever Journeys, Pelosi Has Suspicious Ties Wi...</td>\n",
              "      <td>https://cleverjourneys.com/2020/11/06/pelosi-h...</td>\n",
              "    </tr>\n",
              "    <tr>\n",
              "      <th>1</th>\n",
              "      <td>Says Nancy Pelosi has “suspicious ties” to a v...</td>\n",
              "      <td>Red State, Election System Responsible for 'Gl...</td>\n",
              "      <td>https://redstate.com/jenvanlaar/2020/11/07/ele...</td>\n",
              "    </tr>\n",
              "    <tr>\n",
              "      <th>2</th>\n",
              "      <td>Says Nancy Pelosi has “suspicious ties” to a v...</td>\n",
              "      <td>OpenSecrets.org, Dominion Voting Systems lobby...</td>\n",
              "      <td>https://www.opensecrets.org/federal-lobbying/c...</td>\n",
              "    </tr>\n",
              "    <tr>\n",
              "      <th>3</th>\n",
              "      <td>Says Nancy Pelosi has “suspicious ties” to a v...</td>\n",
              "      <td>Michigan Department of State, False claims fro...</td>\n",
              "      <td>https://www.michigan.gov/som/0,4669,7-192-4779...</td>\n",
              "    </tr>\n",
              "    <tr>\n",
              "      <th>4</th>\n",
              "      <td>Says Nancy Pelosi has “suspicious ties” to a v...</td>\n",
              "      <td>Detroit Free Press, Antrim County figures prom...</td>\n",
              "      <td>https://www.freep.com/story/news/politics/elec...</td>\n",
              "    </tr>\n",
              "  </tbody>\n",
              "</table>\n",
              "</div>"
            ],
            "text/plain": [
              "                                               Title  ...                                        Author_Link\n",
              "0  Says Nancy Pelosi has “suspicious ties” to a v...  ...  https://cleverjourneys.com/2020/11/06/pelosi-h...\n",
              "1  Says Nancy Pelosi has “suspicious ties” to a v...  ...  https://redstate.com/jenvanlaar/2020/11/07/ele...\n",
              "2  Says Nancy Pelosi has “suspicious ties” to a v...  ...  https://www.opensecrets.org/federal-lobbying/c...\n",
              "3  Says Nancy Pelosi has “suspicious ties” to a v...  ...  https://www.michigan.gov/som/0,4669,7-192-4779...\n",
              "4  Says Nancy Pelosi has “suspicious ties” to a v...  ...  https://www.freep.com/story/news/politics/elec...\n",
              "\n",
              "[5 rows x 3 columns]"
            ]
          },
          "metadata": {},
          "execution_count": 32
        }
      ]
    },
    {
      "cell_type": "code",
      "metadata": {
        "id": "-Tyy_H91eKfq",
        "colab": {
          "base_uri": "https://localhost:8080/"
        },
        "outputId": "2ed32a8a-7012-4833-b169-be32035b9d19"
      },
      "source": [
        "data.shape"
      ],
      "execution_count": null,
      "outputs": [
        {
          "output_type": "execute_result",
          "data": {
            "text/plain": [
              "(2049, 3)"
            ]
          },
          "metadata": {},
          "execution_count": 33
        }
      ]
    },
    {
      "cell_type": "markdown",
      "metadata": {
        "id": "mIoEZUE7-A4m"
      },
      "source": [
        "#References\n",
        "\n",
        "https://www.politifact.com\n",
        "\n",
        "https://towardsdatascience.com/logistic-regression-a-simplified-approach-using-python-c4bc81a87c31\n",
        "\n",
        "\n",
        "https://towardsdatascience.com/scraping-1000s-of-news-articles-using-10-simple-steps-d57636a49755\n",
        "\n",
        "https://towardsdatascience.com/comparing-pandas-dataframes-to-one-another-c26853d7dda7\n",
        "\n",
        "https://stackoverflow.com/questions/12497402/python-pandas-remove-duplicates-by-columns-a-keeping-the-row-with-the-highest\n",
        "\n",
        "https://stackoverflow.com/questions/12497402/python-pandas-remove-duplicates-by-columns-a-keeping-the-row-with-the-highest\n",
        "\n",
        "\n"
      ]
    }
  ]
}