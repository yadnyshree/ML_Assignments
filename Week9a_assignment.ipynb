{
  "nbformat": 4,
  "nbformat_minor": 0,
  "metadata": {
    "kernelspec": {
      "display_name": "Python 3",
      "language": "python",
      "name": "python3"
    },
    "language_info": {
      "codemirror_mode": {
        "name": "ipython",
        "version": 3
      },
      "file_extension": ".py",
      "mimetype": "text/x-python",
      "name": "python",
      "nbconvert_exporter": "python",
      "pygments_lexer": "ipython3",
      "version": "3.8.5"
    },
    "colab": {
      "name": "Week9a-assignment.ipynb",
      "provenance": [],
      "collapsed_sections": [],
      "toc_visible": true
    }
  },
  "cells": [
    {
      "cell_type": "markdown",
      "metadata": {
        "id": "BggDwv-09WMa"
      },
      "source": [
        "# Applied Machine Learning "
      ]
    },
    {
      "cell_type": "markdown",
      "metadata": {
        "id": "UmQmZ3Dq9WMd"
      },
      "source": [
        "\n",
        "\n",
        "## NLP for NLU using Transformers"
      ]
    },
    {
      "cell_type": "markdown",
      "metadata": {
        "id": "mmILtihc9WMe"
      },
      "source": [
        "#### This is the homework for Applied Machine Learning, Part 2, NLP for NLU.\n",
        "##### Week -3\n"
      ]
    },
    {
      "cell_type": "markdown",
      "metadata": {
        "id": "ujbDRoeU9WMf"
      },
      "source": [
        "\n",
        "\n",
        "<div class=\"alert alert-info\" style=\"background-color:#5d3a8e; color:white; padding:0px 10px; border-radius:5px;\"><h2 style='margin:10px 5px'> Part 1: Summarization and Topics Modeling of Articles</h2>\n",
        "</div>\n",
        "\n",
        "\n",
        "1. Read large text:\n",
        "  -- Google search for a topic \n",
        "  -- get list of top ten articles\n",
        "2. extract into sentences ended with '.' [period]\n",
        "3. write to a text file\n",
        "4. read text file into list\n",
        "5. summarize text using transformers \n",
        "   \n",
        "   Find summaries -- see project details at end of notebook \n",
        "   \n",
        "   try and plot comparisons of 5 combinations/permutations of the list sequence created in step 4 above\n",
        "   to see the effects of chunking on the summarization\n",
        "6. Do 2 distillations on the original article and the summary:\n",
        "   topics, named entity recognition"
      ]
    },
    {
      "cell_type": "markdown",
      "metadata": {
        "id": "nLPrKh2Oi6cx"
      },
      "source": [
        "## Scraping the top 3 urls from google search for topic Thanksgiving"
      ]
    },
    {
      "cell_type": "code",
      "metadata": {
        "colab": {
          "base_uri": "https://localhost:8080/"
        },
        "id": "nIQE2jnIiulH",
        "outputId": "f6f2420e-6e91-43d6-c391-47f656430096"
      },
      "source": [
        "import urllib\n",
        "from bs4 import BeautifulSoup\n",
        "import requests\n",
        "import webbrowser\n",
        "\n",
        "text = 'fox news covid'\n",
        "text = urllib.parse.quote_plus(text)\n",
        "\n",
        "url = 'https://google.com/search?q=' + text\n",
        "\n",
        "response = requests.get(url)\n",
        "new_urls=set()\n",
        "soup = BeautifulSoup(response.text, \"html.parser\")\n",
        "for g in soup.find_all('a',href=True):\n",
        "  if 'foxnews.com' in g['href']:\n",
        "    new_urls.add(g['href'][7:])\n",
        "    if len(new_urls)>2:\n",
        "      break;\n",
        "print(new_urls)\n",
        "len(new_urls)"
      ],
      "execution_count": 28,
      "outputs": [
        {
          "output_type": "stream",
          "name": "stdout",
          "text": [
            "{'https://www.foxnews.com/health/israeli-covid-19-drug-late-stage-coronavirus-treatment&sa=U&ved=2ahUKEwiCsrmgvK_0AhVkq3IEHdu_DH4Q0PADegQIAxAG&usg=AOvVaw33vw5aflwL_h6UWgkBrqo-', 'https://www.foxnews.com/health/us-covid-deaths-2021-surpass-2020-toll&sa=U&ved=2ahUKEwiCsrmgvK_0AhVkq3IEHdu_DH4Q0PADegQIAxAC&usg=AOvVaw1G1HYftKMvmgM2DEjVeAE9', 'https://www.foxnews.com/politics/psaki-attacks-desantis-over-disney-ending-vaccine-mandate&sa=U&ved=2ahUKEwiCsrmgvK_0AhVkq3IEHdu_DH4Q0PADegQIAxAK&usg=AOvVaw0QIMn7DTAiB13_g3-2NUJQ'}\n"
          ]
        },
        {
          "output_type": "execute_result",
          "data": {
            "text/plain": [
              "3"
            ]
          },
          "metadata": {},
          "execution_count": 28
        }
      ]
    },
    {
      "cell_type": "markdown",
      "metadata": {
        "id": "Pkq4pDB49WMg"
      },
      "source": [
        "##Below are the links scraped from automation code"
      ]
    },
    {
      "cell_type": "code",
      "metadata": {
        "id": "KW6I-UZF9WMg"
      },
      "source": [
        "\n",
        "page1 = \"https://www.foxnews.com/health/israeli-covid-19-drug-late-stage-coronavirus-treatment\"\n",
        "page2 = \"https://www.foxnews.com/health/us-covid-deaths-2021-surpass-2020-toll\"\n",
        "page3 = \"https://www.foxnews.com/politics/psaki-attacks-desantis-over-disney-ending-vaccine-mandate\"\n",
        "\n",
        "output_file1 = \"news1.txt\"\n",
        "output_file2 = \"news2.txt\"\n",
        "output_file3 = \"news3.txt\"\n",
        "\n",
        "pages = [page1,page2,page3]\n",
        "output_files =[output_file1,output_file2,output_file3]\n",
        "\n",
        "from bs4 import BeautifulSoup\n",
        "from bs4.element import Comment\n",
        "import urllib.request\n",
        "import nltk\n",
        "\n",
        "# https://www.nltk.org/book/ch05.html"
      ],
      "execution_count": 29,
      "outputs": []
    },
    {
      "cell_type": "code",
      "metadata": {
        "scrolled": true,
        "colab": {
          "base_uri": "https://localhost:8080/"
        },
        "id": "JjPOFhHM9WMj",
        "outputId": "47cc510b-581d-4715-b714-343864cebc48"
      },
      "source": [
        "\n",
        "\n",
        "nltk.download('punkt')\n",
        "\n",
        "\n",
        "def tag_visible(element):\n",
        "    if element.parent.name in ['style', 'script', 'head', 'title', 'meta', '[document]']:\n",
        "        return False\n",
        "    if isinstance(element, Comment):\n",
        "        return False\n",
        "    return True\n",
        "\n",
        "\n",
        "def text_from_html(body):\n",
        "    soup = BeautifulSoup(body, 'html.parser')\n",
        "    texts = soup.findAll(text=True)\n",
        "    visible_texts = filter(tag_visible, texts)  \n",
        "    return u\" \".join(t.strip() for t in visible_texts)\n",
        "\n",
        "for x in range(len(pages)):\n",
        "\n",
        "    html = urllib.request.urlopen(pages[x]).read()\n",
        "    page_text =text_from_html(html)\n",
        "\n",
        "    my_list = nltk.tokenize.sent_tokenize(page_text) #Split into list of sentences.\n",
        " \n",
        "    textfile = open(output_files[x], \"w\")\n",
        "\n",
        "    for element in my_list:\n",
        "        textfile.write(element + \"\\n\")\n",
        "    textfile.close()\n",
        "\n",
        "    print(page_text)"
      ],
      "execution_count": 30,
      "outputs": [
        {
          "output_type": "stream",
          "name": "stdout",
          "text": [
            "[nltk_data] Downloading package punkt to /root/nltk_data...\n",
            "[nltk_data]   Package punkt is already up-to-date!\n",
            "   Fox News    U.S. Politics Media Opinion Business Entertainment Sports Lifestyle Weather TV Fox Nation Listen  More  Expand / Collapse search  Login  Watch TV  Menu  Hot Topics     Coronavirus  U.S.  Crime Military Education Terror Immigration Economy Personal Freedoms Fox News Investigates World  U.N. Conflicts Terrorism Disasters Global Economy Environment Religion Scandals Opinion  Politics  Executive Senate House Judiciary Foreign Policy Polls Elections Entertainment  Celebrity News Movies TV News Music News Style News Entertainment Video Business  Personal Finance Economy Markets Watchlist Lifestyle Real Estate Tech Lifestyle  Food + Drink Cars + Trucks Travel + Outdoors House + Home Fitness + Well-being Style + Beauty Family Faith Science  Archaeology Air & Space Planet Earth Wild Nature Natural Science Dinosaurs Tech  Security Innovation Drones Computers Video Games Military Tech Health  Coronavirus Healthy Living Medical Research Mental Health Cancer Heart Health Children's Health TV  Shows Personalities Watch Live Full Episodes Show Clips News Clips About  Contact Us Careers Fox Around the World Advertise With Us Media Relations Corporate Information Compliance Supplier Diversity Other  Fox Weather Fox Nation Fox News Shop Fox News Go Fox News Radio Newsletters Podcasts Apps & Products  Fox News  New Terms of Use  New Privacy Policy  Do Not Sell my Personal Information  Closed Captioning Policy  Help  Contact Us  This material may not be published, broadcast, rewritten,\n",
            "      or redistributed. ©2021 FOX News Network, LLC. All rights reserved.\n",
            "      Quotes displayed in real-time or delayed by at least 15 minutes. Market data provided by Factset . Powered and implemented by FactSet Digital Solutions . Legal Statement . Mutual Fund and ETF data provided by Refinitiv Lipper .  Facebook  Twitter  Instagram  RSS  Email     Health  Published  5 hours ago   Israeli company's COVID-19 drug shows promise in late-stage coronavirus treatment  Severe COVID-19 patients had 94% survival rate after treatment, phase II clinical trial reveals    By Talia Kaplan   | Fox News   Facebook  Twitter  Flipboard  Comments  Print  Email   close   Video  Fox News Flash top headlines for November 23  Fox News Flash top headlines are here. Check out what's clicking on Foxnews.com. FIRST ON FOX: An Israeli public company says it developed the \"only cure for late-stage COVID \" and said that the results of its phase II clinical trial, disclosed first to Fox News, revealed that patients suffering from severe cases of COVID-19 had a 94% survival rate after being treated with the drug. Israeli biotechnology company Bonus BioGroup’s cell therapy MesenCure was administered to 50 hospitalized COVID-19 patients suffering from life-threatening pneumonia and respiratory distress, the company said, noting that 47 of those patients had survived. \"These are the most clinically meaningful results presented today for treating severe COVID-19 patients,\" Dr. Tomer Bronshtein, the head of research at Bonus BioGroup Ltd., told Fox News in an exclusive interview. Bronshtein said the phase II clinical trial, which recently concluded and took place in several medical centers in Israel, revealed that MesenCure can \"save three out of four people that are at risk of dying\" and \"can reduce their hospital length of stay by half.\" He said it \"will accelerate their healing in a way that will cause less permanent tissue damage and reduce the risk for ‘ long COVID .’\"   Israeli biotechnology company Bonus BioGroup’s cell therapy MesenCure (Bonus BioGroup) The company noted that for each of the first 30 participants in the clinical trial, two patients, also suffering from severe cases, with similar ages and comorbidities, were selected to the \"control group,\" which did not receive MesenCure. After analyzing the data, the company found that Mesencure reduced about 70% of severe COVID-19 patients’ mortality compared to the mortality in the group that did not receive the drug. The company also noted that about half of the patients with severe cases of COVID-19 who were treated with the therapy were discharged from the hospital up to just one day after the end of the treatment. FAUCI: COVID-19 HOSPITALIZATIONS RISING AMONG VACCINATED \"MesenCure is a drug made from living cells,\" Bronshtein explained, noting that the cells \"are infused into the patient\" and once the cells \"reach their lungs, they fill the inflammation and start secreting molecules and compounds that soothe this inflammation.\"   The MesenCure study found that nearly all COVID-19 patients taking the drug survived. (iStock, File) Bronshtein noted that it also reduces pneumonia and edema, which helps patients \"be able to breathe.\" \"In parallel, [the cells] also ameliorate what’s called the cytokine storm, which is the hyperimmune reaction that is aggravated in COVID 19,\" he added. Bonus BioGroup argued that it is \"necessary to provide a therapeutic option for hospitalized, severe COVID-19 patients\" given \"vaccines reduce, but do not entirely prevent COVID-19 infection and severe illness, which is also the case with medications designed for at-home treatment of mild COVID-19 that may reduce, but not prevent hospitalization and severe illness.\" PFIZER ASKS U.S. REGULATORS TO AUTHORIZE EXPERIMENTAL COVID-19 PILL \"We have a drug that works and we want to put it to good use,\" Bronshtein told Fox News, adding that currently MesenCure is only available to COVID-19 patients suffering from severe cases through compassionate use in Israel.   Bonus BioGroup has been seeking emergency use approval for the drug in Israel. (iStock, File) The Jerusalem Post reported in August that the Health Ministry had approved the expanded use of MesenCure, which helped 15 out of the 17 patients with severe cases of COVID-19 be released from an Israeli hospital one day after receiving their final dose. Following the results of the phase II clinical trial, Bronshtein said Bonus BioGroup is now seeking emergency use approval starting in Israel. The company is also continuing to run phase III studies. CLICK HERE TO GET THE FOX NEWS APP \"We hope that after we get the approval in Israel, it will be accepted more easily in the United States and in Europe,\" Bronshtein told Fox News. Bonus BioGroup CEO Shai Meretzki told Fox News he was \"very happy that in less than 18 months we were able to develop a new available therapy for all those severe patients that up to now did not have a solution.\"   Talia Kaplan is a reporter for FoxNews.com. Follow her on Twitter @taliakaplan                  Stay up-to-date on the biggest health and wellness news with our weekly recap.  Arrives Weekly   Subscribe   Subscribed        Subscribe   You've successfully subscribed to this newsletter!     Coronavirus  U.S.  Crime Military Education Terror Immigration Economy Personal Freedoms Fox News Investigates World  U.N. Conflicts Terrorism Disasters Global Economy Environment Religion Scandals Opinion  Politics  Executive Senate House Judiciary Foreign Policy Polls Elections Entertainment  Celebrity News Movies TV News Music News Style News Entertainment Video Business  Personal Finance Economy Markets Watchlist Lifestyle Real Estate Tech Lifestyle  Food + Drink Cars + Trucks Travel + Outdoors House + Home Fitness + Well-being Style + Beauty Family Faith Science  Archaeology Air & Space Planet Earth Wild Nature Natural Science Dinosaurs Tech  Security Innovation Drones Computers Video Games Military Tech Health  Coronavirus Healthy Living Medical Research Mental Health Cancer Heart Health Children's Health TV  Shows Personalities Watch Live Full Episodes Show Clips News Clips About  Contact Us Careers Fox Around the World Advertise With Us Media Relations Corporate Information Compliance Supplier Diversity Other  Fox Weather Fox Nation Fox News Shop Fox News Go Fox News Radio Newsletters Podcasts Apps & Products  Facebook  Twitter  Instagram  Youtube  Flipboard  LinkedIn  Slack  RSS  Newsletters  Spotify  iHeartRadio  Fox News  New Terms of Use  New Privacy Policy  Do Not Sell my Personal Information  Closed Captioning Policy  Help  Contact Us  Accessibility Statement  This material may not be published, broadcast, rewritten, or redistributed. ©2021 FOX News Network, LLC. All rights reserved. Quotes displayed in real-time or delayed by at least 15 minutes. Market data provided by Factset . Powered and implemented by FactSet Digital Solutions . Legal Statement . Mutual Fund and ETF data provided by Refinitiv Lipper .   \n",
            "   Fox News    U.S. Politics Media Opinion Business Entertainment Sports Lifestyle Weather TV Fox Nation Listen  More  Expand / Collapse search  Login  Watch TV  Menu  Hot Topics     Coronavirus  U.S.  Crime Military Education Terror Immigration Economy Personal Freedoms Fox News Investigates World  U.N. Conflicts Terrorism Disasters Global Economy Environment Religion Scandals Opinion  Politics  Executive Senate House Judiciary Foreign Policy Polls Elections Entertainment  Celebrity News Movies TV News Music News Style News Entertainment Video Business  Personal Finance Economy Markets Watchlist Lifestyle Real Estate Tech Lifestyle  Food + Drink Cars + Trucks Travel + Outdoors House + Home Fitness + Well-being Style + Beauty Family Faith Science  Archaeology Air & Space Planet Earth Wild Nature Natural Science Dinosaurs Tech  Security Innovation Drones Computers Video Games Military Tech Health  Coronavirus Healthy Living Medical Research Mental Health Cancer Heart Health Children's Health TV  Shows Personalities Watch Live Full Episodes Show Clips News Clips About  Contact Us Careers Fox Around the World Advertise With Us Media Relations Corporate Information Compliance Supplier Diversity Other  Fox Weather Fox Nation Fox News Shop Fox News Go Fox News Radio Newsletters Podcasts Apps & Products  Fox News  New Terms of Use  New Privacy Policy  Do Not Sell my Personal Information  Closed Captioning Policy  Help  Contact Us  This material may not be published, broadcast, rewritten,\n",
            "      or redistributed. ©2021 FOX News Network, LLC. All rights reserved.\n",
            "      Quotes displayed in real-time or delayed by at least 15 minutes. Market data provided by Factset . Powered and implemented by FactSet Digital Solutions . Legal Statement . Mutual Fund and ETF data provided by Refinitiv Lipper .  Facebook  Twitter  Instagram  RSS  Email     Coronavirus  Published  3 hours ago   US COVID-19 deaths in 2021 surpass 2020's toll  More than 5M people worldwide have died from COVID-19    By Julia Musto   | Fox News   Facebook  Twitter  Flipboard   Print  Email   close   Video  Fox News Flash top headlines for November 23  Fox News Flash top headlines are here. Check out what's clicking on Foxnews.com. COVID-19 deaths in 2021 surpassed the total from 2020 this week, with U.S. Centers for Disease Control and Prevention (CDC) data showing cases rising around the country ahead of the Thanksgiving holiday . There have been 771,576 deaths due to the virus since the pandemic started, though that number is currently trending downward. Since Jan. 1 of this year, 386,233 people have died due to the virus, compared with last year's toll of 385,343. COVID VACCINE MANDATE 'WILL NOT IMPACT HOLIDAY TRAVEL,' TSA SAYS, REPORTING 93% OF EMPLOYEES IN COMPLIANCE In 2020, COVID-19 was the third leading cause of death in the U.S., according to an April CDC report on provisional mortality data in the U.S., and figures only account for reported deaths. The global death toll from the pandemic topped 5 million on Monday. The U.S. is averaging more than 90,000 new infections daily and total cases number in the tens of millions.   People visit the 'In America: Remember' public art installation near the Washington Monument on the National Mall on Monday, Sept. 20, 2021 in Washington, D.C. (Kent Nishimura / Los Angeles Times via Getty Images) CDC Director Rochelle Walensky said Monday that the seven-day average of reported coronavirus infections has increased by 18%. Connecticut , for example, is experiencing a more rapid increase in cases than any other state, averaging 738 daily cases over the last week. The state’s seven-day positivity rate of 3.07% is the highest since early September, and average daily cases are the highest since mid-September. According to state data, unvaccinated residents are four times more likely to test positive than those who are vaccinated and make up the vast majority of those hospitalized with serious symptoms. As of last week, 74% of all residents had received at least one dose of a COVID-19 vaccine, according to the state. 95% OF FEDERAL WORKFORCE IS IN COMPLIANCE WITH BIDEN VACCINE REQUIREMENT: SENIOR ADMINISTRATION OFFICIAL Doctors have said that the spike is a sign that residents need to be more cautious and continue to follow best practices like masking. \"We need to embrace normalcy at this point, but we need to be smart about it,\" Dr. Ulysses Wu, an infectious disease specialist at Hartford HealthCare, told the Hartford Courant. \"Who are the people you are going to be hanging out with, how many people are going to be coming, and what is their vaccination status?\" Four of the five states with the highest recent increase in virus cases are in New England, the newspaper said. Other hot spots have developed in cold-weather states like Michigan, Minnesota and New York , causing hospitals to scramble. Walensky and National Institute of Allergy and Infectious Diseases Director Anthony Fauci have pushed for the roughly 60 million unvaccinated Americans to get the shot, and last week , the U.S. Food and Drug Administration and CDC recommended booster shots for all adults 18 and older who received a Pfizer/BioNTech or Moderna vaccine at least six months after their second dose.  Video More than 36 million people have already received a dose of vaccine beyond their original vaccination. While all three vaccines used in the U.S. continue to offer strong protection against severe COVID-19 illness and death, the shots’ effectiveness against milder infection can wane over time. \"Heading into the winter months, when respiratory viruses are more likely to spread, and with plans for increased holiday season travel and gatherings, boosting people’s overall protection against COVID-19 disease and death was important to do now,\" Walensky said. CLICK HERE TO GET THE FOX NEWS APP \"Most tragic are the vaccine-preventable deaths we are still seeing from this disease,\" she said. \"Even in our updated data, unvaccinated people are at 14 times greater risk of dying from COVID-19 than people who are vaccinated.\" The Associated Press contributed to this report.   Julia Musto is a reporter for Fox News Digital. You can find her on Twitter at @JuliaElenaMusto.                  Stay up-to-date on the biggest health and wellness news with our weekly recap.  Arrives Weekly   Subscribe   Subscribed        Subscribe   You've successfully subscribed to this newsletter!     Coronavirus  U.S.  Crime Military Education Terror Immigration Economy Personal Freedoms Fox News Investigates World  U.N. Conflicts Terrorism Disasters Global Economy Environment Religion Scandals Opinion  Politics  Executive Senate House Judiciary Foreign Policy Polls Elections Entertainment  Celebrity News Movies TV News Music News Style News Entertainment Video Business  Personal Finance Economy Markets Watchlist Lifestyle Real Estate Tech Lifestyle  Food + Drink Cars + Trucks Travel + Outdoors House + Home Fitness + Well-being Style + Beauty Family Faith Science  Archaeology Air & Space Planet Earth Wild Nature Natural Science Dinosaurs Tech  Security Innovation Drones Computers Video Games Military Tech Health  Coronavirus Healthy Living Medical Research Mental Health Cancer Heart Health Children's Health TV  Shows Personalities Watch Live Full Episodes Show Clips News Clips About  Contact Us Careers Fox Around the World Advertise With Us Media Relations Corporate Information Compliance Supplier Diversity Other  Fox Weather Fox Nation Fox News Shop Fox News Go Fox News Radio Newsletters Podcasts Apps & Products  Facebook  Twitter  Instagram  Youtube  Flipboard  LinkedIn  Slack  RSS  Newsletters  Spotify  iHeartRadio  Fox News  New Terms of Use  New Privacy Policy  Do Not Sell my Personal Information  Closed Captioning Policy  Help  Contact Us  Accessibility Statement  This material may not be published, broadcast, rewritten, or redistributed. ©2021 FOX News Network, LLC. All rights reserved. Quotes displayed in real-time or delayed by at least 15 minutes. Market data provided by Factset . Powered and implemented by FactSet Digital Solutions . Legal Statement . Mutual Fund and ETF data provided by Refinitiv Lipper .   \n",
            "   Fox News    U.S. Politics Media Opinion Business Entertainment Sports Lifestyle Weather TV Fox Nation Listen  More  Expand / Collapse search  Login  Watch TV  Menu  Hot Topics     Coronavirus  U.S.  Crime Military Education Terror Immigration Economy Personal Freedoms Fox News Investigates World  U.N. Conflicts Terrorism Disasters Global Economy Environment Religion Scandals Opinion  Politics  Executive Senate House Judiciary Foreign Policy Polls Elections Entertainment  Celebrity News Movies TV News Music News Style News Entertainment Video Business  Personal Finance Economy Markets Watchlist Lifestyle Real Estate Tech Lifestyle  Food + Drink Cars + Trucks Travel + Outdoors House + Home Fitness + Well-being Style + Beauty Family Faith Science  Archaeology Air & Space Planet Earth Wild Nature Natural Science Dinosaurs Tech  Security Innovation Drones Computers Video Games Military Tech Health  Coronavirus Healthy Living Medical Research Mental Health Cancer Heart Health Children's Health TV  Shows Personalities Watch Live Full Episodes Show Clips News Clips About  Contact Us Careers Fox Around the World Advertise With Us Media Relations Corporate Information Compliance Supplier Diversity Other  Fox Weather Fox Nation Fox News Shop Fox News Go Fox News Radio Newsletters Podcasts Apps & Products  Fox News  New Terms of Use  New Privacy Policy  Do Not Sell my Personal Information  Closed Captioning Policy  Help  Contact Us  This material may not be published, broadcast, rewritten,\n",
            "      or redistributed. ©2021 FOX News Network, LLC. All rights reserved.\n",
            "      Quotes displayed in real-time or delayed by at least 15 minutes. Market data provided by Factset . Powered and implemented by FactSet Digital Solutions . Legal Statement . Mutual Fund and ETF data provided by Refinitiv Lipper .  Facebook  Twitter  Instagram  RSS  Email     White House  Published  21 hours ago   Psaki attacks DeSantis over Disney ending its vaccine mandate  DeSantis signed four bills last week requiring private employers to allow vaccine exemptions    By Michael Lee   | Fox News   Facebook  Twitter  Flipboard  Comments  Print  Email   close   Video  Fox News Flash top headlines for November 22  Fox News Flash top headlines are here. Check out what's clicking on Foxnews.com. NEW You can now listen to Fox News articles! White House press secretary Jen Psaki indicated the decision of Disney World to halt its employee vaccine mandate showed how Florida Gov. Ron DeSantis takes \"steps backward\" when it comes to fighting the pandemic . \"They're based in Florida, and obviously the governor there has consistently taken steps to take steps backwards as it relates to fighting the pandemic, not forward,\" Psaki responded Monday when asked aboard Air Force one what more the White House could do after companies such as Disney decided to do away with their vaccine mandates for employees after a stay of President Biden's workplace vaccine mandate was issued in federal court last week.   White House Press Secretary Jen Psaki (Photo by Drew Angerer/Getty Images) FLORIDA GOV. DESANTIS TROLLS PRESIDENT BIDEN, SIGNS BILLS LIMITING VACCINE MANDATES IN BRANDON, FL Psaki's comments come after DeSantis signed four bills last week requiring private employers to allow vaccine exemptions, including but not limited to health or religious concerns, pregnancy or anticipated future pregnancy and past recovery from COVID-19. \"Nobody should lose their job due to heavy-handed COVID mandates, and we had a responsibility to protect the livelihoods of the people of Florida,\" DeSantis said of the legislation. Walt Disney World announced on Saturday that it was pausing its COVID-19 vaccine mandate in response to the new law. \"We believe that our approach to mandatory vaccines has been the right one as we’ve continued to focus on the safety and well-being of our cast members and guests, and at this point, more than 90% of active Florida-based cast members have already verified that they are fully vaccinated,\" a Disney spokesperson said. \"We will address legal developments as appropriate.\"    (Fox News) The Biden administration earlier in November finalized a mandate that required businesses with more than 100 employees to have their workers vaccinated or subjected to weekly testing, but the rule was suspended by the U.S. Court of Appeals for the Fifth Circuit, which later ruled to uphold the stay on the order. In response, the Occupational Safety and Health Administration announced that it was abiding by the court order and would \"take no steps to implement or enforce\" the rule \"until further court order.\" Despite the loss in court, Psaki struck an optimistic tone that many businesses would require vaccinations even without a mandate. CLICK HERE TO GET THE FOX NEWS APP   \"I would note that a recent poll showed that 60% of business leaders wanted to move forward on their own with vaccine requirement,\" she said. \"We've seen them implemented, at a lot of companies, they've been effective, and overall it gives a lot of businesses certainty about their workforce, makes people feel more confident in coming back to work.\" But Psaki also made clear that the stay will continue to be \"litigated through the process,\" while in the meantime, the administration will continue \"encouraging companies to take steps to protect their workforce.\"   Michael Lee is a writer at Fox News. Follow him on Twitter @UAMichaelLee                  Get all the stories you need-to-know from the most powerful name in news delivered first thing every morning to your inbox  Arrives Weekdays   Subscribe   Subscribed        Subscribe   You've successfully subscribed to this newsletter!   More from Politics          1 hour ago  Former Trump adviser says possible Biden 'Plan B' on Iran nuclear deal 'insane'         1 hour ago  Virginia AG-elect vows to investigate Loudoun after sheriff's letter says school district enabled assault         1 hour ago  Betsy DeVos blasts Biden admin's 'sickening move' to limit data collection on sexual assault by teachers         2 hours ago  Biden admin proposes removing Trump-era data collection on sexual assaults committed by teachers      Coronavirus  U.S.  Crime Military Education Terror Immigration Economy Personal Freedoms Fox News Investigates World  U.N. Conflicts Terrorism Disasters Global Economy Environment Religion Scandals Opinion  Politics  Executive Senate House Judiciary Foreign Policy Polls Elections Entertainment  Celebrity News Movies TV News Music News Style News Entertainment Video Business  Personal Finance Economy Markets Watchlist Lifestyle Real Estate Tech Lifestyle  Food + Drink Cars + Trucks Travel + Outdoors House + Home Fitness + Well-being Style + Beauty Family Faith Science  Archaeology Air & Space Planet Earth Wild Nature Natural Science Dinosaurs Tech  Security Innovation Drones Computers Video Games Military Tech Health  Coronavirus Healthy Living Medical Research Mental Health Cancer Heart Health Children's Health TV  Shows Personalities Watch Live Full Episodes Show Clips News Clips About  Contact Us Careers Fox Around the World Advertise With Us Media Relations Corporate Information Compliance Supplier Diversity Other  Fox Weather Fox Nation Fox News Shop Fox News Go Fox News Radio Newsletters Podcasts Apps & Products  Facebook  Twitter  Instagram  Youtube  Flipboard  LinkedIn  Slack  RSS  Newsletters  Spotify  iHeartRadio  Fox News  New Terms of Use  New Privacy Policy  Do Not Sell my Personal Information  Closed Captioning Policy  Help  Contact Us  Accessibility Statement  This material may not be published, broadcast, rewritten, or redistributed. ©2021 FOX News Network, LLC. All rights reserved. Quotes displayed in real-time or delayed by at least 15 minutes. Market data provided by Factset . Powered and implemented by FactSet Digital Solutions . Legal Statement . Mutual Fund and ETF data provided by Refinitiv Lipper .   \n"
          ]
        }
      ]
    },
    {
      "cell_type": "markdown",
      "metadata": {
        "id": "FYk_peNO9WMm"
      },
      "source": [
        "## Summarize text using transformers"
      ]
    },
    {
      "cell_type": "code",
      "metadata": {
        "scrolled": true,
        "colab": {
          "base_uri": "https://localhost:8080/"
        },
        "id": "PTO4pJq79WMn",
        "outputId": "09e7d960-f3c1-4454-aa32-e527bf55d88a"
      },
      "source": [
        "\n",
        "!pip install transformers"
      ],
      "execution_count": 4,
      "outputs": [
        {
          "output_type": "stream",
          "name": "stdout",
          "text": [
            "Collecting transformers\n",
            "  Downloading transformers-4.12.5-py3-none-any.whl (3.1 MB)\n",
            "\u001b[K     |████████████████████████████████| 3.1 MB 28.9 MB/s \n",
            "\u001b[?25hRequirement already satisfied: tqdm>=4.27 in /usr/local/lib/python3.7/dist-packages (from transformers) (4.62.3)\n",
            "Requirement already satisfied: regex!=2019.12.17 in /usr/local/lib/python3.7/dist-packages (from transformers) (2019.12.20)\n",
            "Requirement already satisfied: packaging>=20.0 in /usr/local/lib/python3.7/dist-packages (from transformers) (21.3)\n",
            "Collecting pyyaml>=5.1\n",
            "  Downloading PyYAML-6.0-cp37-cp37m-manylinux_2_5_x86_64.manylinux1_x86_64.manylinux_2_12_x86_64.manylinux2010_x86_64.whl (596 kB)\n",
            "\u001b[K     |████████████████████████████████| 596 kB 43.2 MB/s \n",
            "\u001b[?25hRequirement already satisfied: importlib-metadata in /usr/local/lib/python3.7/dist-packages (from transformers) (4.8.2)\n",
            "Requirement already satisfied: filelock in /usr/local/lib/python3.7/dist-packages (from transformers) (3.4.0)\n",
            "Requirement already satisfied: requests in /usr/local/lib/python3.7/dist-packages (from transformers) (2.23.0)\n",
            "Collecting sacremoses\n",
            "  Downloading sacremoses-0.0.46-py3-none-any.whl (895 kB)\n",
            "\u001b[K     |████████████████████████████████| 895 kB 45.0 MB/s \n",
            "\u001b[?25hCollecting tokenizers<0.11,>=0.10.1\n",
            "  Downloading tokenizers-0.10.3-cp37-cp37m-manylinux_2_5_x86_64.manylinux1_x86_64.manylinux_2_12_x86_64.manylinux2010_x86_64.whl (3.3 MB)\n",
            "\u001b[K     |████████████████████████████████| 3.3 MB 47.7 MB/s \n",
            "\u001b[?25hRequirement already satisfied: numpy>=1.17 in /usr/local/lib/python3.7/dist-packages (from transformers) (1.19.5)\n",
            "Collecting huggingface-hub<1.0,>=0.1.0\n",
            "  Downloading huggingface_hub-0.1.2-py3-none-any.whl (59 kB)\n",
            "\u001b[K     |████████████████████████████████| 59 kB 7.4 MB/s \n",
            "\u001b[?25hRequirement already satisfied: typing-extensions>=3.7.4.3 in /usr/local/lib/python3.7/dist-packages (from huggingface-hub<1.0,>=0.1.0->transformers) (3.10.0.2)\n",
            "Requirement already satisfied: pyparsing!=3.0.5,>=2.0.2 in /usr/local/lib/python3.7/dist-packages (from packaging>=20.0->transformers) (3.0.6)\n",
            "Requirement already satisfied: zipp>=0.5 in /usr/local/lib/python3.7/dist-packages (from importlib-metadata->transformers) (3.6.0)\n",
            "Requirement already satisfied: idna<3,>=2.5 in /usr/local/lib/python3.7/dist-packages (from requests->transformers) (2.10)\n",
            "Requirement already satisfied: certifi>=2017.4.17 in /usr/local/lib/python3.7/dist-packages (from requests->transformers) (2021.10.8)\n",
            "Requirement already satisfied: urllib3!=1.25.0,!=1.25.1,<1.26,>=1.21.1 in /usr/local/lib/python3.7/dist-packages (from requests->transformers) (1.24.3)\n",
            "Requirement already satisfied: chardet<4,>=3.0.2 in /usr/local/lib/python3.7/dist-packages (from requests->transformers) (3.0.4)\n",
            "Requirement already satisfied: six in /usr/local/lib/python3.7/dist-packages (from sacremoses->transformers) (1.15.0)\n",
            "Requirement already satisfied: click in /usr/local/lib/python3.7/dist-packages (from sacremoses->transformers) (7.1.2)\n",
            "Requirement already satisfied: joblib in /usr/local/lib/python3.7/dist-packages (from sacremoses->transformers) (1.1.0)\n",
            "Installing collected packages: pyyaml, tokenizers, sacremoses, huggingface-hub, transformers\n",
            "  Attempting uninstall: pyyaml\n",
            "    Found existing installation: PyYAML 3.13\n",
            "    Uninstalling PyYAML-3.13:\n",
            "      Successfully uninstalled PyYAML-3.13\n",
            "Successfully installed huggingface-hub-0.1.2 pyyaml-6.0 sacremoses-0.0.46 tokenizers-0.10.3 transformers-4.12.5\n"
          ]
        }
      ]
    },
    {
      "cell_type": "code",
      "metadata": {
        "id": "xmQGfepW9WMn"
      },
      "source": [
        "from transformers import pipeline\n",
        "import os"
      ],
      "execution_count": 31,
      "outputs": []
    },
    {
      "cell_type": "code",
      "metadata": {
        "id": "Oq_-HRLb9WMo"
      },
      "source": [
        "os.environ[\"CUDA_VISIBLE_DEVICES\"] = \"0\""
      ],
      "execution_count": 6,
      "outputs": []
    },
    {
      "cell_type": "code",
      "metadata": {
        "colab": {
          "base_uri": "https://localhost:8080/"
        },
        "id": "1VWPRRlO9WMo",
        "outputId": "74d3cf1a-f604-463d-b3ce-7a18e2404bf4"
      },
      "source": [
        "summarizer = pipeline(\"summarization\")"
      ],
      "execution_count": 32,
      "outputs": [
        {
          "output_type": "stream",
          "name": "stderr",
          "text": [
            "No model was supplied, defaulted to sshleifer/distilbart-cnn-12-6 (https://huggingface.co/sshleifer/distilbart-cnn-12-6)\n"
          ]
        }
      ]
    },
    {
      "cell_type": "code",
      "metadata": {
        "colab": {
          "base_uri": "https://localhost:8080/"
        },
        "id": "5ttxkQ_39WMq",
        "outputId": "dbe9867e-0f62-4f15-fc4c-86606fa37aae"
      },
      "source": [
        "summarizer = pipeline(\"summarization\", model=\"t5-base\", tokenizer=\"t5-base\", framework=\"tf\")"
      ],
      "execution_count": 33,
      "outputs": [
        {
          "output_type": "stream",
          "name": "stderr",
          "text": [
            "All model checkpoint layers were used when initializing TFT5ForConditionalGeneration.\n",
            "\n",
            "All the layers of TFT5ForConditionalGeneration were initialized from the model checkpoint at t5-base.\n",
            "If your task is similar to the task the model of the checkpoint was trained on, you can already use TFT5ForConditionalGeneration for predictions without further training.\n"
          ]
        }
      ]
    },
    {
      "cell_type": "code",
      "metadata": {
        "id": "TccYUnhESiOx"
      },
      "source": [
        "def pass_data(data_variable):\n",
        "    new_data = data_variable.strip('“”')\n",
        "    print (new_data)\n",
        "    %%time\n",
        "    print (len(new_data))\n",
        "    text3= new_data[0:8000]\n",
        "    summary_text = summarizer(text3, max_length=512, min_length=5, do_sample=False)[0]['summary_text']\n",
        "    print(summary_text)\n",
        "    return summary_text\n",
        "    \n"
      ],
      "execution_count": 34,
      "outputs": []
    },
    {
      "cell_type": "code",
      "metadata": {
        "colab": {
          "base_uri": "https://localhost:8080/"
        },
        "id": "4hIOBl10KH02",
        "outputId": "b83e1640-18c1-4ad7-eee3-98beb929c661"
      },
      "source": [
        "# Import Module\n",
        "import os\n",
        "\n",
        "\n",
        "# Folder Path\n",
        "path = \"/content/\"\n",
        "\n",
        "# Change the directory\n",
        "os.chdir(path)\n",
        "\n",
        "# Read text File\n",
        "def read_text_file(file_path):\n",
        "    with open(file_path, 'r') as f:\n",
        "        data = f.read().replace('\\n', '')\n",
        "        return pass_data(data)\n",
        "         \n",
        "  \n",
        "  \n",
        "# iterate through all file\n",
        "summary_text_array=[]\n",
        "for file in os.listdir():\n",
        "    # Check whether file is in text format or not\n",
        "    if file.endswith(\".txt\"):\n",
        "        file_path = f\"{path}{file}\"\n",
        "        # call read text file function\n",
        "        summary_text_array.append(read_text_file(file_path))\n",
        "\n",
        "        \n"
      ],
      "execution_count": 35,
      "outputs": [
        {
          "output_type": "stream",
          "name": "stderr",
          "text": [
            "Token indices sequence length is longer than the specified maximum sequence length for this model (1779 > 512). Running this sequence through the model will result in indexing errors\n"
          ]
        },
        {
          "output_type": "stream",
          "name": "stdout",
          "text": [
            "   Fox News    U.S.Politics Media Opinion Business Entertainment Sports Lifestyle Weather TV Fox Nation Listen  More  Expand / Collapse search  Login  Watch TV  Menu  Hot Topics     Coronavirus  U.S.  Crime Military Education Terror Immigration Economy Personal Freedoms Fox News Investigates World  U.N.Conflicts Terrorism Disasters Global Economy Environment Religion Scandals Opinion  Politics  Executive Senate House Judiciary Foreign Policy Polls Elections Entertainment  Celebrity News Movies TV News Music News Style News Entertainment Video Business  Personal Finance Economy Markets Watchlist Lifestyle Real Estate Tech Lifestyle  Food + Drink Cars + Trucks Travel + Outdoors House + Home Fitness + Well-being Style + Beauty Family Faith Science  Archaeology Air & Space Planet Earth Wild Nature Natural Science Dinosaurs Tech  Security Innovation Drones Computers Video Games Military Tech Health  Coronavirus Healthy Living Medical Research Mental Health Cancer Heart Health Children's Health TV  Shows Personalities Watch Live Full Episodes Show Clips News Clips About  Contact Us Careers Fox Around the World Advertise With Us Media Relations Corporate Information Compliance Supplier Diversity Other  Fox Weather Fox Nation Fox News Shop Fox News Go Fox News Radio Newsletters Podcasts Apps & Products  Fox News  New Terms of Use  New Privacy Policy  Do Not Sell my Personal Information  Closed Captioning Policy  Help  Contact Us  This material may not be published, broadcast, rewritten,      or redistributed.©2021 FOX News Network, LLC.All rights reserved.Quotes displayed in real-time or delayed by at least 15 minutes.Market data provided by Factset .Powered and implemented by FactSet Digital Solutions .Legal Statement .Mutual Fund and ETF data provided by Refinitiv Lipper .Facebook  Twitter  Instagram  RSS  Email     Health  Published  5 hours ago   Israeli company's COVID-19 drug shows promise in late-stage coronavirus treatment  Severe COVID-19 patients had 94% survival rate after treatment, phase II clinical trial reveals    By Talia Kaplan   | Fox News   Facebook  Twitter  Flipboard  Comments  Print  Email   close   Video  Fox News Flash top headlines for November 23  Fox News Flash top headlines are here.Check out what's clicking on Foxnews.com.FIRST ON FOX: An Israeli public company says it developed the \"only cure for late-stage COVID \" and said that the results of its phase II clinical trial, disclosed first to Fox News, revealed that patients suffering from severe cases of COVID-19 had a 94% survival rate after being treated with the drug.Israeli biotechnology company Bonus BioGroup’s cell therapy MesenCure was administered to 50 hospitalized COVID-19 patients suffering from life-threatening pneumonia and respiratory distress, the company said, noting that 47 of those patients had survived.\"These are the most clinically meaningful results presented today for treating severe COVID-19 patients,\" Dr. Tomer Bronshtein, the head of research at Bonus BioGroup Ltd., told Fox News in an exclusive interview.Bronshtein said the phase II clinical trial, which recently concluded and took place in several medical centers in Israel, revealed that MesenCure can \"save three out of four people that are at risk of dying\" and \"can reduce their hospital length of stay by half.\"He said it \"will accelerate their healing in a way that will cause less permanent tissue damage and reduce the risk for ‘ long COVID .’\"   Israeli biotechnology company Bonus BioGroup’s cell therapy MesenCure (Bonus BioGroup) The company noted that for each of the first 30 participants in the clinical trial, two patients, also suffering from severe cases, with similar ages and comorbidities, were selected to the \"control group,\" which did not receive MesenCure.After analyzing the data, the company found that Mesencure reduced about 70% of severe COVID-19 patients’ mortality compared to the mortality in the group that did not receive the drug.The company also noted that about half of the patients with severe cases of COVID-19 who were treated with the therapy were discharged from the hospital up to just one day after the end of the treatment.FAUCI: COVID-19 HOSPITALIZATIONS RISING AMONG VACCINATED \"MesenCure is a drug made from living cells,\" Bronshtein explained, noting that the cells \"are infused into the patient\" and once the cells \"reach their lungs, they fill the inflammation and start secreting molecules and compounds that soothe this inflammation.\"The MesenCure study found that nearly all COVID-19 patients taking the drug survived.(iStock, File) Bronshtein noted that it also reduces pneumonia and edema, which helps patients \"be able to breathe.\"\"In parallel, [the cells] also ameliorate what’s called the cytokine storm, which is the hyperimmune reaction that is aggravated in COVID 19,\" he added.Bonus BioGroup argued that it is \"necessary to provide a therapeutic option for hospitalized, severe COVID-19 patients\" given \"vaccines reduce, but do not entirely prevent COVID-19 infection and severe illness, which is also the case with medications designed for at-home treatment of mild COVID-19 that may reduce, but not prevent hospitalization and severe illness.\"PFIZER ASKS U.S. REGULATORS TO AUTHORIZE EXPERIMENTAL COVID-19 PILL \"We have a drug that works and we want to put it to good use,\" Bronshtein told Fox News, adding that currently MesenCure is only available to COVID-19 patients suffering from severe cases through compassionate use in Israel.Bonus BioGroup has been seeking emergency use approval for the drug in Israel.(iStock, File) The Jerusalem Post reported in August that the Health Ministry had approved the expanded use of MesenCure, which helped 15 out of the 17 patients with severe cases of COVID-19 be released from an Israeli hospital one day after receiving their final dose.Following the results of the phase II clinical trial, Bronshtein said Bonus BioGroup is now seeking emergency use approval starting in Israel.The company is also continuing to run phase III studies.CLICK HERE TO GET THE FOX NEWS APP \"We hope that after we get the approval in Israel, it will be accepted more easily in the United States and in Europe,\" Bronshtein told Fox News.Bonus BioGroup CEO Shai Meretzki told Fox News he was \"very happy that in less than 18 months we were able to develop a new available therapy for all those severe patients that up to now did not have a solution.\"Talia Kaplan is a reporter for FoxNews.com.Follow her on Twitter @taliakaplan                  Stay up-to-date on the biggest health and wellness news with our weekly recap.Arrives Weekly   Subscribe   Subscribed        Subscribe   You've successfully subscribed to this newsletter!Coronavirus  U.S.  Crime Military Education Terror Immigration Economy Personal Freedoms Fox News Investigates World  U.N.Conflicts Terrorism Disasters Global Economy Environment Religion Scandals Opinion  Politics  Executive Senate House Judiciary Foreign Policy Polls Elections Entertainment  Celebrity News Movies TV News Music News Style News Entertainment Video Business  Personal Finance Economy Markets Watchlist Lifestyle Real Estate Tech Lifestyle  Food + Drink Cars + Trucks Travel + Outdoors House + Home Fitness + Well-being Style + Beauty Family Faith Science  Archaeology Air & Space Planet Earth Wild Nature Natural Science Dinosaurs Tech  Security Innovation Drones Computers Video Games Military Tech Health  Coronavirus Healthy Living Medical Research Mental Health Cancer Heart Health Children's Health TV  Shows Personalities Watch Live Full Episodes Show Clips News Clips About  Contact Us Careers Fox Around the World Advertise With Us Media Relations Corporate Information Compliance Supplier Diversity Other  Fox Weather Fox Nation Fox News Shop Fox News Go Fox News Radio Newsletters Podcasts Apps & Products  Facebook  Twitter  Instagram  Youtube  Flipboard  LinkedIn  Slack  RSS  Newsletters  Spotify  iHeartRadio  Fox News  New Terms of Use  New Privacy Policy  Do Not Sell my Personal Information  Closed Captioning Policy  Help  Contact Us  Accessibility Statement  This material may not be published, broadcast, rewritten, or redistributed.©2021 FOX News Network, LLC.All rights reserved.Quotes displayed in real-time or delayed by at least 15 minutes.Market data provided by Factset .Powered and implemented by FactSet Digital Solutions .Legal Statement .Mutual Fund and ETF data provided by Refinitiv Lipper .\n",
            "CPU times: user 4 µs, sys: 0 ns, total: 4 µs\n",
            "Wall time: 9.06 µs\n",
            "8466\n",
            "israeli biotechnology company Bonus BioGroup’s cell therapy MesenCure was administered to 50 hospitalized COVID-19 patients suffering from life-threatening pneumonia and respiratory distress . it found that nearly all patients taking the drug survived . bonus biogroup has been seeking emergency use approval for the drug in Israel .\n",
            "   Fox News    U.S.Politics Media Opinion Business Entertainment Sports Lifestyle Weather TV Fox Nation Listen  More  Expand / Collapse search  Login  Watch TV  Menu  Hot Topics     Coronavirus  U.S.  Crime Military Education Terror Immigration Economy Personal Freedoms Fox News Investigates World  U.N.Conflicts Terrorism Disasters Global Economy Environment Religion Scandals Opinion  Politics  Executive Senate House Judiciary Foreign Policy Polls Elections Entertainment  Celebrity News Movies TV News Music News Style News Entertainment Video Business  Personal Finance Economy Markets Watchlist Lifestyle Real Estate Tech Lifestyle  Food + Drink Cars + Trucks Travel + Outdoors House + Home Fitness + Well-being Style + Beauty Family Faith Science  Archaeology Air & Space Planet Earth Wild Nature Natural Science Dinosaurs Tech  Security Innovation Drones Computers Video Games Military Tech Health  Coronavirus Healthy Living Medical Research Mental Health Cancer Heart Health Children's Health TV  Shows Personalities Watch Live Full Episodes Show Clips News Clips About  Contact Us Careers Fox Around the World Advertise With Us Media Relations Corporate Information Compliance Supplier Diversity Other  Fox Weather Fox Nation Fox News Shop Fox News Go Fox News Radio Newsletters Podcasts Apps & Products  Fox News  New Terms of Use  New Privacy Policy  Do Not Sell my Personal Information  Closed Captioning Policy  Help  Contact Us  This material may not be published, broadcast, rewritten,      or redistributed.©2021 FOX News Network, LLC.All rights reserved.Quotes displayed in real-time or delayed by at least 15 minutes.Market data provided by Factset .Powered and implemented by FactSet Digital Solutions .Legal Statement .Mutual Fund and ETF data provided by Refinitiv Lipper .Facebook  Twitter  Instagram  RSS  Email     White House  Published  21 hours ago   Psaki attacks DeSantis over Disney ending its vaccine mandate  DeSantis signed four bills last week requiring private employers to allow vaccine exemptions    By Michael Lee   | Fox News   Facebook  Twitter  Flipboard  Comments  Print  Email   close   Video  Fox News Flash top headlines for November 22  Fox News Flash top headlines are here.Check out what's clicking on Foxnews.com.NEW You can now listen to Fox News articles!White House press secretary Jen Psaki indicated the decision of Disney World to halt its employee vaccine mandate showed how Florida Gov.Ron DeSantis takes \"steps backward\" when it comes to fighting the pandemic .\"They're based in Florida, and obviously the governor there has consistently taken steps to take steps backwards as it relates to fighting the pandemic, not forward,\" Psaki responded Monday when asked aboard Air Force one what more the White House could do after companies such as Disney decided to do away with their vaccine mandates for employees after a stay of President Biden's workplace vaccine mandate was issued in federal court last week.White House Press Secretary Jen Psaki (Photo by Drew Angerer/Getty Images) FLORIDA GOV.DESANTIS TROLLS PRESIDENT BIDEN, SIGNS BILLS LIMITING VACCINE MANDATES IN BRANDON, FL Psaki's comments come after DeSantis signed four bills last week requiring private employers to allow vaccine exemptions, including but not limited to health or religious concerns, pregnancy or anticipated future pregnancy and past recovery from COVID-19.\"Nobody should lose their job due to heavy-handed COVID mandates, and we had a responsibility to protect the livelihoods of the people of Florida,\" DeSantis said of the legislation.Walt Disney World announced on Saturday that it was pausing its COVID-19 vaccine mandate in response to the new law.\"We believe that our approach to mandatory vaccines has been the right one as we’ve continued to focus on the safety and well-being of our cast members and guests, and at this point, more than 90% of active Florida-based cast members have already verified that they are fully vaccinated,\" a Disney spokesperson said.\"We will address legal developments as appropriate.\"(Fox News) The Biden administration earlier in November finalized a mandate that required businesses with more than 100 employees to have their workers vaccinated or subjected to weekly testing, but the rule was suspended by the U.S. Court of Appeals for the Fifth Circuit, which later ruled to uphold the stay on the order.In response, the Occupational Safety and Health Administration announced that it was abiding by the court order and would \"take no steps to implement or enforce\" the rule \"until further court order.\"Despite the loss in court, Psaki struck an optimistic tone that many businesses would require vaccinations even without a mandate.CLICK HERE TO GET THE FOX NEWS APP   \"I would note that a recent poll showed that 60% of business leaders wanted to move forward on their own with vaccine requirement,\" she said.\"We've seen them implemented, at a lot of companies, they've been effective, and overall it gives a lot of businesses certainty about their workforce, makes people feel more confident in coming back to work.\"But Psaki also made clear that the stay will continue to be \"litigated through the process,\" while in the meantime, the administration will continue \"encouraging companies to take steps to protect their workforce.\"Michael Lee is a writer at Fox News.Follow him on Twitter @UAMichaelLee                  Get all the stories you need-to-know from the most powerful name in news delivered first thing every morning to your inbox  Arrives Weekdays   Subscribe   Subscribed        Subscribe   You've successfully subscribed to this newsletter!More from Politics          1 hour ago  Former Trump adviser says possible Biden 'Plan B' on Iran nuclear deal 'insane'         1 hour ago  Virginia AG-elect vows to investigate Loudoun after sheriff's letter says school district enabled assault         1 hour ago  Betsy DeVos blasts Biden admin's 'sickening move' to limit data collection on sexual assault by teachers         2 hours ago  Biden admin proposes removing Trump-era data collection on sexual assaults committed by teachers      Coronavirus  U.S.  Crime Military Education Terror Immigration Economy Personal Freedoms Fox News Investigates World  U.N.Conflicts Terrorism Disasters Global Economy Environment Religion Scandals Opinion  Politics  Executive Senate House Judiciary Foreign Policy Polls Elections Entertainment  Celebrity News Movies TV News Music News Style News Entertainment Video Business  Personal Finance Economy Markets Watchlist Lifestyle Real Estate Tech Lifestyle  Food + Drink Cars + Trucks Travel + Outdoors House + Home Fitness + Well-being Style + Beauty Family Faith Science  Archaeology Air & Space Planet Earth Wild Nature Natural Science Dinosaurs Tech  Security Innovation Drones Computers Video Games Military Tech Health  Coronavirus Healthy Living Medical Research Mental Health Cancer Heart Health Children's Health TV  Shows Personalities Watch Live Full Episodes Show Clips News Clips About  Contact Us Careers Fox Around the World Advertise With Us Media Relations Corporate Information Compliance Supplier Diversity Other  Fox Weather Fox Nation Fox News Shop Fox News Go Fox News Radio Newsletters Podcasts Apps & Products  Facebook  Twitter  Instagram  Youtube  Flipboard  LinkedIn  Slack  RSS  Newsletters  Spotify  iHeartRadio  Fox News  New Terms of Use  New Privacy Policy  Do Not Sell my Personal Information  Closed Captioning Policy  Help  Contact Us  Accessibility Statement  This material may not be published, broadcast, rewritten, or redistributed.©2021 FOX News Network, LLC.All rights reserved.Quotes displayed in real-time or delayed by at least 15 minutes.Market data provided by Factset .Powered and implemented by FactSet Digital Solutions .Legal Statement .Mutual Fund and ETF data provided by Refinitiv Lipper .\n",
            "CPU times: user 4 µs, sys: 0 ns, total: 4 µs\n",
            "Wall time: 6.2 µs\n",
            "7875\n",
            "osha says it will \"take no steps to implement or enforce\" the stay until further court order . a recent poll showed that 60% of business leaders wanted to move forward on their own with vaccine requirement .\n",
            "   Fox News    U.S.Politics Media Opinion Business Entertainment Sports Lifestyle Weather TV Fox Nation Listen  More  Expand / Collapse search  Login  Watch TV  Menu  Hot Topics     Coronavirus  U.S.  Crime Military Education Terror Immigration Economy Personal Freedoms Fox News Investigates World  U.N.Conflicts Terrorism Disasters Global Economy Environment Religion Scandals Opinion  Politics  Executive Senate House Judiciary Foreign Policy Polls Elections Entertainment  Celebrity News Movies TV News Music News Style News Entertainment Video Business  Personal Finance Economy Markets Watchlist Lifestyle Real Estate Tech Lifestyle  Food + Drink Cars + Trucks Travel + Outdoors House + Home Fitness + Well-being Style + Beauty Family Faith Science  Archaeology Air & Space Planet Earth Wild Nature Natural Science Dinosaurs Tech  Security Innovation Drones Computers Video Games Military Tech Health  Coronavirus Healthy Living Medical Research Mental Health Cancer Heart Health Children's Health TV  Shows Personalities Watch Live Full Episodes Show Clips News Clips About  Contact Us Careers Fox Around the World Advertise With Us Media Relations Corporate Information Compliance Supplier Diversity Other  Fox Weather Fox Nation Fox News Shop Fox News Go Fox News Radio Newsletters Podcasts Apps & Products  Fox News  New Terms of Use  New Privacy Policy  Do Not Sell my Personal Information  Closed Captioning Policy  Help  Contact Us  This material may not be published, broadcast, rewritten,      or redistributed.©2021 FOX News Network, LLC.All rights reserved.Quotes displayed in real-time or delayed by at least 15 minutes.Market data provided by Factset .Powered and implemented by FactSet Digital Solutions .Legal Statement .Mutual Fund and ETF data provided by Refinitiv Lipper .Facebook  Twitter  Instagram  RSS  Email     Thanksgiving  Published  1 day ago   Government agencies tell Americans: Downsize Thanksgiving, mask up around family if not vaxxed  'Even people you trust the most can have the virus and not know it,' Vermont's Thanksgiving guidance warns    By Tyler Olson   | Fox News   Facebook  Twitter  Flipboard  Comments  Print  Email   close   Video  Fox News Flash top headlines for November 22  Fox News Flash top headlines are here.Check out what's clicking on Foxnews.com.NEW You can now listen to Fox News articles!With coronavirus cases in the United States ticking up before Thanksgiving despite the proliferation of vaccines, many state and local health officials say Americans' Thanksgiving gatherings cannot go back to normal – whether they are vaccinated or not, but especially if they are not.Los Angeles County Public Health is advising people to avoid traveling if unvaccinated, see as few other families as possible, and mask up around people from different households.\"Keep your gathering small.Avoid mixing with many different families,\" it says in its official Thanksgiving COVID guidance.\"Don’t be afraid to ask about people’s vaccination status and recent risks before joining a Thanksgiving gathering.\"\"Wear face masks when gathering indoors with people not from your household, except when eating and drinking.\"the Los Angeles County guidance continues.\"Bring a mask to wear outside if the gathering is crowded, especially with people who are unvaccinated or are at increased risk of severe disease.\"A child wears a face mask on the first day of New York City schools, amid the coronavirus disease (COVID-19) pandemic in Brooklyn, New York, U.S. September 13, 2021.REUTERS/Brendan McDermid/File Photo FAUCI VAGUE ON CHANGING DEFINITION OF ‘FULLY VACCINATED: ’WE MIGHT MODIFY' The guidance also tells people to \"Keep distance while eating, unless everyone is vaccinated\" and to test guests before gathering.The City of Pasadena put out nearly identical guidance.The state of Vermont also had a similar message, with a warning that even those closest to you could be vectors for COVID-19.\"Keep it small.The more people and households, the higher the chance that someone could have the virus and expose other people,\" it said in its Thanksgiving guidance.\"Even people you trust the most can have the virus and not know it.\"Even people you trust the most can have the virus and not know it.— Vermont Department of Health The state and local recommendations come as the COVID-19 pandemic is approximately in its 20th month, and its second holiday season.Over 770,000 Americans have died from the disease, according to numbers compiled by Johns Hopkins .But highly effective vaccines are now available to nearly every single person in America, and boosters available to older people most vulnerable to the disease.Negative effects of pandemic mitigation measures are piling up as well, including increased drug overdoses, learning loss and social problems in schoolchildren, and more.OREGON MIDDLE SCHOOL CLOSES OVER SAFETY CONCERNS, STUDENT ‘SOCIALIZATION’ ISSUES FROM YEAR OF VIRTUAL LEARNING Many states and local governments are no longer enforcing any kind of mitigation measures or are pushing back against things like mask requirements by local school districts.But others, like Illinois , still have mask mandates in place and are dispensing stern advice to their citizens on how they should hold Thanksgiving.Many state and local governments are telling Americans they should keep their Thanksgiving gatherings small in 2021.(iStock) \"Keep indoor gatherings small,\" Illinois' Thanksgiving guidance says.\"Arrange seating and other areas to allow for physical distance… Avoid having people congregate, such as in the kitchen or at the buffet.\"Sonoma County, Calif., issued similarly strict advice.\"At all times, unvaccinated people should wear a mask indoors and maintain social distancing of 6 feet when meeting with people outside their immediate family,\" it said.\"The mask, which should be at least two-ply and preferably three-ply, should cover your nose and mouth.\"Virginia's Department of Health also appears to be encouraging masks at Thanksgiving.THANKSGIVING DINNER: 5 RECIPES TO WIN OVER EVERYONE'S TASTE BUDS \"Planning Thanksgiving with care and love this year means adding masks, hand washing, and vaccinations to your list,\" it said in a tweet.Delaware recommends hosting a gathering outdoors if possible, and keeping the guest list down because \"[s]maller gatherings… enable you to social distance from those who are not vaccinated.\"Dr. Anthony Fauci, director of the National Institute of Allergy and Infectious Diseases, speaks during a Senate Health, Education, Labor, and Pensions Committee hearing on Capitol Hill, Thursday, Nov. 4, 2021, in Washington.Fauci said Americans who are vaccinated should feel good about celebrating Thanksgiving, but did not address what unvaccinated people should do in an ABC interview Sunday.(AP Photo/Alex Brandon) Officials, including the Centers for Disease Control and Prevention, and Dr. Anthony Fauci, President Biden's top coronavirus adviser, are telling people that they can gather with less fear if they are indeed vaccinated and have received their boosters.CLICK HERE TO GET THE FOX NEWS APP \"If you're vaccinated, and hopefully you'll be boosted too, and your family is, you can enjoy a typical Thanksgiving meal, Thanksgiving holiday with your family.There's no reason not to do that,\" Fauci said on ABC's \"This Week\" on Sunday.But Fauci didn't directly address Thanksgiving for unvaccinated people in those comments, and health officials like Washington Secretary of Health Umair Shah say those people especially should be modifying their celebrations.\"There is still risk if you are not vaccinated.We want people to understand that risk.Traveling, gathering, families that may have people who are not fully vaccinated who are coming together, those are people who may be putting themselves or others at risk,\" Shah said last week.Fox News' Megan Welsh contributed to this report.Tyler Olson covers politics for FoxNews.com.You can contact him at tyler.olson@foxnews.com and follow him on Twitter at @TylerOlson1791.Get all the stories you need-to-know from the most powerful name in news delivered first thing every morning to your inbox  Arrives Weekdays   Subscribe   Subscribed        Subscribe   You've successfully subscribed to this newsletter!More from Politics          39 mins ago  Trump-backed candidate's Pennsylvania Senate race exit shakes up GOP primary, opens door to new contenders         1 hour ago  Cruz slams Wisconsin DA, 'radical Leftists' after Waukesha tragedy: 'Fully preventable'         3 hours ago  Psaki says Biden intends to run in 2024 despite plummeting poll numbers         4 hours ago  Republican speaks out after defeating Obama-backed opponent to win mayoral election in South Carolina      Coronavirus  U.S.  Crime Military Education Terror Immigration Economy Personal Freedoms Fox News Investigates World  U.N.Conflicts Terrorism Disasters Global Economy Environment Religion Scandals Opinion  Politics  Executive Senate House Judiciary Foreign Policy Polls Elections Entertainment  Celebrity News Movies TV News Music News Style News Entertainment Video Business  Personal Finance Economy Markets Watchlist Lifestyle Real Estate Tech Lifestyle  Food + Drink Cars + Trucks Travel + Outdoors House + Home Fitness + Well-being Style + Beauty Family Faith Science  Archaeology Air & Space Planet Earth Wild Nature Natural Science Dinosaurs Tech  Security Innovation Drones Computers Video Games Military Tech Health  Coronavirus Healthy Living Medical Research Mental Health Cancer Heart Health Children's Health TV  Shows Personalities Watch Live Full Episodes Show Clips News Clips About  Contact Us Careers Fox Around the World Advertise With Us Media Relations Corporate Information Compliance Supplier Diversity Other  Fox Weather Fox Nation Fox News Shop Fox News Go Fox News Radio Newsletters Podcasts Apps & Products  Facebook  Twitter  Instagram  Youtube  Flipboard  LinkedIn  Slack  RSS  Newsletters  Spotify  iHeartRadio  Fox News  New Terms of Use  New Privacy Policy  Do Not Sell my Personal Information  Closed Captioning Policy  Help  Contact Us  Accessibility Statement  This material may not be published, broadcast, rewritten, or redistributed.©2021 FOX News Network, LLC.All rights reserved.Quotes displayed in real-time or delayed by at least 15 minutes.Market data provided by Factset .Powered and implemented by FactSet Digital Solutions .Legal Statement .Mutual Fund and ETF data provided by Refinitiv Lipper .\n",
            "CPU times: user 3 µs, sys: 0 ns, total: 3 µs\n",
            "Wall time: 5.48 µs\n",
            "10493\n",
            "'everyone you trust the most can have the virus and not know it,' says a spokesman for the u.s. department of health . 'planning Thanksgiving with care and love this year means adding face masks, hand washing, and vaccinations to your list,' it says .\n",
            "   Fox News    U.S.Politics Media Opinion Business Entertainment Sports Lifestyle Weather TV Fox Nation Listen  More  Expand / Collapse search  Login  Watch TV  Menu  Hot Topics     Coronavirus  U.S.  Crime Military Education Terror Immigration Economy Personal Freedoms Fox News Investigates World  U.N.Conflicts Terrorism Disasters Global Economy Environment Religion Scandals Opinion  Politics  Executive Senate House Judiciary Foreign Policy Polls Elections Entertainment  Celebrity News Movies TV News Music News Style News Entertainment Video Business  Personal Finance Economy Markets Watchlist Lifestyle Real Estate Tech Lifestyle  Food + Drink Cars + Trucks Travel + Outdoors House + Home Fitness + Well-being Style + Beauty Family Faith Science  Archaeology Air & Space Planet Earth Wild Nature Natural Science Dinosaurs Tech  Security Innovation Drones Computers Video Games Military Tech Health  Coronavirus Healthy Living Medical Research Mental Health Cancer Heart Health Children's Health TV  Shows Personalities Watch Live Full Episodes Show Clips News Clips About  Contact Us Careers Fox Around the World Advertise With Us Media Relations Corporate Information Compliance Supplier Diversity Other  Fox Weather Fox Nation Fox News Shop Fox News Go Fox News Radio Newsletters Podcasts Apps & Products  Fox News  New Terms of Use  New Privacy Policy  Do Not Sell my Personal Information  Closed Captioning Policy  Help  Contact Us  This material may not be published, broadcast, rewritten,      or redistributed.©2021 FOX News Network, LLC.All rights reserved.Quotes displayed in real-time or delayed by at least 15 minutes.Market data provided by Factset .Powered and implemented by FactSet Digital Solutions .Legal Statement .Mutual Fund and ETF data provided by Refinitiv Lipper .Facebook  Twitter  Instagram  RSS  Email     Holiday  Published  November 9   Thanksgiving history: Traditions and origins, where did it begin?The holiday dates back to the country's origins    By Michael Hollan   | Fox News   Facebook  Twitter  Flipboard  Comments  Print  Email   close   Video  Fox News Flash top headlines for October 15  Fox News Flash top headlines are here.Check out what's clicking on Foxnews.com.Many people know the story behind Thanksgiving , but its history as an actual holiday is a bit more confusing.While people may be excited to get into the Christmas spirit, Thanksgiving has to come first .The holiday is associated with a traditional turkey dinner (that has plenty of sides), along with a thoughtful reflection on everything that people have to be grateful for.President George Washington issued a proclamation that Thursday, November 26, 1789, would be a day of \"public thanksgiving and prayer.\"(iStock) Before it became an official holiday, President George Washington issued a proclamation that Thursday, November 26, 1789 , would be a day of \"public thanksgiving and prayer.\"It wasn’t until 1863, however, that President Abraham Lincoln said that Americans should recognize the last Thursday of every November as a day of Thanksgiving.Thanksgiving became an official national holiday in 1870, along with Christmas, New Year’s Day and Independence Day.At that time, however, it was decided that the President would decide the date of Thanksgiving.Most followed Lincoln’s lead and chose the last Thursday of November.EATING PUMPKIN MAY HELP YOU LOOK YOUNGER AND LOSE WEIGHT, EXPERTS SAY   President Abraham Lincoln said that Americans should recognize the last Thursday of every November as a day of Thanksgiving.(iStock) This continued until President Franklin D. Roosevelt moved it to the third Thursday of November.At the time, the country was still reeling from the Great Depression, and Roosevelt hoped to help businesses by extending the holiday season.The move was controversial, however, and the House passed a bill in October of 1941 that made the last Thursday of November the official date for Thanksgiving.The bill wasn’t signed by Roosevelt until December, however, so it didn’t take effect until the following Thanksgiving.CLICK HERE TO GET THE FOX NEWS APP   Turkey was a popular dish to serve at celebratory dinners and was likely served at the first Thanksgiving.(iStock) While historians may disagree on whether or not turkey was served at the first Thanksgiving, the bird has become synonymous with the holiday.Turkey was a popular meat to serve at most holiday or celebratory dinners .Due to its relative affordability and abundant supply, it became the official meal for Thanksgiving throughout the 19th century.Post-Thanksgiving Black Friday sales are actually a relatively recent addition to the holiday .Some historians believe that the name Black Friday being associated with the holiday actually originated from frustrated factory managers in the 1950s.Apparently, a lot of workers would call out sick the day after Thanksgiving.FOLLOW US ON FACEBOOK FOR MORE FOX LIFESTYLE NEWS The modern meaning behind Black Friday (being the day that businesses make enough money to be in the black financially) seems to have begun in the 1980s.Fun stories about food, relationships, the great outdoors and more.Arrives Weekly   Subscribe   Subscribed        Subscribe   You've successfully subscribed to this newsletter!Coronavirus  U.S.  Crime Military Education Terror Immigration Economy Personal Freedoms Fox News Investigates World  U.N.Conflicts Terrorism Disasters Global Economy Environment Religion Scandals Opinion  Politics  Executive Senate House Judiciary Foreign Policy Polls Elections Entertainment  Celebrity News Movies TV News Music News Style News Entertainment Video Business  Personal Finance Economy Markets Watchlist Lifestyle Real Estate Tech Lifestyle  Food + Drink Cars + Trucks Travel + Outdoors House + Home Fitness + Well-being Style + Beauty Family Faith Science  Archaeology Air & Space Planet Earth Wild Nature Natural Science Dinosaurs Tech  Security Innovation Drones Computers Video Games Military Tech Health  Coronavirus Healthy Living Medical Research Mental Health Cancer Heart Health Children's Health TV  Shows Personalities Watch Live Full Episodes Show Clips News Clips About  Contact Us Careers Fox Around the World Advertise With Us Media Relations Corporate Information Compliance Supplier Diversity Other  Fox Weather Fox Nation Fox News Shop Fox News Go Fox News Radio Newsletters Podcasts Apps & Products  Facebook  Twitter  Instagram  Youtube  Flipboard  LinkedIn  Slack  RSS  Newsletters  Spotify  iHeartRadio  Fox News  New Terms of Use  New Privacy Policy  Do Not Sell my Personal Information  Closed Captioning Policy  Help  Contact Us  Accessibility Statement  This material may not be published, broadcast, rewritten, or redistributed.©2021 FOX News Network, LLC.All rights reserved.Quotes displayed in real-time or delayed by at least 15 minutes.Market data provided by Factset .Powered and implemented by FactSet Digital Solutions .Legal Statement .Mutual Fund and ETF data provided by Refinitiv Lipper .\n",
            "CPU times: user 3 µs, sys: 0 ns, total: 3 µs\n",
            "Wall time: 6.2 µs\n",
            "7011\n",
            "Thanksgiving became an official national holiday in 1870, along with Christmas, New Year’s Day and Independence Day . it wasn’t until 1863, however, that President Abraham Lincoln said that Americans should recognize the last Thursday of every November as a day of Thanksgiving .\n",
            "   Fox News    U.S.Politics Media Opinion Business Entertainment Sports Lifestyle Weather TV Fox Nation Listen  More  Expand / Collapse search  Login  Watch TV  Menu  Hot Topics     Coronavirus  U.S.  Crime Military Education Terror Immigration Economy Personal Freedoms Fox News Investigates World  U.N.Conflicts Terrorism Disasters Global Economy Environment Religion Scandals Opinion  Politics  Executive Senate House Judiciary Foreign Policy Polls Elections Entertainment  Celebrity News Movies TV News Music News Style News Entertainment Video Business  Personal Finance Economy Markets Watchlist Lifestyle Real Estate Tech Lifestyle  Food + Drink Cars + Trucks Travel + Outdoors House + Home Fitness + Well-being Style + Beauty Family Faith Science  Archaeology Air & Space Planet Earth Wild Nature Natural Science Dinosaurs Tech  Security Innovation Drones Computers Video Games Military Tech Health  Coronavirus Healthy Living Medical Research Mental Health Cancer Heart Health Children's Health TV  Shows Personalities Watch Live Full Episodes Show Clips News Clips About  Contact Us Careers Fox Around the World Advertise With Us Media Relations Corporate Information Compliance Supplier Diversity Other  Fox Weather Fox Nation Fox News Shop Fox News Go Fox News Radio Newsletters Podcasts Apps & Products  Fox News  New Terms of Use  New Privacy Policy  Do Not Sell my Personal Information  Closed Captioning Policy  Help  Contact Us  This material may not be published, broadcast, rewritten,      or redistributed.©2021 FOX News Network, LLC.All rights reserved.Quotes displayed in real-time or delayed by at least 15 minutes.Market data provided by Factset .Powered and implemented by FactSet Digital Solutions .Legal Statement .Mutual Fund and ETF data provided by Refinitiv Lipper .Facebook  Twitter  Instagram  RSS  Email     Coronavirus  Published  3 hours ago   US COVID-19 deaths in 2021 surpass 2020's toll  More than 5M people worldwide have died from COVID-19    By Julia Musto   | Fox News   Facebook  Twitter  Flipboard   Print  Email   close   Video  Fox News Flash top headlines for November 23  Fox News Flash top headlines are here.Check out what's clicking on Foxnews.com.COVID-19 deaths in 2021 surpassed the total from 2020 this week, with U.S. Centers for Disease Control and Prevention (CDC) data showing cases rising around the country ahead of the Thanksgiving holiday .There have been 771,576 deaths due to the virus since the pandemic started, though that number is currently trending downward.Since Jan. 1 of this year, 386,233 people have died due to the virus, compared with last year's toll of 385,343.COVID VACCINE MANDATE 'WILL NOT IMPACT HOLIDAY TRAVEL,' TSA SAYS, REPORTING 93% OF EMPLOYEES IN COMPLIANCE In 2020, COVID-19 was the third leading cause of death in the U.S., according to an April CDC report on provisional mortality data in the U.S., and figures only account for reported deaths.The global death toll from the pandemic topped 5 million on Monday.The U.S. is averaging more than 90,000 new infections daily and total cases number in the tens of millions.People visit the 'In America: Remember' public art installation near the Washington Monument on the National Mall on Monday, Sept. 20, 2021 in Washington, D.C. (Kent Nishimura / Los Angeles Times via Getty Images) CDC Director Rochelle Walensky said Monday that the seven-day average of reported coronavirus infections has increased by 18%.Connecticut , for example, is experiencing a more rapid increase in cases than any other state, averaging 738 daily cases over the last week.The state’s seven-day positivity rate of 3.07% is the highest since early September, and average daily cases are the highest since mid-September.According to state data, unvaccinated residents are four times more likely to test positive than those who are vaccinated and make up the vast majority of those hospitalized with serious symptoms.As of last week, 74% of all residents had received at least one dose of a COVID-19 vaccine, according to the state.95% OF FEDERAL WORKFORCE IS IN COMPLIANCE WITH BIDEN VACCINE REQUIREMENT: SENIOR ADMINISTRATION OFFICIAL Doctors have said that the spike is a sign that residents need to be more cautious and continue to follow best practices like masking.\"We need to embrace normalcy at this point, but we need to be smart about it,\" Dr. Ulysses Wu, an infectious disease specialist at Hartford HealthCare, told the Hartford Courant.\"Who are the people you are going to be hanging out with, how many people are going to be coming, and what is their vaccination status?\"Four of the five states with the highest recent increase in virus cases are in New England, the newspaper said.Other hot spots have developed in cold-weather states like Michigan, Minnesota and New York , causing hospitals to scramble.Walensky and National Institute of Allergy and Infectious Diseases Director Anthony Fauci have pushed for the roughly 60 million unvaccinated Americans to get the shot, and last week , the U.S. Food and Drug Administration and CDC recommended booster shots for all adults 18 and older who received a Pfizer/BioNTech or Moderna vaccine at least six months after their second dose.Video More than 36 million people have already received a dose of vaccine beyond their original vaccination.While all three vaccines used in the U.S. continue to offer strong protection against severe COVID-19 illness and death, the shots’ effectiveness against milder infection can wane over time.\"Heading into the winter months, when respiratory viruses are more likely to spread, and with plans for increased holiday season travel and gatherings, boosting people’s overall protection against COVID-19 disease and death was important to do now,\" Walensky said.CLICK HERE TO GET THE FOX NEWS APP \"Most tragic are the vaccine-preventable deaths we are still seeing from this disease,\" she said.\"Even in our updated data, unvaccinated people are at 14 times greater risk of dying from COVID-19 than people who are vaccinated.\"The Associated Press contributed to this report.Julia Musto is a reporter for Fox News Digital.You can find her on Twitter at @JuliaElenaMusto.Stay up-to-date on the biggest health and wellness news with our weekly recap.Arrives Weekly   Subscribe   Subscribed        Subscribe   You've successfully subscribed to this newsletter!Coronavirus  U.S.  Crime Military Education Terror Immigration Economy Personal Freedoms Fox News Investigates World  U.N.Conflicts Terrorism Disasters Global Economy Environment Religion Scandals Opinion  Politics  Executive Senate House Judiciary Foreign Policy Polls Elections Entertainment  Celebrity News Movies TV News Music News Style News Entertainment Video Business  Personal Finance Economy Markets Watchlist Lifestyle Real Estate Tech Lifestyle  Food + Drink Cars + Trucks Travel + Outdoors House + Home Fitness + Well-being Style + Beauty Family Faith Science  Archaeology Air & Space Planet Earth Wild Nature Natural Science Dinosaurs Tech  Security Innovation Drones Computers Video Games Military Tech Health  Coronavirus Healthy Living Medical Research Mental Health Cancer Heart Health Children's Health TV  Shows Personalities Watch Live Full Episodes Show Clips News Clips About  Contact Us Careers Fox Around the World Advertise With Us Media Relations Corporate Information Compliance Supplier Diversity Other  Fox Weather Fox Nation Fox News Shop Fox News Go Fox News Radio Newsletters Podcasts Apps & Products  Facebook  Twitter  Instagram  Youtube  Flipboard  LinkedIn  Slack  RSS  Newsletters  Spotify  iHeartRadio  Fox News  New Terms of Use  New Privacy Policy  Do Not Sell my Personal Information  Closed Captioning Policy  Help  Contact Us  Accessibility Statement  This material may not be published, broadcast, rewritten, or redistributed.©2021 FOX News Network, LLC.All rights reserved.Quotes displayed in real-time or delayed by at least 15 minutes.Market data provided by Factset .Powered and implemented by FactSet Digital Solutions .Legal Statement .Mutual Fund and ETF data provided by Refinitiv Lipper .\n",
            "CPU times: user 3 µs, sys: 1e+03 ns, total: 4 µs\n",
            "Wall time: 6.2 µs\n",
            "8114\n",
            "more than 5 million people worldwide have died from COVID-19 since the pandemic started on monday . the u.s. is averaging more than 90,000 new infections daily and total cases number in the tens of millions . unvaccinated people are four times more likely to test positive than those who are . at least six months after their second dose .\n",
            "   Fox News    U.S.Politics Media Opinion Business Entertainment Sports Lifestyle Weather TV Fox Nation Listen  More  Expand / Collapse search  Login  Watch TV  Menu  Hot Topics     Coronavirus  U.S.  Crime Military Education Terror Immigration Economy Personal Freedoms Fox News Investigates World  U.N.Conflicts Terrorism Disasters Global Economy Environment Religion Scandals Opinion  Politics  Executive Senate House Judiciary Foreign Policy Polls Elections Entertainment  Celebrity News Movies TV News Music News Style News Entertainment Video Business  Personal Finance Economy Markets Watchlist Lifestyle Real Estate Tech Lifestyle  Food + Drink Cars + Trucks Travel + Outdoors House + Home Fitness + Well-being Style + Beauty Family Faith Science  Archaeology Air & Space Planet Earth Wild Nature Natural Science Dinosaurs Tech  Security Innovation Drones Computers Video Games Military Tech Health  Coronavirus Healthy Living Medical Research Mental Health Cancer Heart Health Children's Health TV  Shows Personalities Watch Live Full Episodes Show Clips News Clips About  Contact Us Careers Fox Around the World Advertise With Us Media Relations Corporate Information Compliance Supplier Diversity Other  Fox Weather Fox Nation Fox News Shop Fox News Go Fox News Radio Newsletters Podcasts Apps & Products  Fox News  New Terms of Use  New Privacy Policy  Do Not Sell my Personal Information  Closed Captioning Policy  Help  Contact Us  This material may not be published, broadcast, rewritten,      or redistributed.©2021 FOX News Network, LLC.All rights reserved.Quotes displayed in real-time or delayed by at least 15 minutes.Market data provided by Factset .Powered and implemented by FactSet Digital Solutions .Legal Statement .Mutual Fund and ETF data provided by Refinitiv Lipper .Facebook  Twitter  Instagram  RSS  Email     Media  Published  1 day ago   Critics pan Thanksgiving advice in New York Times that kids who aren't fully vaccinated should 'eat quickly'  'This is pure insanity'    By Brandon Gillespie   | Fox News   Facebook  Twitter  Flipboard  Comments  Print  Email   close   Video  Media top headlines November 22  In media news today, Winsome Sears and CNN spar over critical race theory, CBS' Face the Nation' continues to claim Rittenhouse crossed state lines 'armed for battle,' and The Associated Press accuses Republicans of using Rittenhouse case 'to exploit national divide' on race An article for The New York Times offering advice on how to mitigate coronavirus risks at family Thanksgiving gatherings featured an expert calling on kids aren't fully vaccinated to \"eat quickly.\"\"If our child, 9, and a cousin, 10, have each received one dose of the vaccine two weeks prior to Thanksgiving, is it safe for us to eat indoors?There will be about 20 guests, all vaccinated, and the 65 and older crowd have all received boosters,\" one reader from San Francisco asked in the essay.4 SMART TIPS FOR THANKSGIVING TRAVEL \"I’m glad to hear that the children and all guests are vaccinated.As the kids will not be fully vaccinated until two weeks after their second shot, I think some care is warranted, especially because some attendees are 65 and older and thus at greater risk of more serious breakthrough infections.You could have the kids wear masks, eat quickly and stay away from the older adults when eating,\" Virginia Tech engineering professor Dr. Linsey Marr wrote in response.Children wear a masks and wait for U.S. President Joe Biden to visit her pre-Kindergarten class at East End Elementary School to highlight the early childhood education proposal in his Build Back Better infrastructure agenda in North Plainfield, New Jersey, U.S. October 25, 2021.REUTERS/Jonathan Ernst (REUTERS/Jonathan Ernst) According to The Times , Marr studies airborne transmission of viruses.Critics took to social media to blast the advice, with one describing it as \"pure insanity,\" and another suggesting people like Marr had \"completely lost their minds.\"FILE PHOTO: A child reacts while receiving a dose of the Pfizer-BioNTech coronavirus disease (COVID-19) vaccine at Smoketown Family Wellness Center in Louisville, Kentucky, U.S., November 8, 2021.REUTERS/Jon Cherry/File Photo (REUTERS/Jon Cherry/File Photo) \"Someone who tells my kids to eat quickly and remask will not have to see them at all because we ain’t coming,\" wrote another critic.CDC BOSS WALENSKY SAYS SCHOOLS SHOULD KEEP MASK MANDATES EVEN IF KIDS ARE VACCINATED \"How about if you’re that worried, you don’t go to Thanksgiving since the whole point of the holiday is to break bread together,\" wrote one critic, while another wrote, \"I hope the kids don't choke from eating too fast.\"FILE PHOTO: Pfizer/BioNTech's new pediatric COVID-19 vaccine vials are seen in this undated handout photo.Pfizer/Handout via REUTERS ATTENTION EDITORS - THIS IMAGE HAS BEEN SUPPLIED BY A THIRD PARTY.MANDATORY CREDIT/File Photo (Pfizer/Handout via REUTERS ATTENTION EDITORS - THIS IMAGE HAS BEEN SUPPLIED BY A THIRD PARTY.MANDATORY CREDIT/File Photo) CLICK HERE TO GET THE FOX NEWS APP According to the Centers for Disease Control and Prevention (CDC), everyone eligible for the coronavirus vaccine should get vaccinated .All who are not fully vaccinated should wear a mask during indoor gatherings.Those who are fully vaccinated should also wear a mask indoors if in a community with substantial to high transmission of the coronavirus.Brandon Gillespie is an associate editor at Fox News.Follow him on Twitter at @brandon_cg.Get all the stories you need-to-know from the most powerful name in news delivered first thing every morning to your inbox  Arrives Weekdays   Subscribe   Subscribed        Subscribe   You've successfully subscribed to this newsletter!Coronavirus  U.S.  Crime Military Education Terror Immigration Economy Personal Freedoms Fox News Investigates World  U.N.Conflicts Terrorism Disasters Global Economy Environment Religion Scandals Opinion  Politics  Executive Senate House Judiciary Foreign Policy Polls Elections Entertainment  Celebrity News Movies TV News Music News Style News Entertainment Video Business  Personal Finance Economy Markets Watchlist Lifestyle Real Estate Tech Lifestyle  Food + Drink Cars + Trucks Travel + Outdoors House + Home Fitness + Well-being Style + Beauty Family Faith Science  Archaeology Air & Space Planet Earth Wild Nature Natural Science Dinosaurs Tech  Security Innovation Drones Computers Video Games Military Tech Health  Coronavirus Healthy Living Medical Research Mental Health Cancer Heart Health Children's Health TV  Shows Personalities Watch Live Full Episodes Show Clips News Clips About  Contact Us Careers Fox Around the World Advertise With Us Media Relations Corporate Information Compliance Supplier Diversity Other  Fox Weather Fox Nation Fox News Shop Fox News Go Fox News Radio Newsletters Podcasts Apps & Products  Facebook  Twitter  Instagram  Youtube  Flipboard  LinkedIn  Slack  RSS  Newsletters  Spotify  iHeartRadio  Fox News  New Terms of Use  New Privacy Policy  Do Not Sell my Personal Information  Closed Captioning Policy  Help  Contact Us  Accessibility Statement  This material may not be published, broadcast, rewritten, or redistributed.©2021 FOX News Network, LLC.All rights reserved.Quotes displayed in real-time or delayed by at least 15 minutes.Market data provided by Factset .Powered and implemented by FactSet Digital Solutions .Legal Statement .Mutual Fund and ETF data provided by Refinitiv Lipper .\n",
            "CPU times: user 3 µs, sys: 0 ns, total: 3 µs\n",
            "Wall time: 6.2 µs\n",
            "7484\n",
            "the CDC recommends everyone who is eligible for the coronavirus vaccine get vaccinated before Thanksgiving . 'if our child, 9, and a cousin, 10, have each received one dose of the vaccine two weeks prior to Thanksgiving, is it safe for us to eat indoors?' wrote one critic . \"I hope the kids don't choke from eating too fast,\" wrote another .\n"
          ]
        }
      ]
    },
    {
      "cell_type": "code",
      "metadata": {
        "colab": {
          "base_uri": "https://localhost:8080/"
        },
        "id": "1KI_l5EkYlap",
        "outputId": "af6876d3-0a88-4e14-f239-3547ea8e4a0c"
      },
      "source": [
        "len(summary_text_array)\n"
      ],
      "execution_count": 36,
      "outputs": [
        {
          "output_type": "execute_result",
          "data": {
            "text/plain": [
              "6"
            ]
          },
          "metadata": {},
          "execution_count": 36
        }
      ]
    },
    {
      "cell_type": "markdown",
      "metadata": {
        "id": "uK2bfSaqF1dw"
      },
      "source": [
        "## Distillation 1 - Parts of Speech"
      ]
    },
    {
      "cell_type": "code",
      "metadata": {
        "colab": {
          "base_uri": "https://localhost:8080/"
        },
        "id": "pcL8ySPD9WMv",
        "outputId": "34ff588e-e138-4458-8d52-53ae016e5960"
      },
      "source": [
        "import nltk\n",
        "nltk.download('averaged_perceptron_tagger')\n",
        "from nltk.tokenize import word_tokenize\n",
        "for summary_text in summary_text_array:\n",
        "  tokenized_text = word_tokenize(summary_text)\n",
        "  pos_output = nltk.pos_tag(tokenized_text)\n",
        "  print(pos_output)\n",
        "  "
      ],
      "execution_count": 38,
      "outputs": [
        {
          "output_type": "stream",
          "name": "stdout",
          "text": [
            "[nltk_data] Downloading package averaged_perceptron_tagger to\n",
            "[nltk_data]     /root/nltk_data...\n",
            "[nltk_data]   Package averaged_perceptron_tagger is already up-to-\n",
            "[nltk_data]       date!\n",
            "[('israeli', 'JJ'), ('biotechnology', 'NN'), ('company', 'NN'), ('Bonus', 'NNP'), ('BioGroup', 'NNP'), ('’', 'NNP'), ('s', 'NN'), ('cell', 'NN'), ('therapy', 'NN'), ('MesenCure', 'NNP'), ('was', 'VBD'), ('administered', 'VBN'), ('to', 'TO'), ('50', 'CD'), ('hospitalized', 'VBN'), ('COVID-19', 'JJ'), ('patients', 'NNS'), ('suffering', 'VBG'), ('from', 'IN'), ('life-threatening', 'JJ'), ('pneumonia', 'NN'), ('and', 'CC'), ('respiratory', 'NN'), ('distress', 'NN'), ('.', '.'), ('it', 'PRP'), ('found', 'VBD'), ('that', 'IN'), ('nearly', 'RB'), ('all', 'DT'), ('patients', 'NNS'), ('taking', 'VBG'), ('the', 'DT'), ('drug', 'NN'), ('survived', 'VBD'), ('.', '.'), ('bonus', 'NN'), ('biogroup', 'NN'), ('has', 'VBZ'), ('been', 'VBN'), ('seeking', 'VBG'), ('emergency', 'NN'), ('use', 'NN'), ('approval', 'NN'), ('for', 'IN'), ('the', 'DT'), ('drug', 'NN'), ('in', 'IN'), ('Israel', 'NNP'), ('.', '.')]\n",
            "[('osha', 'NN'), ('says', 'VBZ'), ('it', 'PRP'), ('will', 'MD'), ('``', '``'), ('take', 'VB'), ('no', 'DT'), ('steps', 'NNS'), ('to', 'TO'), ('implement', 'VB'), ('or', 'CC'), ('enforce', 'VB'), (\"''\", \"''\"), ('the', 'DT'), ('stay', 'NN'), ('until', 'IN'), ('further', 'JJ'), ('court', 'NN'), ('order', 'NN'), ('.', '.'), ('a', 'DT'), ('recent', 'JJ'), ('poll', 'NN'), ('showed', 'VBD'), ('that', 'IN'), ('60', 'CD'), ('%', 'NN'), ('of', 'IN'), ('business', 'NN'), ('leaders', 'NNS'), ('wanted', 'VBD'), ('to', 'TO'), ('move', 'VB'), ('forward', 'RB'), ('on', 'IN'), ('their', 'PRP$'), ('own', 'JJ'), ('with', 'IN'), ('vaccine', 'JJ'), ('requirement', 'NN'), ('.', '.')]\n",
            "[(\"'everyone\", 'CD'), ('you', 'PRP'), ('trust', 'VBP'), ('the', 'DT'), ('most', 'RBS'), ('can', 'MD'), ('have', 'VB'), ('the', 'DT'), ('virus', 'NN'), ('and', 'CC'), ('not', 'RB'), ('know', 'VB'), ('it', 'PRP'), (',', ','), (\"'\", \"''\"), ('says', 'VBZ'), ('a', 'DT'), ('spokesman', 'NN'), ('for', 'IN'), ('the', 'DT'), ('u.s.', 'JJ'), ('department', 'NN'), ('of', 'IN'), ('health', 'NN'), ('.', '.'), (\"'planning\", 'VBG'), ('Thanksgiving', 'VBG'), ('with', 'IN'), ('care', 'NN'), ('and', 'CC'), ('love', 'VB'), ('this', 'DT'), ('year', 'NN'), ('means', 'VBZ'), ('adding', 'VBG'), ('face', 'NN'), ('masks', 'NNS'), (',', ','), ('hand', 'NN'), ('washing', 'NN'), (',', ','), ('and', 'CC'), ('vaccinations', 'NNS'), ('to', 'TO'), ('your', 'PRP$'), ('list', 'NN'), (',', ','), (\"'\", \"''\"), ('it', 'PRP'), ('says', 'VBZ'), ('.', '.')]\n",
            "[('Thanksgiving', 'VBG'), ('became', 'VBD'), ('an', 'DT'), ('official', 'JJ'), ('national', 'JJ'), ('holiday', 'NN'), ('in', 'IN'), ('1870', 'CD'), (',', ','), ('along', 'IN'), ('with', 'IN'), ('Christmas', 'NNP'), (',', ','), ('New', 'NNP'), ('Year', 'NNP'), ('’', 'NNP'), ('s', 'VBD'), ('Day', 'NNP'), ('and', 'CC'), ('Independence', 'NNP'), ('Day', 'NNP'), ('.', '.'), ('it', 'PRP'), ('wasn', 'VBD'), ('’', 'NNP'), ('t', 'NN'), ('until', 'IN'), ('1863', 'CD'), (',', ','), ('however', 'RB'), (',', ','), ('that', 'IN'), ('President', 'NNP'), ('Abraham', 'NNP'), ('Lincoln', 'NNP'), ('said', 'VBD'), ('that', 'IN'), ('Americans', 'NNPS'), ('should', 'MD'), ('recognize', 'VB'), ('the', 'DT'), ('last', 'JJ'), ('Thursday', 'NNP'), ('of', 'IN'), ('every', 'DT'), ('November', 'NNP'), ('as', 'IN'), ('a', 'DT'), ('day', 'NN'), ('of', 'IN'), ('Thanksgiving', 'NNP'), ('.', '.')]\n",
            "[('more', 'JJR'), ('than', 'IN'), ('5', 'CD'), ('million', 'CD'), ('people', 'NNS'), ('worldwide', 'RB'), ('have', 'VBP'), ('died', 'VBN'), ('from', 'IN'), ('COVID-19', 'NNP'), ('since', 'IN'), ('the', 'DT'), ('pandemic', 'NN'), ('started', 'VBD'), ('on', 'IN'), ('monday', 'NN'), ('.', '.'), ('the', 'DT'), ('u.s.', 'NN'), ('is', 'VBZ'), ('averaging', 'VBG'), ('more', 'JJR'), ('than', 'IN'), ('90,000', 'CD'), ('new', 'JJ'), ('infections', 'NNS'), ('daily', 'RB'), ('and', 'CC'), ('total', 'JJ'), ('cases', 'NNS'), ('number', 'NN'), ('in', 'IN'), ('the', 'DT'), ('tens', 'NNS'), ('of', 'IN'), ('millions', 'NNS'), ('.', '.'), ('unvaccinated', 'JJ'), ('people', 'NNS'), ('are', 'VBP'), ('four', 'CD'), ('times', 'NNS'), ('more', 'RBR'), ('likely', 'JJ'), ('to', 'TO'), ('test', 'VB'), ('positive', 'JJ'), ('than', 'IN'), ('those', 'DT'), ('who', 'WP'), ('are', 'VBP'), ('.', '.'), ('at', 'IN'), ('least', 'JJS'), ('six', 'CD'), ('months', 'NNS'), ('after', 'IN'), ('their', 'PRP$'), ('second', 'JJ'), ('dose', 'NN'), ('.', '.')]\n",
            "[('the', 'DT'), ('CDC', 'NNP'), ('recommends', 'VBZ'), ('everyone', 'NN'), ('who', 'WP'), ('is', 'VBZ'), ('eligible', 'JJ'), ('for', 'IN'), ('the', 'DT'), ('coronavirus', 'NN'), ('vaccine', 'NN'), ('get', 'NN'), ('vaccinated', 'VBN'), ('before', 'IN'), ('Thanksgiving', 'NNP'), ('.', '.'), (\"'if\", 'VB'), ('our', 'PRP$'), ('child', 'NN'), (',', ','), ('9', 'CD'), (',', ','), ('and', 'CC'), ('a', 'DT'), ('cousin', 'NN'), (',', ','), ('10', 'CD'), (',', ','), ('have', 'VBP'), ('each', 'DT'), ('received', 'VBD'), ('one', 'CD'), ('dose', 'NN'), ('of', 'IN'), ('the', 'DT'), ('vaccine', 'NN'), ('two', 'CD'), ('weeks', 'NNS'), ('prior', 'RB'), ('to', 'TO'), ('Thanksgiving', 'NNP'), (',', ','), ('is', 'VBZ'), ('it', 'PRP'), ('safe', 'JJ'), ('for', 'IN'), ('us', 'PRP'), ('to', 'TO'), ('eat', 'VB'), ('indoors', 'NNS'), ('?', '.'), (\"'\", \"''\"), ('wrote', 'VBD'), ('one', 'CD'), ('critic', 'NN'), ('.', '.'), ('``', '``'), ('I', 'PRP'), ('hope', 'VBP'), ('the', 'DT'), ('kids', 'NNS'), ('do', 'VBP'), (\"n't\", 'RB'), ('choke', 'VB'), ('from', 'IN'), ('eating', 'VBG'), ('too', 'RB'), ('fast', 'RB'), (',', ','), (\"''\", \"''\"), ('wrote', 'VBD'), ('another', 'DT'), ('.', '.')]\n"
          ]
        }
      ]
    },
    {
      "cell_type": "markdown",
      "metadata": {
        "id": "G8CuyGBSFfe4"
      },
      "source": [
        "## Distillation 2 - Named entity recognition"
      ]
    },
    {
      "cell_type": "code",
      "metadata": {
        "colab": {
          "base_uri": "https://localhost:8080/"
        },
        "id": "cCuhZquX_Pf8",
        "outputId": "22aaf491-0c7f-4cc5-c632-393accda1332"
      },
      "source": [
        "\n",
        "#spaCy is an NLP Framework -- easy to use and having ability to use neural networks\n",
        "import en_core_web_sm\n",
        "nlp = en_core_web_sm.load()\n",
        "for summary_text in summary_text_array:\n",
        "  doc = nlp(summary_text)\n",
        "  print(doc.ents)\n",
        "  print([(X.text, X.label_) for X in doc.ents])"
      ],
      "execution_count": 40,
      "outputs": [
        {
          "output_type": "stream",
          "name": "stdout",
          "text": [
            "(israeli, Bonus BioGroup, MesenCure, 50, bonus biogroup, Israel)\n",
            "[('israeli', 'NORP'), ('Bonus BioGroup', 'ORG'), ('MesenCure', 'PRODUCT'), ('50', 'CARDINAL'), ('bonus biogroup', 'ORG'), ('Israel', 'GPE')]\n",
            "(osha, 60%)\n",
            "[('osha', 'ORG'), ('60%', 'PERCENT')]\n",
            "(the u.s. department of health . ', Thanksgiving, this year)\n",
            "[(\"the u.s. department of health . '\", 'ORG'), ('Thanksgiving', 'DATE'), ('this year', 'DATE')]\n",
            "(Thanksgiving, 1870, Christmas, New Year’s Day and Independence Day, 1863, Abraham Lincoln, Americans, the last Thursday)\n",
            "[('Thanksgiving', 'DATE'), ('1870', 'DATE'), ('Christmas', 'DATE'), ('New Year’s Day and Independence Day', 'EVENT'), ('1863', 'DATE'), ('Abraham Lincoln', 'PERSON'), ('Americans', 'NORP'), ('the last Thursday', 'DATE')]\n",
            "(more than 5 million, monday, u.s., more than 90,000, the tens of millions, four, at least six months, second)\n",
            "[('more than 5 million', 'CARDINAL'), ('monday', 'DATE'), ('u.s.', 'GPE'), ('more than 90,000', 'CARDINAL'), ('the tens of millions', 'MONEY'), ('four', 'CARDINAL'), ('at least six months', 'DATE'), ('second', 'ORDINAL')]\n",
            "(CDC, Thanksgiving, 9, 10, one, two weeks, Thanksgiving, one)\n",
            "[('CDC', 'ORG'), ('Thanksgiving', 'DATE'), ('9', 'CARDINAL'), ('10', 'CARDINAL'), ('one', 'CARDINAL'), ('two weeks', 'DATE'), ('Thanksgiving', 'DATE'), ('one', 'CARDINAL')]\n"
          ]
        }
      ]
    },
    {
      "cell_type": "markdown",
      "metadata": {
        "id": "kokgqyOm9WMv"
      },
      "source": [
        "<div class=\"alert alert-info\" style=\"background-color:#5d3a8e; color:white; padding:0px 10px; border-radius:5px;\"><h2 style='margin:10px 5px'> Part 2: NLP POS Substitutions and Tones for Poets</h2>\n",
        "</div>\n",
        "\n",
        "#### Find 2 poems from 2 poets for example Robert Bly and Emily Dickison (One each shown below)"
      ]
    },
    {
      "cell_type": "markdown",
      "metadata": {
        "id": "_SLm-A9m9WMw"
      },
      "source": [
        "\n",
        "<li> Pick a poem from two poets, A, B\n",
        "<li> Do two distillations including:  POS, embeddings\n",
        "    POS do the following \n",
        "    do embeddings to find which poets are closest to each other in style\n",
        "<li> Store each POS for each poet\n",
        "<li> replace poet A POS with poet B  POS based in semantic similarity "
      ]
    },
    {
      "cell_type": "code",
      "metadata": {
        "id": "0rqHnyFX9WMw"
      },
      "source": [
        "bly={\n",
        "    'title':'And Now It’s September',\n",
        "    'poem':'and the garden diminishes: cucumber leaves rumpled and rusty, zucchini felled by borers, tomatoes sparse on the vines. But out in the perennial beds, there’s one last blast of color: ignitions of goldenrod, flamboyant asters, spiraling mums, all those flashy spikes waving in the wind, conducting summer’s final notes. The ornamental grasses have gone to seed, haloed in the last light. Nights grow chilly, but the days are still warm; I wear the sun like a shawl on my neck and arms. Hundreds of blackbirds ribbon in, settle in the trees, so many black leaves, then, just as suddenly, they’re gone. This is autumn’s great Departure Gate, and everyone, boarding passes in hand, waits patiently in a long, long line.',\n",
        "    'book': 'Stealing Sugar from the Castle: Selected and New Poems, 1950-2013 . W. W. Norton & Company. Kindle Edition. '\n",
        "}\n",
        "\n",
        "\n",
        "emily_dickinson={\n",
        "    'title':'poem 48',\n",
        "    'poem':'Sober for once, for what—for the words to budge. We spent summer propped up-by each others stuttering.There are seasons here if you squint. And theres relief in the landscapes sloughed off cusps of color fallen over the familiar landmarks, the familiar trash—things that last. ',\n",
        "    'book':'JOSEPH MASSE'\n",
        "}\n",
        "\n",
        "# http://www.wisdomportal.com/Columba/EmilyDickinson-Dove.html\n",
        "# https://www.poetryfoundation.org/poets/robert-bly\n",
        "\n",
        "tokenized_text1 = word_tokenize(bly['poem'])\n",
        "bly_pos= nltk.pos_tag(tokenized_text1)\n",
        "\n",
        "tokenized_text2 = word_tokenize(emily_dickinson['poem'])\n",
        "emily_pos= nltk.pos_tag(tokenized_text2)"
      ],
      "execution_count": 44,
      "outputs": []
    },
    {
      "cell_type": "code",
      "metadata": {
        "id": "UEbEK3Wl9WMx",
        "colab": {
          "base_uri": "https://localhost:8080/"
        },
        "outputId": "712beaa0-3304-48e4-b97f-6c181d6cf94c"
      },
      "source": [
        "print (bly_pos)"
      ],
      "execution_count": 15,
      "outputs": [
        {
          "output_type": "stream",
          "name": "stdout",
          "text": [
            "[('The', 'DT'), ('dove', 'NN'), ('returns', 'VBZ'), (';', ':'), ('it', 'PRP'), ('found', 'VBD'), ('no', 'DT'), ('resting', 'VBG'), ('place', 'NN'), (';', ':'), ('It', 'PRP'), ('was', 'VBD'), ('in', 'IN'), ('flight', 'NN'), ('all', 'DT'), ('night', 'NN'), ('above', 'IN'), ('the', 'DT'), ('shaken', 'JJ'), ('seas', 'NN'), ('.', '.'), ('Beneath', 'NNP'), ('Ark', 'NNP'), ('eaves', 'VBZ'), ('The', 'DT'), ('dove', 'NN'), ('shall', 'MD'), ('magnify', 'VB'), ('the', 'DT'), ('tiger', 'NN'), ('’', 'NNP'), ('s', 'NN'), ('bed', 'VBD'), (';', ':'), ('Give', 'VB'), ('the', 'DT'), ('dove', 'NN'), ('peace', 'NN'), ('.', '.'), ('The', 'DT'), ('split-tail', 'JJ'), ('swallows', 'NNS'), ('leave', 'VBP'), ('the', 'DT'), ('sill', 'NN'), ('at', 'IN'), ('dawn', 'NN'), (';', ':'), ('At', 'IN'), ('dusk', 'NN'), ('blue', 'NN'), ('swallows', 'VBZ'), ('shall', 'MD'), ('return', 'VB'), ('.', '.'), ('On', 'IN'), ('the', 'DT'), ('third', 'JJ'), ('day', 'NN'), ('the', 'DT'), ('crow', 'NN'), ('shall', 'MD'), ('fly', 'VB'), (';', ':'), ('The', 'DT'), ('crow', 'NN'), (',', ','), ('the', 'DT'), ('crow', 'NN'), (',', ','), ('the', 'DT'), ('spider-colored', 'JJ'), ('crow', 'NN'), (',', ','), ('The', 'DT'), ('crow', 'NN'), ('shall', 'MD'), ('find', 'VB'), ('new', 'JJ'), ('mud', 'NN'), ('to', 'TO'), ('walk', 'VB'), ('upoRobert', 'JJ'), ('.', '.')]\n"
          ]
        }
      ]
    },
    {
      "cell_type": "code",
      "metadata": {
        "id": "Yp4JgtZJ9WMy",
        "colab": {
          "base_uri": "https://localhost:8080/"
        },
        "outputId": "a15029d0-c08c-4b12-86cb-5fcb289d8181"
      },
      "source": [
        "print (emily_pos)"
      ],
      "execution_count": 16,
      "outputs": [
        {
          "output_type": "stream",
          "name": "stdout",
          "text": [
            "[('Once', 'RB'), ('more', 'JJR'), (',', ','), ('my', 'PRP$'), ('now', 'RB'), ('bewildered', 'VBN'), ('Dove', 'NNP'), (',', ','), ('Bestirs', 'NNP'), ('her', 'PRP$'), ('puzzled', 'JJ'), ('wings', 'NNS'), (',', ','), ('Once', 'RB'), ('more', 'RBR'), ('her', 'PRP$'), ('mistress', 'NN'), (',', ','), ('on', 'IN'), ('the', 'DT'), ('deep', 'JJ'), (',', ','), ('Her', 'NNP'), ('troubled', 'VBD'), ('question', 'NN'), ('flings—', 'NN'), (',', ','), ('Thrice', 'NNP'), ('to', 'TO'), ('the', 'DT'), ('floating', 'VBG'), ('casement', 'NN'), (',', ','), ('The', 'DT'), ('Patriarchs', 'NNP'), ('bird', 'NN'), ('returned', 'VBD'), (',', ','), ('Courage', 'NN'), ('!', '.'), ('My', 'PRP$'), ('brave', 'JJ'), ('Columba', 'NNP'), ('!', '.'), (',', ','), ('There', 'EX'), ('may', 'MD'), ('yet', 'RB'), ('be', 'VB'), ('Land', 'NN'), ('!', '.')]\n"
          ]
        }
      ]
    },
    {
      "cell_type": "markdown",
      "metadata": {
        "id": "f1Ww-RSmGqC7"
      },
      "source": [
        "## Swapping Verb Logic"
      ]
    },
    {
      "cell_type": "code",
      "metadata": {
        "id": "fyCL377ZJlWj"
      },
      "source": [
        "def first_chunk_index(chunk, pred, start=0, step=1):\n",
        "\t\n",
        "\tl = len(chunk)\n",
        "\tend = l if step > 0 else -1\n",
        "\t\n",
        "\tfor i in range(start, end, step):\n",
        "\t\tif pred(chunk[i]):\n",
        "\t\t\treturn i\n",
        "\t\n",
        "\treturn None"
      ],
      "execution_count": 45,
      "outputs": []
    },
    {
      "cell_type": "code",
      "metadata": {
        "id": "WJo1HuVSJsC5"
      },
      "source": [
        "def swap_verb_phrase(chunk):\n",
        "\t'''Move modifier phrase after verb to front of chunk and drop the verb.\n",
        "\t>>> swap_verb_phrase([('the', 'DT'), ('book', 'NN'), ('was', 'VBD'), ('great', 'JJ')])\n",
        "\t[('great', 'JJ'), ('the', 'DT'), ('book', 'NN')]\n",
        "\t>>> swap_verb_phrase([('this', 'DT'), ('gripping', 'VBG'), ('book', 'NN'), ('is', 'VBZ'), ('fantastic', 'JJ')])\n",
        "\t[('fantastic', 'JJ'), ('this', 'DT'), ('gripping', 'VBG'), ('book', 'NN')]\n",
        "\t'''\n",
        "\t# find location of verb\n",
        "\tdef vbpred(wt):\n",
        "\t\tword, tag = wt\n",
        "\t\treturn tag != 'VBG' and tag.startswith('VB') and len(tag) > 2\n",
        "\t\n",
        "\tvbidx = first_chunk_index(chunk, vbpred)\n",
        "\t\n",
        "\tif vbidx is None:\n",
        "\t\treturn chunk\n",
        "\t\n",
        "\treturn chunk[vbidx+1:] + chunk[:vbidx]\n"
      ],
      "execution_count": 46,
      "outputs": []
    },
    {
      "cell_type": "code",
      "metadata": {
        "id": "BEshwSai-I4w",
        "colab": {
          "base_uri": "https://localhost:8080/"
        },
        "outputId": "f8bce22a-0d44-4440-9c28-56e0f9085275"
      },
      "source": [
        "swap_verb_phrase(bly_pos)"
      ],
      "execution_count": 47,
      "outputs": [
        {
          "output_type": "execute_result",
          "data": {
            "text/plain": [
              "[('rumpled', 'VBN'),\n",
              " ('and', 'CC'),\n",
              " ('rusty', 'JJ'),\n",
              " (',', ','),\n",
              " ('zucchini', 'NN'),\n",
              " ('felled', 'VBN'),\n",
              " ('by', 'IN'),\n",
              " ('borers', 'NNS'),\n",
              " (',', ','),\n",
              " ('tomatoes', 'NNS'),\n",
              " ('sparse', 'VBP'),\n",
              " ('on', 'IN'),\n",
              " ('the', 'DT'),\n",
              " ('vines', 'NNS'),\n",
              " ('.', '.'),\n",
              " ('But', 'CC'),\n",
              " ('out', 'IN'),\n",
              " ('in', 'IN'),\n",
              " ('the', 'DT'),\n",
              " ('perennial', 'JJ'),\n",
              " ('beds', 'NNS'),\n",
              " (',', ','),\n",
              " ('there', 'EX'),\n",
              " ('’', 'VBZ'),\n",
              " ('s', 'NN'),\n",
              " ('one', 'CD'),\n",
              " ('last', 'JJ'),\n",
              " ('blast', 'NN'),\n",
              " ('of', 'IN'),\n",
              " ('color', 'NN'),\n",
              " (':', ':'),\n",
              " ('ignitions', 'NNS'),\n",
              " ('of', 'IN'),\n",
              " ('goldenrod', 'NN'),\n",
              " (',', ','),\n",
              " ('flamboyant', 'JJ'),\n",
              " ('asters', 'NNS'),\n",
              " (',', ','),\n",
              " ('spiraling', 'VBG'),\n",
              " ('mums', 'NNS'),\n",
              " (',', ','),\n",
              " ('all', 'PDT'),\n",
              " ('those', 'DT'),\n",
              " ('flashy', 'JJ'),\n",
              " ('spikes', 'NNS'),\n",
              " ('waving', 'VBG'),\n",
              " ('in', 'IN'),\n",
              " ('the', 'DT'),\n",
              " ('wind', 'NN'),\n",
              " (',', ','),\n",
              " ('conducting', 'VBG'),\n",
              " ('summer', 'NN'),\n",
              " ('’', 'NNP'),\n",
              " ('s', 'VBZ'),\n",
              " ('final', 'JJ'),\n",
              " ('notes', 'NNS'),\n",
              " ('.', '.'),\n",
              " ('The', 'DT'),\n",
              " ('ornamental', 'JJ'),\n",
              " ('grasses', 'NNS'),\n",
              " ('have', 'VBP'),\n",
              " ('gone', 'VBN'),\n",
              " ('to', 'TO'),\n",
              " ('seed', 'NN'),\n",
              " (',', ','),\n",
              " ('haloed', 'NN'),\n",
              " ('in', 'IN'),\n",
              " ('the', 'DT'),\n",
              " ('last', 'JJ'),\n",
              " ('light', 'NN'),\n",
              " ('.', '.'),\n",
              " ('Nights', 'NNS'),\n",
              " ('grow', 'VBP'),\n",
              " ('chilly', 'RB'),\n",
              " (',', ','),\n",
              " ('but', 'CC'),\n",
              " ('the', 'DT'),\n",
              " ('days', 'NNS'),\n",
              " ('are', 'VBP'),\n",
              " ('still', 'RB'),\n",
              " ('warm', 'JJ'),\n",
              " (';', ':'),\n",
              " ('I', 'PRP'),\n",
              " ('wear', 'VBP'),\n",
              " ('the', 'DT'),\n",
              " ('sun', 'NN'),\n",
              " ('like', 'IN'),\n",
              " ('a', 'DT'),\n",
              " ('shawl', 'NN'),\n",
              " ('on', 'IN'),\n",
              " ('my', 'PRP$'),\n",
              " ('neck', 'NN'),\n",
              " ('and', 'CC'),\n",
              " ('arms', 'NNS'),\n",
              " ('.', '.'),\n",
              " ('Hundreds', 'NNS'),\n",
              " ('of', 'IN'),\n",
              " ('blackbirds', 'NNS'),\n",
              " ('ribbon', 'NN'),\n",
              " ('in', 'IN'),\n",
              " (',', ','),\n",
              " ('settle', 'VB'),\n",
              " ('in', 'IN'),\n",
              " ('the', 'DT'),\n",
              " ('trees', 'NNS'),\n",
              " (',', ','),\n",
              " ('so', 'RB'),\n",
              " ('many', 'JJ'),\n",
              " ('black', 'JJ'),\n",
              " ('leaves', 'NNS'),\n",
              " (',', ','),\n",
              " ('then', 'RB'),\n",
              " (',', ','),\n",
              " ('just', 'RB'),\n",
              " ('as', 'IN'),\n",
              " ('suddenly', 'RB'),\n",
              " (',', ','),\n",
              " ('they', 'PRP'),\n",
              " ('’', 'VBP'),\n",
              " ('re', 'JJ'),\n",
              " ('gone', 'VBN'),\n",
              " ('.', '.'),\n",
              " ('This', 'DT'),\n",
              " ('is', 'VBZ'),\n",
              " ('autumn', 'JJ'),\n",
              " ('’', 'JJ'),\n",
              " ('s', 'NN'),\n",
              " ('great', 'JJ'),\n",
              " ('Departure', 'NNP'),\n",
              " ('Gate', 'NNP'),\n",
              " (',', ','),\n",
              " ('and', 'CC'),\n",
              " ('everyone', 'NN'),\n",
              " (',', ','),\n",
              " ('boarding', 'VBG'),\n",
              " ('passes', 'NNS'),\n",
              " ('in', 'IN'),\n",
              " ('hand', 'NN'),\n",
              " (',', ','),\n",
              " ('waits', 'VBZ'),\n",
              " ('patiently', 'RB'),\n",
              " ('in', 'IN'),\n",
              " ('a', 'DT'),\n",
              " ('long', 'JJ'),\n",
              " (',', ','),\n",
              " ('long', 'JJ'),\n",
              " ('line', 'NN'),\n",
              " ('.', '.'),\n",
              " ('and', 'CC'),\n",
              " ('the', 'DT'),\n",
              " ('garden', 'NN'),\n",
              " ('diminishes', 'NNS'),\n",
              " (':', ':'),\n",
              " ('cucumber', 'NN')]"
            ]
          },
          "metadata": {},
          "execution_count": 47
        }
      ]
    },
    {
      "cell_type": "code",
      "metadata": {
        "id": "Uef5llhN-Lq3",
        "colab": {
          "base_uri": "https://localhost:8080/"
        },
        "outputId": "af0f5c85-8141-456d-83d6-4067e30ac021"
      },
      "source": [
        "swap_verb_phrase(emily_pos)"
      ],
      "execution_count": 48,
      "outputs": [
        {
          "output_type": "execute_result",
          "data": {
            "text/plain": [
              "[('summer', 'NN'),\n",
              " ('propped', 'VBN'),\n",
              " ('up-by', 'JJ'),\n",
              " ('each', 'DT'),\n",
              " ('others', 'NNS'),\n",
              " ('stuttering.There', 'EX'),\n",
              " ('are', 'VBP'),\n",
              " ('seasons', 'NNS'),\n",
              " ('here', 'RB'),\n",
              " ('if', 'IN'),\n",
              " ('you', 'PRP'),\n",
              " ('squint', 'VBP'),\n",
              " ('.', '.'),\n",
              " ('And', 'CC'),\n",
              " ('theres', 'VBZ'),\n",
              " ('relief', 'NN'),\n",
              " ('in', 'IN'),\n",
              " ('the', 'DT'),\n",
              " ('landscapes', 'NNS'),\n",
              " ('sloughed', 'VBD'),\n",
              " ('off', 'RP'),\n",
              " ('cusps', 'NN'),\n",
              " ('of', 'IN'),\n",
              " ('color', 'NN'),\n",
              " ('fallen', 'VBN'),\n",
              " ('over', 'IN'),\n",
              " ('the', 'DT'),\n",
              " ('familiar', 'JJ'),\n",
              " ('landmarks', 'NNS'),\n",
              " (',', ','),\n",
              " ('the', 'DT'),\n",
              " ('familiar', 'JJ'),\n",
              " ('trash—things', 'NNS'),\n",
              " ('that', 'IN'),\n",
              " ('last', 'JJ'),\n",
              " ('.', '.'),\n",
              " ('Sober', 'NNP'),\n",
              " ('for', 'IN'),\n",
              " ('once', 'RB'),\n",
              " (',', ','),\n",
              " ('for', 'IN'),\n",
              " ('what—for', 'PDT'),\n",
              " ('the', 'DT'),\n",
              " ('words', 'NNS'),\n",
              " ('to', 'TO'),\n",
              " ('budge', 'VB'),\n",
              " ('.', '.'),\n",
              " ('We', 'PRP')]"
            ]
          },
          "metadata": {},
          "execution_count": 48
        }
      ]
    },
    {
      "cell_type": "markdown",
      "metadata": {
        "id": "HK5nj_RY9WMy"
      },
      "source": [
        "### References\n",
        "[1] https://towardsdatascience.com/semantic-similarity-using-transformers-8f3cb5bf66d6\n",
        "\n",
        "[2] https://towardsdatascience.com/abstractive-summarization-using-pytorch-f5063e67510\n",
        "\n",
        "[3] https://towardsdatascience.com/topic-modeling-with-bert-779f7db187e6\n",
        "\n",
        "[4] https://medium.com/@muddaprince456/categorizing-and-pos-tagging-with-nltk-python-28f2bc9312c3\n",
        "\n",
        "[5] https://www.machinelearningplus.com/nlp/topic-modeling-gensim-python/\n"
      ]
    },
    {
      "cell_type": "markdown",
      "metadata": {
        "id": "HQ1R4RvV9WMz"
      },
      "source": [
        ""
      ]
    }
  ]
}